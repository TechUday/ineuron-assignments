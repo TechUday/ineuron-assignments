{
 "cells": [
  {
   "cell_type": "markdown",
   "id": "eef8d0dd",
   "metadata": {},
   "source": [
    "### Name: Veeragani Uday Sandeep\n",
    "### Email: udaysandeep.v9@gmail.com\n",
    "### Assignment - 17"
   ]
  },
  {
   "cell_type": "markdown",
   "id": "591a1feb",
   "metadata": {},
   "source": [
    "### 1.Create a function that takes three arguments a, b, c and returns the sum of the numbers that are evenly divided by c from the range a, b inclusive ?\n",
    "Examples:\n",
    "`evenly_divisible(1, 10, 20) ➞ 0\n",
    "\n",
    " No number between 1 and 10 can be evenly divided by 20.\n",
    " \n",
    "evenly_divisible(1, 10, 2) ➞ 30\n",
    "\n",
    " 2 + 4 + 6 + 8 + 10 = 30\n",
    " \n",
    "evenly_divisible(1, 10, 3) ➞ 18\n",
    "\n",
    " 3 + 6 + 9 = 18`"
   ]
  },
  {
   "cell_type": "code",
   "execution_count": 1,
   "id": "3ff89720",
   "metadata": {},
   "outputs": [
    {
     "name": "stdout",
     "output_type": "stream",
     "text": [
      "evenly_divisible((1, 10, 20)) ➞ 0\n",
      "evenly_divisible((1, 10, 2)) ➞ 30\n",
      "evenly_divisible((1, 10, 3)) ➞ 18\n"
     ]
    }
   ],
   "source": [
    "def evenly_divisible(a,b,c):\n",
    "    divisible=[]\n",
    "    for num in range(a,b+1):\n",
    "        if num%c==0:\n",
    "            divisible.append(num)\n",
    "    print(f'evenly_divisible({a,b,c}) ➞ {sum(divisible)}')\n",
    "evenly_divisible(1,10,20)\n",
    "evenly_divisible(1,10,2)\n",
    "evenly_divisible(1,10,3)"
   ]
  },
  {
   "cell_type": "markdown",
   "id": "00de2a5b",
   "metadata": {},
   "source": [
    "### 2.Create a function that returns True if a given inequality expression is correct and False otherwise ?\n",
    "Examples:\n",
    "\n",
    "```correct_signs(\"3 < 7 < 11\") ➞ True\n",
    "correct_signs(\"13 > 44 > 33 > 1\") ➞ False\n",
    "correct_signs(\"1 < 2 < 6 < 9 > 3\") ➞ True```"
   ]
  },
  {
   "cell_type": "code",
   "execution_count": 4,
   "id": "b06fd4f4",
   "metadata": {},
   "outputs": [
    {
     "name": "stdout",
     "output_type": "stream",
     "text": [
      "Enter the inequality: 3 < 7 < 11\n",
      "correct_signs(3 < 7 < 11) ➞ True\n",
      "\n",
      "Enter the inequality: 13 > 44 > 33 > 1\n",
      "correct_signs(13 > 44 > 33 > 1) ➞ False\n",
      "\n",
      "Enter the inequality: 1 < 2 < 6 < 9 > 3\n",
      "correct_signs(1 < 2 < 6 < 9 > 3) ➞ True\n",
      "\n"
     ]
    }
   ],
   "source": [
    "def correct_signs(string):\n",
    "    \n",
    "    out = eval(string)\n",
    "    print(f'correct_signs({string}) ➞ {out}')\n",
    "\n",
    "for x in range(3):\n",
    "    string = input('Enter the inequality: ')\n",
    "    correct_signs(string)\n",
    "    print()"
   ]
  },
  {
   "cell_type": "markdown",
   "id": "44e8e397",
   "metadata": {},
   "source": [
    "### 3.Create a function that replaces all the vowels in a string with a specified character ?\n",
    "Examples:\n",
    "```replace_vowels(\"the aardvark\", \"#\") ➞ \"th# ##rdv#rk\"\n",
    "replace_vowels(\"minnie mouse\", \"?\") ➞ \"m?nn?? m??s?\"\n",
    "replace_vowels(\"shakespeare\", \"*\") ➞ \"shksp**r\"```"
   ]
  },
  {
   "cell_type": "code",
   "execution_count": 8,
   "id": "fee7b8a4",
   "metadata": {},
   "outputs": [
    {
     "name": "stdout",
     "output_type": "stream",
     "text": [
      "replace_vowels(the aardvark,#) ➞ \"th# ##rdv#rk\"\n",
      "\n",
      "replace_vowels(minnie mouse,?) ➞ \"m?nn?? m??s?\"\n",
      "\n",
      "replace_vowels(shakespeare,*) ➞ \"sh*k*sp**r*\"\n",
      "\n",
      "replace_vowels(Ineuron,@) ➞ \"In@@r@n\"\n",
      "\n"
     ]
    }
   ],
   "source": [
    "def replace_vowels(string,char):\n",
    "    k=string\n",
    "    vowels='aeiou'\n",
    "    for i in string:\n",
    "        if i in vowels:\n",
    "            string=string.replace(i,char)\n",
    "    print(f'replace_vowels({k},{char}) ➞ \"{string}\"\\n')\n",
    "replace_vowels(\"the aardvark\", \"#\")\n",
    "replace_vowels(\"minnie mouse\", \"?\")\n",
    "replace_vowels(\"shakespeare\", \"*\")\n",
    "replace_vowels(\"Ineuron\",\"@\")"
   ]
  },
  {
   "cell_type": "markdown",
   "id": "e6cad289",
   "metadata": {},
   "source": [
    "### 4.Write a function that calculates the factorial of a number recursively ?\n",
    "Examples:\n",
    "```\n",
    "factorial(5) ➞ 120\n",
    "factorial(3) ➞ 6\n",
    "factorial(1) ➞ 1\n",
    "factorial(0) ➞ 1```"
   ]
  },
  {
   "cell_type": "code",
   "execution_count": 13,
   "id": "7259fb89",
   "metadata": {},
   "outputs": [
    {
     "name": "stdout",
     "output_type": "stream",
     "text": [
      "factorial(5) ➞ 120\n",
      "factorial(3) ➞ 6\n",
      "factorial(1) ➞ 1\n",
      "factorial(0) ➞ 1\n",
      "factorial(7) ➞ 5040\n"
     ]
    }
   ],
   "source": [
    "def factorial(n):\n",
    "    if n==0 or n==1:\n",
    "        return 1\n",
    "    else:\n",
    "        return n*factorial(n-1)\n",
    "if __name__=='__main__':\n",
    "    print(f'factorial(5) ➞ {factorial(5)}')\n",
    "    print(f'factorial(3) ➞ {factorial(3)}')\n",
    "    print(f'factorial(1) ➞ {factorial(1)}')\n",
    "    print(f'factorial(0) ➞ {factorial(0)}')\n",
    "    print(f'factorial(7) ➞ {factorial(7)}')"
   ]
  },
  {
   "cell_type": "markdown",
   "id": "1171c91a",
   "metadata": {},
   "source": [
    "### 5.Hamming distance is the number of characters that differ between two strings ?\n",
    "To illustrate:\n",
    "```String1: \"abcbba\"\n",
    "String2: \"abcbda\"\n",
    "Hamming Distance: 1 - \"b\" vs. \"d\" is the only difference.```\n",
    "\n",
    "Create a function that computes the hamming distance between two strings.\n",
    "\n",
    "Examples:\n",
    "```hamming_distance(\"abcde\", \"bcdef\") ➞ 5\n",
    "hamming_distance(\"abcde\", \"abcde\") ➞ 0\n",
    "hamming_distance(\"strong\", \"strung\") ➞ 1```"
   ]
  },
  {
   "cell_type": "code",
   "execution_count": 19,
   "id": "0bf713ad",
   "metadata": {},
   "outputs": [
    {
     "name": "stdout",
     "output_type": "stream",
     "text": [
      "Hamning Distance b/w \"abcde\" and \"bcdef\" ➞ 5\n",
      "\n",
      "Hamning Distance b/w \"strong\" and \"strung\" ➞ 1\n",
      "\n",
      "Hamning Distance b/w \"abcde\" and \"abcde\" ➞ 0\n",
      "\n"
     ]
    }
   ],
   "source": [
    "def hamming_distance(string1,string2):\n",
    "    if len(string1)==len(string2):\n",
    "        c=0\n",
    "        for i,j in zip(string1,string2):\n",
    "            if i==j:\n",
    "                pass\n",
    "            else:\n",
    "                c+=1\n",
    "        print(f'Hamning Distance b/w \"{string1}\" and \"{string2}\" ➞ {c}\\n')\n",
    "    else:\n",
    "        print(\"Both strings must be of same length\")\n",
    "hamming_distance(\"abcde\", \"bcdef\")\n",
    "hamming_distance('strong', 'strung')\n",
    "hamming_distance('abcde', 'abcde')"
   ]
  }
 ],
 "metadata": {
  "kernelspec": {
   "display_name": "Python 3 (ipykernel)",
   "language": "python",
   "name": "python3"
  },
  "language_info": {
   "codemirror_mode": {
    "name": "ipython",
    "version": 3
   },
   "file_extension": ".py",
   "mimetype": "text/x-python",
   "name": "python",
   "nbconvert_exporter": "python",
   "pygments_lexer": "ipython3",
   "version": "3.9.7"
  }
 },
 "nbformat": 4,
 "nbformat_minor": 5
}
