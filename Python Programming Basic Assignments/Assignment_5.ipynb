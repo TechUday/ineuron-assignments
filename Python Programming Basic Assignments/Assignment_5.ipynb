{
 "cells": [
  {
   "cell_type": "markdown",
   "id": "66d52d2b",
   "metadata": {},
   "source": [
    "# Name : Veeragani Uday Sandeep"
   ]
  },
  {
   "cell_type": "markdown",
   "id": "1c084bb1",
   "metadata": {},
   "source": [
    "# Email : udaysandeep.v9@gmail.com"
   ]
  },
  {
   "cell_type": "markdown",
   "id": "a90d77a8",
   "metadata": {},
   "source": [
    "<h2>Assignment 5</h2>"
   ]
  },
  {
   "cell_type": "markdown",
   "id": "a587f038",
   "metadata": {},
   "source": [
    "<h3>1. What does an empty dictionary&#39;s code look like?</h3>"
   ]
  },
  {
   "cell_type": "markdown",
   "id": "2f7e7c6b",
   "metadata": {},
   "source": [
    "Empty dictionary look like dict={}"
   ]
  },
  {
   "cell_type": "code",
   "execution_count": 2,
   "id": "932b51b6",
   "metadata": {},
   "outputs": [
    {
     "name": "stdout",
     "output_type": "stream",
     "text": [
      "<class 'dict'>\n"
     ]
    }
   ],
   "source": [
    "emptydict={}\n",
    "print(type(emptydict))"
   ]
  },
  {
   "cell_type": "markdown",
   "id": "a352eb52",
   "metadata": {},
   "source": [
    "<h3>2. What is the value of a dictionary value with the key &#39;foo&#39; and the value 42?</h3>"
   ]
  },
  {
   "cell_type": "code",
   "execution_count": 4,
   "id": "455236a1",
   "metadata": {},
   "outputs": [
    {
     "data": {
      "text/plain": [
       "42"
      ]
     },
     "execution_count": 4,
     "metadata": {},
     "output_type": "execute_result"
    }
   ],
   "source": [
    "# The value will be 42\n",
    "dict = {'foo': 42}\n",
    "dict['foo']"
   ]
  },
  {
   "cell_type": "markdown",
   "id": "e7e7ad6a",
   "metadata": {},
   "source": [
    "<h3>3. What is the most significant distinction between a dictionary and a list?</h3>"
   ]
  },
  {
   "cell_type": "markdown",
   "id": "0af1f3cd",
   "metadata": {},
   "source": [
    "1. Dictionaries are represented by {} where as listed are represented by []\n",
    "2. The Items stored in the form of key & value , while the items in a list are ordered and stores different datatypes"
   ]
  },
  {
   "cell_type": "code",
   "execution_count": 6,
   "id": "4e6e0f0f",
   "metadata": {},
   "outputs": [
    {
     "name": "stdout",
     "output_type": "stream",
     "text": [
      "{'a': 1, 'b': 2, 'c': 3} <class 'dict'>\n",
      "[1, 2, 3, 'a'] <class 'list'>\n"
     ]
    }
   ],
   "source": [
    "mydict={\"a\":1, \"b\":2, \"c\":3}\n",
    "print(mydict,type(mydict))\n",
    "mylist=[1,2,3,'a']\n",
    "print(mylist,type(mylist))"
   ]
  },
  {
   "cell_type": "markdown",
   "id": "490d34b2",
   "metadata": {},
   "source": [
    "<h3>4. What happens if you try to access spam[&#39;foo&#39;] if spam is {&#39;bar&#39;: 100}?</h3>"
   ]
  },
  {
   "cell_type": "markdown",
   "id": "10c01349",
   "metadata": {},
   "source": [
    "It will results in KeyError, we can access any value of a dictionary using their respective keys, In spam['foo'] we are accesssing value of key 'foo' but our dictionary contains only one key and value {'bar': 100} so 'foo' not present in our dictionary it results in KeyError: 'foo'"
   ]
  },
  {
   "cell_type": "code",
   "execution_count": 8,
   "id": "80fcfe7f",
   "metadata": {},
   "outputs": [
    {
     "ename": "KeyError",
     "evalue": "'foo'",
     "output_type": "error",
     "traceback": [
      "\u001b[1;31m---------------------------------------------------------------------------\u001b[0m",
      "\u001b[1;31mKeyError\u001b[0m                                  Traceback (most recent call last)",
      "\u001b[1;32m~\\AppData\\Local\\Temp/ipykernel_15368/1717283131.py\u001b[0m in \u001b[0;36m<module>\u001b[1;34m\u001b[0m\n\u001b[0;32m      1\u001b[0m \u001b[0mspam\u001b[0m\u001b[1;33m=\u001b[0m\u001b[1;33m{\u001b[0m\u001b[1;34m'bar'\u001b[0m\u001b[1;33m:\u001b[0m\u001b[1;36m100\u001b[0m\u001b[1;33m}\u001b[0m\u001b[1;33m\u001b[0m\u001b[1;33m\u001b[0m\u001b[0m\n\u001b[1;32m----> 2\u001b[1;33m \u001b[0mspam\u001b[0m\u001b[1;33m[\u001b[0m\u001b[1;34m'foo'\u001b[0m\u001b[1;33m]\u001b[0m\u001b[1;33m\u001b[0m\u001b[1;33m\u001b[0m\u001b[0m\n\u001b[0m",
      "\u001b[1;31mKeyError\u001b[0m: 'foo'"
     ]
    }
   ],
   "source": [
    "spam={'bar':100}\n",
    "spam['foo']"
   ]
  },
  {
   "cell_type": "markdown",
   "id": "04c8f25a",
   "metadata": {},
   "source": [
    "<h3>5. If a dictionary is stored in spam, what is the difference between the expressions &#39;cat&#39; in spam and\n",
    "&#39;cat&#39; in spam.keys()?</h3>"
   ]
  },
  {
   "cell_type": "markdown",
   "id": "8e7e3d57",
   "metadata": {},
   "source": [
    "There is no difference\n",
    "\n",
    "1. 'cat' in spam: This expression checks whether there is a 'cat' KEY in the dictionary\n",
    "2. 'cat' in spam.keys(): This will checks whether there is a key 'cat' in list of keys of dictionary spam."
   ]
  },
  {
   "cell_type": "code",
   "execution_count": 9,
   "id": "5d0b2070",
   "metadata": {},
   "outputs": [
    {
     "name": "stdout",
     "output_type": "stream",
     "text": [
      "'cat' in spam :  True\n",
      "'cat' in spam.keys() :  True\n"
     ]
    }
   ],
   "source": [
    "spam={\"cat\":1,\"dog\":2}\n",
    "print(\"'cat' in spam : \",'cat' in spam)\n",
    "print(\"'cat' in spam.keys() : \",'cat' in spam.keys())"
   ]
  },
  {
   "cell_type": "markdown",
   "id": "68398702",
   "metadata": {},
   "source": [
    "<h3>6. If a dictionary is stored in spam, what is the difference between the expressions &#39;cat&#39; in spam and\n",
    "&#39;cat&#39; in spam.values()?</h3>"
   ]
  },
  {
   "cell_type": "markdown",
   "id": "333365a4",
   "metadata": {},
   "source": [
    "Difference:\n",
    "\n",
    "1. 'cat' in spam: This expression checks whether there is a 'cat' KEY in the dictionary\n",
    "2. 'cat' in spam.values(): This will checks whether there is a value 'cat' in spam."
   ]
  },
  {
   "cell_type": "code",
   "execution_count": 11,
   "id": "2b4020a2",
   "metadata": {},
   "outputs": [
    {
     "name": "stdout",
     "output_type": "stream",
     "text": [
      "'cat' in spam :  True\n",
      "'cat' in spam.keys() :  False\n"
     ]
    }
   ],
   "source": [
    "spam={\"cat\":1,\"dog\":2}\n",
    "print(\"'cat' in spam : \",'cat' in spam)\n",
    "print(\"'cat' in spam.keys() : \",'cat' in spam.values())"
   ]
  },
  {
   "cell_type": "markdown",
   "id": "805c7a5e",
   "metadata": {},
   "source": [
    "<h3>7. What is a shortcut for the following code?\n",
    "if &#39;color&#39; not in spam:\n",
    "spam[&#39;color&#39;] = &#39;black&#39;</h3>"
   ]
  },
  {
   "cell_type": "markdown",
   "id": "aadd4a6c",
   "metadata": {},
   "source": [
    "we can use setdefault() method as it will set key value pair by default if they did not exist in the dictonary"
   ]
  },
  {
   "cell_type": "code",
   "execution_count": 13,
   "id": "727804ad",
   "metadata": {},
   "outputs": [
    {
     "data": {
      "text/plain": [
       "{'cat': 1, 'dog': 2}"
      ]
     },
     "execution_count": 13,
     "metadata": {},
     "output_type": "execute_result"
    }
   ],
   "source": [
    "spam"
   ]
  },
  {
   "cell_type": "code",
   "execution_count": 14,
   "id": "5694febe",
   "metadata": {},
   "outputs": [
    {
     "data": {
      "text/plain": [
       "'black'"
      ]
     },
     "execution_count": 14,
     "metadata": {},
     "output_type": "execute_result"
    }
   ],
   "source": [
    "spam.setdefault('color','black')"
   ]
  },
  {
   "cell_type": "code",
   "execution_count": 15,
   "id": "82dd42c7",
   "metadata": {},
   "outputs": [
    {
     "data": {
      "text/plain": [
       "{'cat': 1, 'dog': 2, 'color': 'black'}"
      ]
     },
     "execution_count": 15,
     "metadata": {},
     "output_type": "execute_result"
    }
   ],
   "source": [
    "spam"
   ]
  },
  {
   "cell_type": "markdown",
   "id": "47b927f4",
   "metadata": {},
   "source": [
    "<h3>8. How do you &quot;pretty print&quot; dictionary values using which module and function?</h3>"
   ]
  },
  {
   "cell_type": "markdown",
   "id": "5c3b755a",
   "metadata": {},
   "source": [
    "Use pprint() to Pretty Print a Dictionary in Python\n",
    "\n",
    "pprint is a Python module that provides the capability to pretty print Python data types to be more readable.\n",
    "\n",
    "Within the pprint module there is a function with the same name pprint(), which is the function used to pretty-print the given string or object."
   ]
  },
  {
   "cell_type": "code",
   "execution_count": 17,
   "id": "e6dde7ca",
   "metadata": {},
   "outputs": [
    {
     "name": "stdout",
     "output_type": "stream",
     "text": [
      "{'cat': 1, 'color': 'black', 'dog': 2}\n"
     ]
    }
   ],
   "source": [
    "import pprint\n",
    "\n",
    "pprint.pprint(spam)"
   ]
  },
  {
   "cell_type": "code",
   "execution_count": null,
   "id": "7038fb71",
   "metadata": {},
   "outputs": [],
   "source": []
  }
 ],
 "metadata": {
  "kernelspec": {
   "display_name": "Python 3 (ipykernel)",
   "language": "python",
   "name": "python3"
  },
  "language_info": {
   "codemirror_mode": {
    "name": "ipython",
    "version": 3
   },
   "file_extension": ".py",
   "mimetype": "text/x-python",
   "name": "python",
   "nbconvert_exporter": "python",
   "pygments_lexer": "ipython3",
   "version": "3.9.7"
  }
 },
 "nbformat": 4,
 "nbformat_minor": 5
}
