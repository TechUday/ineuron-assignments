{
 "cells": [
  {
   "cell_type": "markdown",
   "id": "f38eb93a",
   "metadata": {},
   "source": [
    "### Name: Veeragani Uday Sandeep\n",
    "### Email: udaysandeep.v9@gmail.com\n",
    "### Assignment - 14"
   ]
  },
  {
   "cell_type": "markdown",
   "id": "3fc4b813",
   "metadata": {},
   "source": [
    "### 1.Define a class with a generator which can iterate the numbers, which are divisible by7, between a given range 0 and n."
   ]
  },
  {
   "cell_type": "code",
   "execution_count": 2,
   "id": "5728d8dc",
   "metadata": {},
   "outputs": [
    {
     "name": "stdout",
     "output_type": "stream",
     "text": [
      "0 7 14 21 28 35 42 49 56 63 70 77 84 91 98 105 112 119 126 133 140 147 154 161 168 175 182 189 196 203 210 217 224 231 238 245 "
     ]
    }
   ],
   "source": [
    "class div_generator:\n",
    "    def __init__(self,num):\n",
    "        self.num = num\n",
    "    def get_numbers(self):\n",
    "        for ele in range(0,self.num+1):\n",
    "            if ele%7 == 0:\n",
    "                yield ele\n",
    "                \n",
    "output = div_generator(250)\n",
    "for ele in output.get_numbers():\n",
    "    print(ele,end=' ')"
   ]
  },
  {
   "cell_type": "markdown",
   "id": "86157b46",
   "metadata": {},
   "source": [
    "### 2.Write a program to compute the frequency of the words from the input. The output should output after sorting the key alphanumerically.\n",
    "\n",
    "\n",
    "Suppose the following input is supplied to the program:\n",
    "\n",
    "```New to Python or choosing between Python 2 and Python 3? Read Python 2 or Python 3.```\n",
    "\n",
    "Then, the output should be:\n",
    "\n",
    "```2:2 3.:1 3?:1 New:1 Python:5 Read:1 and:1 between:1 choosing:1 or:2 to:1```"
   ]
  },
  {
   "cell_type": "code",
   "execution_count": 15,
   "id": "117b51c5",
   "metadata": {},
   "outputs": [
    {
     "name": "stdout",
     "output_type": "stream",
     "text": [
      "Enter the Input String: New to Python or choosing between Python 2 and Python 3? Read Python 2 or Python 3.\n",
      "2:2\n",
      "3.:1\n",
      "3?:1\n",
      "New:1\n",
      "Python:5\n",
      "Read:1\n",
      "and:1\n",
      "between:1\n",
      "choosing:1\n",
      "or:2\n",
      "to:1\n"
     ]
    }
   ],
   "source": [
    "def freq_count():\n",
    "    string=input(\"Enter the Input String: \")\n",
    "    dic={}\n",
    "    lis=list(string.split(\" \"))\n",
    "    lis_sort=sorted(lis)\n",
    "    for i in lis_sort:\n",
    "        if i not in dic.keys():\n",
    "            dic[i]=lis_sort.count(i)\n",
    "    for el in dic.keys():\n",
    "        print(f\"{el}:{dic[el]}\")\n",
    "        \n",
    "freq_count()"
   ]
  },
  {
   "cell_type": "markdown",
   "id": "31a48c8f",
   "metadata": {},
   "source": [
    "### 3.Define a class Person and its two child classes: Male and Female. All classes have a method \"getGender\" which can print \"Male\" for Male class and \"Female\" for Female class. ?"
   ]
  },
  {
   "cell_type": "code",
   "execution_count": 1,
   "id": "5b56fecc",
   "metadata": {},
   "outputs": [
    {
     "name": "stdout",
     "output_type": "stream",
     "text": [
      "Male\n",
      "Female\n"
     ]
    }
   ],
   "source": [
    "class Person:\n",
    "    def getGender(self):\n",
    "        pass\n",
    "class Male(Person):\n",
    "    def getGender(self):\n",
    "        print(\"Male\")\n",
    "class Female(Person):\n",
    "    def getGender(self):\n",
    "        print(\"Female\")\n",
    "male=Male()\n",
    "male.getGender()\n",
    "female=Female()\n",
    "female.getGender()"
   ]
  },
  {
   "cell_type": "markdown",
   "id": "74cb4603",
   "metadata": {},
   "source": [
    "### 4.Please write a program to generate all sentences where subject is in [\"I\", \"You\"] and verb is in [\"Play\", \"Love\"] and the object is in [\"Hockey\",\"Football\"] ?"
   ]
  },
  {
   "cell_type": "code",
   "execution_count": 2,
   "id": "b41360e2",
   "metadata": {},
   "outputs": [
    {
     "name": "stdout",
     "output_type": "stream",
     "text": [
      "I Play Hockey\n",
      "I Play Football\n",
      "I Love Hockey\n",
      "I Love Football\n",
      "You Play Hockey\n",
      "You Play Football\n",
      "You Love Hockey\n",
      "You Love Football\n"
     ]
    }
   ],
   "source": [
    "def sentences():\n",
    "    subject = ['I','You']\n",
    "    verb = ['Play','Love']\n",
    "    object = ['Hockey','Football']\n",
    "    for s in subject:\n",
    "        for v in verb:\n",
    "            for o in object:\n",
    "                print(f'{s} {v} {o}')\n",
    "                \n",
    "sentences()"
   ]
  },
  {
   "cell_type": "markdown",
   "id": "a000c200",
   "metadata": {},
   "source": [
    "### 5.Please write a program to compress and decompress the string \"hello world!hello world!hello world!hello world!\" ?"
   ]
  },
  {
   "cell_type": "code",
   "execution_count": 8,
   "id": "7ba1e5e6",
   "metadata": {},
   "outputs": [
    {
     "name": "stdout",
     "output_type": "stream",
     "text": [
      "Compressed string is: b'x\\x9c\\xcbH\\xcd\\xc9\\xc9W(\\xcf/\\xcaIQ\\xcc \\x82\\r\\x00\\xbd[\\x11\\xf5'\n",
      "Decompressed string is: b'hello world!hello world!hello world!hello world!'\n"
     ]
    }
   ],
   "source": [
    "import zlib\n",
    "s = 'hello world!hello world!hello world!hello world!'\n",
    "s1=bytes(s,'utf-8')\n",
    "t = zlib.compress(s1)\n",
    "print(f\"Compressed string is: {t}\")\n",
    "print(f\"Decompressed string is: {zlib.decompress(t)}\")"
   ]
  },
  {
   "cell_type": "markdown",
   "id": "ad0774bf",
   "metadata": {},
   "source": [
    "### 6.Please write a binary search function which searches an item in a sorted list. The function should return the index of element to be searched in the list ?"
   ]
  },
  {
   "cell_type": "code",
   "execution_count": 21,
   "id": "97d7e777",
   "metadata": {},
   "outputs": [
    {
     "name": "stdout",
     "output_type": "stream",
     "text": [
      "Entered element is found at index = \n",
      "Enter item to a list in sorted order = 11 22 33 44 55 66 77\n",
      "Given sorted list =  [11, 22, 33, 44, 55, 66, 77]\n",
      "Enter value to search in the given sorted list = 44\n",
      "3\n"
     ]
    }
   ],
   "source": [
    "def binarySearch():\n",
    "    lis=list(map(int,input(\"Enter item to a list in sorted order = \").split()))\n",
    "    print(\"Given sorted list = \",lis)\n",
    "    n=int(input(\"Enter value to search in the given sorted list = \"))\n",
    "    low=0\n",
    "    high=len(lis)-1\n",
    "    mid=0\n",
    "    while low<=high:\n",
    "        mid=(low+high)//2\n",
    "        if n<lis[mid]:\n",
    "            high=mid-1\n",
    "        elif n>lis[mid]:\n",
    "            low=mid+1\n",
    "        else:\n",
    "            \n",
    "            return mid\n",
    "    else:\n",
    "        print(\"Entered element is not in the list\")\n",
    "\n",
    "print(\"Entered element is found at index = \")\n",
    "print(binarySearch())\n"
   ]
  }
 ],
 "metadata": {
  "kernelspec": {
   "display_name": "Python 3 (ipykernel)",
   "language": "python",
   "name": "python3"
  },
  "language_info": {
   "codemirror_mode": {
    "name": "ipython",
    "version": 3
   },
   "file_extension": ".py",
   "mimetype": "text/x-python",
   "name": "python",
   "nbconvert_exporter": "python",
   "pygments_lexer": "ipython3",
   "version": "3.9.7"
  }
 },
 "nbformat": 4,
 "nbformat_minor": 5
}
