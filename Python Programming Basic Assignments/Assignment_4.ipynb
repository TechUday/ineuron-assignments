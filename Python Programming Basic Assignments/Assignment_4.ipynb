{
 "cells": [
  {
   "cell_type": "markdown",
   "id": "ce35530b",
   "metadata": {},
   "source": [
    "# Name : Veeragani Uday Sandeep"
   ]
  },
  {
   "cell_type": "markdown",
   "id": "8212ae42",
   "metadata": {},
   "source": [
    "# Email : udaysandeep.v9@gmail.com"
   ]
  },
  {
   "cell_type": "markdown",
   "id": "0d37bea5",
   "metadata": {},
   "source": [
    "<h2>Assignment 4</h2>"
   ]
  },
  {
   "cell_type": "markdown",
   "id": "60311cb3",
   "metadata": {},
   "source": [
    "<h3>1. What exactly is []?</h3>"
   ]
  },
  {
   "cell_type": "markdown",
   "id": "b4bb96db",
   "metadata": {},
   "source": [
    "[ ] represents empty list, it is used to initiate an empty list that is list is of length 0"
   ]
  },
  {
   "cell_type": "code",
   "execution_count": 3,
   "id": "2a61af6b",
   "metadata": {},
   "outputs": [
    {
     "name": "stdout",
     "output_type": "stream",
     "text": [
      "<class 'list'>\n",
      "length of empty list :  0\n"
     ]
    }
   ],
   "source": [
    "l=[]\n",
    "print(type(l))\n",
    "print(\"length of empty list : \",len(l))"
   ]
  },
  {
   "cell_type": "markdown",
   "id": "0e835f06",
   "metadata": {},
   "source": [
    "<h3>2. In a list of values stored in a variable called spam, how would you assign the value &#39;hello&#39; as the\n",
    "third value? (Assume [2, 4, 6, 8, 10] are in spam.)</h3>"
   ]
  },
  {
   "cell_type": "code",
   "execution_count": 4,
   "id": "d907fb3f",
   "metadata": {},
   "outputs": [
    {
     "name": "stdout",
     "output_type": "stream",
     "text": [
      "[2, 4, 6, 8, 10]\n",
      "After assigning hello to third value  [2, 4, 'hello', 8, 10]\n"
     ]
    }
   ],
   "source": [
    "spam=[2,4,6,8,10]\n",
    "print(spam)\n",
    "spam[2]='hello' # In python Indexing starts from 0 so for third element index is 2\n",
    "print(\"After assigning hello to third value \",spam)"
   ]
  },
  {
   "cell_type": "markdown",
   "id": "d8a0b3f1",
   "metadata": {},
   "source": [
    "<h3>3. What is the value of spam[int(int(&#39;3&#39; * 2) / 11)]?</h3>"
   ]
  },
  {
   "cell_type": "code",
   "execution_count": 6,
   "id": "2391652c",
   "metadata": {},
   "outputs": [
    {
     "data": {
      "text/plain": [
       "['a', 'b', 'c', 'd']"
      ]
     },
     "execution_count": 6,
     "metadata": {},
     "output_type": "execute_result"
    }
   ],
   "source": [
    "spam=['a', 'b', 'c', 'd']\n",
    "spam"
   ]
  },
  {
   "cell_type": "code",
   "execution_count": 8,
   "id": "c2625a2c",
   "metadata": {},
   "outputs": [
    {
     "data": {
      "text/plain": [
       "'d'"
      ]
     },
     "execution_count": 8,
     "metadata": {},
     "output_type": "execute_result"
    }
   ],
   "source": [
    "spam[int(int('3' * 2) / 11)]   # 3*2 give 33 and 33/11 gives 3"
   ]
  },
  {
   "cell_type": "markdown",
   "id": "9f8f8bd9",
   "metadata": {},
   "source": [
    "<h3>4. What is the value of spam[-1]?</h3>"
   ]
  },
  {
   "cell_type": "markdown",
   "id": "ce41d0a6",
   "metadata": {},
   "source": [
    "In python negative indexing point out from the last elements in the list like -1 will point last elemenet , -2 will point out seconf element from last and so on.\n",
    "\n",
    "So spam[-1] will give last element in list spam i.e; 'd'"
   ]
  },
  {
   "cell_type": "code",
   "execution_count": 10,
   "id": "1c7f8ca8",
   "metadata": {},
   "outputs": [
    {
     "data": {
      "text/plain": [
       "'d'"
      ]
     },
     "execution_count": 10,
     "metadata": {},
     "output_type": "execute_result"
    }
   ],
   "source": [
    "spam[-1]"
   ]
  },
  {
   "cell_type": "markdown",
   "id": "49b1d519",
   "metadata": {},
   "source": [
    "<h3>5. What is the value of spam[:2]?</h3>"
   ]
  },
  {
   "cell_type": "markdown",
   "id": "10629729",
   "metadata": {},
   "source": [
    "spam[:2] returns all elements in the list spam from 0 to 2 excluding 2"
   ]
  },
  {
   "cell_type": "code",
   "execution_count": 12,
   "id": "48eaa70c",
   "metadata": {},
   "outputs": [
    {
     "data": {
      "text/plain": [
       "['a', 'b']"
      ]
     },
     "execution_count": 12,
     "metadata": {},
     "output_type": "execute_result"
    }
   ],
   "source": [
    "spam[:2]"
   ]
  },
  {
   "cell_type": "markdown",
   "id": "d1f6b22c",
   "metadata": {},
   "source": [
    "<h3>6. What is the value of bacon.index('cat')?</h3>"
   ]
  },
  {
   "cell_type": "code",
   "execution_count": 13,
   "id": "d48ff27e",
   "metadata": {},
   "outputs": [
    {
     "data": {
      "text/plain": [
       "[3.14, 'cat', 11, 'cat', True]"
      ]
     },
     "execution_count": 13,
     "metadata": {},
     "output_type": "execute_result"
    }
   ],
   "source": [
    "bacon=[3.14,'cat',11,'cat',True]\n",
    "bacon"
   ]
  },
  {
   "cell_type": "markdown",
   "id": "b0738e3a",
   "metadata": {},
   "source": [
    "index() is a method of a list which returns index of given element in the list, if the element occurs more than once it will return first occurence index.\n",
    "\n",
    "bacon.index('cat) will return 1 as it occurs at index 1 in our list"
   ]
  },
  {
   "cell_type": "code",
   "execution_count": 14,
   "id": "2f0f3f28",
   "metadata": {},
   "outputs": [
    {
     "data": {
      "text/plain": [
       "1"
      ]
     },
     "execution_count": 14,
     "metadata": {},
     "output_type": "execute_result"
    }
   ],
   "source": [
    "bacon.index('cat')"
   ]
  },
  {
   "cell_type": "markdown",
   "id": "0c3ad905",
   "metadata": {},
   "source": [
    "<h3>7. How does bacon.append(99) change the look of the list value in bacon?</h3>"
   ]
  },
  {
   "cell_type": "markdown",
   "id": "24140354",
   "metadata": {},
   "source": [
    "append() is a method of a list which will add or insert or append given element after the last element in the list which will results in adding new element to ur list and length of list will increase by 1\n",
    "\n",
    "here when we perform bacon.append(99) 99 will append at the end that means after the last element and the list look like [3.14, 'cat', 11, 'cat', True, 99] and now length of list will be increase by 1 become 6"
   ]
  },
  {
   "cell_type": "code",
   "execution_count": 16,
   "id": "450163c0",
   "metadata": {},
   "outputs": [
    {
     "name": "stdout",
     "output_type": "stream",
     "text": [
      "[3.14, 'cat', 11, 'cat', True, 99]\n",
      "length :  6\n"
     ]
    }
   ],
   "source": [
    "bacon.append(99)\n",
    "print(bacon)\n",
    "print(\"length : \",len(bacon))"
   ]
  },
  {
   "cell_type": "markdown",
   "id": "f6017c70",
   "metadata": {},
   "source": [
    "<h3>8. How does bacon.remove(&#39;cat&#39;) change the look of the list in bacon?</h3>"
   ]
  },
  {
   "cell_type": "markdown",
   "id": "2eb1bc1c",
   "metadata": {},
   "source": [
    "remove() is a method of list which will removes the first occurence of the element in the list.\n",
    "\n",
    "here when we perform bacon.remove('cat') it will remove first occurence of 'cat' i.e; removes cat at the index 1 and the final list look like [3.14, 11, 'cat', True, 99]"
   ]
  },
  {
   "cell_type": "code",
   "execution_count": 18,
   "id": "f4bdc0a7",
   "metadata": {},
   "outputs": [
    {
     "name": "stdout",
     "output_type": "stream",
     "text": [
      "[3.14, 'cat', 11, 'cat', True, 99]\n",
      "[3.14, 11, 'cat', True, 99]\n"
     ]
    }
   ],
   "source": [
    "print(bacon)\n",
    "bacon.remove('cat')\n",
    "print(bacon)"
   ]
  },
  {
   "cell_type": "markdown",
   "id": "57f19134",
   "metadata": {},
   "source": [
    "<h3>9. What are the list concatenation and list replication operators?</h3>"
   ]
  },
  {
   "cell_type": "markdown",
   "id": "1c1e2ddf",
   "metadata": {},
   "source": [
    "1. The '+' operator can be used to concatenate two lists.\n",
    "2. The '*' operator can be used to replicate list."
   ]
  },
  {
   "cell_type": "code",
   "execution_count": 20,
   "id": "6647c720",
   "metadata": {},
   "outputs": [
    {
     "name": "stdout",
     "output_type": "stream",
     "text": [
      "[3.14, 11, 'cat', True, 99]\n",
      "['a', 'b', 'c', 'd']\n"
     ]
    }
   ],
   "source": [
    "print(bacon)\n",
    "print(spam)"
   ]
  },
  {
   "cell_type": "code",
   "execution_count": 21,
   "id": "8060af9d",
   "metadata": {},
   "outputs": [
    {
     "name": "stdout",
     "output_type": "stream",
     "text": [
      "[3.14, 11, 'cat', True, 99, 'a', 'b', 'c', 'd']\n",
      "['a', 'b', 'c', 'd', 'a', 'b', 'c', 'd']\n"
     ]
    }
   ],
   "source": [
    "print(bacon+spam) # concatenate two lists\n",
    "print(spam*2) #replicate list spam 2 times"
   ]
  },
  {
   "cell_type": "markdown",
   "id": "2c35e4e7",
   "metadata": {},
   "source": [
    "<h3>10. What is difference between the list methods append() and insert()?</h3>"
   ]
  },
  {
   "cell_type": "markdown",
   "id": "a0c3561c",
   "metadata": {},
   "source": [
    "append() is used to add element at the end of the list after last element whereas insert is used to insert an element in the list at the specified index"
   ]
  },
  {
   "cell_type": "code",
   "execution_count": 23,
   "id": "aeb08e7d",
   "metadata": {},
   "outputs": [
    {
     "name": "stdout",
     "output_type": "stream",
     "text": [
      "result of append method :  [1, 2, 3, 4, 5]\n",
      "result of insert method :  [1, 2, 6, 3, 4, 5]\n"
     ]
    }
   ],
   "source": [
    "l1=[1,2,3,4]\n",
    "l1.append(5) #insering 5 at the end of list\n",
    "print(\"result of append method : \",l1)\n",
    "l1.insert(2,6) # inserting element 6 at the index 2\n",
    "print(\"result of insert method : \",l1)"
   ]
  },
  {
   "cell_type": "markdown",
   "id": "b64152c5",
   "metadata": {},
   "source": [
    "<h3>11. What are the two methods for removing items from a list?</h3>"
   ]
  },
  {
   "cell_type": "markdown",
   "id": "c764517b",
   "metadata": {},
   "source": [
    "1. List.remove(object) -> Removes the first occurrence of the given object from the list\n",
    "2. List.pop(index = -1) -> Removes and returns item at the index (default is -1, the last element)"
   ]
  },
  {
   "cell_type": "code",
   "execution_count": 24,
   "id": "c7166d95",
   "metadata": {},
   "outputs": [
    {
     "name": "stdout",
     "output_type": "stream",
     "text": [
      "[1, 2, 6, 3, 4, 5]\n",
      "After performing remove method() :  [1, 2, 3, 4, 5]\n",
      "5\n",
      "result after pop method :  [1, 2, 3, 4]\n"
     ]
    }
   ],
   "source": [
    "print(l1)\n",
    "l1.remove(6) #removes 6\n",
    "print(\"After performing remove method() : \",l1)\n",
    "print(l1.pop()) #removes last element i.e 5 from list and returns 5\n",
    "print(\"result after pop method : \",l1)"
   ]
  },
  {
   "cell_type": "markdown",
   "id": "aecf2686",
   "metadata": {},
   "source": [
    "<h3>12. Describe how list values and string values are identical.</h3>"
   ]
  },
  {
   "cell_type": "markdown",
   "id": "43bc7e2c",
   "metadata": {},
   "source": [
    "list is a collection of values in Python, string is a collection of characters. Both list and strings are iterable in Python and a for loop can be used around a list or string object to iterate through each element in the list/string<br>\n",
    "\n",
    "Both lists and strings have indexes and slices, we can perform concatenation or replication, and be used with the in and not in operators.<br>\n",
    "\n",
    "We can access char in string by index just like elements in list.<br>\n",
    "\n",
    "some methods like index(),count(), len() etc. methods are common in both List and String"
   ]
  },
  {
   "cell_type": "markdown",
   "id": "9d9afc3f",
   "metadata": {},
   "source": [
    "<h3>13. What is the difference between tuples and lists?</h3>"
   ]
  },
  {
   "cell_type": "markdown",
   "id": "96b27fd5",
   "metadata": {},
   "source": [
    "Lists are Mutable, Indexable and Slicable. they can have values added, removed, or changed. Tuples are Immutable but Indexable and Slicable. the tuple values cannot be changed at all. Also, tuples are represented using parentheses, (), while lists use the square brackets, [ ]."
   ]
  },
  {
   "cell_type": "markdown",
   "id": "55e1f285",
   "metadata": {},
   "source": [
    "<h3>14. How do you type a tuple value that only contains the integer 42?</h3>"
   ]
  },
  {
   "cell_type": "code",
   "execution_count": 29,
   "id": "1a912e75",
   "metadata": {},
   "outputs": [
    {
     "name": "stdout",
     "output_type": "stream",
     "text": [
      "(42,)\n",
      "<class 'tuple'>\n",
      "(42,)\n",
      "<class 'tuple'>\n"
     ]
    }
   ],
   "source": [
    "t=(42,) # The trailing comma is mandatory. otherwise its considered as a int by python Interpreter)\n",
    "print(t)\n",
    "print(type(t))\n",
    "\n",
    "# Another method\n",
    "t1=tuple([42])\n",
    "print(t1)\n",
    "print(type(t1))"
   ]
  },
  {
   "cell_type": "markdown",
   "id": "6ba5fda9",
   "metadata": {},
   "source": [
    "<h3>15. How do you get a list values tuple form? How do you get a tuple values list form?</h3>"
   ]
  },
  {
   "cell_type": "markdown",
   "id": "822e955f",
   "metadata": {},
   "source": [
    "1. tuple(list_name) will return list as tuple\n",
    "\n",
    "2. list(tuple_name) will return tuple as list"
   ]
  },
  {
   "cell_type": "code",
   "execution_count": 31,
   "id": "1e81b4fe",
   "metadata": {},
   "outputs": [
    {
     "name": "stdout",
     "output_type": "stream",
     "text": [
      "(1, 2, 3, 4)\n",
      "[1, 2]\n"
     ]
    }
   ],
   "source": [
    "list1=[1,2,3,4]\n",
    "print(tuple(list1))\n",
    "tuple1=(1,2)\n",
    "print(list(tuple1))"
   ]
  },
  {
   "cell_type": "markdown",
   "id": "f445672a",
   "metadata": {},
   "source": [
    "<h3>16. Variables that &quot;contain&quot; list values are not necessarily lists themselves. Instead, what do they\n",
    "contain?</h3>"
   ]
  },
  {
   "cell_type": "markdown",
   "id": "f65e4a63",
   "metadata": {},
   "source": [
    "Variables will contain references to list values rather than list values themselves."
   ]
  },
  {
   "cell_type": "markdown",
   "id": "4b0954de",
   "metadata": {},
   "source": [
    "<h3>17. How do you distinguish between copy.copy() and copy.deepcopy()?</h3>"
   ]
  },
  {
   "cell_type": "markdown",
   "id": "42080e04",
   "metadata": {},
   "source": [
    "copy() create reference to original object. If you change copied object - you change the original object. . deepcopy() creates new object and does real copying of original object to new one. Changing new deepcopied object doesn't affect original object."
   ]
  },
  {
   "cell_type": "code",
   "execution_count": null,
   "id": "2ec80c25",
   "metadata": {},
   "outputs": [],
   "source": []
  }
 ],
 "metadata": {
  "kernelspec": {
   "display_name": "Python 3 (ipykernel)",
   "language": "python",
   "name": "python3"
  },
  "language_info": {
   "codemirror_mode": {
    "name": "ipython",
    "version": 3
   },
   "file_extension": ".py",
   "mimetype": "text/x-python",
   "name": "python",
   "nbconvert_exporter": "python",
   "pygments_lexer": "ipython3",
   "version": "3.9.7"
  }
 },
 "nbformat": 4,
 "nbformat_minor": 5
}
