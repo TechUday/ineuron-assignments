{
 "cells": [
  {
   "cell_type": "markdown",
   "id": "aee8284e",
   "metadata": {},
   "source": [
    "### Name: Veeragani Uday Sandeep\n",
    "### Email: udaysandeep.v9@gmail.com\n",
    "### Assignment - 22"
   ]
  },
  {
   "cell_type": "markdown",
   "id": "7924b091",
   "metadata": {},
   "source": [
    "### 1.Create a function that takes three parameters where:\n",
    "```x is the start of the range (inclusive).\n",
    "y is the end of the range (inclusive).\n",
    "n is the divisor to be checked against.```\n",
    "\n",
    "Return an ordered list with numbers in the range that are divisible by the third parameter n. Return an empty list if there are no numbers that are divisible by n. Examples:\n",
    "```list_operation(1, 10, 3) ➞ [3, 6, 9]\n",
    "list_operation(7, 9, 2) ➞ [8]\n",
    "list_operation(15, 20, 7) ➞ []```"
   ]
  },
  {
   "cell_type": "code",
   "execution_count": 7,
   "id": "7c996937",
   "metadata": {},
   "outputs": [
    {
     "name": "stdout",
     "output_type": "stream",
     "text": [
      "list_operation(1, 10, 3) ➞ [3, 6, 9]\n",
      "\n",
      "list_operation(7, 9, 2) ➞ [8]\n",
      "\n",
      "list_operation(15, 20, 7) ➞ []\n",
      "\n"
     ]
    }
   ],
   "source": [
    "def list_operation(x,y,n):\n",
    "    return [i for i in range(x, y+1) if i%n == 0]\n",
    "print(f'list_operation(1, 10, 3) ➞ {list_operation(1, 10, 3)}\\n')\n",
    "print(f'list_operation(7, 9, 2) ➞ {list_operation(7, 9, 2)}\\n')\n",
    "print(f'list_operation(15, 20, 7) ➞ {list_operation(15, 20, 7)}\\n')"
   ]
  },
  {
   "cell_type": "markdown",
   "id": "3e47cb76",
   "metadata": {},
   "source": [
    "### 2.Create a function that takes in two lists and returns True if the second list follows the first list by one element, and False otherwise. In other words, determine if the second list is the first list shifted to the right by 1.\n",
    "Examples:\n",
    "```simon_says([1, 2], [5, 1]) ➞ True\n",
    "simon_says([1, 2], [5, 5]) ➞ False\n",
    "simon_says([1, 2, 3, 4, 5], [0, 1, 2, 3, 4]) ➞ True\n",
    "simon_says([1, 2, 3, 4, 5], [5, 5, 1, 2, 3]) ➞ False```\n",
    "\n",
    "Notes:\n",
    "1. Both input lists will be of the same length, and will have a minimum length of 2.\n",
    "2. The values of the 0-indexed element in the second list and the n-1th indexed element in the first list do not matter."
   ]
  },
  {
   "cell_type": "code",
   "execution_count": 8,
   "id": "6ea64e46",
   "metadata": {},
   "outputs": [
    {
     "name": "stdout",
     "output_type": "stream",
     "text": [
      "([1, 2], [5, 1]) ➞ True\n",
      "([1, 2], [5, 5]) ➞ False\n",
      "([1, 2, 3, 4, 5], [0, 1, 2, 3, 4]) ➞ True\n",
      "([1, 2, 3, 4, 5], [5, 5, 1, 2, 3]) ➞ False\n"
     ]
    }
   ],
   "source": [
    "def simon_says(list1,list2):\n",
    "    if len(list1) == len(list1) and len(list1) >=2 and len(list1) >=2:\n",
    "        if(list1[:-1] == list2[1:]):\n",
    "            print(f'{list1,list2} ➞ {True}')\n",
    "        else:\n",
    "            print(f'{list1,list2} ➞ {False}')\n",
    "            \n",
    "simon_says([1, 2], [5, 1])\n",
    "simon_says([1, 2], [5, 5])\n",
    "simon_says([1, 2, 3, 4, 5], [0, 1, 2, 3, 4])\n",
    "simon_says([1, 2, 3, 4, 5], [5, 5, 1, 2, 3])"
   ]
  },
  {
   "cell_type": "markdown",
   "id": "3d63480c",
   "metadata": {},
   "source": [
    "### 3.A group of friends have decided to start a secret society. The name will be the first letter of each of their names, sorted in a alphabetical order ? Create a function that takes in a list of names and returns the name of the secret society ?\n",
    "Examples:\n",
    "```society_name([\"Adam\", \"Sarah\", \"Malcolm\"]) ➞ \"AMS\"\n",
    "society_name([\"Harry\", \"Newt\", \"Luna\", \"Cho\"]) ➞ \"CHLN\"\n",
    "society_name([\"Phoebe\", \"Chandler\", \"Rachel\", \"Ross\", \"Monica\", \"Joey\"])```"
   ]
  },
  {
   "cell_type": "code",
   "execution_count": 23,
   "id": "4568497f",
   "metadata": {},
   "outputs": [
    {
     "name": "stdout",
     "output_type": "stream",
     "text": [
      "[\"Adam\", \"Sarah\", \"Malcolm\"] ➞ AMS\n",
      "\n",
      "[\"Harry\", \"Newt\", \"Luna\", \"Cho\"] ➞ CHLN\n",
      "\n",
      "[\"Phoebe\", \"Chandler\", \"Rachel\", \"Ross\", \"Monica\", \"Joey\"] ➞ CJMPRR\n"
     ]
    }
   ],
   "source": [
    "def society_name(lst):\n",
    "    return \"\".join(sorted([l[0] for l in lst]))\n",
    "print('[\"Adam\", \"Sarah\", \"Malcolm\"] ➞ '+society_name([\"Adam\", \"Sarah\", \"Malcolm\"]))\n",
    "print()\n",
    "print('[\"Harry\", \"Newt\", \"Luna\", \"Cho\"] ➞ '+society_name([\"Harry\", \"Newt\", \"Luna\", \"Cho\"]))\n",
    "print()\n",
    "print('[\"Phoebe\", \"Chandler\", \"Rachel\", \"Ross\", \"Monica\", \"Joey\"] ➞ '+society_name([\"Phoebe\", \"Chandler\", \"Rachel\", \"Ross\", \"Monica\", \"Joey\"]))"
   ]
  },
  {
   "cell_type": "markdown",
   "id": "442595f9",
   "metadata": {},
   "source": [
    "### 4.An isogram is a word that has no duplicate letters. Create a function that takes a string and returns either True or False depending on whether or not it's an \"isogram\".\n",
    "Examples:\n",
    "```is_isogram(\"Algorism\") ➞ True\n",
    "is_isogram(\"PasSword\") ➞ False```\n",
    "#Not case sensitive.\n",
    "\n",
    "```is_isogram(\"Consecutive\") ➞ False```\n",
    "\n",
    "Notes:\n",
    "\n",
    "Ignore letter case (should not be case sensitive).\n",
    "\n",
    "All test cases contain valid one word strings."
   ]
  },
  {
   "cell_type": "code",
   "execution_count": 29,
   "id": "c3884374",
   "metadata": {},
   "outputs": [
    {
     "name": "stdout",
     "output_type": "stream",
     "text": [
      "is_isogram(\"Algorism\") ➞ True\n",
      "\n",
      "is_isogram(\"PasSword\") ➞ False\n",
      "\n",
      "is_isogram(\"Consecutive\") ➞ False\n"
     ]
    }
   ],
   "source": [
    "def is_isogram(string):\n",
    "    string=string.lower()\n",
    "    return True if(len(list(string))==len(set(string))) else False\n",
    "print(f'is_isogram(\"Algorism\") ➞ {is_isogram(\"Algorism\")}\\n')\n",
    "print(f'is_isogram(\"PasSword\") ➞ {is_isogram(\"PasSword\")}\\n')\n",
    "print(f'is_isogram(\"Consecutive\") ➞ {is_isogram(\"Consecutive\")}')"
   ]
  },
  {
   "cell_type": "markdown",
   "id": "304c840b",
   "metadata": {},
   "source": [
    "### 5.Create a function that takes a string and returns True or False, depending on whether the characters are in order or not ?\n",
    "Examples:\n",
    "```is_in_order(\"abc\") ➞ True\n",
    "is_in_order(\"edabit\") ➞ False\n",
    "is_in_order(\"123\") ➞ True\n",
    "is_in_order(\"xyzz\") ➞ True```\n",
    "\n",
    "Notes:\n",
    "You don't have to handle empty strings."
   ]
  },
  {
   "cell_type": "code",
   "execution_count": 34,
   "id": "04449311",
   "metadata": {},
   "outputs": [
    {
     "name": "stdout",
     "output_type": "stream",
     "text": [
      "is_in_order(\"abc\") ➞ True\n",
      "\n",
      "is_in_order(\"edabit\") ➞ False\n",
      "\n",
      "is_in_order(\"123\") ➞ True\n",
      "\n",
      "is_in_order(\"xyzz\") ➞ True\n"
     ]
    }
   ],
   "source": [
    "def is_in_order(string):\n",
    "    return True if string==\"\".join(sorted(string)) else False\n",
    "\n",
    "print(f'is_in_order(\"abc\") ➞ {is_in_order(\"abc\")}\\n')\n",
    "print(f'is_in_order(\"edabit\") ➞ {is_in_order(\"edabit\")}\\n')\n",
    "print(f'is_in_order(\"123\") ➞ {is_in_order(\"123\")}\\n')\n",
    "print(f'is_in_order(\"xyzz\") ➞ {is_in_order(\"xyzz\")}')"
   ]
  }
 ],
 "metadata": {
  "kernelspec": {
   "display_name": "Python 3 (ipykernel)",
   "language": "python",
   "name": "python3"
  },
  "language_info": {
   "codemirror_mode": {
    "name": "ipython",
    "version": 3
   },
   "file_extension": ".py",
   "mimetype": "text/x-python",
   "name": "python",
   "nbconvert_exporter": "python",
   "pygments_lexer": "ipython3",
   "version": "3.9.7"
  }
 },
 "nbformat": 4,
 "nbformat_minor": 5
}
