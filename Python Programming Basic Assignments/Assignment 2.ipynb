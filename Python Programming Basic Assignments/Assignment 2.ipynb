{
 "cells": [
  {
   "cell_type": "markdown",
   "id": "a86153f4",
   "metadata": {},
   "source": [
    "# Name : Veeragani Uday Sandeep"
   ]
  },
  {
   "cell_type": "markdown",
   "id": "928137b2",
   "metadata": {},
   "source": [
    "# Email : udaysandeep.v9@gmail.com"
   ]
  },
  {
   "cell_type": "markdown",
   "id": "1746461b",
   "metadata": {},
   "source": [
    "<h2>Assignment 2</h2>"
   ]
  },
  {
   "cell_type": "markdown",
   "id": "5d062583",
   "metadata": {},
   "source": [
    "<h3>1.What are the two values of the Boolean data type? How do you write them?</h3>"
   ]
  },
  {
   "cell_type": "code",
   "execution_count": 1,
   "id": "2ffbd8b4",
   "metadata": {},
   "outputs": [
    {
     "name": "stdout",
     "output_type": "stream",
     "text": [
      "True <class 'bool'>\n",
      "False <class 'bool'>\n"
     ]
    }
   ],
   "source": [
    "a=True\n",
    "b=False\n",
    "print(a,type(a))\n",
    "print(b,type(b))"
   ]
  },
  {
   "cell_type": "markdown",
   "id": "d67c4cc2",
   "metadata": {},
   "source": [
    "<h3>2. What are the three different types of Boolean operators?</h3>"
   ]
  },
  {
   "cell_type": "code",
   "execution_count": 2,
   "id": "0ddaa5e6",
   "metadata": {},
   "outputs": [
    {
     "name": "stdout",
     "output_type": "stream",
     "text": [
      "True and False =  False\n",
      "True or False =  True\n",
      "not True =  False\n"
     ]
    }
   ],
   "source": [
    "a=True\n",
    "b=False\n",
    "print(f\"{a} and {b} = \",a and b)\n",
    "print(f\"{a} or {b} = \",a or b)\n",
    "print(f\"not {a} = \",not a)"
   ]
  },
  {
   "cell_type": "markdown",
   "id": "eae5c6e1",
   "metadata": {},
   "source": [
    "<h3>3. Make a list of each Boolean operator&#39;s truth tables (i.e. every possible combination of Boolean\n",
    "values for the operator and what it evaluate ).</h3>"
   ]
  },
  {
   "cell_type": "markdown",
   "id": "c03624fd",
   "metadata": {},
   "source": [
    "<h4>for or operator</h4>"
   ]
  },
  {
   "cell_type": "code",
   "execution_count": 4,
   "id": "d666e977",
   "metadata": {},
   "outputs": [
    {
     "name": "stdout",
     "output_type": "stream",
     "text": [
      "True\n"
     ]
    }
   ],
   "source": [
    "print(True or True)"
   ]
  },
  {
   "cell_type": "code",
   "execution_count": 5,
   "id": "923da1ec",
   "metadata": {},
   "outputs": [
    {
     "name": "stdout",
     "output_type": "stream",
     "text": [
      "True\n"
     ]
    }
   ],
   "source": [
    "print(True or False)"
   ]
  },
  {
   "cell_type": "code",
   "execution_count": 6,
   "id": "87136ecd",
   "metadata": {},
   "outputs": [
    {
     "name": "stdout",
     "output_type": "stream",
     "text": [
      "True\n"
     ]
    }
   ],
   "source": [
    "print(False or True)"
   ]
  },
  {
   "cell_type": "code",
   "execution_count": 7,
   "id": "3c3d52bc",
   "metadata": {},
   "outputs": [
    {
     "name": "stdout",
     "output_type": "stream",
     "text": [
      "False\n"
     ]
    }
   ],
   "source": [
    "print(False or False)"
   ]
  },
  {
   "cell_type": "markdown",
   "id": "dbe13405",
   "metadata": {},
   "source": [
    "<h4>for and operator</h4>"
   ]
  },
  {
   "cell_type": "code",
   "execution_count": 8,
   "id": "b33cbec2",
   "metadata": {},
   "outputs": [
    {
     "name": "stdout",
     "output_type": "stream",
     "text": [
      "True\n"
     ]
    }
   ],
   "source": [
    "print(True and True)"
   ]
  },
  {
   "cell_type": "code",
   "execution_count": 9,
   "id": "49432a11",
   "metadata": {},
   "outputs": [
    {
     "name": "stdout",
     "output_type": "stream",
     "text": [
      "False\n"
     ]
    }
   ],
   "source": [
    "print(True and False)"
   ]
  },
  {
   "cell_type": "code",
   "execution_count": 10,
   "id": "6f353693",
   "metadata": {},
   "outputs": [
    {
     "name": "stdout",
     "output_type": "stream",
     "text": [
      "False\n"
     ]
    }
   ],
   "source": [
    "print(False and True)"
   ]
  },
  {
   "cell_type": "code",
   "execution_count": 11,
   "id": "09d7b754",
   "metadata": {},
   "outputs": [
    {
     "name": "stdout",
     "output_type": "stream",
     "text": [
      "False\n"
     ]
    }
   ],
   "source": [
    "print(False and False)"
   ]
  },
  {
   "cell_type": "markdown",
   "id": "6bc06f28",
   "metadata": {},
   "source": [
    "<h3>not operator</h3>"
   ]
  },
  {
   "cell_type": "code",
   "execution_count": 13,
   "id": "88ad5889",
   "metadata": {},
   "outputs": [
    {
     "name": "stdout",
     "output_type": "stream",
     "text": [
      "False\n"
     ]
    }
   ],
   "source": [
    "print(not True)"
   ]
  },
  {
   "cell_type": "code",
   "execution_count": 14,
   "id": "f6a6c4c7",
   "metadata": {},
   "outputs": [
    {
     "name": "stdout",
     "output_type": "stream",
     "text": [
      "True\n"
     ]
    }
   ],
   "source": [
    "print(not False)"
   ]
  },
  {
   "cell_type": "markdown",
   "id": "d30d2f3f",
   "metadata": {},
   "source": [
    "<h3>4. What are the values of the following expressions?</h3>"
   ]
  },
  {
   "cell_type": "code",
   "execution_count": 16,
   "id": "1467e1fa",
   "metadata": {},
   "outputs": [
    {
     "name": "stdout",
     "output_type": "stream",
     "text": [
      "False\n",
      "False\n",
      "True\n",
      "False\n",
      "False\n",
      "True\n"
     ]
    }
   ],
   "source": [
    "print((5 > 4) and (3 == 5))\n",
    "print(not (5 > 4) )\n",
    "print((5 > 4) or (3 == 5))\n",
    "print(not ((5 > 4) or (3 == 5)))\n",
    "print((True and True) and (True == False))\n",
    "print((not False) or (not True))"
   ]
  },
  {
   "cell_type": "markdown",
   "id": "8c99c79f",
   "metadata": {},
   "source": [
    "<h3>5. What are the six comparison operators?</h3>"
   ]
  },
  {
   "cell_type": "code",
   "execution_count": 19,
   "id": "333b4101",
   "metadata": {},
   "outputs": [
    {
     "name": "stdout",
     "output_type": "stream",
     "text": [
      "100 < 100.01 =  True\n",
      "100 <= 100.01 =  True\n",
      "100 > 100.01 =  False\n",
      "100 >= 100.01 =  False\n",
      "100 == 100.01 =  False\n",
      "100 != 100.01 =  True\n"
     ]
    }
   ],
   "source": [
    "a=100\n",
    "b=100.01\n",
    "print(f\"{a} < {b} = \",a<b)       # less than operator operator\n",
    "print(f\"{a} <= {b} = \",a<=b)     # less than or equal to operator\n",
    "print(f\"{a} > {b} = \",a>b)       # greater than operator\n",
    "print(f\"{a} >= {b} = \",a>=b)     # greater thyan or equal to operator\n",
    "print(f\"{a} == {b} = \",a==b)     # equal to operator\n",
    "print(f\"{a} != {b} = \",a!=b)     # not equal to operator"
   ]
  },
  {
   "cell_type": "markdown",
   "id": "7003c0a2",
   "metadata": {},
   "source": [
    "<h3>6. How do you tell the difference between the equal to and assignment operators?Describe a\n",
    "condition and when you would use one.</h3>"
   ]
  },
  {
   "cell_type": "markdown",
   "id": "ef448d78",
   "metadata": {},
   "source": [
    "= : single equals is It is an assignment operator, It is used when we have to set or initialize a value.\n",
    "\n",
    "== : double equals is relational or comparison operator, It is used when we have to compare two values."
   ]
  },
  {
   "cell_type": "markdown",
   "id": "bd0dcc66",
   "metadata": {},
   "source": [
    "<h3>7. Identify the three blocks in this code:</h3>"
   ]
  },
  {
   "cell_type": "code",
   "execution_count": 20,
   "id": "3380cad4",
   "metadata": {},
   "outputs": [
    {
     "name": "stdout",
     "output_type": "stream",
     "text": [
      "ham\n",
      "spam\n",
      "spam\n"
     ]
    }
   ],
   "source": [
    "spam=0\n",
    "# Block 1\n",
    "if spam==10:\n",
    "    print('eggs')\n",
    "# BLock 2\n",
    "if spam>5:\n",
    "    print('bacon')\n",
    "# Block 3\n",
    "else:\n",
    "    print('ham')\n",
    "print('spam')\n",
    "print('spam')"
   ]
  },
  {
   "cell_type": "markdown",
   "id": "59c45c63",
   "metadata": {},
   "source": [
    "<h3>8. Write code that prints Hello if 1 is stored in spam, prints Howdy if 2 is stored in spam, and prints\n",
    "Greetings! if anything else is stored in spam.</h3>"
   ]
  },
  {
   "cell_type": "code",
   "execution_count": 21,
   "id": "05e957d6",
   "metadata": {},
   "outputs": [
    {
     "name": "stdout",
     "output_type": "stream",
     "text": [
      "Hello\n"
     ]
    }
   ],
   "source": [
    "spam = 1\n",
    "if spam == 1:    \n",
    "    print(\"Hello\");\n",
    "elif spam == 2:\n",
    "    print(\"Howdy\");\n",
    "else:\n",
    "    print(\"Greetings\");"
   ]
  },
  {
   "cell_type": "markdown",
   "id": "eeeac00e",
   "metadata": {},
   "source": [
    "<h3>9.If your programme is stuck in an endless loop, what keys you’ll press?</h3>"
   ]
  },
  {
   "cell_type": "markdown",
   "id": "9f50285e",
   "metadata": {},
   "source": [
    "if the programme is stuck in an endless loop we have to press ctrl+c"
   ]
  },
  {
   "cell_type": "markdown",
   "id": "1ca8b90e",
   "metadata": {},
   "source": [
    "<h3>10. How can you tell the difference between break and continue?</h3>"
   ]
  },
  {
   "cell_type": "markdown",
   "id": "62586ab2",
   "metadata": {},
   "source": [
    "break: It is used to break the loop and exit from the loop  <br>\n",
    "continue: It is used to skip the current iteration of the loop and continue with the next iteration."
   ]
  },
  {
   "cell_type": "markdown",
   "id": "1aa0668b",
   "metadata": {},
   "source": [
    "<h3>11. In a for loop, what is the difference between range(10), range(0, 10), and range(0, 10, 1)?</h3>"
   ]
  },
  {
   "cell_type": "markdown",
   "id": "6e4f133d",
   "metadata": {},
   "source": [
    "all the three are same because <br>\n",
    "first case : iteration starts with 0 (by default it takes start as 0) and prints upto 9 like 0,1,2,3,4,.....9 <br>\n",
    "second case : here also iteration start with 0 as start is mentioned as 0 and prints the same <br>\n",
    "third case : here aslo iteration takes start as 0 and step size as 1 so it will print same as above"
   ]
  },
  {
   "cell_type": "markdown",
   "id": "8290f766",
   "metadata": {},
   "source": [
    "<h3>12. Write a short program that prints the numbers 1 to 10 using a for loop. Then write an equivalent\n",
    "program that prints the numbers 1 to 10 using a while loop.</h3>"
   ]
  },
  {
   "cell_type": "code",
   "execution_count": 22,
   "id": "75965613",
   "metadata": {},
   "outputs": [
    {
     "name": "stdout",
     "output_type": "stream",
     "text": [
      "1 2 3 4 5 6 7 8 9 10 "
     ]
    }
   ],
   "source": [
    "# using for loop\n",
    "for i in range(1,11):\n",
    "    print(i,end=\" \")"
   ]
  },
  {
   "cell_type": "code",
   "execution_count": 23,
   "id": "39eb07d6",
   "metadata": {},
   "outputs": [
    {
     "name": "stdout",
     "output_type": "stream",
     "text": [
      "1 2 3 4 5 6 7 8 9 10 "
     ]
    }
   ],
   "source": [
    "# using while loop\n",
    "i=1\n",
    "while(i<=10):\n",
    "    print(i,end=\" \")\n",
    "    i=i+1\n",
    "    "
   ]
  },
  {
   "cell_type": "markdown",
   "id": "850fd764",
   "metadata": {},
   "source": [
    "<h3>13. If you had a function named bacon() inside a module named spam, how would you call it after\n",
    "importing spam?</h3>"
   ]
  },
  {
   "cell_type": "markdown",
   "id": "ec18607e",
   "metadata": {},
   "source": [
    "import spam  <br>\n",
    "\n",
    "spam.bacon()"
   ]
  },
  {
   "cell_type": "code",
   "execution_count": null,
   "id": "175a5fb9",
   "metadata": {},
   "outputs": [],
   "source": []
  },
  {
   "cell_type": "code",
   "execution_count": null,
   "id": "9437150e",
   "metadata": {},
   "outputs": [],
   "source": []
  },
  {
   "cell_type": "code",
   "execution_count": null,
   "id": "a102b456",
   "metadata": {},
   "outputs": [],
   "source": []
  },
  {
   "cell_type": "code",
   "execution_count": null,
   "id": "114db8e1",
   "metadata": {},
   "outputs": [],
   "source": []
  },
  {
   "cell_type": "code",
   "execution_count": null,
   "id": "9a8ce638",
   "metadata": {},
   "outputs": [],
   "source": []
  },
  {
   "cell_type": "code",
   "execution_count": null,
   "id": "a1e93984",
   "metadata": {},
   "outputs": [],
   "source": []
  },
  {
   "cell_type": "code",
   "execution_count": null,
   "id": "a9b37190",
   "metadata": {},
   "outputs": [],
   "source": []
  }
 ],
 "metadata": {
  "kernelspec": {
   "display_name": "Python 3 (ipykernel)",
   "language": "python",
   "name": "python3"
  },
  "language_info": {
   "codemirror_mode": {
    "name": "ipython",
    "version": 3
   },
   "file_extension": ".py",
   "mimetype": "text/x-python",
   "name": "python",
   "nbconvert_exporter": "python",
   "pygments_lexer": "ipython3",
   "version": "3.9.7"
  }
 },
 "nbformat": 4,
 "nbformat_minor": 5
}
