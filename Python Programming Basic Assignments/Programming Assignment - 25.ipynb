{
 "cells": [
  {
   "cell_type": "markdown",
   "id": "d6ca8aab",
   "metadata": {},
   "source": [
    "### Name: Veeragani Uday Sandeep\n",
    "### Email: udaysandeep.v9@gmail.com\n",
    "### Assignment - 25"
   ]
  },
  {
   "cell_type": "markdown",
   "id": "11026dd2",
   "metadata": {},
   "source": [
    "### 1.Create a function that takes three integer arguments (a, b, c) and returns the amount of integers which are of equal value.\n",
    "Examples:\n",
    "\n",
    "equal(3, 4, 3) ➞ 2\n",
    "\n",
    "equal(1, 1, 1) ➞ 3\n",
    "\n",
    "equal(3, 4, 1) ➞ 0\n",
    "\n",
    "Notes:\n",
    "\n",
    "Your function must return 0, 2 or 3."
   ]
  },
  {
   "cell_type": "code",
   "execution_count": 5,
   "id": "97ca6a12",
   "metadata": {},
   "outputs": [
    {
     "name": "stdout",
     "output_type": "stream",
     "text": [
      "equal(3, 4, 3) ➞ 2\n",
      "\n",
      "equal(1, 1, 1) ➞ 3\n",
      "\n",
      "equal(3, 4, 1) ➞ 0\n",
      "\n"
     ]
    }
   ],
   "source": [
    "def equal(x, y, z):\n",
    "    lst=[x,y,z]\n",
    "    for i in set(lst):\n",
    "        if lst.count(i)==3:\n",
    "            return 3\n",
    "        if lst.count(i)==2:\n",
    "            return 2\n",
    "    else:\n",
    "        return 0\n",
    "print(f'equal(3, 4, 3) ➞ {equal(3, 4, 3)}\\n')\n",
    "print(f'equal(1, 1, 1) ➞ {equal(1, 1, 1)}\\n')\n",
    "print(f'equal(3, 4, 1) ➞ {equal(3, 4, 1)}\\n')"
   ]
  },
  {
   "cell_type": "markdown",
   "id": "f339c8a7",
   "metadata": {},
   "source": [
    "### 2.Write a function that converts a dictionary into a list of keys-values tuples.\n",
    "Examples:\n",
    "\n",
    "dict_to_list({ \"D\": 1, \"B\": 2, \"C\": 3 }) ➞ [(\"B\", 2), (\"C\", 3), (\"D\", 1)]\n",
    "\n",
    "dict_to_list({ \"likes\": 2, \"dislikes\": 3, \"followers\": 10 }) ➞ [(\"dislikes\", 3), (\"followers\", 10), (\"likes\", 2)]\n",
    "\n",
    "Notes:\n",
    "\n",
    "Return the elements in the list in alphabetical order."
   ]
  },
  {
   "cell_type": "code",
   "execution_count": 20,
   "id": "ef536dc0",
   "metadata": {},
   "outputs": [
    {
     "name": "stdout",
     "output_type": "stream",
     "text": [
      "dict_to_list({ \"D\": 1, \"B\": 2, \"C\": 3 }) ➞  [('B', 2), ('C', 3), ('D', 1)]\n",
      "\n",
      "dict_to_list({ \"likes\": 2, \"dislikes\": 3, \"followers\": 10 }) ➞  [('dislikes', 3), ('followers', 10), ('likes', 2)]\n"
     ]
    }
   ],
   "source": [
    "def dict_to_list(dic_list):\n",
    "    out=[]\n",
    "    for i in sorted(dic_list.keys()):\n",
    "        out.append((i,dic_list[i]))\n",
    "    return out\n",
    "print('dict_to_list({ \"D\": 1, \"B\": 2, \"C\": 3 }) ➞ ',dict_to_list({ \"D\": 1, \"B\": 2, \"C\": 3 }))\n",
    "print()\n",
    "print('dict_to_list({ \"likes\": 2, \"dislikes\": 3, \"followers\": 10 }) ➞ ',dict_to_list({ \"likes\": 2, \"dislikes\": 3, \"followers\": 10 }))"
   ]
  },
  {
   "cell_type": "markdown",
   "id": "f1eadafc",
   "metadata": {},
   "source": [
    "### 3.Write a function that creates a dictionary with each (key, value) pair being the (lower case, upper case) versions of a letter, respectively.\n",
    "Examples:\n",
    "\n",
    "mapping([\"p\", \"s\"]) ➞ { \"p\": \"P\", \"s\": \"S\" }\n",
    "\n",
    "mapping([\"a\", \"b\", \"c\"]) ➞ { \"a\": \"A\", \"b\": \"B\", \"c\": \"C\" }\n",
    "\n",
    "mapping([\"a\", \"v\", \"y\", \"z\"]) ➞ { \"a\": \"A\", \"v\": \"V\", \"y\": \"Y\", \"z\": \"Z\" }\n",
    "\n",
    "Notes:\n",
    "\n",
    "All of the letters in the input list will always be lowercase."
   ]
  },
  {
   "cell_type": "code",
   "execution_count": 23,
   "id": "b96af81b",
   "metadata": {},
   "outputs": [
    {
     "name": "stdout",
     "output_type": "stream",
     "text": [
      "mapping([\"p\", \"s\"]) ➞ {'p': 'P', 's': 'S'}\n",
      "\n",
      "mapping([\"a\", \"b\", \"c\"]) ➞ {'a': 'A', 'b': 'B', 'c': 'C'}\n",
      "\n",
      "mapping([\"a\", \"v\", \"y\", \"z\"]) ➞ {'a': 'A', 'v': 'V', 'y': 'Y', 'z': 'Z'}\n",
      "\n"
     ]
    }
   ],
   "source": [
    "def mapping(lst):\n",
    "    dic={}\n",
    "    for i in lst:\n",
    "        dic[i.lower()]=i.upper()\n",
    "    return dic\n",
    "print(f'mapping([\"p\", \"s\"]) ➞ {mapping([\"p\", \"s\"])}\\n')\n",
    "print(f'mapping([\"a\", \"b\", \"c\"]) ➞ {mapping([\"a\", \"b\", \"c\"])}\\n')\n",
    "print(f'mapping([\"a\", \"v\", \"y\", \"z\"]) ➞ {mapping([\"a\", \"v\", \"y\", \"z\"])}\\n') "
   ]
  },
  {
   "cell_type": "markdown",
   "id": "ae52d7c5",
   "metadata": {},
   "source": [
    "### 4.Write a function, that replaces all vowels in a string with a specified vowel.\n",
    "Examples:\n",
    "\n",
    "vow_replace(\"apples and bananas\", \"u\") ➞ \"upplus und bununus\"\n",
    "\n",
    "vow_replace(\"cheese casserole\", \"o\") ➞ \"chooso cossorolo\"\n",
    "\n",
    "vow_replace(\"stuffed jalapeno poppers\", \"e\") ➞ \"steffed jelepene peppers\"\n",
    "\n",
    "Notes:\n",
    "\n",
    "All words will be lowercase. Y is not considered a vowel."
   ]
  },
  {
   "cell_type": "code",
   "execution_count": 30,
   "id": "93624dd7",
   "metadata": {},
   "outputs": [
    {
     "name": "stdout",
     "output_type": "stream",
     "text": [
      "vow_replace(\"apples and bananas\", \"u\") ➞ upplus und bununus\n",
      "\n",
      "vow_replace(\"cheese casserole\", \"o\") ➞ chooso cossorolo\n",
      "\n",
      "vow_replace(\"stuffed jalapeno poppers\", \"e\") ➞ steffed jelepene peppers\n",
      "\n"
     ]
    }
   ],
   "source": [
    "def vow_replace(string,char):\n",
    "    vowels=['a','e','i','o','u']\n",
    "    for i in string:\n",
    "        for j in vowels:\n",
    "            string=string.replace(j,char)\n",
    "    return string\n",
    "print(f'vow_replace(\"apples and bananas\", \"u\") ➞ {vow_replace(\"apples and bananas\", \"u\")}\\n')\n",
    "print(f'vow_replace(\"cheese casserole\", \"o\") ➞ {vow_replace(\"cheese casserole\", \"o\")}\\n')\n",
    "print(f'vow_replace(\"stuffed jalapeno poppers\", \"e\") ➞ {vow_replace(\"stuffed jalapeno poppers\", \"e\")}\\n')\n"
   ]
  },
  {
   "cell_type": "markdown",
   "id": "697fd1aa",
   "metadata": {},
   "source": [
    "### 5.Create a function that takes a string as input and capitalizes a letter if its ASCII code is even and returns its lower case version if its ASCII code is odd.\n",
    "Examples:\n",
    "\n",
    "ascii_capitalize(\"to be or not to be!\") ➞ \"To Be oR NoT To Be!\"\n",
    "\n",
    "ascii_capitalize(\"THE LITTLE MERMAID\") ➞ \"THe LiTTLe meRmaiD\"\n",
    "\n",
    "ascii_capitalize(\"Oh what a beautiful morning.\") ➞ \"oH wHaT a BeauTiFuL moRNiNg.\""
   ]
  },
  {
   "cell_type": "code",
   "execution_count": 39,
   "id": "b745f2d1",
   "metadata": {},
   "outputs": [
    {
     "name": "stdout",
     "output_type": "stream",
     "text": [
      "ascii_capitalize(\"to be or not to be!\") ➞ To Be oR NoT To Be!\n",
      "\n",
      "ascii_capitalize(\"THE LITTLE MERMAID\") ➞ THe LiTTLe meRmaiD\n",
      "\n",
      "ascii_capitalize(\"Oh what a beautiful morning.\") ➞ oH wHaT a BeauTiFuL moRNiNg.\n",
      "\n"
     ]
    }
   ],
   "source": [
    "def ascii_capitalize(string):\n",
    "    lst=[i.upper() if ord(i)%2==0 else i.lower() for i in string]\n",
    "    return \"\".join(lst)\n",
    "print(f'ascii_capitalize(\"to be or not to be!\") ➞ {ascii_capitalize(\"to be or not to be!\")}\\n')\n",
    "print(f'ascii_capitalize(\"THE LITTLE MERMAID\") ➞ {ascii_capitalize(\"THE LITTLE MERMAID\")}\\n')\n",
    "print(f'ascii_capitalize(\"Oh what a beautiful morning.\") ➞ {ascii_capitalize(\"Oh what a beautiful morning.\")}\\n')"
   ]
  }
 ],
 "metadata": {
  "kernelspec": {
   "display_name": "Python 3 (ipykernel)",
   "language": "python",
   "name": "python3"
  },
  "language_info": {
   "codemirror_mode": {
    "name": "ipython",
    "version": 3
   },
   "file_extension": ".py",
   "mimetype": "text/x-python",
   "name": "python",
   "nbconvert_exporter": "python",
   "pygments_lexer": "ipython3",
   "version": "3.9.7"
  }
 },
 "nbformat": 4,
 "nbformat_minor": 5
}
