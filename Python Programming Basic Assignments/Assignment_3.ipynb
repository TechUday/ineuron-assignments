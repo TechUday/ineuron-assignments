{
 "cells": [
  {
   "cell_type": "markdown",
   "id": "f9523e02",
   "metadata": {},
   "source": [
    "# Name : Veeragani Uday Sandeep"
   ]
  },
  {
   "cell_type": "markdown",
   "id": "c3587c18",
   "metadata": {},
   "source": [
    "# Email : udaysandeep.v9@gmail.com"
   ]
  },
  {
   "cell_type": "markdown",
   "id": "c9522a15",
   "metadata": {},
   "source": [
    "<h2>Assignment 3</h2>"
   ]
  },
  {
   "cell_type": "markdown",
   "id": "2c46e41a",
   "metadata": {},
   "source": [
    "<h3>1. Why are functions advantageous to have in your programs?</h3>"
   ]
  },
  {
   "cell_type": "markdown",
   "id": "5d25782e",
   "metadata": {},
   "source": [
    "1. Functions reduce the need for duplicate code. This makes programs shorter, easier to read, and easier to update.\n",
    "2. Increase modularity\n",
    "3. In simple terms main advantage of functions is code reusability"
   ]
  },
  {
   "cell_type": "markdown",
   "id": "a81137e6",
   "metadata": {},
   "source": [
    "<h3>2. When does the code in a function run: when it&#39;s specified or when it&#39;s called?</h3>"
   ]
  },
  {
   "cell_type": "markdown",
   "id": "0fd4b969",
   "metadata": {},
   "source": [
    "the code in the function run when it is <b>called</b>."
   ]
  },
  {
   "cell_type": "markdown",
   "id": "8992c0ef",
   "metadata": {},
   "source": [
    "<h3>3. What statement creates a function?</h3>"
   ]
  },
  {
   "cell_type": "markdown",
   "id": "957054ec",
   "metadata": {},
   "source": [
    "def(keyword) followed by name of the function then parentheses creates the function."
   ]
  },
  {
   "cell_type": "markdown",
   "id": "72643c67",
   "metadata": {},
   "source": [
    "<h3>4. What is the difference between a function and a function call?</h3>"
   ]
  },
  {
   "cell_type": "markdown",
   "id": "689c611d",
   "metadata": {},
   "source": [
    "1. Function: Function is block of code which produce some result. It produce result when itis invoked or called\n",
    "2. Function Call: Function call is used to invoke or execute set of codes present inside the function."
   ]
  },
  {
   "cell_type": "markdown",
   "id": "16620816",
   "metadata": {},
   "source": [
    "<h3>5. How many global scopes are there in a Python program? How many local scopes?</h3>"
   ]
  },
  {
   "cell_type": "markdown",
   "id": "32cc09bc",
   "metadata": {},
   "source": [
    "There are 1 global scopes and any number of local scopes in the python program."
   ]
  },
  {
   "cell_type": "markdown",
   "id": "59c6ae14",
   "metadata": {},
   "source": [
    "<h3>6. What happens to variables in a local scope when the function call returns?</h3>"
   ]
  },
  {
   "cell_type": "markdown",
   "id": "543a9e2d",
   "metadata": {},
   "source": [
    "The local variables are destroyed when function call returns."
   ]
  },
  {
   "cell_type": "markdown",
   "id": "3c6c8c72",
   "metadata": {},
   "source": [
    "<h3>7. What is the concept of a return value? Is it possible to have a return value in an expression?</h3>"
   ]
  },
  {
   "cell_type": "markdown",
   "id": "14e9ce09",
   "metadata": {},
   "source": [
    "A return is a value that a function returns after calling the function when it completes its task.It may be varible or expression which a function can return. <br>\n",
    "\n",
    "Yes function return value can be an expression"
   ]
  },
  {
   "cell_type": "markdown",
   "id": "8733f71f",
   "metadata": {},
   "source": [
    "<h3>8. If a function does not have a return statement, what is the return value of a call to that function?</h3>"
   ]
  },
  {
   "cell_type": "markdown",
   "id": "b6da2c2c",
   "metadata": {},
   "source": [
    "if a function doest not have a return statement, then Python will implicitly return a default value for you. That default return value will always be <b>NoneType</b> ."
   ]
  },
  {
   "cell_type": "markdown",
   "id": "29cb7732",
   "metadata": {},
   "source": [
    "<h3>9. How do you make a function variable refer to the global variable?</h3>"
   ]
  },
  {
   "cell_type": "markdown",
   "id": "64776cc2",
   "metadata": {},
   "source": [
    "This can be achieved by using global keyword to redefine the variable and make the changes of variable as global change."
   ]
  },
  {
   "cell_type": "code",
   "execution_count": 12,
   "id": "2026896c",
   "metadata": {},
   "outputs": [
    {
     "name": "stdout",
     "output_type": "stream",
     "text": [
      "0\n",
      "10\n"
     ]
    }
   ],
   "source": [
    "n1 = 0\n",
    "def f():\n",
    "    global n1\n",
    "    n1 = 10\n",
    "    \n",
    "print(n1)\n",
    "f()\n",
    "print(n1)"
   ]
  },
  {
   "cell_type": "markdown",
   "id": "d3bd0758",
   "metadata": {},
   "source": [
    "<h3>10. What is the data type of None?</h3>"
   ]
  },
  {
   "cell_type": "markdown",
   "id": "b6861344",
   "metadata": {},
   "source": [
    "The data type of None is NoneType."
   ]
  },
  {
   "cell_type": "code",
   "execution_count": 15,
   "id": "23e7da39",
   "metadata": {},
   "outputs": [
    {
     "data": {
      "text/plain": [
       "NoneType"
      ]
     },
     "execution_count": 15,
     "metadata": {},
     "output_type": "execute_result"
    }
   ],
   "source": [
    "type(None)"
   ]
  },
  {
   "cell_type": "markdown",
   "id": "57fbc064",
   "metadata": {},
   "source": [
    "<h3>11. What does the sentence import areallyourpetsnamederic do?</h3>"
   ]
  },
  {
   "cell_type": "markdown",
   "id": "2781088d",
   "metadata": {},
   "source": [
    "The statement \"import areallyourpetsnamederic\" will import the module or package areallyourpetsnamederic."
   ]
  },
  {
   "cell_type": "markdown",
   "id": "d16c3c13",
   "metadata": {},
   "source": [
    "<h3>12. If you had a bacon() feature in a spam module, what would you call it after importing spam?</h3>"
   ]
  },
  {
   "cell_type": "markdown",
   "id": "260d4e46",
   "metadata": {},
   "source": [
    "As bacon() is in a spam module , first we have to import the module and after that function can be called with spam.bacon()."
   ]
  },
  {
   "cell_type": "markdown",
   "id": "cc976ba9",
   "metadata": {},
   "source": [
    "<h3>13. What can you do to save a programme from crashing if it encounters an error?</h3>"
   ]
  },
  {
   "cell_type": "markdown",
   "id": "886d7a32",
   "metadata": {},
   "source": [
    "To save the program from crashing over a runtime error we can use the try and except statement. It will save from only the runtime error not the compile time error.<br>\n",
    "\n",
    "In simple terms performs Exceptional Handling<br>\n",
    "\n",
    "Place the line of code that might cause an error in a try clause and use except block to handle the error.<br>"
   ]
  },
  {
   "cell_type": "code",
   "execution_count": 19,
   "id": "a5d75a09",
   "metadata": {},
   "outputs": [],
   "source": [
    "try:\n",
    "    pass\n",
    "except:\n",
    "    pass"
   ]
  },
  {
   "cell_type": "markdown",
   "id": "c51bb59b",
   "metadata": {},
   "source": [
    "<h3>14. What is the purpose of the try clause? What is the purpose of the except clause?</h3>"
   ]
  },
  {
   "cell_type": "markdown",
   "id": "71120f9e",
   "metadata": {},
   "source": [
    "A Try-Except statement is a code block that allows your program to take alternative actions in case an error occurs<br>\n",
    "\n",
    "The try block lets you test a block of code for errors. The except block lets you handle the error.<br>"
   ]
  },
  {
   "cell_type": "code",
   "execution_count": 22,
   "id": "20f7e6e0",
   "metadata": {},
   "outputs": [
    {
     "name": "stdout",
     "output_type": "stream",
     "text": [
      "Variable x is not defined\n"
     ]
    }
   ],
   "source": [
    "try:\n",
    "    print(x)\n",
    "except NameError:\n",
    "    print(\"Variable x is not defined\")"
   ]
  },
  {
   "cell_type": "code",
   "execution_count": null,
   "id": "dd224464",
   "metadata": {},
   "outputs": [],
   "source": []
  }
 ],
 "metadata": {
  "kernelspec": {
   "display_name": "Python 3 (ipykernel)",
   "language": "python",
   "name": "python3"
  },
  "language_info": {
   "codemirror_mode": {
    "name": "ipython",
    "version": 3
   },
   "file_extension": ".py",
   "mimetype": "text/x-python",
   "name": "python",
   "nbconvert_exporter": "python",
   "pygments_lexer": "ipython3",
   "version": "3.9.7"
  }
 },
 "nbformat": 4,
 "nbformat_minor": 5
}
