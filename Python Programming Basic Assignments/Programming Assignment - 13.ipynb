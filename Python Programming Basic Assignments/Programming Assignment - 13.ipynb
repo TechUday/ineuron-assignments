{
 "cells": [
  {
   "cell_type": "markdown",
   "id": "5a95c994",
   "metadata": {},
   "source": [
    "### Name: Veeragani Uday Sandeep\n",
    "### Email: udaysandeep.v9@gmail.com\n",
    "### Assignment - 13"
   ]
  },
  {
   "cell_type": "markdown",
   "id": "0cde0e10",
   "metadata": {},
   "source": [
    "### 1.Write a program that calculates and prints the value according to the given formula:\n",
    "\n",
    "```Q = Square root of [(2 * C * D)/H]```\n",
    "\n",
    "Following are the fixed values of C and H:\n",
    "\n",
    "C is 50.\n",
    "\n",
    "H is 30.\n",
    "\n",
    "D is the variable whose values should be input to your program in a comma-separated sequence.\n",
    "\n",
    "Example: Let us assume the following comma separated input sequence is given to the program:100,150,180\n",
    "The output of the program should be: 18,22,24"
   ]
  },
  {
   "cell_type": "code",
   "execution_count": 21,
   "id": "7c01c671",
   "metadata": {},
   "outputs": [
    {
     "name": "stdout",
     "output_type": "stream",
     "text": [
      "Enter comma separated numbers input: 100,150,180\n",
      "Output: [18, 22, 24]\n"
     ]
    }
   ],
   "source": [
    "import math\n",
    "def calculate():\n",
    "    D=list(map(int,input(\"Enter comma separated numbers input: \").split(',')))\n",
    "    C=50 # Fixed value of C\n",
    "    H=30 # Fixed value of H\n",
    "    Q=[int(math.sqrt((2*C*i)/H)) for i in D]\n",
    "    print(\"Output: {}\".format(Q))\n",
    "calculate()"
   ]
  },
  {
   "cell_type": "markdown",
   "id": "b2c60269",
   "metadata": {},
   "source": [
    "### 2.Write a program which takes 2 digits, X,Y as input and generates a 2-dimensional array. The element value in the i-th row and j-th column of the array should be i*j.\n",
    "```Note: i=0,1.., X-1; j=0,1,¡Y-1.```\n",
    "\n",
    "Example: Suppose the following inputs are given to the program: 3,5\n",
    "\n",
    "Then, the output of the program should be:[[0, 0, 0, 0, 0], [0, 1, 2, 3, 4], [0, 2, 4, 6, 8]]"
   ]
  },
  {
   "cell_type": "code",
   "execution_count": 25,
   "id": "43779502",
   "metadata": {},
   "outputs": [
    {
     "name": "stdout",
     "output_type": "stream",
     "text": [
      "Enter value of X = 3\n",
      "Enter value of Y = 5\n",
      "Output: [[0, 0, 0, 0, 0], [0, 1, 2, 3, 4], [0, 2, 4, 6, 8]]\n"
     ]
    }
   ],
   "source": [
    "def calculate2():\n",
    "    X=int(input(\"Enter value of X = \"))\n",
    "    Y=int(input(\"Enter value of Y = \"))\n",
    "    mat=[]\n",
    "    for i in range(0,X):\n",
    "        row=[]\n",
    "        for j in range(0,Y):\n",
    "            row.append(i*j)\n",
    "        mat.append(row)\n",
    "    print(\"Output: {}\".format(mat))\n",
    "\n",
    "calculate2()"
   ]
  },
  {
   "cell_type": "markdown",
   "id": "9844c582",
   "metadata": {},
   "source": [
    "### 3.Write a program that accepts a comma separated sequence of words as input and prints the words in a comma-separated sequence after sorting them alphabetically ?\n",
    "\n",
    "Suppose the following input is supplied to the program: ```without,hello,bag,world```\n",
    "\n",
    "Then, the output should be: ```bag,hello,without,world```\n"
   ]
  },
  {
   "cell_type": "code",
   "execution_count": 32,
   "id": "87f047db",
   "metadata": {},
   "outputs": [
    {
     "name": "stdout",
     "output_type": "stream",
     "text": [
      "Enter comma separated sequence of words: without,hello,bag,world\n",
      "Output: bag,hello,without,world\n"
     ]
    }
   ],
   "source": [
    "def calculate3():\n",
    "    D=list(map(str,input(\"Enter comma separated sequence of words: \").split(',')))\n",
    "    output=\",\".join(sorted(D))\n",
    "    print(f'Output: {output}')\n",
    "calculate3()"
   ]
  },
  {
   "cell_type": "markdown",
   "id": "4f93abbb",
   "metadata": {},
   "source": [
    "### 4.Write a program that accepts a sequence of whitespace separated words as input and prints the words after removing all duplicate words and sorting them alphanumerically.\n",
    "Suppose the following input is supplied to the program:\n",
    "```hello world and practice makes perfect and hello world again```\n",
    "\n",
    "Then, the output should be: ```again and hello makes perfect practice world```"
   ]
  },
  {
   "cell_type": "code",
   "execution_count": 35,
   "id": "f0dd435b",
   "metadata": {},
   "outputs": [
    {
     "name": "stdout",
     "output_type": "stream",
     "text": [
      "Enter sequence of whitespace separated words: hello world and practice makes perfect and hello world again\n",
      "Output: again and hello makes perfect practice world\n"
     ]
    }
   ],
   "source": [
    "def calculate4():\n",
    "    D=list(map(str,input(\"Enter sequence of whitespace separated words: \").split()))\n",
    "    output=\" \".join(sorted(set(D)))\n",
    "    print(f'Output: {output}')\n",
    "calculate4()"
   ]
  },
  {
   "cell_type": "markdown",
   "id": "27d9246d",
   "metadata": {},
   "source": [
    "### 5.Write a program that accepts a sentence and calculate the number of letters and digits.\n",
    "\n",
    "Suppose the following input is supplied to the program: ```hello world! 123```\n",
    "\n",
    "Then, the output should be:\n",
    "```LETTERS 10\n",
    "DIGITS 3```"
   ]
  },
  {
   "cell_type": "code",
   "execution_count": 41,
   "id": "923f3fd4",
   "metadata": {},
   "outputs": [
    {
     "name": "stdout",
     "output_type": "stream",
     "text": [
      "Enter the sentencehello world! 123\n",
      "LETTERS =  10\n",
      "DIGITS =  3\n"
     ]
    }
   ],
   "source": [
    "words=input(\"Enter the sentence\")\n",
    "letters=0\n",
    "digits=0\n",
    "for i in words:\n",
    "    if(ord(i.lower())>=ord('a') and ord(i.lower())<=ord('z')):\n",
    "        letters+=1\n",
    "    elif(ord(i)>=ord('0') and ord(i)<=ord('9')):\n",
    "        digits+=1\n",
    "print('LETTERS = ',letters)\n",
    "print('DIGITS = ',digits)"
   ]
  },
  {
   "cell_type": "markdown",
   "id": "e93fde4d",
   "metadata": {},
   "source": [
    "### 6.A website requires the users to input username and password to register. Write a program to check the validity of password input by users.\n",
    "Following are the criteria for checking the password:\n",
    "\n",
    "- At least 1 letter between [a-z]\n",
    "- At least 1 number between [0-9]\n",
    "- At least 1 letter between [A-Z]\n",
    "- At least 1 character from [$#@]\n",
    "- Minimum length of transaction password: 6\n",
    "- Maximum length of transaction password: 12\n",
    "\n",
    "Your program should accept a sequence of comma separated passwords and will check them according to the above criteria. Passwords that match the criteria are to be printed, each separated by a comma.\n",
    "\n",
    "Example:\n",
    "\n",
    "If the following passwords are given as input to the program: ```ABd1234@1,a F1#,2w3E*,2We3345```\n",
    "\n",
    "Then, the output of the program should be:```ABd1234@1```"
   ]
  },
  {
   "cell_type": "code",
   "execution_count": 45,
   "id": "e0abac4f",
   "metadata": {},
   "outputs": [
    {
     "name": "stdout",
     "output_type": "stream",
     "text": [
      "Enter comma seperated passwords: ABd1234@1,a F1#,2w3E*,2We3345\n",
      "Valid passwords are = ABd1234@1\n"
     ]
    }
   ],
   "source": [
    "def smallcase(password):\n",
    "    for i in password:\n",
    "        if ord(i)>=ord('a') and ord(i)<=ord('z'):\n",
    "            return True\n",
    "    return False\n",
    "def uppercase(password):\n",
    "    for i in password:\n",
    "        if ord(i)>=ord('A') and ord(i)<=ord('Z'):\n",
    "            return True\n",
    "    return False\n",
    "def digit(password):\n",
    "    for i in password:\n",
    "        if ord(i)>=ord('0') and ord(i)<=ord('9'):\n",
    "            return True\n",
    "    return False\n",
    "def specialchar(password):\n",
    "    special = \"$#@\"\n",
    "    for i in password:\n",
    "        if i in special:\n",
    "            return True\n",
    "    return False\n",
    "    \n",
    "passwords = list(set(input(\"Enter comma seperated passwords: \").split(',')))\n",
    "valid_passwords = []\n",
    "for password in passwords:\n",
    "    if len(password)>=6 and len(password)<=12:\n",
    "        if smallcase(password) and uppercase(password) and digit(password) and specialchar(password):\n",
    "            valid_passwords.append(password)\n",
    "print(f\"Valid passwords are = {','.join(valid_passwords)}\")"
   ]
  }
 ],
 "metadata": {
  "kernelspec": {
   "display_name": "Python 3 (ipykernel)",
   "language": "python",
   "name": "python3"
  },
  "language_info": {
   "codemirror_mode": {
    "name": "ipython",
    "version": 3
   },
   "file_extension": ".py",
   "mimetype": "text/x-python",
   "name": "python",
   "nbconvert_exporter": "python",
   "pygments_lexer": "ipython3",
   "version": "3.9.7"
  }
 },
 "nbformat": 4,
 "nbformat_minor": 5
}
