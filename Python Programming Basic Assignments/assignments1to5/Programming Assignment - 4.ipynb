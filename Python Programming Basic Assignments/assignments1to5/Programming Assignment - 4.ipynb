{
 "cells": [
  {
   "cell_type": "markdown",
   "id": "00d9682a",
   "metadata": {},
   "source": [
    "### Name: Veeragani Uday Sandeep\n",
    "### Email: udaysandeep.v9@gmail.com\n",
    "### Programming Assignment - 4"
   ]
  },
  {
   "cell_type": "markdown",
   "id": "27625e59",
   "metadata": {},
   "source": [
    "### 1. Write a Python Program to Find the Factorial of a Number?"
   ]
  },
  {
   "cell_type": "code",
   "execution_count": 3,
   "id": "e2a2c540",
   "metadata": {},
   "outputs": [
    {
     "name": "stdout",
     "output_type": "stream",
     "text": [
      "Enter a number = 7\n",
      "Factorial of 7 is = 5040\n"
     ]
    }
   ],
   "source": [
    "n=int(input(\"Enter a number = \"))\n",
    "\n",
    "def factorial(n):\n",
    "    i=1\n",
    "    if n==0 or n==1:\n",
    "        return 1\n",
    "    else:\n",
    "        return n*factorial(n-1)\n",
    "print(f\"Factorial of {n} is = {factorial(n)}\")\n"
   ]
  },
  {
   "cell_type": "markdown",
   "id": "e2af0e6e",
   "metadata": {},
   "source": [
    "### 2. Write a Python Program to Display the multiplication Table?"
   ]
  },
  {
   "cell_type": "code",
   "execution_count": 5,
   "id": "1bc4f9db",
   "metadata": {},
   "outputs": [
    {
     "name": "stdout",
     "output_type": "stream",
     "text": [
      "Enter a number: 9\n",
      "Enter no of entries: 10\n",
      "9 X 1 = 9\n",
      "9 X 2 = 18\n",
      "9 X 3 = 27\n",
      "9 X 4 = 36\n",
      "9 X 5 = 45\n",
      "9 X 6 = 54\n",
      "9 X 7 = 63\n",
      "9 X 8 = 72\n",
      "9 X 9 = 81\n",
      "9 X 10 = 90\n"
     ]
    }
   ],
   "source": [
    "def table(num,values):\n",
    "    for x in range(1,values+1):\n",
    "        print(f'{num} X {x} = {num*x}')\n",
    "\n",
    "num = int(input('Enter a number: '))\n",
    "values = int(input('Enter no of entries: '))\n",
    "table(num,values)"
   ]
  },
  {
   "cell_type": "markdown",
   "id": "2ac0add9",
   "metadata": {},
   "source": [
    "### 3. Write a Python Program to Print the Fibonacci sequence?"
   ]
  },
  {
   "cell_type": "code",
   "execution_count": 8,
   "id": "31578f40",
   "metadata": {},
   "outputs": [
    {
     "name": "stdout",
     "output_type": "stream",
     "text": [
      "Enter the no of fibonacci sequences you want? 8\n",
      "The First 8 fibonacci series are:  [0, 1, 1, 2, 3, 5, 8, 13]\n"
     ]
    }
   ],
   "source": [
    "s = int(input('Enter the no of fibonacci sequences you want? '))\n",
    "l=[0,1]\n",
    "if s < 0:\n",
    "    print('Fibonacci Numbers are not available for Negative Numbers')\n",
    "elif s <= 2 and s_count >= 0:\n",
    "    print(l)\n",
    "else:\n",
    "    for i in range(s):\n",
    "        if i >= 2:\n",
    "            l.append(l[i-1]+l[i-2])\n",
    "    print(f'The First {s} fibonacci series are: ',l)"
   ]
  },
  {
   "cell_type": "markdown",
   "id": "e022dd8e",
   "metadata": {},
   "source": [
    "### 4. Write a Python Program to Check Armstrong Number?"
   ]
  },
  {
   "cell_type": "code",
   "execution_count": 5,
   "id": "f85b8d9f",
   "metadata": {},
   "outputs": [
    {
     "name": "stdout",
     "output_type": "stream",
     "text": [
      "Enter a number = 153\n",
      "153 is an Armstrong number\n"
     ]
    }
   ],
   "source": [
    "n=int(input(\"Enter a number = \"))\n",
    "s=0\n",
    "num=n\n",
    "while n>0:\n",
    "    k=n%10\n",
    "    s=s+k**3\n",
    "    n=n//10\n",
    "if(num==s):\n",
    "    print(f\"{num} is an Armstrong number\")\n",
    "else:\n",
    "    print(f\"{num} is not an Armstrong number\")"
   ]
  },
  {
   "cell_type": "markdown",
   "id": "40480452",
   "metadata": {},
   "source": [
    "### 5. Write a Python Program to Find Armstrong Number in an Interval?"
   ]
  },
  {
   "cell_type": "code",
   "execution_count": 9,
   "id": "09581560",
   "metadata": {},
   "outputs": [
    {
     "name": "stdout",
     "output_type": "stream",
     "text": [
      "Enter the Start of the Interval: 1\n",
      "Enter the End of the Interval: 10000\n",
      "List of Armstrong numbers in the interval 1 - 10000 are :  [1, 153, 370, 371, 407]\n"
     ]
    }
   ],
   "source": [
    "def armstrong(n):\n",
    "    s=0\n",
    "    num=n\n",
    "    while n>0:\n",
    "        k=n%10\n",
    "        s=s+k**3\n",
    "        n=n//10\n",
    "    if(num==s):\n",
    "        return True\n",
    "    else:\n",
    "        return False\n",
    "start_interval = int(input('Enter the Start of the Interval: '))\n",
    "end_interval = int(input('Enter the End of the Interval: '))\n",
    "list_of_armstrong = []\n",
    "if start_interval > end_interval:\n",
    "    print(\"Start Interval Cannot be Greater than End Interval\")\n",
    "else:\n",
    "    for i in range(start_interval,end_interval+1):\n",
    "        if armstrong(i):\n",
    "            list_of_armstrong.append(i)\n",
    "print(f\"List of Armstrong numbers in the interval {start_interval} - {end_interval} are : \",list_of_armstrong)\n",
    "        \n",
    "    "
   ]
  },
  {
   "cell_type": "markdown",
   "id": "a19b8612",
   "metadata": {},
   "source": [
    "### 6. Write a Python Program to Find the Sum of Natural Numbers?"
   ]
  },
  {
   "cell_type": "code",
   "execution_count": 15,
   "id": "b1cdacea",
   "metadata": {},
   "outputs": [
    {
     "name": "stdout",
     "output_type": "stream",
     "text": [
      "Enter a number: 10\n",
      "Sum of 10 natural numbers is 55\n"
     ]
    }
   ],
   "source": [
    "def sumOfNaturalNumbers(num):\n",
    "    sum = (num*(num+1))//2\n",
    "    print(f'Sum of {num} natural numbers is {sum}')\n",
    "    \n",
    "num = int(input('Enter a number: '))\n",
    "sumOfNaturalNumbers(num)"
   ]
  },
  {
   "cell_type": "code",
   "execution_count": null,
   "id": "c087a44a",
   "metadata": {},
   "outputs": [],
   "source": []
  }
 ],
 "metadata": {
  "kernelspec": {
   "display_name": "Python 3 (ipykernel)",
   "language": "python",
   "name": "python3"
  },
  "language_info": {
   "codemirror_mode": {
    "name": "ipython",
    "version": 3
   },
   "file_extension": ".py",
   "mimetype": "text/x-python",
   "name": "python",
   "nbconvert_exporter": "python",
   "pygments_lexer": "ipython3",
   "version": "3.9.7"
  }
 },
 "nbformat": 4,
 "nbformat_minor": 5
}
