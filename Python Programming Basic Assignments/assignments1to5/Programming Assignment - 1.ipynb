{
 "cells": [
  {
   "cell_type": "markdown",
   "id": "f9816d45",
   "metadata": {},
   "source": [
    "### Name: Veeragani Uday Sandeep\n",
    "### Email: udaysandeep.v9@gmail.com\n",
    "### Programming Assignment - 1"
   ]
  },
  {
   "cell_type": "markdown",
   "id": "e9045ce8",
   "metadata": {},
   "source": [
    "### 1. Write a Python program to print &quot;Hello Python&quot;?"
   ]
  },
  {
   "cell_type": "code",
   "execution_count": 1,
   "id": "342ae869",
   "metadata": {},
   "outputs": [
    {
     "name": "stdout",
     "output_type": "stream",
     "text": [
      "Hello Python\n"
     ]
    }
   ],
   "source": [
    "print(\"Hello Python\")"
   ]
  },
  {
   "cell_type": "markdown",
   "id": "96265c3c",
   "metadata": {},
   "source": [
    "### 2. Write a Python program to do arithmetical operations addition and division.?"
   ]
  },
  {
   "cell_type": "code",
   "execution_count": 1,
   "id": "154ff975",
   "metadata": {},
   "outputs": [
    {
     "name": "stdout",
     "output_type": "stream",
     "text": [
      "Enter your input number = 12\n",
      "Enter your input number = 3\n",
      "Addition of 12 and 3 is = 15\n",
      "Division of 12 and 3 is = 4.0\n"
     ]
    }
   ],
   "source": [
    "a=int(input(\"Enter your input number = \"))\n",
    "b=int(input(\"Enter your input number = \"))\n",
    "\n",
    "# Addition\n",
    "print(f\"Addition of {a} and {b} is = {a+b}\")\n",
    "\n",
    "#Division\n",
    "print(f\"Division of {a} and {b} is = {a/b}\")"
   ]
  },
  {
   "cell_type": "markdown",
   "id": "359cb199",
   "metadata": {},
   "source": [
    "### 3. Write a Python program to find the area of a triangle?"
   ]
  },
  {
   "cell_type": "code",
   "execution_count": 2,
   "id": "6cdbec4c",
   "metadata": {},
   "outputs": [
    {
     "name": "stdout",
     "output_type": "stream",
     "text": [
      "Enter height of triangle: 100\n",
      "Enter base of triangle: 45\n",
      "Area of triangle with height 100 and base 45 is = 2250.0\n"
     ]
    }
   ],
   "source": [
    "height = int(input('Enter height of triangle: '))\n",
    "base = int(input('Enter base of triangle: '))\n",
    "\n",
    "area=0.5*height*base\n",
    "print(f\"Area of triangle with height {height} and base {base} is = {area}\")"
   ]
  },
  {
   "cell_type": "markdown",
   "id": "03cd7eb1",
   "metadata": {},
   "source": [
    "### 4. Write a Python program to swap two variables?"
   ]
  },
  {
   "cell_type": "code",
   "execution_count": 5,
   "id": "538fb742",
   "metadata": {},
   "outputs": [
    {
     "name": "stdout",
     "output_type": "stream",
     "text": [
      "Enter first value = 12\n",
      "Enter second value = 13\n",
      "Before Swapping\n",
      "n1 = 12 and n2 = 13\n",
      "------------------------------------------------------------------\n",
      "After Swapping\n",
      "n1 = 13 and n2 = 12\n"
     ]
    }
   ],
   "source": [
    "n1=int(input('Enter first value = '))\n",
    "n2=int(input('Enter second value = '))\n",
    "print(\"Before Swapping\")\n",
    "print(f\"n1 = {n1} and n2 = {n2}\")\n",
    "temp=n1\n",
    "n1=n2\n",
    "n2=temp\n",
    "print(\"------------------------------------------------------------------\")\n",
    "print(\"After Swapping\")\n",
    "print(f\"n1 = {n1} and n2 = {n2}\")"
   ]
  },
  {
   "cell_type": "code",
   "execution_count": 9,
   "id": "431dbb7c",
   "metadata": {},
   "outputs": [
    {
     "name": "stdout",
     "output_type": "stream",
     "text": [
      "Enter first value = 12\n",
      "Enter second value = 13\n",
      "Before Swapping\n",
      "n1 = 12 and n2 = 13\n",
      "------------------------------------------------------------------\n",
      "After Swapping\n",
      "n1 = 13 and n2 = 12\n"
     ]
    }
   ],
   "source": [
    "#Another Approach\n",
    "\n",
    "n1=int(input('Enter first value = '))\n",
    "n2=int(input('Enter second value = '))\n",
    "print(\"Before Swapping\")\n",
    "print(f\"n1 = {n1} and n2 = {n2}\")\n",
    "n1,n2=n2,n1\n",
    "print(\"------------------------------------------------------------------\")\n",
    "print(\"After Swapping\")\n",
    "print(f\"n1 = {n1} and n2 = {n2}\")"
   ]
  },
  {
   "cell_type": "markdown",
   "id": "9dfd41bb",
   "metadata": {},
   "source": [
    "### 5. Write a Python program to generate a random number?"
   ]
  },
  {
   "cell_type": "code",
   "execution_count": 11,
   "id": "c9a5e078",
   "metadata": {},
   "outputs": [
    {
     "name": "stdout",
     "output_type": "stream",
     "text": [
      "Generated Random number ->  670\n",
      "Generated Random number ->  81\n"
     ]
    }
   ],
   "source": [
    "from random import randint\n",
    "def generateRandomNumber(start=0, end=1000):\n",
    "    print('Generated Random number -> ',randint(start,end))\n",
    "\n",
    "\n",
    "generateRandomNumber()\n",
    "  \n",
    "generateRandomNumber(0,100)"
   ]
  }
 ],
 "metadata": {
  "kernelspec": {
   "display_name": "Python 3 (ipykernel)",
   "language": "python",
   "name": "python3"
  },
  "language_info": {
   "codemirror_mode": {
    "name": "ipython",
    "version": 3
   },
   "file_extension": ".py",
   "mimetype": "text/x-python",
   "name": "python",
   "nbconvert_exporter": "python",
   "pygments_lexer": "ipython3",
   "version": "3.9.7"
  }
 },
 "nbformat": 4,
 "nbformat_minor": 5
}
