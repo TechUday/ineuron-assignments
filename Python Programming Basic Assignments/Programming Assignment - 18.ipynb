{
 "cells": [
  {
   "cell_type": "markdown",
   "id": "fbea02ad",
   "metadata": {},
   "source": [
    "### Name: Veeragani Uday Sandeep\n",
    "### Email: udaysandeep.v9@gmail.com\n",
    "### Assignment - 18"
   ]
  },
  {
   "cell_type": "markdown",
   "id": "028e173e",
   "metadata": {},
   "source": [
    "### 1.Create a function that takes a list of non-negative integers and strings and return a new list without the strings ?\n",
    "Examples:\n",
    "```filter_list([1, 2, \"a\", \"b\"]) ➞ [1, 2]\n",
    "filter_list([1, \"a\", \"b\", 0, 15]) ➞ [1, 0, 15]\n",
    "filter_list([1, 2, \"aasf\", \"1\", \"123\", 123]) ➞ [1, 2, 123]```"
   ]
  },
  {
   "cell_type": "code",
   "execution_count": 6,
   "id": "c5366ee0",
   "metadata": {},
   "outputs": [
    {
     "name": "stdout",
     "output_type": "stream",
     "text": [
      "filter_list([1, 2, 'a', 'b']) ➞ [1, 2]\n",
      "\n",
      "filter_list([1, 'a', 'b', 0, 15]) ➞ [1, 0, 15]\n",
      "\n",
      "filter_list([1, 2, 'aasf', '1', '123', 123]) ➞ [1, 2, 123]\n",
      "\n",
      "filter_list([11, 22, 'ineuron', 'fsds', 33]) ➞ [11, 22, 33]\n"
     ]
    }
   ],
   "source": [
    "def filter_list(lis):\n",
    "    return [i for i in lis if type(i) is int]\n",
    "\n",
    "print(f\"filter_list([1, 2, 'a', 'b']) ➞ {filter_list([1, 2, 'a', 'b'])}\\n\")\n",
    "print(f\"filter_list([1, 'a', 'b', 0, 15]) ➞ {filter_list([1, 'a', 'b', 0, 15])}\\n\")\n",
    "print(f\"filter_list([1, 2, 'aasf', '1', '123', 123]) ➞ {filter_list([1, 2, 'aasf', '1', '123', 123])}\\n\")\n",
    "print(f\"filter_list([11, 22, 'ineuron', 'fsds', 33]) ➞ {filter_list([11, 22, 'ineuron', 'fsds', 33])}\")"
   ]
  },
  {
   "cell_type": "markdown",
   "id": "a422ecd9",
   "metadata": {},
   "source": [
    "### 2. The \"Reverser\" takes a string as input and returns that string in reverse order, with the opposite case ?\n",
    "Examples:\n",
    "```reverse(\"Hello World\") ➞ \"DLROw OLLEh\"\n",
    "reverse(\"ReVeRsE\") ➞ \"eSrEvEr\"\n",
    "reverse(\"Radar\") ➞ \"RADAr\"```"
   ]
  },
  {
   "cell_type": "code",
   "execution_count": 9,
   "id": "6d45500c",
   "metadata": {},
   "outputs": [
    {
     "name": "stdout",
     "output_type": "stream",
     "text": [
      "reverse(\"Hello World\") ➞ \"DLROw OLLEh\"\n",
      "\n",
      "reverse(\"ReVeRsE\") ➞ \"eSrEvEr\"\n",
      "\n",
      "reverse(\"Radar\") ➞ \"RADAr\"\n",
      "\n",
      "reverse(\"IneuRoN\") ➞ \"nOrUENi\"\n",
      "\n"
     ]
    }
   ],
   "source": [
    "def reverse(string):\n",
    "    print(f'reverse(\"{string}\") ➞ \"{string[::-1].swapcase()}\"\\n')\n",
    "reverse('Hello World')\n",
    "reverse(\"ReVeRsE\")\n",
    "reverse(\"Radar\")\n",
    "reverse(\"IneuRoN\")"
   ]
  },
  {
   "cell_type": "markdown",
   "id": "98a38983",
   "metadata": {},
   "source": [
    "### 3.You can assign variables from lists like this:\n",
    "\n",
    "```lst = [1, 2, 3, 4, 5, 6]\n",
    "first = lst[0]\n",
    "middle = lst[1:-1]\n",
    "last = lst[-1]\n",
    "print(first) ➞ outputs 1\n",
    "print(middle) ➞ outputs [2, 3, 4, 5]\n",
    "print(last) ➞ outputs 6```\n",
    "\n",
    "With Python 3, you can assign variables from lists in a much more succinct way. Create variables first, middle and last from the given list using destructuring assignment\n",
    "(check the Resources tab for some examples), where:\n",
    "```first ➞ 1\n",
    "middle ➞ [2, 3, 4, 5]\n",
    "last ➞ 6```\n",
    "\n",
    "Your task is to unpack the list writeyourcodehere into three variables, being first, middle, and last, with middle being everything in between the first and last element. Then print all three variables."
   ]
  },
  {
   "cell_type": "markdown",
   "id": "24c3818a",
   "metadata": {},
   "source": [
    "##### Method-1"
   ]
  },
  {
   "cell_type": "code",
   "execution_count": 11,
   "id": "067e8114",
   "metadata": {},
   "outputs": [
    {
     "name": "stdout",
     "output_type": "stream",
     "text": [
      "Enter value to list = 1 2 3 4 5 6\n",
      "first ➞ 1\n",
      "middle ➞ [2, 3, 4, 5]\n",
      "last ➞ 6\n"
     ]
    }
   ],
   "source": [
    "lis=list(map(int,input(\"Enter value to list = \").split()))\n",
    "first,middle,last=lis[0],lis[1:-1],lis[-1]\n",
    "print(f'first ➞ {first}')\n",
    "print(f'middle ➞ {middle}')\n",
    "print(f'last ➞ {last}')"
   ]
  },
  {
   "cell_type": "markdown",
   "id": "7355a67c",
   "metadata": {},
   "source": [
    "##### Method -2"
   ]
  },
  {
   "cell_type": "code",
   "execution_count": 12,
   "id": "15fa097b",
   "metadata": {},
   "outputs": [
    {
     "name": "stdout",
     "output_type": "stream",
     "text": [
      "Enter value to list = 1 2 3 4 5 6\n",
      "first ➞ 1\n",
      "middle ➞ [2, 3, 4, 5]\n",
      "last ➞ 6\n"
     ]
    }
   ],
   "source": [
    "lis=list(map(int,input(\"Enter value to list = \").split()))\n",
    "first,*middle,last=lis\n",
    "print(f'first ➞ {first}')\n",
    "print(f'middle ➞ {middle}')\n",
    "print(f'last ➞ {last}')"
   ]
  },
  {
   "cell_type": "markdown",
   "id": "7b2af82e",
   "metadata": {},
   "source": [
    "### 4.Write a function that calculates the factorial of a number recursively.\n",
    "Examples:\n",
    "```factorial(5) ➞ 120\n",
    "factorial(3) ➞ 6\n",
    "factorial(1) ➞ 1\n",
    "factorial(0) ➞ 1```"
   ]
  },
  {
   "cell_type": "code",
   "execution_count": 13,
   "id": "534dd70a",
   "metadata": {},
   "outputs": [
    {
     "name": "stdout",
     "output_type": "stream",
     "text": [
      "factorial(5) ➞ 120\n",
      "factorial(3) ➞ 6\n",
      "factorial(1) ➞ 1\n",
      "factorial(0) ➞ 1\n",
      "factorial(7) ➞ 5040\n"
     ]
    }
   ],
   "source": [
    "def factorial(n):\n",
    "    if n==0 or n==1:\n",
    "        return 1\n",
    "    else:\n",
    "        return n*factorial(n-1)\n",
    "\n",
    "print(f'factorial(5) ➞ {factorial(5)}')\n",
    "print(f'factorial(3) ➞ {factorial(3)}')\n",
    "print(f'factorial(1) ➞ {factorial(1)}')\n",
    "print(f'factorial(0) ➞ {factorial(0)}')\n",
    "print(f'factorial(7) ➞ {factorial(7)}')"
   ]
  },
  {
   "cell_type": "markdown",
   "id": "5b067217",
   "metadata": {},
   "source": [
    "### 5.Write a function that moves all elements of one type to the end of the list.\n",
    "Examples:\n",
    "```move_to_end([1, 3, 2, 4, 4, 1], 1) ➞ [3, 2, 4, 4, 1, 1]```\n",
    "\n",
    "Move all the 1s to the end of the array.\n",
    "\n",
    "```move_to_end([7, 8, 9, 1, 2, 3, 4], 9) ➞ [7, 8, 1, 2, 3, 4, 9]\n",
    "move_to_end([\"a\", \"a\", \"a\", \"b\"], \"a\") ➞ [\"b\", \"a\", \"a\", \"a\"]```"
   ]
  },
  {
   "cell_type": "code",
   "execution_count": 26,
   "id": "3841a15a",
   "metadata": {},
   "outputs": [
    {
     "name": "stdout",
     "output_type": "stream",
     "text": [
      "move_to_end([1, 3, 2, 4, 4, 1], 1) ➞ [3, 2, 4, 4, 1, 1]\n",
      "\n",
      "move_to_end([7, 8, 9, 1, 2, 3, 4], 9) ➞ [7, 8, 1, 2, 3, 4, 9]\n",
      "\n",
      "move_to_end(['a', 'a', 'a', 'b'], a) ➞ ['b', 'a', 'a', 'a']\n",
      "\n",
      "move_to_end([1, 2, 3, 1, 4, 5, 1, 7, 8, 9], 1) ➞ [2, 3, 4, 5, 7, 8, 9, 1, 1, 1]\n",
      "\n"
     ]
    }
   ],
   "source": [
    "def move_to_end(lis,val):\n",
    "    final_list=[]\n",
    "    c=0\n",
    "    for i in lis:\n",
    "        if i==val:\n",
    "            c+=1\n",
    "        else:\n",
    "            final_list.append(i)\n",
    "    final_list.extend([val]*c)\n",
    "    print(f'move_to_end({lis}, {val}) ➞ {final_list}\\n')\n",
    "move_to_end([1, 3, 2, 4, 4, 1], 1)\n",
    "move_to_end([7, 8, 9, 1, 2, 3, 4], 9)\n",
    "move_to_end([\"a\", \"a\", \"a\", \"b\"], \"a\")\n",
    "move_to_end([1,2,3,1,4,5,1,7,8,9], 1)"
   ]
  }
 ],
 "metadata": {
  "kernelspec": {
   "display_name": "Python 3 (ipykernel)",
   "language": "python",
   "name": "python3"
  },
  "language_info": {
   "codemirror_mode": {
    "name": "ipython",
    "version": 3
   },
   "file_extension": ".py",
   "mimetype": "text/x-python",
   "name": "python",
   "nbconvert_exporter": "python",
   "pygments_lexer": "ipython3",
   "version": "3.9.7"
  }
 },
 "nbformat": 4,
 "nbformat_minor": 5
}
