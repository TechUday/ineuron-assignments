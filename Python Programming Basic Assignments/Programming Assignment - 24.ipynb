{
 "cells": [
  {
   "cell_type": "markdown",
   "id": "75af1674",
   "metadata": {},
   "source": [
    "### Name: Veeragani Uday Sandeep\n",
    "### Email: udayandeep.v9@gmail.com\n",
    "### Assignment - 24"
   ]
  },
  {
   "cell_type": "markdown",
   "id": "510e11da",
   "metadata": {},
   "source": [
    "### 1.Create a function that takes an integer and returns a list from 1 to the given number, where:\n",
    "1.If the number can be divided evenly by 4, amplify it by 10 (i.e. return 10 times the number).\n",
    "\n",
    "2.If the number cannot be divided evenly by 4, simply return the number.\n",
    "\n",
    "Examples:\n",
    "\n",
    "amplify(4) ➞ [1, 2, 3, 40]\n",
    "\n",
    "amplify(3) ➞ [1, 2, 3]\n",
    "\n",
    "amplify(25) ➞ [1, 2, 3, 40, 5, 6, 7, 80, 9, 10, 11, 120, 13, 14, 15, 160, 17, 18, 19, 200, 21, 22, 23, 240, 25]\n",
    "\n",
    "Notes:\n",
    "\n",
    "1.The given integer will always be equal to or greater than 1.\n",
    "\n",
    "2.Include the number (see example above).\n",
    "\n",
    "3.To perform this problem with its intended purpose, try doing it with list comprehensions. If that&#39;s too difficult, just solve the challenge any way you can."
   ]
  },
  {
   "cell_type": "code",
   "execution_count": 12,
   "id": "43805fc8",
   "metadata": {},
   "outputs": [
    {
     "name": "stdout",
     "output_type": "stream",
     "text": [
      "amplify(4) ➞ [1, 2, 3, 40]\n",
      "\n",
      "amplify(3) ➞ [1, 2, 3]\n",
      "\n",
      "amplify(25) ➞ [1, 2, 3, 40, 5, 6, 7, 80, 9, 10, 11, 120, 13, 14, 15, 160, 17, 18, 19, 200, 21, 22, 23, 240, 25]\n",
      "\n"
     ]
    }
   ],
   "source": [
    "def amplify(num):\n",
    "    return [i*10 if i%4==0 else i for i in range(1,num+1)]\n",
    "\n",
    "print(f'amplify(4) ➞ {amplify(4)}\\n')\n",
    "print(f'amplify(3) ➞ {amplify(3)}\\n')\n",
    "print(f'amplify(25) ➞ {amplify(25)}\\n')"
   ]
  },
  {
   "cell_type": "markdown",
   "id": "80ceb697",
   "metadata": {},
   "source": [
    "### 2.Create a function that takes a list of numbers and return the number that's unique.\n",
    "Examples:\n",
    "\n",
    "unique([3, 3, 3, 7, 3, 3]) ➞ 7\n",
    "\n",
    "unique([0, 0, 0.77, 0, 0]) ➞ 0.77\n",
    "\n",
    "unique([0, 1, 1, 1, 1, 1, 1, 1]) ➞ 0\n",
    "\n",
    "Notes:\n",
    "\n",
    "Test cases will always have exactly one unique number while all others are the same."
   ]
  },
  {
   "cell_type": "code",
   "execution_count": 16,
   "id": "7110cbfa",
   "metadata": {},
   "outputs": [
    {
     "name": "stdout",
     "output_type": "stream",
     "text": [
      "unique([3, 3, 3, 7, 3, 3]) ➞ 7\n",
      "\n",
      "unique([0, 0, 0.77, 0, 0]) ➞ 0.77\n",
      "\n",
      "unique([0, 1, 1, 1, 1, 1, 1, 1]) ➞ 0\n",
      "\n"
     ]
    }
   ],
   "source": [
    "def unique(lst):\n",
    "    out=[]\n",
    "    for i in list(set(lst)):\n",
    "        if lst.count(i)==1:\n",
    "            out.append(i)\n",
    "    return out[0]\n",
    "\n",
    "print(f'unique([3, 3, 3, 7, 3, 3]) ➞ {unique([3, 3, 3, 7, 3, 3])}\\n')\n",
    "print(f'unique([0, 0, 0.77, 0, 0]) ➞ {unique([0, 0, 0.77, 0, 0])}\\n')\n",
    "print(f'unique([0, 1, 1, 1, 1, 1, 1, 1]) ➞ {unique([0, 1, 1, 1, 1, 1, 1, 1])}\\n')"
   ]
  },
  {
   "cell_type": "markdown",
   "id": "bbb14d81",
   "metadata": {},
   "source": [
    "### 3.Your task is to create a Circle constructor that creates a circle with a radius provided by an argument. The circles constructed must have two getters getArea() (PIr^2) and getPerimeter() (2PI*r) which give both respective areas and perimeter (circumference). For help with this class, I have provided you with a Rectangle constructor which you can use as a base example ?\n",
    "Examples:\n",
    "\n",
    "circy = Circle(11)\n",
    "\n",
    "circy.getArea()\n",
    "#Should return 380.132711084365\n",
    "\n",
    "circy = Circle(4.44)\n",
    "\n",
    "circy.getPerimeter()\n",
    "#Should return 27.897342763877365\n",
    "\n",
    "Notes:\n",
    "\n",
    "- Round results up to the nearest integer."
   ]
  },
  {
   "cell_type": "code",
   "execution_count": 23,
   "id": "da05b873",
   "metadata": {},
   "outputs": [
    {
     "name": "stdout",
     "output_type": "stream",
     "text": [
      "Area ➞  380\n",
      "Perimeter ➞   28\n"
     ]
    }
   ],
   "source": [
    "import math\n",
    "class Circle:\n",
    "    def __init__(self,radius):\n",
    "        self.radius=radius\n",
    "    def getArea(self):\n",
    "        area=math.pi*(self.radius**2)\n",
    "        return round(area)\n",
    "    def getPerimeter(self):\n",
    "        perimeter=2*math.pi*self.radius\n",
    "        return round(perimeter)\n",
    "circy = Circle(11)\n",
    "print(\"Area ➞ \",circy.getArea())\n",
    "circy = Circle(4.44)\n",
    "print(\"Perimeter ➞  \",circy.getPerimeter())"
   ]
  },
  {
   "cell_type": "markdown",
   "id": "ea45b7d6",
   "metadata": {},
   "source": [
    "### 4.Create a function that takes a list of strings and return a list, sorted from shortest to longest.\n",
    "Examples:\n",
    "sort_by_length([\"Google\", \"Apple\", \"Microsoft\"])\n",
    "➞ [\"Apple\", \"Google\", \"Microsoft\"]\n",
    "\n",
    "sort_by_length([\"Leonardo\", \"Michelangelo\", \"Raphael\", \"Donatello\"])\n",
    "➞ [\"Raphael\", \"Leonardo\", \"Donatello\", \"Michelangelo\"]\n",
    "\n",
    "sort_by_length([\"Turing\", \"Einstein\", \"Jung\"])\n",
    "➞ [\"Jung\", \"Turing\", \"Einstein\"]\n",
    "\n",
    "Notes:\n",
    "\n",
    "All test cases contain lists with strings of different lengths, so you won&#39;t have to deal with\n",
    "multiple strings of the same length."
   ]
  },
  {
   "cell_type": "code",
   "execution_count": 26,
   "id": "229e37fe",
   "metadata": {},
   "outputs": [
    {
     "name": "stdout",
     "output_type": "stream",
     "text": [
      "sort_by_length([\"Google\", \"Apple\", \"Microsoft\"]) ➞ ['Apple', 'Google', 'Microsoft']\n",
      "\n",
      "sort_by_length([\"Leonardo\", \"Michelangelo\", \"Raphael\", \"Donatello\"])  ➞ ['Raphael', 'Leonardo', 'Donatello', 'Michelangelo']\n",
      "\n",
      "sort_by_length([\"Turing\", \"Einstein\", \"Jung\"]) ➞ ['Jung', 'Turing', 'Einstein']\n",
      "\n"
     ]
    }
   ],
   "source": [
    "def sort_by_length(lst):\n",
    "    return sorted(lst,key=len)\n",
    "\n",
    "print(f'sort_by_length([\"Google\", \"Apple\", \"Microsoft\"]) ➞ {sort_by_length([\"Google\", \"Apple\", \"Microsoft\"])}\\n')\n",
    "print(f'sort_by_length([\"Leonardo\", \"Michelangelo\", \"Raphael\", \"Donatello\"])  ➞ {sort_by_length([\"Leonardo\", \"Michelangelo\", \"Raphael\", \"Donatello\"]) }\\n')\n",
    "print(f'sort_by_length([\"Turing\", \"Einstein\", \"Jung\"]) ➞ {sort_by_length([\"Turing\", \"Einstein\", \"Jung\"])}\\n')\n"
   ]
  },
  {
   "cell_type": "markdown",
   "id": "99740e2d",
   "metadata": {},
   "source": [
    "### 5.Create a function that validates whether three given integers form a Pythagorean triplet. The sum of the squares of the two smallest integers must equal the square of the largest number to be validated.\n",
    "Examples:\n",
    "is_triplet(3, 4, 5) ➞ True # 3² + 4² = 25 # 5² = 25 \n",
    "\n",
    "is_triplet(13, 5, 12) ➞ True # 5² + 12² = 169 # 13² = 169 \n",
    "\n",
    "is_triplet(1, 2, 3) ➞ False # 1² + 2² = 5 # 3² = 9\n",
    "\n",
    "Notes: \n",
    "\n",
    "Numbers may not be given in a sorted order."
   ]
  },
  {
   "cell_type": "code",
   "execution_count": 31,
   "id": "98a2105b",
   "metadata": {},
   "outputs": [
    {
     "name": "stdout",
     "output_type": "stream",
     "text": [
      "is_triplet(3, 4, 5) ➞ True\n",
      "\n",
      "is_triplet(13, 5, 12) ➞ True\n",
      "\n",
      "is_triplet(1, 2, 3) ➞ False\n",
      "\n"
     ]
    }
   ],
   "source": [
    "def is_triplet(a, b, c):\n",
    "    lst=[a,b,c]\n",
    "    lst.sort()\n",
    "    if lst[0]**2+lst[1]**2==lst[2]**2:\n",
    "        return True\n",
    "    else:\n",
    "        return False\n",
    "print(f'is_triplet(3, 4, 5) ➞ {is_triplet(3, 4, 5)}\\n')\n",
    "print(f'is_triplet(13, 5, 12) ➞ {is_triplet(13, 5, 12)}\\n')\n",
    "print(f'is_triplet(1, 2, 3) ➞ {is_triplet(1, 2, 3)}\\n')"
   ]
  }
 ],
 "metadata": {
  "kernelspec": {
   "display_name": "Python 3 (ipykernel)",
   "language": "python",
   "name": "python3"
  },
  "language_info": {
   "codemirror_mode": {
    "name": "ipython",
    "version": 3
   },
   "file_extension": ".py",
   "mimetype": "text/x-python",
   "name": "python",
   "nbconvert_exporter": "python",
   "pygments_lexer": "ipython3",
   "version": "3.9.7"
  }
 },
 "nbformat": 4,
 "nbformat_minor": 5
}
