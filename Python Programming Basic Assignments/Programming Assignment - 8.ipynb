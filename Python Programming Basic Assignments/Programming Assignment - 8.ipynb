{
 "cells": [
  {
   "cell_type": "markdown",
   "id": "9af3be9c",
   "metadata": {},
   "source": [
    "### Name: Veeragani Uday Sandeep\n",
    "### Email: udaysandeep.v9@gmail.com\n",
    "### Assignment - 8"
   ]
  },
  {
   "cell_type": "markdown",
   "id": "31881bb4",
   "metadata": {},
   "source": [
    "### 1. Write a Python Program to Add Two Matrices?"
   ]
  },
  {
   "cell_type": "code",
   "execution_count": 82,
   "id": "50e094aa",
   "metadata": {},
   "outputs": [
    {
     "name": "stdout",
     "output_type": "stream",
     "text": [
      "For First matrix\n",
      "Enter n value to construct nxn matrix = 2\n",
      "Enter 2 values of 1 row :\n",
      "1 2\n",
      "Enter 2 values of 2 row :\n",
      "3 4\n",
      "First matrix :  [[1, 2], [3, 4]]\n",
      "For Second matrix\n",
      "Enter n value to construct nxn matrix = 2\n",
      "Enter 2 values of 1 row :\n",
      "4 5\n",
      "Enter 2 values of 2 row :\n",
      "6 7\n",
      "Second matrix :  [[4, 5], [6, 7]]\n",
      "Output :  [[5, 7], [9, 11]]\n",
      "**************************************************\n",
      "For First matrix\n",
      "Enter n value to construct nxn matrix = 2\n",
      "Enter 2 values of 1 row :\n",
      "1 2\n",
      "Enter 2 values of 2 row :\n",
      "3 4\n",
      "First matrix :  [[1, 2], [3, 4]]\n",
      "For Second matrix\n",
      "Enter n value to construct nxn matrix = 3\n",
      "Enter 3 values of 1 row :\n",
      "1 3\n",
      "Enter 3 values of 2 row :\n",
      "4 5 6\n",
      "Enter 3 values of 3 row :\n",
      "6 7 8\n",
      "Second matrix :  [[1, 3], [4, 5, 6], [6, 7, 8]]\n",
      "Both matrix must contain same no of rows and columns\n"
     ]
    }
   ],
   "source": [
    "def addTwoMatrix(a,b):\n",
    "    if len(a)==len(b):\n",
    "        out_matrix=[]\n",
    "        for ele in range(len(a)):\n",
    "            out_matrix.append([])\n",
    "            for i in range(len(a[ele])):\n",
    "                out_matrix[ele].append(a[ele][i]+b[ele][i])\n",
    "        print(\"Output : \",out_matrix)\n",
    "        \n",
    "    else:\n",
    "        print(\"Both matrix must contain same no of rows and columns\")\n",
    "def matInput():\n",
    "    n=int(input(\"Enter n value to construct nxn matrix = \"))\n",
    "    a=[]\n",
    "    for i in range(n):\n",
    "        print(f\"Enter {n} values of {i+1} row :\")\n",
    "        l=list(map(int,input().split()))\n",
    "        a.append(l)\n",
    "    return a\n",
    "def main1():      \n",
    "    print(\"For First matrix\")\n",
    "    a=matInput()\n",
    "    print(\"First matrix : \",a)\n",
    "    print(\"For Second matrix\")\n",
    "    b=matInput()\n",
    "    print(\"Second matrix : \",b)\n",
    "    addTwoMatrix(a,b)\n",
    "main1()\n",
    "print(\"*\"*50)\n",
    "main1()"
   ]
  },
  {
   "cell_type": "markdown",
   "id": "4019df26",
   "metadata": {},
   "source": [
    "### 2. Write a Python Program to Multiply Two Matrices?"
   ]
  },
  {
   "cell_type": "code",
   "execution_count": 81,
   "id": "2e9fb3ce",
   "metadata": {},
   "outputs": [
    {
     "name": "stdout",
     "output_type": "stream",
     "text": [
      "For First matrix\n",
      "Enter no of rows = 2\n",
      "Enter no of columns = 3\n",
      "Enter 3 values of 1 row :\n",
      "1 2 3\n",
      "Enter 3 values of 2 row :\n",
      "4 5 6\n",
      "First matrix : \n",
      "1 2 3 \n",
      "4 5 6 \n",
      "For Second matrix\n",
      "Enter no of rows = 3\n",
      "Enter no of columns = 2\n",
      "Enter 2 values of 1 row :\n",
      "1 2\n",
      "Enter 2 values of 2 row :\n",
      "3 4\n",
      "Enter 2 values of 3 row :\n",
      "5 6\n",
      "Second matrix : \n",
      "1 2 \n",
      "3 4 \n",
      "5 6 \n",
      "Output\n",
      "22 28 \n",
      "49 64 \n",
      "**************************************************\n",
      "For First matrix\n",
      "Enter no of rows = 2\n",
      "Enter no of columns = 2\n",
      "Enter 2 values of 1 row :\n",
      "1 2\n",
      "Enter 2 values of 2 row :\n",
      "3 4\n",
      "First matrix : \n",
      "1 2 \n",
      "3 4 \n",
      "For Second matrix\n",
      "Enter no of rows = 3\n",
      "Enter no of columns = 1\n",
      "Enter 1 values of 1 row :\n",
      "1\n",
      "Enter 1 values of 2 row :\n",
      "2\n",
      "Enter 1 values of 3 row :\n",
      "3\n",
      "Second matrix : \n",
      "1 \n",
      "2 \n",
      "3 \n",
      "Multiplication of two matrices is not possible\n"
     ]
    }
   ],
   "source": [
    "def printMatrix(M, rowSize, colSize) :\n",
    "\n",
    "    for i in range(rowSize) :\n",
    "        for j in range(colSize) :\n",
    "            print(M[i][j], end = \" \")\n",
    "        print()\n",
    "        \n",
    "def mulTwoMatrix(row1,col1,a,row2,col2,b):\n",
    "    c = [[0 for i in range(row1)]\n",
    "            for j in range(col2)]\n",
    "    if col1==row2:\n",
    "        for i in range(row1) :\n",
    "            for j in range(col2) :\n",
    "                c[i][j] = 0\n",
    "                for k in range(row2) :\n",
    "                    c[i][j] += a[i][k] * b[k][j];\n",
    "        print(\"Output\")\n",
    "        printMatrix(c,row1,col2)\n",
    "    else:\n",
    "        print(\"Multiplication of two matrices is not possible\")\n",
    "def matInput1():\n",
    "    row=int(input(\"Enter no of rows = \"))\n",
    "    col=int(input(\"Enter no of columns = \"))\n",
    "    a=[]\n",
    "    for i in range(row):\n",
    "        print(f\"Enter {col} values of {i+1} row :\")\n",
    "        l=list(map(int,input().split()))\n",
    "        a.append(l)\n",
    "    return row,col,a\n",
    "def main2():      \n",
    "    print(\"For First matrix\")\n",
    "    row1,col1,a=matInput1()\n",
    "    print(\"First matrix : \")\n",
    "    printMatrix(a,row1,col1)\n",
    "    print(\"For Second matrix\")\n",
    "    row2,col2,b=matInput1()\n",
    "    print(\"Second matrix : \")\n",
    "    printMatrix(b,row2,col2)\n",
    "    mulTwoMatrix(row1,col1,a,row2,col2,b)\n",
    "main2()\n",
    "print(\"*\"*50)\n",
    "main2()"
   ]
  },
  {
   "cell_type": "markdown",
   "id": "26beea34",
   "metadata": {},
   "source": [
    "### 3. Write a Python Program to Transpose a Matrix?"
   ]
  },
  {
   "cell_type": "code",
   "execution_count": 89,
   "id": "cf8ca213",
   "metadata": {},
   "outputs": [
    {
     "name": "stdout",
     "output_type": "stream",
     "text": [
      "Enter no of rows = 3\n",
      "Enter no of columns = 2\n",
      "Enter 2 values of 1 row :\n",
      "1 2\n",
      "Enter 2 values of 2 row :\n",
      "3 4\n",
      "Enter 2 values of 3 row :\n",
      "5 6\n",
      "Given Matrix = \n",
      "1 2 \n",
      "3 4 \n",
      "5 6 \n",
      "Transpose of given matrix is\n",
      "1 3 5 \n",
      "2 4 6 \n"
     ]
    }
   ],
   "source": [
    "def printMatrix(M, rowSize, colSize) :\n",
    "\n",
    "    for i in range(rowSize) :\n",
    "        for j in range(colSize) :\n",
    "            print(M[i][j], end = \" \")\n",
    "        print()\n",
    "def matTranspose(a,row,col):\n",
    "    c = [[0 for i in range(row)]\n",
    "            for j in range(col)]\n",
    "    for i in range(row):\n",
    "        for j in range(col):\n",
    "            c[j][i]=a[i][j]\n",
    "    print(\"Transpose of given matrix is\")\n",
    "    printMatrix(c,col,row)\n",
    "    \n",
    "def matInput3():\n",
    "    row=int(input(\"Enter no of rows = \"))\n",
    "    col=int(input(\"Enter no of columns = \"))\n",
    "    a=[]\n",
    "    for i in range(row):\n",
    "        print(f\"Enter {col} values of {i+1} row :\")\n",
    "        l=list(map(int,input().split()))\n",
    "        a.append(l)\n",
    "    return row,col,a\n",
    "row,col,a=matInput3()\n",
    "print(\"Given Matrix = \")\n",
    "printMatrix(a,row,col)\n",
    "matTranspose(a,row,col)"
   ]
  },
  {
   "cell_type": "markdown",
   "id": "1557cc9b",
   "metadata": {},
   "source": [
    "### 4. Write a Python Program to Sort Words in Alphabetic Order?"
   ]
  },
  {
   "cell_type": "code",
   "execution_count": 92,
   "id": "94990cc9",
   "metadata": {},
   "outputs": [
    {
     "name": "stdout",
     "output_type": "stream",
     "text": [
      "Enter a String : Full Stack Data Science BootCamp\n",
      "Sorted order of words in String is : \n",
      "BootCamp Data Full Science Stack\n"
     ]
    }
   ],
   "source": [
    "def sortAlphabetical(s):\n",
    "    s=s.split()\n",
    "    sorted_s=sorted(s)\n",
    "    return \" \".join(sorted_s)\n",
    "string=input(\"Enter a String : \")\n",
    "print(\"Sorted order of words in String is : \")\n",
    "print(sortAlphabetical(string))\n"
   ]
  },
  {
   "cell_type": "markdown",
   "id": "b4cef471",
   "metadata": {},
   "source": [
    "### 5. Write a Python Program to Remove Punctuation From a String?"
   ]
  },
  {
   "cell_type": "code",
   "execution_count": 5,
   "id": "d115165c",
   "metadata": {},
   "outputs": [
    {
     "name": "stdout",
     "output_type": "stream",
     "text": [
      "Enter the string: \"Full Stacks Data Science Bootcamp 2\" @ Ineuron \n",
      "After removing punctuations :\n",
      "  Full Stacks Data Science Bootcamp 2  Ineuron \n"
     ]
    }
   ],
   "source": [
    "punctuations = '''!()-[]{};:'\"\\,<>./?@#$%^&*_~'''\n",
    "\n",
    "string = input(\"Enter the string: \")\n",
    "\n",
    "output = \"\"\n",
    "\n",
    "for char in string:\n",
    "    if char not in punctuations:\n",
    "        output += char\n",
    "        \n",
    "print(\"After removing punctuations :\\n \",output)"
   ]
  }
 ],
 "metadata": {
  "kernelspec": {
   "display_name": "Python 3 (ipykernel)",
   "language": "python",
   "name": "python3"
  },
  "language_info": {
   "codemirror_mode": {
    "name": "ipython",
    "version": 3
   },
   "file_extension": ".py",
   "mimetype": "text/x-python",
   "name": "python",
   "nbconvert_exporter": "python",
   "pygments_lexer": "ipython3",
   "version": "3.9.7"
  }
 },
 "nbformat": 4,
 "nbformat_minor": 5
}
