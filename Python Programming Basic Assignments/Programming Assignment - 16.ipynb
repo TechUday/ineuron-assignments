{
 "cells": [
  {
   "cell_type": "markdown",
   "id": "9c15113b",
   "metadata": {},
   "source": [
    "### Name: Veeragani Uday Sandeep\n",
    "### Email: udaysandeep.v9@gmail.com\n",
    "### Assignment - 16"
   ]
  },
  {
   "cell_type": "markdown",
   "id": "6947a307",
   "metadata": {},
   "source": [
    "### 1.Write a function that stutters a word as if someone is struggling to read it. The first two letters are repeated twice with an ellipsis ... and space after each, and then the word is pronounced with a question mark ?\n",
    "Examples: ```stutter(\"incredible\") -> \"in... in... incredible?\"\n",
    "stutter(\"enthusiastic\") -> \"en... en... enthusiastic?\"\n",
    "stutter(\"outstanding\") -> \"ou... ou... outstanding?\"```\n",
    "\n",
    "Hint :- Assume all input is in lower case and at least two characters long."
   ]
  },
  {
   "cell_type": "code",
   "execution_count": 3,
   "id": "a622e7bf",
   "metadata": {},
   "outputs": [
    {
     "name": "stdout",
     "output_type": "stream",
     "text": [
      "Enter the word = incredible\n",
      "shutter(incredible) --> in... in... incredible\n",
      "Enter the word = enthusiastic\n",
      "shutter(enthusiastic) --> en... en... enthusiastic\n",
      "Enter the word = outstanding\n",
      "shutter(outstanding) --> ou... ou... outstanding\n"
     ]
    }
   ],
   "source": [
    "def shutter():\n",
    "    word=input(\"Enter the word = \")\n",
    "    print(f\"shutter({word}) --> \"+word[:2]+\"... \"+word[:2]+\"... \"+word)\n",
    "for i in range(3):\n",
    "    shutter()"
   ]
  },
  {
   "cell_type": "markdown",
   "id": "9d7bc855",
   "metadata": {},
   "source": [
    "### 2.Create a function that takes an angle in radians and returns the corresponding angle in degrees rounded to one decimal place ?\n",
    "Examples: ```radians_to_degrees(1) -> 57.3\n",
    "radians_to_degrees(20) -> 1145.9\n",
    "radians_to_degrees(50) -> 2864.8```"
   ]
  },
  {
   "cell_type": "code",
   "execution_count": 5,
   "id": "8a5c8137",
   "metadata": {},
   "outputs": [
    {
     "name": "stdout",
     "output_type": "stream",
     "text": [
      "Enter the angle in Radians: 1\n",
      "radians_to_degrees(1) -> 57.3 degrees\n",
      "Enter the angle in Radians: 20\n",
      "radians_to_degrees(20) -> 1145.9 degrees\n",
      "Enter the angle in Radians: 50\n",
      "radians_to_degrees(50) -> 2864.8 degrees\n"
     ]
    }
   ],
   "source": [
    "import math\n",
    "def radians_to_degrees():\n",
    "    radii = int(input('Enter the angle in Radians: '))\n",
    "    degree = (180/math.pi)*radii\n",
    "    print(f'radians_to_degrees({radii}) -> {degree:.1f} degrees')\n",
    "\n",
    "for x in range(3):\n",
    "    radians_to_degrees()"
   ]
  },
  {
   "cell_type": "markdown",
   "id": "3d6f917d",
   "metadata": {},
   "source": [
    "### 3.In this challenge, establish if a given integer num is a Curzon number. If 1 plus 2 elevated to num is exactly divisible by 1 plus 2 multiplied by num, then num is a Curzon number. Given a non-negative integer num, implement a function that returns True if num is a Curzon number, or False otherwise.\n",
    "Examples:\n",
    "\n",
    "is_curzon(5) -> True\n",
    "\n",
    " 2 ** 5 + 1 = 33\n",
    " 2 * 5 + 1 = 11\n",
    " 33 is a multiple of 11\n",
    " \n",
    "is_curzon(10) -> False\n",
    "\n",
    " 2 ** 10 + 1 = 1025\n",
    " 2 * 10 + 1 = 21\n",
    " 1025 is not a multiple of 21\n",
    " \n",
    "is_curzon(14) -> True\n",
    "\n",
    " 2 ** 14 + 1 = 16385\n",
    " 2 * 14 + 1 = 29\n",
    " 16385 is a multiple of 29"
   ]
  },
  {
   "cell_type": "code",
   "execution_count": 9,
   "id": "a62d7f7d",
   "metadata": {},
   "outputs": [
    {
     "name": "stdout",
     "output_type": "stream",
     "text": [
      "Enter number = 5\n",
      "5 is a curzon number\n",
      "Enter number = 10\n",
      "10 is not a curzon number\n",
      "Enter number = 14\n",
      "14 is a curzon number\n",
      "Enter number = 12\n",
      "12 is not a curzon number\n"
     ]
    }
   ],
   "source": [
    "def is_curzon():\n",
    "    n=int(input(\"Enter number = \"))\n",
    "    a1=2**n+1\n",
    "    a2=2*n+1\n",
    "    if a1%a2==0:\n",
    "        print(f\"{n} is a curzon number\")\n",
    "    else:\n",
    "        print(f\"{n} is not a curzon number\")\n",
    "for i in range(4):\n",
    "    is_curzon()\n",
    "    "
   ]
  },
  {
   "cell_type": "markdown",
   "id": "b0102f1a",
   "metadata": {},
   "source": [
    "### 4.Given the side length x find the area of a hexagon ?\n",
    "Examples: ```area_of_hexagon(1) -> 2.6\n",
    "area_of_hexagon(2) -> 10.4\n",
    "area_of_hexagon(3) -> 23.4```"
   ]
  },
  {
   "cell_type": "code",
   "execution_count": 13,
   "id": "9590c60b",
   "metadata": {},
   "outputs": [
    {
     "name": "stdout",
     "output_type": "stream",
     "text": [
      "Enter side length x = 1\n",
      "Area of Hexagon of side length 1 = 2.6\n",
      "Enter side length x = 2\n",
      "Area of Hexagon of side length 2 = 10.4\n",
      "Enter side length x = 3\n",
      "Area of Hexagon of side length 3 = 23.4\n"
     ]
    }
   ],
   "source": [
    "import math\n",
    "def area_of_hexagon():\n",
    "    x=int(input(\"Enter side length x = \"))\n",
    "    area=(3*math.sqrt(3))*(x**2)/2\n",
    "    print(f\"Area of Hexagon of side length {x} = {area:.1f}\")\n",
    "for i in range(3):\n",
    "    area_of_hexagon()"
   ]
  },
  {
   "cell_type": "markdown",
   "id": "9c5cb883",
   "metadata": {},
   "source": [
    "### 5.Create a function that returns a base-2 (binary) representation of a base-10 (decimal) string number. To convert is simple:\n",
    "((2) means base-2 and (10) means base-10)\n",
    "010101001(2) = 1 + 8 + 32 + 128.\n",
    "Going from right to left, the value of the most right bit is 1, now from that every bit to the left will be x2 the value, value of an 8 bit binary numbers are (256, 128, 64, 32, 16, 8, 4, 2, 1).\n",
    "Examples:\n",
    "binary(1) -> \"1\"\n",
    " 1 mul 1 = 1\n",
    " \n",
    "binary(5) -> \"101\"\n",
    " 1 mul 1 + 1 mul 4 = 5\n",
    " \n",
    "binary(10) -> \"1010\"\n",
    "1 mul 2 + 1 mul 8 = 10"
   ]
  },
  {
   "cell_type": "code",
   "execution_count": 18,
   "id": "0d7d822a",
   "metadata": {},
   "outputs": [
    {
     "name": "stdout",
     "output_type": "stream",
     "text": [
      "Enter a number1\n",
      "Binary of 1 -> 1\n",
      "Enter a number5\n",
      "Binary of 5 -> 101\n",
      "Enter a number10\n",
      "Binary of 10 -> 1010\n",
      "Enter a number8\n",
      "Binary of 8 -> 1000\n"
     ]
    }
   ],
   "source": [
    "def binary():\n",
    "    decimal=int(input(\"Enter a number\"))\n",
    "    binary=str(bin(decimal)).replace('0b','') \n",
    "    print(f'Binary of {decimal} -> {binary}')\n",
    "for i in range(4):\n",
    "    binary()"
   ]
  }
 ],
 "metadata": {
  "kernelspec": {
   "display_name": "Python 3 (ipykernel)",
   "language": "python",
   "name": "python3"
  },
  "language_info": {
   "codemirror_mode": {
    "name": "ipython",
    "version": 3
   },
   "file_extension": ".py",
   "mimetype": "text/x-python",
   "name": "python",
   "nbconvert_exporter": "python",
   "pygments_lexer": "ipython3",
   "version": "3.9.7"
  }
 },
 "nbformat": 4,
 "nbformat_minor": 5
}
