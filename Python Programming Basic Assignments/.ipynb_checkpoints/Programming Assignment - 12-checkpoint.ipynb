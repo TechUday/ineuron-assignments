{
 "cells": [
  {
   "cell_type": "markdown",
   "id": "02e3fc13",
   "metadata": {},
   "source": [
    "### Name: Veeragani Uday Sandeep\n",
    "### Email: udaysandeep.v9@gmail.com\n",
    "### Assignment - 12\n"
   ]
  },
  {
   "cell_type": "markdown",
   "id": "cff0ae85",
   "metadata": {},
   "source": [
    "### 1. Write a Python program to Extract Unique values dictionary values?"
   ]
  },
  {
   "cell_type": "code",
   "execution_count": 4,
   "id": "e885828f",
   "metadata": {},
   "outputs": [
    {
     "name": "stdout",
     "output_type": "stream",
     "text": [
      "dictionary values are =  dict_values(['Ineuron', 'Fsds', 'Data Science', 'Ineuron', 'Machine Learning', 'Fsds', 'Welcome'])\n",
      "Unique Values: ['Ineuron', 'Machine Learning', 'Welcome', 'Data Science', 'Fsds']\n"
     ]
    }
   ],
   "source": [
    "dict1 = {1:'Ineuron',2:'Fsds',3:'Data Science',4:'Ineuron',5:'Machine Learning',6:'Fsds',7:'Welcome'}\n",
    "print(\"dictionary values are = \",dict1.values())\n",
    "print(f'Unique Values: {list(set(dict1.values()))}')"
   ]
  },
  {
   "cell_type": "markdown",
   "id": "3bc3019b",
   "metadata": {},
   "source": [
    "### 2. Write a Python program to find the sum of all items in a dictionary?"
   ]
  },
  {
   "cell_type": "code",
   "execution_count": 5,
   "id": "27879c8a",
   "metadata": {},
   "outputs": [
    {
     "name": "stdout",
     "output_type": "stream",
     "text": [
      "Sum of All items:  143990\n"
     ]
    }
   ],
   "source": [
    "in_dict = {'Samsung':39000,'Redmi':19000,'Realme':17990,'Apple':54000,'POCO':14000}\n",
    "print('Sum of All items: ',sum(in_dict.values()))"
   ]
  },
  {
   "cell_type": "markdown",
   "id": "c6cdc448",
   "metadata": {},
   "source": [
    "### 3. Write a Python program to Merging two Dictionaries?"
   ]
  },
  {
   "cell_type": "code",
   "execution_count": 19,
   "id": "307e9e78",
   "metadata": {},
   "outputs": [
    {
     "name": "stdout",
     "output_type": "stream",
     "text": [
      "Dictionary 1 =  {'a': 10, 'b': 8}\n",
      "Dictionary 2 =  {'a': 10, 'b': 8}\n",
      "After merging dictionary 1 and dictionary 2 =  {'a': 10, 'b': 8, 'd': 6, 'c': 4}\n"
     ]
    }
   ],
   "source": [
    "def Merge(dict1, dict2):\n",
    "    return(dict1.update(dict2))\n",
    "# def merge(dict1,dict2):\n",
    "#     for i in dict2.keys():\n",
    "#         dict1[i]=dict2[i]\n",
    "#     print(dict1)\n",
    "dict1 = {'a': 10, 'b': 8}\n",
    "dict2 = {'d': 6, 'c': 4}\n",
    "print(\"Dictionary 1 = \",dict1)\n",
    "print(\"Dictionary 2 = \",dict1)\n",
    "Merge(dict1, dict2)\n",
    "print(\"After merging dictionary 1 and dictionary 2 = \",dict1)"
   ]
  },
  {
   "cell_type": "markdown",
   "id": "1e4268de",
   "metadata": {},
   "source": [
    "### 4. Write a Python program to convert key-values list to flat dictionary?"
   ]
  },
  {
   "cell_type": "code",
   "execution_count": 25,
   "id": "7dc62875",
   "metadata": {},
   "outputs": [
    {
     "data": {
      "text/plain": [
       "{'A': 10, 'B': 20, 'C': 30, 'D': 40}"
      ]
     },
     "execution_count": 25,
     "metadata": {},
     "output_type": "execute_result"
    }
   ],
   "source": [
    "list1 = [('A',10),('B',20),('C',30),('D',40)]\n",
    "# Method #1\n",
    "dict(list1)"
   ]
  },
  {
   "cell_type": "code",
   "execution_count": 26,
   "id": "385c5a71",
   "metadata": {},
   "outputs": [
    {
     "name": "stdout",
     "output_type": "stream",
     "text": [
      "{'A': 10, 'B': 20, 'C': 30, 'D': 40}\n"
     ]
    }
   ],
   "source": [
    "# Method 2\n",
    "dict1 = {}\n",
    "for ele in list1:\n",
    "    dict1[ele[0]] = ele[1]\n",
    "print(dict1)"
   ]
  },
  {
   "cell_type": "markdown",
   "id": "5f6489fe",
   "metadata": {},
   "source": [
    "### 5. Write a Python program to insertion at the beginning in OrderedDict?"
   ]
  },
  {
   "cell_type": "code",
   "execution_count": 29,
   "id": "b7b734a6",
   "metadata": {},
   "outputs": [
    {
     "name": "stdout",
     "output_type": "stream",
     "text": [
      "Ordered Dictionary after insertion : OrderedDict([('A', 10), ('B', 20), ('C', 30), ('D', 40)])\n"
     ]
    }
   ],
   "source": [
    "from collections import OrderedDict\n",
    "ordered_dict = OrderedDict([('B',20),('C',30),('D',40)])\n",
    "ordered_dict.update({'A':10})\n",
    "ordered_dict.move_to_end('A', last = False)\n",
    "print (\"Ordered Dictionary after insertion : \"+str(ordered_dict))"
   ]
  },
  {
   "cell_type": "markdown",
   "id": "7989a41b",
   "metadata": {},
   "source": [
    "### 6. Write a Python program to check order of character in string using OrderedDict()?"
   ]
  },
  {
   "cell_type": "code",
   "execution_count": 39,
   "id": "e85e84b1",
   "metadata": {},
   "outputs": [
    {
     "name": "stdout",
     "output_type": "stream",
     "text": [
      "enter string :Programming\n",
      "enter pattern :ro\n",
      "The string is \n",
      "Programming\n",
      "The input pattern is \n",
      "ro\n",
      "OrderedDict([('P', None), ('r', None), ('o', None), ('g', None), ('a', None), ('m', None), ('i', None), ('n', None)])\n",
      "The order of pattern is correct\n"
     ]
    }
   ],
   "source": [
    "from collections import OrderedDict\n",
    "def check_order(my_input, my_pattern):\n",
    "    my_dict = OrderedDict.fromkeys(my_input)\n",
    "    print(my_dict)\n",
    "    pattern_length = 0\n",
    "    for key,value in my_dict.items():\n",
    "        if (key == my_pattern[pattern_length]):\n",
    "            pattern_length = pattern_length + 1\n",
    "\n",
    "        if (pattern_length == (len(my_pattern))):\n",
    "            return 'The order of pattern is correct'\n",
    "\n",
    "    return 'The order of pattern is incorrect'\n",
    "\n",
    "my_input = input(\"enter string :\")\n",
    "input_pattern = input(\"enter pattern :\")\n",
    "print(\"The string is \")\n",
    "print(my_input)\n",
    "print(\"The input pattern is \")\n",
    "print(input_pattern)\n",
    "print(check_order(my_input,input_pattern))"
   ]
  },
  {
   "cell_type": "markdown",
   "id": "4ed4c481",
   "metadata": {},
   "source": [
    "### 7. Write a Python program to sort Python Dictionaries by Key or Value?"
   ]
  },
  {
   "cell_type": "code",
   "execution_count": 43,
   "id": "bfea4f40",
   "metadata": {},
   "outputs": [
    {
     "name": "stdout",
     "output_type": "stream",
     "text": [
      "{'Apple': 54000, 'POCO': 14000, 'Realme': 17990, 'Redmi': 19000, 'Samsung': 39000}\n",
      "{'POCO': 14000, 'Realme': 17990, 'Redmi': 19000, 'Samsung': 39000, 'Apple': 54000}\n"
     ]
    }
   ],
   "source": [
    "d = {'Samsung':39000,'Redmi':19000,'Realme':17990,'Apple':54000,'POCO':14000}\n",
    "\n",
    "def sort_dict(dict1,sort_type):\n",
    "    if sort_type == 'key':\n",
    "        print(dict(sorted(dict1.items(), key=lambda x:x[0], reverse=False)))\n",
    "    else:\n",
    "        print(dict(sorted(dict1.items(), key=lambda x:x[1], reverse=False)))\n",
    "        \n",
    "sort_dict(d,'key')        \n",
    "sort_dict(d,'value')"
   ]
  }
 ],
 "metadata": {
  "kernelspec": {
   "display_name": "Python 3 (ipykernel)",
   "language": "python",
   "name": "python3"
  },
  "language_info": {
   "codemirror_mode": {
    "name": "ipython",
    "version": 3
   },
   "file_extension": ".py",
   "mimetype": "text/x-python",
   "name": "python",
   "nbconvert_exporter": "python",
   "pygments_lexer": "ipython3",
   "version": "3.9.7"
  }
 },
 "nbformat": 4,
 "nbformat_minor": 5
}
