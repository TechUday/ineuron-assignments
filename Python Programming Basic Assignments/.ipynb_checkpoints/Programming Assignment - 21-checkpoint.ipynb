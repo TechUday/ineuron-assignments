{
 "cells": [
  {
   "cell_type": "markdown",
   "id": "336862c6",
   "metadata": {},
   "source": [
    "### Name: Veeragani Uday Sandeep\n",
    "### Email: udaysandeep.v9@gmail.com\n",
    "### Assignment - 21"
   ]
  },
  {
   "cell_type": "markdown",
   "id": "5c881896",
   "metadata": {},
   "source": [
    "### 1.Write a function that takes a list and a number as arguments. Add the number to the end of the list, then remove the first element of the list. The function should then return the updated list.\n",
    "Examples:```next_in_line([5, 6, 7, 8, 9], 1) ➞ [6, 7, 8, 9, 1]\n",
    "next_in_line([7, 6, 3, 23, 17], 10) ➞ [6, 3, 23, 17, 10]\n",
    "next_in_line([1, 10, 20, 42 ], 6) ➞ [10, 20, 42, 6]\n",
    "next_in_line([], 6) ➞ \"No list has been selected\"```"
   ]
  },
  {
   "cell_type": "code",
   "execution_count": 5,
   "id": "881d3b29",
   "metadata": {},
   "outputs": [
    {
     "name": "stdout",
     "output_type": "stream",
     "text": [
      "next_in_line([5, 6, 7, 8, 9], 1) ➞ [6, 7, 8, 9, 1]\n",
      "\n",
      "next_in_line([7, 6, 3, 23, 17], 10) ➞ [6, 3, 23, 17, 10]\n",
      "\n",
      "next_in_line([1, 10, 20, 42 ], 6) ➞ [10, 20, 42, 6]\n",
      "\n",
      "next_in_line([], 6) ➞ No list has been selected\n"
     ]
    }
   ],
   "source": [
    "def next_in_line(lst,num):\n",
    "    if len(lst)==0:\n",
    "        return \"No list has been selected\"\n",
    "    else:\n",
    "        lst.remove(lst[0])\n",
    "        lst.append(num)\n",
    "        return lst\n",
    "print(f'next_in_line([5, 6, 7, 8, 9], 1) ➞ {next_in_line([5, 6, 7, 8, 9], 1)}\\n')\n",
    "print(f'next_in_line([7, 6, 3, 23, 17], 10) ➞ {next_in_line([7, 6, 3, 23, 17], 10)}\\n')\n",
    "print(f'next_in_line([1, 10, 20, 42 ], 6) ➞ {next_in_line([1, 10, 20, 42 ], 6)}\\n')\n",
    "print(f'next_in_line([], 6) ➞ {next_in_line([], 6)}')"
   ]
  },
  {
   "cell_type": "markdown",
   "id": "f83e4087",
   "metadata": {},
   "source": [
    "### 2.Create the function that takes a list of dictionaries and returns the sum of people's budgets.\n",
    "Examples:\n",
    "```get_budgets([ { \"name\": \"John\", \"age\": 21, \"budget\": 23000 }, { \"name\": \"Steve\", \"age\": 32, \"budget\": 40000 }, { \"name\": \"Martin\", \"age\": 16, \"budget\": 2700 } ]) ➞ 65700```\n",
    "\n",
    "```get_budgets([ { \"name\": \"John\", \"age\": 21, \"budget\": 29000 }, { \"name\": \"Steve\", \"age\": 32, \"budget\": 32000 }, { \"name\": \"Martin\", \"age\": 16, \"budget\": 1600 } ]) ➞ 62600```"
   ]
  },
  {
   "cell_type": "code",
   "execution_count": 13,
   "id": "6773b9a5",
   "metadata": {},
   "outputs": [
    {
     "name": "stdout",
     "output_type": "stream",
     "text": [
      "Output =  65700\n",
      "Output =  62600\n"
     ]
    }
   ],
   "source": [
    "def get_budgets(dic_list):\n",
    "    sum_budget=0\n",
    "    for dic in dic_list:\n",
    "        sum_budget+=dic[\"budget\"]\n",
    "    return sum_budget\n",
    "print(\"Output = \",get_budgets([\n",
    "{ \"name\": \"John\", \"age\": 21, \"budget\": 23000 },\n",
    "{ \"name\": \"Steve\", \"age\": 32, \"budget\": 40000 },\n",
    "{ \"name\": \"Martin\", \"age\": 16, \"budget\": 2700 }\n",
    "]))\n",
    "\n",
    "print(\"Output = \",get_budgets([\n",
    "{ \"name\": \"John\", \"age\": 21, \"budget\": 29000 },\n",
    "{ \"name\": \"Steve\", \"age\": 32, \"budget\": 32000 },\n",
    "{ \"name\": \"Martin\", \"age\": 16, \"budget\": 1600 }\n",
    "]))"
   ]
  },
  {
   "cell_type": "markdown",
   "id": "aa02055a",
   "metadata": {},
   "source": [
    "### 3.Create a function that takes a string and returns a string with its letters in alphabetical order.\n",
    "Examples:```alphabet_soup(\"hello\") ➞ \"ehllo\"\n",
    "alphabet_soup(\"edabit\") ➞ \"abdeit\"\n",
    "alphabet_soup(\"hacker\") ➞ \"acehkr\"\n",
    "alphabet_soup(\"geek\") ➞ \"eegk\"\n",
    "alphabet_soup(\"javascript\") ➞ \"aacijprstv\"```"
   ]
  },
  {
   "cell_type": "code",
   "execution_count": 20,
   "id": "6983956b",
   "metadata": {},
   "outputs": [
    {
     "name": "stdout",
     "output_type": "stream",
     "text": [
      "alphabet_soup(\"hello\") ➞ ehllo\n",
      "\n",
      "alphabet_soup(\"edabit\") ➞ abdeit\n",
      "\n",
      "alphabet_soup(\"hacker\") ➞ acehkr\n",
      "\n",
      "alphabet_soup(\"geek\") ➞ eegk\n",
      "\n",
      "alphabet_soup(\"javascript\") ➞ aacijprstv\n"
     ]
    }
   ],
   "source": [
    "def alphabet_soup(string):\n",
    "    return \"\".join(sorted(string))\n",
    "print(f'alphabet_soup(\"hello\") ➞ {alphabet_soup(\"hello\")}\\n')\n",
    "print(f'alphabet_soup(\"edabit\") ➞ {alphabet_soup(\"edabit\")}\\n')\n",
    "print(f'alphabet_soup(\"hacker\") ➞ {alphabet_soup(\"hacker\")}\\n')\n",
    "print(f'alphabet_soup(\"geek\") ➞ {alphabet_soup(\"geek\")}\\n')\n",
    "print(f'alphabet_soup(\"javascript\") ➞ {alphabet_soup(\"javascript\")}')"
   ]
  },
  {
   "cell_type": "markdown",
   "id": "cc673a4f",
   "metadata": {},
   "source": [
    "### 4.What will be the value of your investment at the end of the 10 year period?\n",
    "Create a function that accepts the principal p, the term in years t, the interest rate r, and the number of compounding periods per year n. The function returns the value at the end of term rounded to the nearest cent.\n",
    "\n",
    "For the example above:\n",
    "```compound_interest(10000, 10, 0.06, 12) ➞ 18193.97```\n",
    "\n",
    "Note that the interest rate is given as a decimal and n=12 because with monthly compounding there are 12 periods per year. Compounding can also be done annually, quarterly, weekly, or daily.\n",
    "\n",
    "Examples:```compound_interest(100, 1, 0.05, 1) ➞ 105.0\n",
    "compound_interest(3500, 15, 0.1, 4) ➞ 15399.26\n",
    "compound_interest(100000, 20, 0.15, 365) ➞ 2007316.26```"
   ]
  },
  {
   "cell_type": "code",
   "execution_count": 25,
   "id": "7b2f017e",
   "metadata": {},
   "outputs": [
    {
     "name": "stdout",
     "output_type": "stream",
     "text": [
      "Output = 105.0\n",
      "Output = 15399.26\n",
      "Output = 2007316.26\n"
     ]
    }
   ],
   "source": [
    "def compound_interest(principal,year,rate,cp):\n",
    "    compound_interest=principal*(1+(rate/cp))**(cp*year)\n",
    "    return round(compound_interest,2)\n",
    "print(\"Output =\",compound_interest(100, 1, 0.05, 1))\n",
    "print(\"Output =\",compound_interest(3500, 15, 0.1, 4))\n",
    "print(\"Output =\",compound_interest(100000, 20, 0.15, 365))"
   ]
  },
  {
   "cell_type": "markdown",
   "id": "149819d8",
   "metadata": {},
   "source": [
    "### 5.Write a function that takes a list of elements and returns only the integers.\n",
    "Examples:```return_only_integer([9, 2, \"space\", \"car\", \"lion\", 16]) ➞ [9, 2, 16]\n",
    "return_only_integer([\"hello\", 81, \"basketball\", 123, \"fox\"]) ➞ [81, 123]\n",
    "return_only_integer([10, \"121\", 56, 20, \"car\", 3, \"lion\"]) ➞ [10, 56, 20,3]\n",
    "return_only_integer([\"String\", True, 3.3, 1]) ➞ [1]```"
   ]
  },
  {
   "cell_type": "code",
   "execution_count": 30,
   "id": "21e4730f",
   "metadata": {},
   "outputs": [
    {
     "name": "stdout",
     "output_type": "stream",
     "text": [
      "return_only_integer([9, 2, \"space\", \"car\", \"lion\", 16]) ➞ [9, 2, 16]\n",
      "\n",
      "return_only_integer([\"hello\", 81, \"basketball\", 123, \"fox\"]) ➞ [81, 123]\n",
      "\n",
      "return_only_integer([10, \"121\", 56, 20, \"car\", 3, \"lion\"]) ➞ [10, 56, 20, 3]\n",
      "\n",
      "return_only_integer([\"String\", True, 3.3, 1]) ➞ [1]\n"
     ]
    }
   ],
   "source": [
    "def return_only_integer(lst):\n",
    "    out_list=[i for i in lst if type(i)==int]\n",
    "    return out_list\n",
    "print(f'return_only_integer([9, 2, \"space\", \"car\", \"lion\", 16]) ➞ {return_only_integer([9, 2, \"space\", \"car\", \"lion\", 16])}\\n')\n",
    "print(f'return_only_integer([\"hello\", 81, \"basketball\", 123, \"fox\"]) ➞ {return_only_integer([\"hello\", 81, \"basketball\", 123, \"fox\"])}\\n')\n",
    "print(f'return_only_integer([10, \"121\", 56, 20, \"car\", 3, \"lion\"]) ➞ {return_only_integer([10, \"121\", 56, 20, \"car\", 3, \"lion\"])}\\n')\n",
    "print(f'return_only_integer([\"String\", True, 3.3, 1]) ➞ {return_only_integer([\"String\", True, 3.3, 1])}')"
   ]
  }
 ],
 "metadata": {
  "kernelspec": {
   "display_name": "Python 3 (ipykernel)",
   "language": "python",
   "name": "python3"
  },
  "language_info": {
   "codemirror_mode": {
    "name": "ipython",
    "version": 3
   },
   "file_extension": ".py",
   "mimetype": "text/x-python",
   "name": "python",
   "nbconvert_exporter": "python",
   "pygments_lexer": "ipython3",
   "version": "3.9.7"
  }
 },
 "nbformat": 4,
 "nbformat_minor": 5
}
