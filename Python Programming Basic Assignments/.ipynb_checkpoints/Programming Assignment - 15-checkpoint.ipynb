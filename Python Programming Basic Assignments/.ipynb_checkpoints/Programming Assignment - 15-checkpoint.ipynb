{
 "cells": [
  {
   "cell_type": "markdown",
   "id": "c3a2638f",
   "metadata": {},
   "source": [
    "### Name: Veeragani Uday Sandeep\n",
    "### Email: udaysandeep.v9@gmail.com\n",
    "### Assignment - 15"
   ]
  },
  {
   "cell_type": "markdown",
   "id": "465ad376",
   "metadata": {},
   "source": [
    "### 1. Please write a program using generator to print the numbers which can be divisible by 5 and 7 between 0 and n in comma separated form while n is input by console ?\n",
    "Example:\n",
    "\n",
    "If the following n is given as input to the program: ```100```\n",
    "\n",
    "Then, the output of the program should be: ```0,35,70```"
   ]
  },
  {
   "cell_type": "code",
   "execution_count": 4,
   "id": "becff121",
   "metadata": {},
   "outputs": [
    {
     "name": "stdout",
     "output_type": "stream",
     "text": [
      "Enter a number = 100\n",
      "0,35,70\n"
     ]
    }
   ],
   "source": [
    "n=int(input(\"Enter a number = \"))\n",
    "def div5and7(n):\n",
    "    for i in range(n):\n",
    "        if i%5==0 and i%7==0:\n",
    "            yield i\n",
    "print(\",\".join([str(i) for i in div5and7(n)]))"
   ]
  },
  {
   "cell_type": "markdown",
   "id": "c453475d",
   "metadata": {},
   "source": [
    "### 2.Please write a program using generator to print the even numbers between 0 and n in comma separated form while n is input by console ?\n",
    "Example:\n",
    "If the following n is given as input to the program: ```10```\n",
    "\n",
    "Then, the output of the program should be: ```0,2,4,6,8,10```"
   ]
  },
  {
   "cell_type": "code",
   "execution_count": 6,
   "id": "92382726",
   "metadata": {},
   "outputs": [
    {
     "name": "stdout",
     "output_type": "stream",
     "text": [
      "Enter a number = 20\n",
      "0,2,4,6,8,10,12,14,16,18,20\n"
     ]
    }
   ],
   "source": [
    "n=int(input(\"Enter a number = \"))\n",
    "def even_generator(n):\n",
    "    for i in range(n+1):\n",
    "        if i%2==0:\n",
    "            yield i\n",
    "print(\",\".join([str(i) for i in even_generator(n)]))"
   ]
  },
  {
   "cell_type": "markdown",
   "id": "d874e324",
   "metadata": {},
   "source": [
    "### 3.The Fibonacci Sequence is computed based on the following formula below, Please write a program using list comprehension to print the Fibonacci Sequence in comma separated form with a given n input by console ?\n",
    "```f(n)=0 if n=0\n",
    "f(n)=1 if n=1\n",
    "f(n)=f(n-1)+f(n-2) if n>1```"
   ]
  },
  {
   "cell_type": "code",
   "execution_count": 10,
   "id": "a391fe78",
   "metadata": {},
   "outputs": [
    {
     "name": "stdout",
     "output_type": "stream",
     "text": [
      "Enter n value = 7\n",
      "0,1,1,2,3,5,8\n"
     ]
    }
   ],
   "source": [
    "def fibo_generator(n):\n",
    "    i=0\n",
    "    j=1\n",
    "    for k in range(n):\n",
    "        yield i\n",
    "        i,j=j,i+j\n",
    "n=int(input(\"Enter n value = \"))\n",
    "print(\",\".join([str(i) for i in fibo_generator(n)]))"
   ]
  },
  {
   "cell_type": "markdown",
   "id": "dbbf6fd7",
   "metadata": {},
   "source": [
    "### 4.Assuming that we have some email addresses in the \"username@companyname.com\" format, please write program to print the user name of a given email address. Both user names and company names are composed of letters only ?\n",
    "\n",
    "Example:\n",
    "\n",
    "If the following email address is given as input to the program: ```john@google.com```\n",
    "\n",
    "Then, the output of the program should be: ```john```"
   ]
  },
  {
   "cell_type": "code",
   "execution_count": 17,
   "id": "6285d173",
   "metadata": {},
   "outputs": [
    {
     "name": "stdout",
     "output_type": "stream",
     "text": [
      "Enter Email Address: john@google.com\n",
      "Username of john@google.com is john\n",
      "Enter Email Address: contact@ineuron.com\n",
      "Username of contact@ineuron.com is contact\n",
      "Enter Email Address: nirmalv@infy.com\n",
      "Username of nirmalv@infy.com is nirmalv\n",
      "Enter Email Address: nirmal213@microsoft.com\n",
      "Email Adress are composed of letters only. Enter in correct format\n"
     ]
    }
   ],
   "source": [
    "def getUsernames():\n",
    "    email = input('Enter Email Address: ')\n",
    "    output = email.split('@')\n",
    "    output[1]=output[1].replace('.com','com')\n",
    "    for i in output:\n",
    "        if i.isalpha()==False:\n",
    "            print(\"Email Adress are composed of letters only. Enter in correct format\")\n",
    "            break\n",
    "    else:\n",
    "        print(f'Username of {email} is {output[0]}')\n",
    "\n",
    "for i in range(4):\n",
    "    getUsernames()"
   ]
  },
  {
   "cell_type": "markdown",
   "id": "d27b7c69",
   "metadata": {},
   "source": [
    "### 5.Define a class named Shape and its subclass Square. The Square class has an init function which takes a length as argument. Both classes have a area function which can print the area of the shape where Shape's area is 0 by default."
   ]
  },
  {
   "cell_type": "code",
   "execution_count": 22,
   "id": "4952b504",
   "metadata": {},
   "outputs": [
    {
     "name": "stdout",
     "output_type": "stream",
     "text": [
      "Enter lenght = 4\n",
      "Area =  16\n"
     ]
    }
   ],
   "source": [
    "class Shape:\n",
    "    def area(self):\n",
    "        area=0\n",
    "        return area\n",
    "class Square(Shape):\n",
    "    def __init__(self,length):\n",
    "        self.length=length\n",
    "    def area(self):\n",
    "        area=self.length**2\n",
    "        return area\n",
    "length=int(input(\"Enter lenght = \"))\n",
    "sq=Square(length)\n",
    "print(\"Area = \",sq.area())"
   ]
  }
 ],
 "metadata": {
  "kernelspec": {
   "display_name": "Python 3 (ipykernel)",
   "language": "python",
   "name": "python3"
  },
  "language_info": {
   "codemirror_mode": {
    "name": "ipython",
    "version": 3
   },
   "file_extension": ".py",
   "mimetype": "text/x-python",
   "name": "python",
   "nbconvert_exporter": "python",
   "pygments_lexer": "ipython3",
   "version": "3.9.7"
  }
 },
 "nbformat": 4,
 "nbformat_minor": 5
}
