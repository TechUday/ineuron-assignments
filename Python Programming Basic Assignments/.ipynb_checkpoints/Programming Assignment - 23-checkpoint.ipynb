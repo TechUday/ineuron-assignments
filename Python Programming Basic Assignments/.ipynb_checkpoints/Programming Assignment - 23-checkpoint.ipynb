{
 "cells": [
  {
   "cell_type": "markdown",
   "id": "746c21c4",
   "metadata": {},
   "source": [
    "### Name: Veeragani Uday Sandeep\n",
    "### Email: udaysandeep.v9@gmail.com\n",
    "### Assignment - 23"
   ]
  },
  {
   "cell_type": "markdown",
   "id": "4c7973f5",
   "metadata": {},
   "source": [
    "### 1.Create a function that takes a number as an argument and returns True or False depending on whether the number is symmetrical or not. A number is symmetrical when it is the same as its reverse.\n",
    "Examples:\n",
    "is_symmetrical(7227) ➞ True\n",
    "\n",
    "is_symmetrical(12567) ➞ False\n",
    "\n",
    "is_symmetrical(44444444) ➞ True\n",
    "\n",
    "is_symmetrical(9939) ➞ False\n",
    "\n",
    "is_symmetrical(1112111) ➞ True"
   ]
  },
  {
   "cell_type": "code",
   "execution_count": 8,
   "id": "0e134bc2",
   "metadata": {},
   "outputs": [
    {
     "name": "stdout",
     "output_type": "stream",
     "text": [
      "is_symmetrical(7227) ➞ True\n",
      "\n",
      "is_symmetrical(12567 ➞ False\n",
      "\n",
      "is_symmetrical(44444444) ➞ True\n",
      "\n",
      "is_symmetrical(9939) ➞ False\n",
      "\n",
      "is_symmetrical(1112111) ➞ True\n"
     ]
    }
   ],
   "source": [
    "def is_symmetrical(num):\n",
    "    rev_num=int(str(num)[::-1])\n",
    "    if rev_num == num:\n",
    "        return True\n",
    "    else:\n",
    "        return False\n",
    "\n",
    "print(f'is_symmetrical(7227) ➞ {is_symmetrical(7227)}\\n')\n",
    "print(f'is_symmetrical(12567 ➞ {is_symmetrical(12567)}\\n')\n",
    "print(f'is_symmetrical(44444444) ➞ {is_symmetrical(44444444)}\\n')\n",
    "print(f'is_symmetrical(9939) ➞ {is_symmetrical(9939)}\\n')\n",
    "print(f'is_symmetrical(1112111) ➞ {is_symmetrical(1112111)}')"
   ]
  },
  {
   "cell_type": "markdown",
   "id": "0526fba4",
   "metadata": {},
   "source": [
    "### 2.Given a string of numbers separated by a comma and space, return the product of the numbers.\n",
    "Examples:\n",
    "multiply_nums(\"2, 3\") ➞ 6\n",
    "\n",
    "multiply_nums(\"1, 2, 3, 4\") ➞ 24\n",
    "\n",
    "multiply_nums(\"54, 75, 453, 0\") ➞ 0\n",
    "\n",
    "multiply_nums(\"10, -2\") ➞ -20"
   ]
  },
  {
   "cell_type": "code",
   "execution_count": 11,
   "id": "8c1c1704",
   "metadata": {},
   "outputs": [
    {
     "name": "stdout",
     "output_type": "stream",
     "text": [
      "multiply_nums(\"2, 3\") ➞ 6\n",
      "\n",
      "multiply_nums(\"1, 2, 3, 4\") ➞ 24\n",
      "\n",
      "multiply_nums(\"54, 75, 453, 0\") ➞ 0\n",
      "\n",
      "multiply_nums(\"10, -2\") ➞ -20\n",
      "\n"
     ]
    }
   ],
   "source": [
    "def multiply_nums(cs_string):\n",
    "    lst=list(map(int,cs_string.split(\",\")))\n",
    "    mul=1\n",
    "    for i in lst:\n",
    "        mul*=i\n",
    "    return mul\n",
    "print(f'multiply_nums(\"2, 3\") ➞ {multiply_nums(\"2, 3\")}\\n')\n",
    "print(f'multiply_nums(\"1, 2, 3, 4\") ➞ {multiply_nums(\"1, 2, 3, 4\")}\\n')\n",
    "print(f'multiply_nums(\"54, 75, 453, 0\") ➞ {multiply_nums(\"54, 75, 453, 0\")}\\n')\n",
    "print(f'multiply_nums(\"10, -2\") ➞ {multiply_nums(\"10, -2\")}\\n')"
   ]
  },
  {
   "cell_type": "markdown",
   "id": "be2a5bf3",
   "metadata": {},
   "source": [
    "### 3.Create a function that squares every digit of a number.\n",
    "Examples:\n",
    "square_digits(9119) ➞ 811181\n",
    "\n",
    "square_digits(2483) ➞ 416649\n",
    "\n",
    "square_digits(3212) ➞ 9414\n",
    "\n",
    "Notes:\n",
    "\n",
    "The function receives an integer and must return an integer."
   ]
  },
  {
   "cell_type": "code",
   "execution_count": 22,
   "id": "c2445f10",
   "metadata": {},
   "outputs": [
    {
     "name": "stdout",
     "output_type": "stream",
     "text": [
      "square_digits(9119) ➞ 811181\n",
      "\n",
      "square_digits(2483)  ➞ 416649\n",
      "\n",
      "square_digits(3212)  ➞ 9414\n",
      "\n"
     ]
    }
   ],
   "source": [
    "def square_digits(num):\n",
    "    out=[str(int(i)**2) for i in str(num)]\n",
    "    return int(\"\".join(out))\n",
    "print(f'square_digits(9119) ➞ {square_digits(9119)}\\n')\n",
    "print(f'square_digits(2483)  ➞ {square_digits(2483) }\\n')\n",
    "print(f'square_digits(3212)  ➞ {square_digits(3212) }\\n')"
   ]
  },
  {
   "cell_type": "markdown",
   "id": "444769b6",
   "metadata": {},
   "source": [
    "### 4.Create a function that sorts a list and removes all duplicate items from it.\n",
    "Examples:\n",
    "setify([1, 3, 3, 5, 5]) ➞ [1, 3, 5]\n",
    "\n",
    "setify([4, 4, 4, 4]) ➞ [4]\n",
    "\n",
    "setify([5, 7, 8, 9, 10, 15]) ➞ [5, 7, 8, 9, 10, 15]\n",
    "\n",
    "setify([3, 3, 3, 2, 1]) ➞ [1, 2, 3]"
   ]
  },
  {
   "cell_type": "code",
   "execution_count": 28,
   "id": "21404dee",
   "metadata": {},
   "outputs": [
    {
     "name": "stdout",
     "output_type": "stream",
     "text": [
      "setify([1, 3, 3, 5, 5]) ➞ [1, 3, 5]\n",
      "\n",
      "setify([4, 4, 4, 4]) ➞ [4]\n",
      "\n",
      "setify([5, 7, 8, 9, 10, 15]) ➞ [5, 7, 8, 9, 10, 15]\n",
      "\n",
      "setify([3, 3, 3, 2, 1]) ➞ [1, 2, 3]\n",
      "\n"
     ]
    }
   ],
   "source": [
    "def setify(lst):\n",
    "    return list(sorted(set(lst)))\n",
    "\n",
    "print(f'setify([1, 3, 3, 5, 5]) ➞ {setify([1, 3, 3, 5, 5])}\\n')\n",
    "print(f'setify([4, 4, 4, 4]) ➞ {setify([4, 4, 4, 4])}\\n')\n",
    "print(f'setify([5, 7, 8, 9, 10, 15]) ➞ {setify([5, 7, 8, 9, 10, 15])}\\n')\n",
    "print(f'setify([3, 3, 3, 2, 1]) ➞ {setify([3, 3, 3, 2, 1])}\\n')\n"
   ]
  },
  {
   "cell_type": "markdown",
   "id": "99998692",
   "metadata": {},
   "source": [
    "### 5.Create a function that returns the mean of all digits.\n",
    "Examples:\n",
    "mean(42) ➞ 3\n",
    "\n",
    "mean(12345) ➞ 3\n",
    "\n",
    "mean(666) ➞ 6\n",
    "\n",
    "Notes:\n",
    "\n",
    "1.The mean of all digits is the sum of digits / how many digits there are (e.g. mean of digits in 512 is (5+1+2)/3(number of digits) = 8/3=2).\n",
    "\n",
    "2.The mean will always be an integer."
   ]
  },
  {
   "cell_type": "code",
   "execution_count": 34,
   "id": "0748cf72",
   "metadata": {},
   "outputs": [
    {
     "name": "stdout",
     "output_type": "stream",
     "text": [
      "mean(42)  ➞ 3\n",
      "\n",
      "mean(12345)  ➞ 3\n",
      "\n",
      "mean(666) ➞ 6\n",
      "\n"
     ]
    }
   ],
   "source": [
    "def mean(num):\n",
    "    sum_digits=sum(list(map(int,str(num)))) \n",
    "    mean=sum_digits/len(str(num))\n",
    "    return int(mean)\n",
    "\n",
    "print(f'mean(42)  ➞ {mean(42)}\\n')\n",
    "print(f'mean(12345)  ➞ {mean(12345) }\\n')\n",
    "print(f'mean(666) ➞ {mean(666)}\\n')"
   ]
  }
 ],
 "metadata": {
  "kernelspec": {
   "display_name": "Python 3 (ipykernel)",
   "language": "python",
   "name": "python3"
  },
  "language_info": {
   "codemirror_mode": {
    "name": "ipython",
    "version": 3
   },
   "file_extension": ".py",
   "mimetype": "text/x-python",
   "name": "python",
   "nbconvert_exporter": "python",
   "pygments_lexer": "ipython3",
   "version": "3.9.7"
  }
 },
 "nbformat": 4,
 "nbformat_minor": 5
}
