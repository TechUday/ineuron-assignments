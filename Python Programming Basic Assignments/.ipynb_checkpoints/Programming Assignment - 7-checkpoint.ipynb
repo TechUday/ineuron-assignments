{
 "cells": [
  {
   "cell_type": "markdown",
   "id": "13dbdd53",
   "metadata": {},
   "source": [
    "### Name: Varigonda Sai Nirmal Vignu\n",
    "### Email: varigondanirmal1@gmail.com\n",
    "### Programming Assignment - 7"
   ]
  },
  {
   "cell_type": "markdown",
   "id": "e3bd88de",
   "metadata": {},
   "source": [
    "### 1. Write a Python Program to find sum of array?"
   ]
  },
  {
   "cell_type": "code",
   "execution_count": 22,
   "id": "4df2047b",
   "metadata": {},
   "outputs": [
    {
     "name": "stdout",
     "output_type": "stream",
     "text": [
      "Enter elements of array 11 12 13 14 15\n",
      " Array values are :  [11, 12, 13, 14, 15]\n",
      "Sum of array =  65\n"
     ]
    }
   ],
   "source": [
    "arra=list(map(int, input(\"Enter elements of array \").split()))\n",
    "print(\" Array values are : \",arra)\n",
    "print(\"Sum of array = \",sum(arra))"
   ]
  },
  {
   "cell_type": "markdown",
   "id": "c5fa28ea",
   "metadata": {},
   "source": [
    "### 2. Write a Python Program to find largest element in an array?"
   ]
  },
  {
   "cell_type": "code",
   "execution_count": 25,
   "id": "6ab27e58",
   "metadata": {},
   "outputs": [
    {
     "name": "stdout",
     "output_type": "stream",
     "text": [
      "Enter elements of array 111 2222 555 76\n",
      " Array values are :  [111, 2222, 555, 76]\n",
      "Method-1\n",
      "larget element of array =  2222\n",
      "-------------------------------------\n",
      "Method-2\n",
      "larget element of array =  2222\n"
     ]
    }
   ],
   "source": [
    "arra=list(map(int, input(\"Enter elements of array \").split()))\n",
    "\n",
    "print(\" Array values are : \",arra)\n",
    "print(\"Method-1\")\n",
    "print(\"larget element of array = \",sorted(arra, reverse=True)[0])\n",
    "print(\"-------------------------------------\")\n",
    "print(\"Method-2\")\n",
    "max=arra[0]\n",
    "for i in arra:\n",
    "    if i>max:\n",
    "        max=i\n",
    "print(\"larget element of array = \",max)"
   ]
  },
  {
   "cell_type": "markdown",
   "id": "a2228e9f",
   "metadata": {},
   "source": [
    "### 3. Write a Python Program for array rotation?"
   ]
  },
  {
   "cell_type": "code",
   "execution_count": 26,
   "id": "8259e99d",
   "metadata": {},
   "outputs": [
    {
     "name": "stdout",
     "output_type": "stream",
     "text": [
      "Enter elements of array 1 2 3 4 5 6\n",
      " Array values are :  [1, 2, 3, 4, 5, 6]\n",
      "The reverse of given array is =  [6, 5, 4, 3, 2, 1]\n"
     ]
    }
   ],
   "source": [
    "arra=list(map(int, input(\"Enter elements of array \").split()))\n",
    "\n",
    "print(\" Array values are : \",arra)\n",
    "\n",
    "print(\"The reverse of given array is = \",arra[::-1])"
   ]
  },
  {
   "cell_type": "markdown",
   "id": "e9d83a28",
   "metadata": {},
   "source": [
    "### 4. Write a Python Program to Split the array and add the first part to the end?"
   ]
  },
  {
   "cell_type": "code",
   "execution_count": 29,
   "id": "94671c53",
   "metadata": {},
   "outputs": [
    {
     "name": "stdout",
     "output_type": "stream",
     "text": [
      "Enter elements of array 1 2 3 4 5 6\n",
      "Enter no of positions to split = 2\n",
      "3 4 5 6 1 2 "
     ]
    }
   ],
   "source": [
    "def SplitArray(arr, n, k):\n",
    "#     for i in range(0, k):\n",
    "#         x = arr[0]\n",
    "#         for j in range(0, n-1):\n",
    "#             arr[j] = arr[j + 1]\n",
    "\n",
    "#         arr[n-1]=x\n",
    "    last=arr[:k]\n",
    "    result=arr[k:]+last\n",
    "    return result\n",
    "arr=list(map(int, input(\"Enter elements of array \").split()))\n",
    "n = len(arr)\n",
    "position = int(input(\"Enter no of positions to split = \"))\n",
    "arr=SplitArray(arr, n, position)\n",
    "for i in range(0, n):\n",
    "    print(arr[i], end = ' ')"
   ]
  },
  {
   "cell_type": "markdown",
   "id": "bd3e3743",
   "metadata": {},
   "source": [
    "### 5. Write a Python Program to check if given array is Monotonic?"
   ]
  },
  {
   "cell_type": "code",
   "execution_count": 33,
   "id": "4a4800d4",
   "metadata": {},
   "outputs": [
    {
     "name": "stdout",
     "output_type": "stream",
     "text": [
      "Enter elements of array 1 2 3 4 5 6\n",
      "[1, 2, 3, 4, 5, 6] is monotonic :  True\n",
      "Enter elements of array 4 3 5 2 1\n",
      "[4, 3, 5, 2, 1] is monotonic :  False\n"
     ]
    }
   ],
   "source": [
    "def monotonic():\n",
    "    arr=list(map(int, input(\"Enter elements of array \").split()))\n",
    "    n = len(arr)\n",
    "    if (all(arr[i]<=arr[i+1] for i in range(n-1)) or\n",
    "           all(arr[i]>=arr[i+1] for i in range(n-1))):\n",
    "        print(f\"{arr} is monotonic : \",True)\n",
    "    else:\n",
    "        print(f\"{arr} is monotonic : \",False)\n",
    "monotonic()\n",
    "monotonic()"
   ]
  }
 ],
 "metadata": {
  "kernelspec": {
   "display_name": "Python 3 (ipykernel)",
   "language": "python",
   "name": "python3"
  },
  "language_info": {
   "codemirror_mode": {
    "name": "ipython",
    "version": 3
   },
   "file_extension": ".py",
   "mimetype": "text/x-python",
   "name": "python",
   "nbconvert_exporter": "python",
   "pygments_lexer": "ipython3",
   "version": "3.9.12"
  }
 },
 "nbformat": 4,
 "nbformat_minor": 5
}
