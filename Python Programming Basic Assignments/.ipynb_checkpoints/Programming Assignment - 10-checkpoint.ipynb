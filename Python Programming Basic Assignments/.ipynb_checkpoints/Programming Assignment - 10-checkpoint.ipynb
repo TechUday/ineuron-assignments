{
 "cells": [
  {
   "cell_type": "markdown",
   "id": "5c5553b4",
   "metadata": {},
   "source": [
    "### Name: Veeragani Uday Sandeep\n",
    "### Email: udaysandeep.v9@gmail.com\n",
    "### Assignment - 10"
   ]
  },
  {
   "cell_type": "markdown",
   "id": "eec5d326",
   "metadata": {},
   "source": [
    "### 1. Write a Python program to find sum of elements in list?"
   ]
  },
  {
   "cell_type": "code",
   "execution_count": 20,
   "id": "39f8320b",
   "metadata": {},
   "outputs": [
    {
     "name": "stdout",
     "output_type": "stream",
     "text": [
      "Enter values to list\n",
      "1 2 3 4 5 6 7 8 9 10\n",
      "Given List =  [1, 2, 3, 4, 5, 6, 7, 8, 9, 10]\n",
      "Sum of elements in list is =  55\n"
     ]
    }
   ],
   "source": [
    "print(\"Enter values to list\")\n",
    "list1=list(map(int,input().split()))\n",
    "print(\"Given List = \",list1)\n",
    "sum1=0\n",
    "for i in list1:\n",
    "    sum1+=i\n",
    "print(\"Sum of elements in list is = \",sum1)\n",
    "\n",
    "# OR\n",
    "#print(\"Sum of elements in list is = \",sum(list1))"
   ]
  },
  {
   "cell_type": "markdown",
   "id": "c19ac045",
   "metadata": {},
   "source": [
    "### 2. Write a Python program to Multiply all numbers in the list?"
   ]
  },
  {
   "cell_type": "code",
   "execution_count": 19,
   "id": "8b49dfe6",
   "metadata": {},
   "outputs": [
    {
     "name": "stdout",
     "output_type": "stream",
     "text": [
      "Enter values to list\n",
      "1 2 3 4 5\n",
      "Given List =  [1, 2, 3, 4, 5]\n",
      "Multiplication of elements in list is =  120\n"
     ]
    }
   ],
   "source": [
    "print(\"Enter values to list\")\n",
    "list2=list(map(int,input().split()))\n",
    "print(\"Given List = \",list2)\n",
    "mul=1\n",
    "for i in list2:\n",
    "    mul*=i\n",
    "print(\"Multiplication of elements in list is = \",mul)"
   ]
  },
  {
   "cell_type": "markdown",
   "id": "95cfb1d9",
   "metadata": {},
   "source": [
    "### 3. Write a Python program to find smallest number in a list?"
   ]
  },
  {
   "cell_type": "code",
   "execution_count": 18,
   "id": "042040ff",
   "metadata": {},
   "outputs": [
    {
     "name": "stdout",
     "output_type": "stream",
     "text": [
      "Enter values to list\n",
      "-8 -100 1 88 23 -1001\n",
      "Given List =  [-8, -100, 1, 88, 23, -1001]\n",
      "Smallest number in given list is =  -1001\n"
     ]
    }
   ],
   "source": [
    "print(\"Enter values to list\")\n",
    "list3=list(map(int,input().split()))\n",
    "print(\"Given List = \",list3)\n",
    "min1=list3[0]\n",
    "for i in list3:\n",
    "    if i < min1:\n",
    "        min1=i\n",
    "print(\"Smallest number in given list is = \",min1)\n",
    "#Or\n",
    "#print(\"Smallest number in given list is = \",min1(list3))"
   ]
  },
  {
   "cell_type": "markdown",
   "id": "d11475ac",
   "metadata": {},
   "source": [
    "### 4. Write a Python program to find largest number in a list?"
   ]
  },
  {
   "cell_type": "code",
   "execution_count": 17,
   "id": "3611c08d",
   "metadata": {},
   "outputs": [
    {
     "name": "stdout",
     "output_type": "stream",
     "text": [
      "Enter values to list\n",
      "-100 1 2 3 30000\n",
      "Given List =  [-100, 1, 2, 3, 30000]\n",
      "Largest number in given list is =  30000\n"
     ]
    }
   ],
   "source": [
    "print(\"Enter values to list\")\n",
    "list4=list(map(int,input().split()))\n",
    "print(\"Given List = \",list4)\n",
    "max1=list4[0]\n",
    "for i in list4:\n",
    "    if i > max1:\n",
    "        max1=i\n",
    "print(\"Largest number in given list is = \",max1)\n",
    "#OR\n",
    "#print(\"Largest number in given list is = \",max(list4))"
   ]
  },
  {
   "cell_type": "markdown",
   "id": "94c2f4cf",
   "metadata": {},
   "source": [
    "### 5. Write a Python program to find second largest number in a list?"
   ]
  },
  {
   "cell_type": "code",
   "execution_count": 16,
   "id": "011bede7",
   "metadata": {},
   "outputs": [
    {
     "name": "stdout",
     "output_type": "stream",
     "text": [
      "Enter values to list\n",
      "121 133 67 78 144\n",
      "Given List =  [121, 133, 67, 78, 144]\n",
      "Second Largest number in given list is =  133\n"
     ]
    }
   ],
   "source": [
    "print(\"Enter values to list\")\n",
    "list5=list(map(int,input().split()))\n",
    "print(\"Given List = \",list5)\n",
    "second_largest=list5[0]\n",
    "largest=list5[0]\n",
    "for i in list5:\n",
    "    if i>largest:\n",
    "        second_largest=largest\n",
    "        largest=i\n",
    "    elif i>second_largest and i<largest:\n",
    "        second_largest=i\n",
    "print(\"Second Largest number in given list is = \",second_largest)\n",
    "#Or\n",
    "#print(\"Second Largest number in given list is = \",sorted(list5)[-2])"
   ]
  },
  {
   "cell_type": "markdown",
   "id": "f4cb0e4b",
   "metadata": {},
   "source": [
    "### 6. Write a Python program to find N largest elements from a list?"
   ]
  },
  {
   "cell_type": "code",
   "execution_count": 15,
   "id": "bd86c206",
   "metadata": {},
   "outputs": [
    {
     "name": "stdout",
     "output_type": "stream",
     "text": [
      "Enter values to list\n",
      "10 11 6 7 32 12 101 25 45\n",
      "Given List =  [10, 11, 6, 7, 32, 12, 101, 25, 45]\n",
      "Enter no of largest elements : 3\n",
      "3 largest elements from a list\n",
      "[101, 45, 32]\n"
     ]
    }
   ],
   "source": [
    "print(\"Enter values to list\")\n",
    "list6=list(map(int,input().split()))\n",
    "print(\"Given List = \",list6)\n",
    "n=int(input(\"Enter no of largest elements : \"))\n",
    "result_list = []\n",
    "for i in range(0, n):\n",
    "    max1 = 0\n",
    "    for j in range(len(list6)):    \n",
    "        if list6[j] > max1:\n",
    "            max1 = list6[j];\n",
    "    list6.remove(max1);\n",
    "    result_list.append(max1)\n",
    "print(f\"{n} largest elements from a list\")\n",
    "print(result_list)"
   ]
  },
  {
   "cell_type": "markdown",
   "id": "db3b9928",
   "metadata": {},
   "source": [
    "### 7. Write a Python program to print even numbers in a list?"
   ]
  },
  {
   "cell_type": "code",
   "execution_count": 14,
   "id": "529dc417",
   "metadata": {},
   "outputs": [
    {
     "name": "stdout",
     "output_type": "stream",
     "text": [
      "Enter values to list\n",
      "10 11 6 7 32 12 101 25 45 122 76 22\n",
      "Given List =  [10, 11, 6, 7, 32, 12, 101, 25, 45, 122, 76, 22]\n",
      "even numbers in given  list are\n",
      "[10, 6, 32, 12, 122, 76, 22]\n"
     ]
    }
   ],
   "source": [
    "print(\"Enter values to list\")\n",
    "list7=list(map(int,input().split()))\n",
    "print(\"Given List = \",list7)\n",
    "even_list=[i for i in list7 if i%2==0]\n",
    "print(\"even numbers in given  list are\")\n",
    "print(even_list)"
   ]
  },
  {
   "cell_type": "markdown",
   "id": "abd1d997",
   "metadata": {},
   "source": [
    "### 8. Write a Python program to print odd numbers in a List?"
   ]
  },
  {
   "cell_type": "code",
   "execution_count": 13,
   "id": "f31e3804",
   "metadata": {},
   "outputs": [
    {
     "name": "stdout",
     "output_type": "stream",
     "text": [
      "Enter values to list\n",
      "10 11 6 7 32 12 101 25 45 122 76 22\n",
      "Given List =  [10, 11, 6, 7, 32, 12, 101, 25, 45, 122, 76, 22]\n",
      "odd numbers in given  list are\n",
      "[11, 7, 101, 25, 45]\n"
     ]
    }
   ],
   "source": [
    "print(\"Enter values to list\")\n",
    "list8=list(map(int,input().split()))\n",
    "print(\"Given List = \",list8)\n",
    "odd_list=[i for i in list8 if i%2!=0]\n",
    "print(\"odd numbers in given  list are\")\n",
    "print(odd_list)"
   ]
  },
  {
   "cell_type": "markdown",
   "id": "f0d5c398",
   "metadata": {},
   "source": [
    "### 9. Write a Python program to Remove empty List from List?"
   ]
  },
  {
   "cell_type": "code",
   "execution_count": 12,
   "id": "dd681f80",
   "metadata": {},
   "outputs": [
    {
     "name": "stdout",
     "output_type": "stream",
     "text": [
      "Enter values to list\n",
      "11 22 33 [] 44 55 66\n",
      "Given List =  [11, 22, 33, [], 44, 55, 66]\n",
      "[] (empty list) found in given list at position  3\n",
      "New list after removing empty list is  [11, 22, 33, 44, 55, 66]\n"
     ]
    }
   ],
   "source": [
    "print(\"Enter values to list\")\n",
    "list9=list(map(eval,input().split()))\n",
    "print(\"Given List = \",list9)\n",
    "\n",
    "if [] in list9:\n",
    "    print(\"[] (empty list) found in given list at position \",list9.index([]))\n",
    "    k=list9.index([])\n",
    "    list9.pop(k)\n",
    "    print(\"New list after removing empty list is \",list9)\n",
    "else:\n",
    "    print(\"There is no [](empty list) in the given list\")"
   ]
  },
  {
   "cell_type": "markdown",
   "id": "55c69049",
   "metadata": {},
   "source": [
    "### 10. Write a Python program to Cloning or Copying a list?"
   ]
  },
  {
   "cell_type": "code",
   "execution_count": 11,
   "id": "d34f34c1",
   "metadata": {},
   "outputs": [
    {
     "name": "stdout",
     "output_type": "stream",
     "text": [
      "Enter values to list\n",
      "1 2 3 4 5 [11,22,33,44] 55\n",
      "Given List =  [1, 2, 3, 4, 5, [11, 22, 33, 44], 55]\n",
      "Copy or clone of the given list =  [1, 2, 3, 4, 5, [11, 22, 33, 44], 55]\n"
     ]
    }
   ],
   "source": [
    "print(\"Enter values to list\")\n",
    "list10=list(map(eval,input().split()))\n",
    "print(\"Given List = \",list10)\n",
    "copy_list = list()\n",
    "\n",
    "for i in list10:\n",
    "    copy_list.append(i)\n",
    "    \n",
    "print(\"Copy or clone of the given list = \",copy_list)"
   ]
  },
  {
   "cell_type": "markdown",
   "id": "c5ac513b",
   "metadata": {},
   "source": [
    "### 11. Write a Python program to Count occurrences of an element in a list?"
   ]
  },
  {
   "cell_type": "code",
   "execution_count": 9,
   "id": "88997210",
   "metadata": {},
   "outputs": [
    {
     "name": "stdout",
     "output_type": "stream",
     "text": [
      "Enter values to list\n",
      "11 22 1 2 11 55 11 3 4 90\n",
      "Given List =  [11, 22, 1, 2, 11, 55, 11, 3, 4, 90]\n",
      "Enter the value to find it's count of occurences = 11\n",
      "No of times 11 occurs in [11, 22, 1, 2, 11, 55, 11, 3, 4, 90] is 3\n"
     ]
    }
   ],
   "source": [
    "print(\"Enter values to list\")\n",
    "list11=list(map(eval,input().split()))\n",
    "print(\"Given List = \",list11)\n",
    "n=int(input(\"Enter the value to find it's count of occurences = \"))\n",
    "def occurence(list11,n):\n",
    "    occ=0\n",
    "    for i in list11:\n",
    "        if i==n:\n",
    "            occ+=1\n",
    "    return occ\n",
    "print(f\"No of times {n} occurs in {list11} is {occurence(list11,n)}\")\n",
    "#or\n",
    "#list11.count(11)"
   ]
  }
 ],
 "metadata": {
  "kernelspec": {
   "display_name": "Python 3 (ipykernel)",
   "language": "python",
   "name": "python3"
  },
  "language_info": {
   "codemirror_mode": {
    "name": "ipython",
    "version": 3
   },
   "file_extension": ".py",
   "mimetype": "text/x-python",
   "name": "python",
   "nbconvert_exporter": "python",
   "pygments_lexer": "ipython3",
   "version": "3.9.7"
  }
 },
 "nbformat": 4,
 "nbformat_minor": 5
}
