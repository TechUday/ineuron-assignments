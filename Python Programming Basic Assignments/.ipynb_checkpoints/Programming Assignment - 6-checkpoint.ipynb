{
 "cells": [
  {
   "cell_type": "markdown",
   "id": "0925f862",
   "metadata": {},
   "source": [
    "### Name: Veeragani Uday Sandeep\n",
    "### Email: udaysandeep.v9@gmail.com\n",
    "### Assignment - 6"
   ]
  },
  {
   "cell_type": "markdown",
   "id": "af78ce03",
   "metadata": {},
   "source": [
    "### 1. Write a Python Program to Display Fibonacci Sequence Using Recursion?"
   ]
  },
  {
   "cell_type": "code",
   "execution_count": 1,
   "id": "7a0f2927",
   "metadata": {},
   "outputs": [
    {
     "name": "stdout",
     "output_type": "stream",
     "text": [
      "No of terms : 10\n",
      "Fibonacci sequence:\n",
      "0\n",
      "1\n",
      "1\n",
      "2\n",
      "3\n",
      "5\n",
      "8\n",
      "13\n",
      "21\n",
      "34\n"
     ]
    }
   ],
   "source": [
    "def fibo(n):\n",
    "    if n<=1:\n",
    "        return n\n",
    "    else:\n",
    "        return fibo(n-1)+fibo(n-2)\n",
    "n=int(input(\"No of terms : \"))\n",
    "if n<0:\n",
    "    print(\"Enter positive number\")\n",
    "else:\n",
    "    print(\"Fibonacci sequence:\")  \n",
    "    for i in range(n):  \n",
    "        print(fibo(i))  "
   ]
  },
  {
   "cell_type": "markdown",
   "id": "14358bd8",
   "metadata": {},
   "source": [
    "### 2. Write a Python Program to Find Factorial of Number Using Recursion?"
   ]
  },
  {
   "cell_type": "code",
   "execution_count": 5,
   "id": "6e6cd676",
   "metadata": {},
   "outputs": [
    {
     "name": "stdout",
     "output_type": "stream",
     "text": [
      "Enter number to find it's factorial : 6\n",
      "Factorial of 6 is = 720\n"
     ]
    }
   ],
   "source": [
    "def fact(n):\n",
    "    if n==1 or n==0:\n",
    "        return 1\n",
    "    else:\n",
    "        return n*fact(n-1)\n",
    "n=int(input(\"Enter number to find it's factorial : \"))\n",
    "if n<0:\n",
    "    print(\"Enter positive number\")\n",
    "else:\n",
    "    print(f\"Factorial of {n} is = {fact(n)}\")  \n",
    "    "
   ]
  },
  {
   "cell_type": "markdown",
   "id": "2c6c3ce8",
   "metadata": {},
   "source": [
    "### 3. Write a Python Program to calculate your Body Mass Index?"
   ]
  },
  {
   "cell_type": "code",
   "execution_count": 9,
   "id": "aba5260c",
   "metadata": {},
   "outputs": [
    {
     "name": "stdout",
     "output_type": "stream",
     "text": [
      "Enter your Weight(kgs): 87\n",
      "Enter your Height(mts): 2.2\n",
      "Your're BMI is 17.98 and status is Underweight \n"
     ]
    }
   ],
   "source": [
    "def calculateBMI():\n",
    "    weight = float(input('Enter your Weight(kgs): '))\n",
    "    height = float(input('Enter your Height(mts): '))\n",
    "    bmi = weight/height**2\n",
    "    if (bmi < 18.5):\n",
    "        status = 'Underweight'\n",
    "    elif (bmi >= 18.5 and bmi < 24.9):\n",
    "        status = 'Healthy'\n",
    "    elif (bmi >= 24.9 and bmi < 30):\n",
    "        status = 'Overweight'\n",
    "    elif (bmi >=30):\n",
    "        status = 'Suffering from Obesity'\n",
    "    print(f'Your\\'re BMI is {round(bmi,2)} and status is {status} ')\n",
    "calculateBMI()"
   ]
  },
  {
   "cell_type": "markdown",
   "id": "95b6cf65",
   "metadata": {},
   "source": [
    "### 4. Write a Python Program to calculate the natural logarithm of any number?"
   ]
  },
  {
   "cell_type": "code",
   "execution_count": 14,
   "id": "7ecf4d02",
   "metadata": {},
   "outputs": [
    {
     "name": "stdout",
     "output_type": "stream",
     "text": [
      "Enter the number to find it's natural algorithm = 16\n",
      "Natural algorithm of 16 is 2.772588722239781\n"
     ]
    }
   ],
   "source": [
    "import math\n",
    "n=int(input(\"Enter the number to find it's natural algorithm = \"))\n",
    "def nat_log(n):\n",
    "    return math.log(n)\n",
    "print(f\"Natural algorithm of {n} is {nat_log(n)}\")"
   ]
  },
  {
   "cell_type": "markdown",
   "id": "619e37b0",
   "metadata": {},
   "source": [
    "### 5. Write a Python Program for cube sum of first n natural numbers?"
   ]
  },
  {
   "cell_type": "code",
   "execution_count": 22,
   "id": "a37cfd36",
   "metadata": {},
   "outputs": [
    {
     "name": "stdout",
     "output_type": "stream",
     "text": [
      "Enter the no of Natural Numbers: 5\n",
      "The Cube Sum of First 5 Natural Numbers is 225\n"
     ]
    }
   ],
   "source": [
    "def cubeOfNaturalNumbers(num):\n",
    "    \n",
    "    result = pow(((num * (num +1))//2),2)\n",
    "    return result\n",
    "    \n",
    "num = int(input(\"Enter the no of Natural Numbers: \"))\n",
    "print(f'The Cube Sum of First {num} Natural Numbers is {cubeOfNaturalNumbers(num)}')\n"
   ]
  }
 ],
 "metadata": {
  "kernelspec": {
   "display_name": "Python 3 (ipykernel)",
   "language": "python",
   "name": "python3"
  },
  "language_info": {
   "codemirror_mode": {
    "name": "ipython",
    "version": 3
   },
   "file_extension": ".py",
   "mimetype": "text/x-python",
   "name": "python",
   "nbconvert_exporter": "python",
   "pygments_lexer": "ipython3",
   "version": "3.9.7"
  }
 },
 "nbformat": 4,
 "nbformat_minor": 5
}
