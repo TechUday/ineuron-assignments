{
 "cells": [
  {
   "cell_type": "markdown",
   "id": "324d1a58",
   "metadata": {},
   "source": [
    "### Name: Varigonda Sai Nirmal Vignu\n",
    "### Email: varigondanirmal1@gmail.com\n",
    "### Programming Assignment - 2"
   ]
  },
  {
   "cell_type": "markdown",
   "id": "afcaa889",
   "metadata": {},
   "source": [
    "### 1. Write a Python program to convert kilometers to miles?\n"
   ]
  },
  {
   "cell_type": "code",
   "execution_count": 1,
   "id": "a37286ed",
   "metadata": {},
   "outputs": [
    {
     "name": "stdout",
     "output_type": "stream",
     "text": [
      "Enter no of kilometers = 3\n",
      "3.0 km in miles = 1.8641135699999998 miles\n"
     ]
    }
   ],
   "source": [
    "## 1 km = 0.62137119 miles. \n",
    "km=float(input(\"Enter no of kilometers = \"))\n",
    "miles=km*0.62137119\n",
    "print(f\"{km} km in miles = {miles} miles\")"
   ]
  },
  {
   "cell_type": "markdown",
   "id": "7aa2f869",
   "metadata": {},
   "source": [
    "### 2. Write a Python program to convert Celsius to Fahrenheit?"
   ]
  },
  {
   "cell_type": "code",
   "execution_count": 3,
   "id": "e5732782",
   "metadata": {},
   "outputs": [
    {
     "name": "stdout",
     "output_type": "stream",
     "text": [
      "Enter temperature in celsius : 38\n",
      "38° Celsius is Equal to 100.4° Farenheit\n"
     ]
    }
   ],
   "source": [
    "# Farenheit = (celsius*(9/5))+32\n",
    "\n",
    "celsius = int(input(\"Enter temperature in celsius : \"))\n",
    "Farenheit = (celsius*(9/5))+32\n",
    "print(f\"{celsius}° Celsius is Equal to {Farenheit}° Farenheit\")"
   ]
  },
  {
   "cell_type": "markdown",
   "id": "e837ea70",
   "metadata": {},
   "source": [
    "### 3. Write a Python program to display calendar?"
   ]
  },
  {
   "cell_type": "code",
   "execution_count": 5,
   "id": "1201aafd",
   "metadata": {},
   "outputs": [
    {
     "name": "stdout",
     "output_type": "stream",
     "text": [
      "Enter year to display calendar = 2022\n",
      "                                  2022\n",
      "\n",
      "      January                   February                   March\n",
      "Mo Tu We Th Fr Sa Su      Mo Tu We Th Fr Sa Su      Mo Tu We Th Fr Sa Su\n",
      "                1  2          1  2  3  4  5  6          1  2  3  4  5  6\n",
      " 3  4  5  6  7  8  9       7  8  9 10 11 12 13       7  8  9 10 11 12 13\n",
      "10 11 12 13 14 15 16      14 15 16 17 18 19 20      14 15 16 17 18 19 20\n",
      "17 18 19 20 21 22 23      21 22 23 24 25 26 27      21 22 23 24 25 26 27\n",
      "24 25 26 27 28 29 30      28                        28 29 30 31\n",
      "31\n",
      "\n",
      "       April                      May                       June\n",
      "Mo Tu We Th Fr Sa Su      Mo Tu We Th Fr Sa Su      Mo Tu We Th Fr Sa Su\n",
      "             1  2  3                         1             1  2  3  4  5\n",
      " 4  5  6  7  8  9 10       2  3  4  5  6  7  8       6  7  8  9 10 11 12\n",
      "11 12 13 14 15 16 17       9 10 11 12 13 14 15      13 14 15 16 17 18 19\n",
      "18 19 20 21 22 23 24      16 17 18 19 20 21 22      20 21 22 23 24 25 26\n",
      "25 26 27 28 29 30         23 24 25 26 27 28 29      27 28 29 30\n",
      "                          30 31\n",
      "\n",
      "        July                     August                  September\n",
      "Mo Tu We Th Fr Sa Su      Mo Tu We Th Fr Sa Su      Mo Tu We Th Fr Sa Su\n",
      "             1  2  3       1  2  3  4  5  6  7                1  2  3  4\n",
      " 4  5  6  7  8  9 10       8  9 10 11 12 13 14       5  6  7  8  9 10 11\n",
      "11 12 13 14 15 16 17      15 16 17 18 19 20 21      12 13 14 15 16 17 18\n",
      "18 19 20 21 22 23 24      22 23 24 25 26 27 28      19 20 21 22 23 24 25\n",
      "25 26 27 28 29 30 31      29 30 31                  26 27 28 29 30\n",
      "\n",
      "      October                   November                  December\n",
      "Mo Tu We Th Fr Sa Su      Mo Tu We Th Fr Sa Su      Mo Tu We Th Fr Sa Su\n",
      "                1  2          1  2  3  4  5  6                1  2  3  4\n",
      " 3  4  5  6  7  8  9       7  8  9 10 11 12 13       5  6  7  8  9 10 11\n",
      "10 11 12 13 14 15 16      14 15 16 17 18 19 20      12 13 14 15 16 17 18\n",
      "17 18 19 20 21 22 23      21 22 23 24 25 26 27      19 20 21 22 23 24 25\n",
      "24 25 26 27 28 29 30      28 29 30                  26 27 28 29 30 31\n",
      "31\n",
      "\n"
     ]
    }
   ],
   "source": [
    "import calendar\n",
    "year=int(input(\"Enter year to display calendar = \"))\n",
    "print(calendar.calendar(year))"
   ]
  },
  {
   "cell_type": "markdown",
   "id": "3d0024c1",
   "metadata": {},
   "source": [
    "### 4. Write a Python program to solve quadratic equation?"
   ]
  },
  {
   "cell_type": "code",
   "execution_count": 11,
   "id": "8e0f1888",
   "metadata": {},
   "outputs": [
    {
     "name": "stdout",
     "output_type": "stream",
     "text": [
      "Enter a value: 1\n",
      "Enter b value: 2\n",
      "Enter c value: 1\n",
      "\n",
      "For quad eq. 1x^2 + (2)x^1 + 1 = 0\n",
      "Solutions are Real and they are =  -1.0 -1.0\n"
     ]
    }
   ],
   "source": [
    "import cmath\n",
    "import math\n",
    "\n",
    "a = int(input('Enter a value: '))\n",
    "b = int(input('Enter b value: '))\n",
    "c = int(input('Enter c value: '))\n",
    "\n",
    "d = b**2-4*a*c\n",
    "print(f'\\nFor quad eq. {a}x^2 + ({b})x^1 + {c} = 0')\n",
    "if d == 0:\n",
    "    r1 = -b/2*a\n",
    "    r2 = -b/2*a\n",
    "    print(\"Solutions are Real and they are = \",r1,r2)\n",
    "elif d > 0:\n",
    "    r1 = (-b-math.sqrt(d))/(2 * a)\n",
    "    r2 = (-b+math.sqrt(d))/(2 * a)\n",
    "    print(\"Solutions are Real and different and they are = \",r1,r2)\n",
    "else:\n",
    "    r1 = (-b-cmath.sqrt(d))/(2 * a)\n",
    "    r2 = (-b+cmath.sqrt(d))/(2 * a)\n",
    "    print(\"Solutions are Imaginary and they are = \",r1,r2)\n",
    "\n",
    "\n",
    "\n",
    "\n"
   ]
  },
  {
   "cell_type": "markdown",
   "id": "5c7eca03",
   "metadata": {},
   "source": [
    "\n",
    "### 5. Write a Python program to swap two variables without temp variable?"
   ]
  },
  {
   "cell_type": "code",
   "execution_count": 13,
   "id": "e7a842d0",
   "metadata": {},
   "outputs": [
    {
     "name": "stdout",
     "output_type": "stream",
     "text": [
      "Enter first value = 12\n",
      "Enter second value = 13\n",
      "Before Swapping\n",
      "n1 = 12 and n2 = 13\n",
      "------------------------------------------------------------------\n",
      "After Swapping\n",
      "n1 = 13 and n2 = 12\n"
     ]
    }
   ],
   "source": [
    "n1=int(input('Enter first value = '))\n",
    "n2=int(input('Enter second value = '))\n",
    "print(\"Before Swapping\")\n",
    "print(f\"n1 = {n1} and n2 = {n2}\")\n",
    "n2=n2+n1\n",
    "n1=n2-n1\n",
    "n2=n2-n1\n",
    "print(\"------------------------------------------------------------------\")\n",
    "print(\"After Swapping\")\n",
    "print(f\"n1 = {n1} and n2 = {n2}\")"
   ]
  }
 ],
 "metadata": {
  "kernelspec": {
   "display_name": "Python 3 (ipykernel)",
   "language": "python",
   "name": "python3"
  },
  "language_info": {
   "codemirror_mode": {
    "name": "ipython",
    "version": 3
   },
   "file_extension": ".py",
   "mimetype": "text/x-python",
   "name": "python",
   "nbconvert_exporter": "python",
   "pygments_lexer": "ipython3",
   "version": "3.9.12"
  }
 },
 "nbformat": 4,
 "nbformat_minor": 5
}
