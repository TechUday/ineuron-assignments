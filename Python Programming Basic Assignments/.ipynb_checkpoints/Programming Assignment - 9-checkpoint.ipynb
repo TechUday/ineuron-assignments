{
 "cells": [
  {
   "cell_type": "markdown",
   "id": "de37f010",
   "metadata": {},
   "source": [
    "### Name: Veeragani Uday Sandeep\n",
    "### Email: udaysandeep.v9@gmail.com\n",
    "### Assignment - 9"
   ]
  },
  {
   "cell_type": "markdown",
   "id": "da03f168",
   "metadata": {},
   "source": [
    "### 1. Write a Python program to check if the given number is a Disarium Number?"
   ]
  },
  {
   "cell_type": "markdown",
   "id": "d3b82224",
   "metadata": {},
   "source": [
    "A number is called Disarium if sum of its digits powered with their respective positions is equal to the number itself."
   ]
  },
  {
   "cell_type": "code",
   "execution_count": 10,
   "id": "bde5a9c4",
   "metadata": {},
   "outputs": [
    {
     "name": "stdout",
     "output_type": "stream",
     "text": [
      "Enter a number to check it is Disarium Number or not = 135\n",
      "135 is a Disarium number\n",
      "Enter a number to check it is Disarium Number or not = 24\n",
      "24 is not a Disarium number\n"
     ]
    }
   ],
   "source": [
    "def disarium():\n",
    "    n=int(input(\"Enter a number to check it is Disarium Number or not = \"))\n",
    "    k=n\n",
    "    len_n=len(str(n))\n",
    "    sum_d=0\n",
    "    while len_n>0:\n",
    "        rem=n%10\n",
    "        sum_d+=rem**len_n\n",
    "        n=n//10\n",
    "        len_n-=1\n",
    "    if sum_d==k:\n",
    "        print(f\"{k} is a Disarium number\")\n",
    "    else:\n",
    "        print(f\"{k} is not a Disarium number\")\n",
    "    \n",
    "disarium()\n",
    "disarium()"
   ]
  },
  {
   "cell_type": "markdown",
   "id": "a3ec4857",
   "metadata": {},
   "source": [
    "### 2. Write a Python program to print all disarium numbers between 1 to 100?"
   ]
  },
  {
   "cell_type": "code",
   "execution_count": 13,
   "id": "7934a36e",
   "metadata": {},
   "outputs": [
    {
     "name": "stdout",
     "output_type": "stream",
     "text": [
      "All disarium numbers between 1 to 100 are :\n",
      "1 2 3 4 5 6 7 8 9 89 "
     ]
    }
   ],
   "source": [
    "def disariumOrNot(n):\n",
    "    k=n\n",
    "    len_n=len(str(n))\n",
    "    sum_d=0\n",
    "    while len_n>0:\n",
    "        rem=n%10\n",
    "        sum_d+=rem**len_n\n",
    "        n=n//10\n",
    "        len_n-=1\n",
    "    if sum_d==k:\n",
    "        return True\n",
    "    else:\n",
    "        return False\n",
    "print(\"All disarium numbers between 1 to 100 are :\")\n",
    "for i in range(1,101):\n",
    "    if disariumOrNot(i):\n",
    "        print(i,end=\" \")"
   ]
  },
  {
   "cell_type": "markdown",
   "id": "f363e5d0",
   "metadata": {},
   "source": [
    "### 3. Write a Python program to check if the given number is Happy Number?"
   ]
  },
  {
   "cell_type": "markdown",
   "id": "1c2bc44b",
   "metadata": {},
   "source": [
    "The happy number can be defined as a number which will yield 1 when it is replaced by the sum of the square of its digits repeatedly"
   ]
  },
  {
   "cell_type": "code",
   "execution_count": 27,
   "id": "6a81cab8",
   "metadata": {},
   "outputs": [
    {
     "name": "stdout",
     "output_type": "stream",
     "text": [
      "Enter a number to check whether number is Happy number or not = 112\n",
      "112 is not a Happy number\n",
      "Enter a number to check whether number is Happy number or not = 82\n",
      "82 is a Happy number\n"
     ]
    }
   ],
   "source": [
    "def sum_sq(n):\n",
    "    sum1=0\n",
    "    while n!=0:\n",
    "        rem=n%10\n",
    "        sum1+=rem**2\n",
    "        n=n//10\n",
    "    return sum1\n",
    "def happy():\n",
    "    n=int(input(\"Enter a number to check whether number is Happy number or not = \"))\n",
    "    sum_sqd=n\n",
    "    while(sum_sqd!=1 and sum_sqd!=4):\n",
    "        sum_sqd=sum_sq(sum_sqd)\n",
    "    if sum_sqd==1:\n",
    "        print(f\"{n} is a Happy number\")\n",
    "    elif sum_sqd==4:\n",
    "        print(f\"{n} is not a Happy number\")\n",
    "happy()\n",
    "happy()\n"
   ]
  },
  {
   "cell_type": "markdown",
   "id": "c452e470",
   "metadata": {},
   "source": [
    "### 4. Write a Python program to print all happy numbers between 1 and 100?"
   ]
  },
  {
   "cell_type": "code",
   "execution_count": 28,
   "id": "929085f7",
   "metadata": {},
   "outputs": [
    {
     "name": "stdout",
     "output_type": "stream",
     "text": [
      "All Happy numbers between 1 to 100 are :\n",
      "1 7 10 13 19 23 28 31 32 44 49 68 70 79 82 86 91 94 97 100 "
     ]
    }
   ],
   "source": [
    "def sum_sq(n):\n",
    "    sum1=0\n",
    "    while n!=0:\n",
    "        rem=n%10\n",
    "        sum1+=rem**2\n",
    "        n=n//10\n",
    "    return sum1\n",
    "def happy(n):   \n",
    "    sum_sqd=n\n",
    "    while(sum_sqd!=1 and sum_sqd!=4):\n",
    "        sum_sqd=sum_sq(sum_sqd)\n",
    "    if sum_sqd==1: return True\n",
    "    elif sum_sqd==4: return False\n",
    "print(\"All Happy numbers between 1 to 100 are :\")\n",
    "for i in range(1,101):\n",
    "    if happy(i):\n",
    "        print(i,end=\" \")"
   ]
  },
  {
   "cell_type": "markdown",
   "id": "34886791",
   "metadata": {},
   "source": [
    "### 5. Write a Python program to determine whether the given number is a Harshad Number?"
   ]
  },
  {
   "cell_type": "markdown",
   "id": "34710c62",
   "metadata": {},
   "source": [
    " An integer number in base 10 which is divisible by the sum of its digits is called a Harshad Number."
   ]
  },
  {
   "cell_type": "code",
   "execution_count": 31,
   "id": "6df754bd",
   "metadata": {},
   "outputs": [
    {
     "name": "stdout",
     "output_type": "stream",
     "text": [
      "Enter a number to check whether number is Harshad number or not = 18\n",
      "18 is a Harshad number\n",
      "Enter a number to check whether number is Harshad number or not = 15\n",
      "15 is not a Harshad number\n"
     ]
    }
   ],
   "source": [
    "def harshad_n():\n",
    "    n=int(input(\"Enter a number to check whether number is Harshad number or not = \"))\n",
    "    k=n\n",
    "    sum1=0\n",
    "    rem=0\n",
    "    while n!=0:\n",
    "        rem=n%10\n",
    "        sum1+=rem\n",
    "        n=n//10\n",
    "    if k%sum1==0:\n",
    "        print(f\"{k} is a Harshad number\")\n",
    "    else:\n",
    "        print(f\"{k} is not a Harshad number\")\n",
    "harshad_n()\n",
    "harshad_n()"
   ]
  },
  {
   "cell_type": "markdown",
   "id": "188485f5",
   "metadata": {},
   "source": [
    "### 6. Write a Python program to print all pronic numbers between 1 and 100?"
   ]
  },
  {
   "cell_type": "markdown",
   "id": "2882977c",
   "metadata": {},
   "source": [
    "The pronic number is a product of two consecutive integers of the form: n(n+1).\n",
    "\n",
    "For example:\n",
    "\n",
    "6 = 2(2+1)= n(n+1),\n",
    "\n",
    "72 =8(8+1) = n(n+1)"
   ]
  },
  {
   "cell_type": "code",
   "execution_count": 35,
   "id": "2326f1c1",
   "metadata": {},
   "outputs": [
    {
     "name": "stdout",
     "output_type": "stream",
     "text": [
      "All pronic numbers between 1 and 100 are : \n",
      "2 6 12 20 30 42 56 72 90 "
     ]
    }
   ],
   "source": [
    "def pronic_no(n):\n",
    "    for i in range(1,n):\n",
    "        if i*(i+1)==n:\n",
    "            return True\n",
    "    else:\n",
    "        return False\n",
    "print(\"All pronic numbers between 1 and 100 are : \")\n",
    "for i in range(1,101):\n",
    "    if(pronic_no(i)):\n",
    "        print(i,end=\" \")"
   ]
  }
 ],
 "metadata": {
  "kernelspec": {
   "display_name": "Python 3 (ipykernel)",
   "language": "python",
   "name": "python3"
  },
  "language_info": {
   "codemirror_mode": {
    "name": "ipython",
    "version": 3
   },
   "file_extension": ".py",
   "mimetype": "text/x-python",
   "name": "python",
   "nbconvert_exporter": "python",
   "pygments_lexer": "ipython3",
   "version": "3.9.7"
  }
 },
 "nbformat": 4,
 "nbformat_minor": 5
}
