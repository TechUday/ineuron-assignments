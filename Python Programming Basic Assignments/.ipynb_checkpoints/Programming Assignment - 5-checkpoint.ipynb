{
 "cells": [
  {
   "cell_type": "markdown",
   "id": "0db0525c",
   "metadata": {},
   "source": [
    "### Name: Varigonda Sai Nirmal Vignu\n",
    "### Email: varigondanirmal1@gmail.com\n",
    "### Programming Assignment - 5"
   ]
  },
  {
   "cell_type": "markdown",
   "id": "022f18d3",
   "metadata": {},
   "source": [
    "### 1. Write a Python Program to Find LCM?"
   ]
  },
  {
   "cell_type": "code",
   "execution_count": 3,
   "id": "85712134",
   "metadata": {},
   "outputs": [
    {
     "name": "stdout",
     "output_type": "stream",
     "text": [
      "lcm of 2 and 10 is 10\n",
      "lcm of 2 and 3 is 6\n",
      "lcm of 5 and 45 is 45\n"
     ]
    }
   ],
   "source": [
    "def lcm(x, y):\n",
    "    if x>y:\n",
    "        greater=x\n",
    "    else:\n",
    "        greater=y\n",
    "    while True:\n",
    "        if((greater % x == 0) and (greater % y == 0)):\n",
    "            lc=greater\n",
    "            break\n",
    "        greater+=1\n",
    "    print(f\"lcm of {x} and {y} is {lc}\")\n",
    "lcm(2,10)\n",
    "lcm(2,3)\n",
    "lcm(5,45)"
   ]
  },
  {
   "cell_type": "markdown",
   "id": "dbcf9c03",
   "metadata": {},
   "source": [
    "### 2. Write a Python Program to Find HCF?"
   ]
  },
  {
   "cell_type": "code",
   "execution_count": 9,
   "id": "7860f2fc",
   "metadata": {},
   "outputs": [
    {
     "name": "stdout",
     "output_type": "stream",
     "text": [
      "The HCF of 6 and 12 is 6\n",
      "The HCF of 10 and 5 is 5\n",
      "The HCF of 12 and 23 is 1\n"
     ]
    }
   ],
   "source": [
    "def hcf(x,y):\n",
    "    if x>y:\n",
    "        smaller=y\n",
    "    else:\n",
    "        smaller=x\n",
    "    for i in range(1,smaller+1):\n",
    "        if((x%i == 0) and (y%i == 0)):\n",
    "            hc= i\n",
    "    print(f\"The HCF of {x} and {y} is {hc}\")\n",
    "hcf(6,12)\n",
    "hcf(10,5)\n",
    "hcf(12,23)"
   ]
  },
  {
   "cell_type": "markdown",
   "id": "d4bc9ae2",
   "metadata": {},
   "source": [
    "### 3. Write a Python Program to Convert Decimal to Binary, Octal and Hexadecimal?"
   ]
  },
  {
   "cell_type": "code",
   "execution_count": 10,
   "id": "7851f1fa",
   "metadata": {},
   "outputs": [
    {
     "name": "stdout",
     "output_type": "stream",
     "text": [
      "Enter a number10\n",
      "10 to its equivalent Binary number = 0b1010\n",
      "10 to its equivalent Octal number = 0o12\n",
      "10 to its equivalent Hexadecimal number = 0xa\n"
     ]
    }
   ],
   "source": [
    "n=int(input(\"Enter a number\"))\n",
    "def conversion(n):\n",
    "    print(f\"{n} to its equivalent Binary number = {bin(n)}\")\n",
    "    print(f\"{n} to its equivalent Octal number = {oct(n)}\")\n",
    "    print(f\"{n} to its equivalent Hexadecimal number = {hex(n)}\")\n",
    "conversion(n)"
   ]
  },
  {
   "cell_type": "markdown",
   "id": "1951cbe8",
   "metadata": {},
   "source": [
    "### 4. Write a Python Program To Find ASCII value of a character?"
   ]
  },
  {
   "cell_type": "code",
   "execution_count": 12,
   "id": "0d2d48dd",
   "metadata": {},
   "outputs": [
    {
     "name": "stdout",
     "output_type": "stream",
     "text": [
      "Enter a character: $\n",
      "ASCII value of $ is 36\n"
     ]
    }
   ],
   "source": [
    "char = input(\"Enter a character: \")\n",
    "try:\n",
    "    ASCII = ord(char)\n",
    "    print(f\"ASCII value of {char} is {ASCII}\")\n",
    "except Exception as e:\n",
    "    print(e)"
   ]
  },
  {
   "cell_type": "markdown",
   "id": "9af75033",
   "metadata": {},
   "source": [
    "### 5. Write a Python Program to Make a Simple Calculator with 4 basic mathematical operations?"
   ]
  },
  {
   "cell_type": "code",
   "execution_count": 17,
   "id": "c5329a98",
   "metadata": {},
   "outputs": [
    {
     "name": "stdout",
     "output_type": "stream",
     "text": [
      " Operations in Calculator        \n",
      "1.Addition(+)        \n",
      "2.Division(-)        \n",
      "2.Multiplication(*)        \n",
      "4.Division(/)        \n",
      "3.Stop(0)\n",
      "\n",
      "Enter an operator from above list to perform : +\n",
      "Enter first number = 12\n",
      "Enter Seconf Number = 13\n",
      "--------------------------------\n",
      "result:\n",
      "12 + 13 = 25\n",
      "Enter an operator from above list to perform : -\n",
      "Enter first number = 45\n",
      "Enter Seconf Number = 12\n",
      "--------------------------------\n",
      "result:\n",
      "45 - 12 = 33\n",
      "Enter an operator from above list to perform : *\n",
      "Enter first number = 7\n",
      "Enter Seconf Number = 6\n",
      "--------------------------------\n",
      "result:\n",
      "7 * 6 = 42\n",
      "Enter an operator from above list to perform : /\n",
      "Enter first number = 58\n",
      "Enter Seconf Number = 4\n",
      "--------------------------------\n",
      "result:\n",
      "58 / 4 = 14.5\n",
      "Enter an operator from above list to perform : 0\n",
      "Calculator shutting down\n"
     ]
    }
   ],
   "source": [
    "\n",
    "print(' Operations in Calculator\\\n",
    "        \\n1.Addition(+)\\\n",
    "        \\n2.Division(-)\\\n",
    "        \\n2.Multiplication(*)\\\n",
    "        \\n4.Division(/)\\\n",
    "        \\n3.Stop(0)\\n')\n",
    "   \n",
    "while True:\n",
    "    op=input(\"Enter an operator from above list to perform : \")\n",
    "    if op==\"0\":\n",
    "        print(\"Calculator shutting down\")\n",
    "        break\n",
    "    elif op==\"+\":\n",
    "        n1=int(input(\"Enter first number = \"))\n",
    "        n2=int(input(\"Enter Seconf Number = \"))\n",
    "        print(\"--------------------------------\")\n",
    "        print(\"result:\")\n",
    "        print(f\"{n1} + {n2} = {n1+n2}\")\n",
    "    elif op==\"-\":\n",
    "        n1=int(input(\"Enter first number = \"))\n",
    "        n2=int(input(\"Enter Seconf Number = \"))\n",
    "        print(\"--------------------------------\")\n",
    "        print(\"result:\")\n",
    "        print(f\"{n1} - {n2} = {n1-n2}\")\n",
    "    elif op==\"*\":\n",
    "        n1=int(input(\"Enter first number = \"))\n",
    "        n2=int(input(\"Enter Seconf Number = \"))\n",
    "        print(\"--------------------------------\")\n",
    "        print(\"result:\")\n",
    "        print(f\"{n1} * {n2} = {n1*n2}\")\n",
    "    elif op==\"/\":\n",
    "        n1=int(input(\"Enter first number = \"))\n",
    "        n2=int(input(\"Enter Seconf Number = \"))\n",
    "        print(\"--------------------------------\")\n",
    "        print(\"result:\")\n",
    "        print(f\"{n1} / {n2} = {n1/n2}\")\n",
    "        \n",
    "    "
   ]
  },
  {
   "cell_type": "code",
   "execution_count": null,
   "id": "31691dca",
   "metadata": {},
   "outputs": [],
   "source": []
  }
 ],
 "metadata": {
  "kernelspec": {
   "display_name": "Python 3 (ipykernel)",
   "language": "python",
   "name": "python3"
  },
  "language_info": {
   "codemirror_mode": {
    "name": "ipython",
    "version": 3
   },
   "file_extension": ".py",
   "mimetype": "text/x-python",
   "name": "python",
   "nbconvert_exporter": "python",
   "pygments_lexer": "ipython3",
   "version": "3.9.12"
  }
 },
 "nbformat": 4,
 "nbformat_minor": 5
}
