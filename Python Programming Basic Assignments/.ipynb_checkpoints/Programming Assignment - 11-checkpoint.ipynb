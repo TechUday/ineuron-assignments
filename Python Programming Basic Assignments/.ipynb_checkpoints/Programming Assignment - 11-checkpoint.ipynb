{
 "cells": [
  {
   "cell_type": "markdown",
   "id": "aa837b53",
   "metadata": {},
   "source": [
    "### Name: Veeragani Uday Sandeep\n",
    "### Email: udaysandeep.v9@gmail.com\n",
    "### Assignment - 11"
   ]
  },
  {
   "cell_type": "markdown",
   "id": "e8b114c5",
   "metadata": {},
   "source": [
    "### 1. Write a Python program to find words which are greater than given length k?"
   ]
  },
  {
   "cell_type": "code",
   "execution_count": 7,
   "id": "50519e14",
   "metadata": {},
   "outputs": [
    {
     "name": "stdout",
     "output_type": "stream",
     "text": [
      "Enter the string = Inueron Full Stack Data Science BootCamp Assignmets\n",
      "Enter length of value k = 5\n",
      "Words in given string which are greater than lenght 5 are Inueron, Science, BootCamp, Assignmets\n"
     ]
    }
   ],
   "source": [
    "string=input(\"Enter the string = \")\n",
    "k=int(input(\"Enter length of value k = \"))\n",
    "str_list=string.split()\n",
    "answer=[]\n",
    "for i in str_list:\n",
    "    if len(i)>k:\n",
    "        answer.append(i)\n",
    "print(f\"Words in given string which are greater than lenght {k} are {', '.join(answer)}\")"
   ]
  },
  {
   "cell_type": "markdown",
   "id": "925e7124",
   "metadata": {},
   "source": [
    "### 2. Write a Python program for removing i-th character from a string?"
   ]
  },
  {
   "cell_type": "code",
   "execution_count": 13,
   "id": "06e54d1a",
   "metadata": {},
   "outputs": [
    {
     "name": "stdout",
     "output_type": "stream",
     "text": [
      "Enter the string = Ineuron\n",
      "Enter i value to remove i-th character from  string= 3\n",
      "New String after removig 3-th character from Ineuron = Ineron\n"
     ]
    }
   ],
   "source": [
    "string=input(\"Enter the string = \")\n",
    "i=int(input(\"Enter i value to remove i-th character from  string= \"))\n",
    "new_string=''\n",
    "for ele in range(len(string)):\n",
    "    if i==ele:\n",
    "        pass\n",
    "    else:\n",
    "        new_string+=string[ele]\n",
    "print(f\"New String after removig {i}-th character from {string} = \"+new_string)"
   ]
  },
  {
   "cell_type": "markdown",
   "id": "ec625e81",
   "metadata": {},
   "source": [
    "### 3. Write a Python program to split and join a string?"
   ]
  },
  {
   "cell_type": "code",
   "execution_count": 15,
   "id": "30d05598",
   "metadata": {},
   "outputs": [
    {
     "name": "stdout",
     "output_type": "stream",
     "text": [
      "Enter the string = Inueron Full Stack Data Science BootCamp Assignmets\n",
      "Given String = Inueron Full Stack Data Science BootCamp Assignmets\n",
      "After Splitting =  ['Inueron', 'Full', 'Stack', 'Data', 'Science', 'BootCamp', 'Assignmets']\n",
      "After Join =  Inueron Full Stack Data Science BootCamp Assignmets\n"
     ]
    }
   ],
   "source": [
    "string=input(\"Enter the string = \")\n",
    "print(\"Given String = \"+string)\n",
    "split=string.split()\n",
    "print(\"After Splitting = \",split)\n",
    "print(\"After Join = \",\" \".join(split))"
   ]
  },
  {
   "cell_type": "markdown",
   "id": "f7521104",
   "metadata": {},
   "source": [
    "### 4. Write a Python to check if a given string is binary string or not?\n"
   ]
  },
  {
   "cell_type": "code",
   "execution_count": 23,
   "id": "bf4b05f6",
   "metadata": {},
   "outputs": [
    {
     "name": "stdout",
     "output_type": "stream",
     "text": [
      "Enter the string = 1000001111101\n",
      "1000001111101 is a binary String = True\n",
      "Enter the string = 1234566\n",
      "1234566 is a binary String = False\n"
     ]
    }
   ],
   "source": [
    "def is_binary():\n",
    "    string=input(\"Enter the string = \")\n",
    "    binary=['0','1']\n",
    "    is_bin=True\n",
    "    s=set(string)\n",
    "    for i in s:\n",
    "        if i not in binary:\n",
    "            is_bin=False\n",
    "    print(f\"{string} is a binary String = {is_bin}\")\n",
    "is_binary()\n",
    "is_binary()"
   ]
  },
  {
   "cell_type": "markdown",
   "id": "8c91981f",
   "metadata": {},
   "source": [
    "### 5. Write a Python program to find uncommon words from two Strings?"
   ]
  },
  {
   "cell_type": "code",
   "execution_count": 28,
   "id": "3ba6f1b6",
   "metadata": {},
   "outputs": [
    {
     "name": "stdout",
     "output_type": "stream",
     "text": [
      "Enter the first string = Data Science\n",
      "Enter the Second string = Data Analytics\n",
      "uncommon words in\n",
      " Data Science \n",
      "and\n",
      " Data Analytics is =  {'Analytics', 'Science'}\n"
     ]
    }
   ],
   "source": [
    "def uncommon():\n",
    "    string_1=input(\"Enter the first string = \")\n",
    "    string_2=input(\"Enter the Second string = \")\n",
    "    string1=set(string_1.split())\n",
    "    string2=set(string_2.split())\n",
    "    ans=(string1.union(string2)).difference(string1.intersection(string2))\n",
    "    print(f\"uncommon words in\\n {string_1} \\nand\\n {string_2} is = \",ans)\n",
    "uncommon()"
   ]
  },
  {
   "cell_type": "markdown",
   "id": "27c58144",
   "metadata": {},
   "source": [
    "### 6. Write a Python to find all duplicate characters in string?"
   ]
  },
  {
   "cell_type": "code",
   "execution_count": 31,
   "id": "6cf9fa12",
   "metadata": {},
   "outputs": [
    {
     "name": "stdout",
     "output_type": "stream",
     "text": [
      "Enter the string = full stack data science course\n",
      "Duplicate characters in 'full stack data science course' are ['u', 'l', ' ', 's', 't', 'a', 'c', 'e']\n"
     ]
    }
   ],
   "source": [
    "def duplicate():\n",
    "    string=input(\"Enter the string = \")\n",
    "    duplicate=[]\n",
    "    for i in string:\n",
    "        if string.count(i)>1 and i not in duplicate:\n",
    "            duplicate.append(i)\n",
    "    print(f\"Duplicate characters in '{string}' are {duplicate}\")\n",
    "duplicate()"
   ]
  },
  {
   "cell_type": "markdown",
   "id": "4635eaa1",
   "metadata": {},
   "source": [
    "### 7. Write a Python Program to check if a string contains any special character?"
   ]
  },
  {
   "cell_type": "code",
   "execution_count": 3,
   "id": "73c6428b",
   "metadata": {},
   "outputs": [
    {
     "name": "stdout",
     "output_type": "stream",
     "text": [
      "Enter the string: Uday Sandeep\n",
      "There are 0 Speical Characters in Uday Sandeep which are []\n",
      "Enter the string: ud$5kj\n",
      "There are 1 Speical Characters in ud$5kj which are ['$']\n"
     ]
    }
   ],
   "source": [
    "def specialChar():\n",
    "    spl_chars = '[@_!#$%^&*()<>?/\\|}{~:]'\n",
    "    string = input('Enter the string: ')\n",
    "    count = 0\n",
    "    char_list = []\n",
    "    for ele in string:\n",
    "        if ele in spl_chars:\n",
    "            char_list.append(ele)\n",
    "            count = count+1\n",
    "    print(f'There are {count} Speical Characters in {string} which are {char_list}')\n",
    "            \n",
    "        \n",
    "specialChar()\n",
    "specialChar()"
   ]
  },
  {
   "cell_type": "code",
   "execution_count": null,
   "id": "44d4bf0a",
   "metadata": {},
   "outputs": [],
   "source": []
  }
 ],
 "metadata": {
  "kernelspec": {
   "display_name": "Python 3 (ipykernel)",
   "language": "python",
   "name": "python3"
  },
  "language_info": {
   "codemirror_mode": {
    "name": "ipython",
    "version": 3
   },
   "file_extension": ".py",
   "mimetype": "text/x-python",
   "name": "python",
   "nbconvert_exporter": "python",
   "pygments_lexer": "ipython3",
   "version": "3.9.7"
  }
 },
 "nbformat": 4,
 "nbformat_minor": 5
}
