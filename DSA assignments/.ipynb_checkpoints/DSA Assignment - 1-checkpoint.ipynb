{
 "cells": [
  {
   "cell_type": "markdown",
   "id": "8b9ce998",
   "metadata": {},
   "source": [
    "<aside>\n",
    "💡 **Q1.** Given an array of integers nums and an integer target, return indices of the two numbers such that they add up to target.\n",
    "\n",
    "You may assume that each input would have exactly one solution, and you may not use the same element twice.\n",
    "\n",
    "You can return the answer in any order.\n",
    "\n",
    "**Example:**\n",
    "Input: nums = [2,7,11,15], target = 9\n",
    "Output0 [0,1]\n",
    "\n",
    "**Explanation:** Because nums[0] + nums[1] == 9, we return [0, 1][\n",
    "\n",
    "</aside>"
   ]
  },
  {
   "cell_type": "markdown",
   "id": "249475bd",
   "metadata": {},
   "source": [
    "after going through the question we can understand that the two pointer approach will best suit the problem.\n",
    "\n",
    "\n",
    "Algorithm : \n",
    "\n",
    "1. at first sort the array\n",
    "2. then instalize two pointers in the starting and the end\n",
    "3. then we have to check the sum of starting pointer to nding pointer\n",
    "4. if the sum is equal to the target return the indexes\n",
    "5. if the sum is greater than the target decrease the end pointer\n",
    "6. if the sum is less the the target increase the index of the starting pointer.\n",
    "7. while both the pointers reach to the same index stop the iteration"
   ]
  },
  {
   "cell_type": "code",
   "execution_count": 16,
   "id": "d833b8d4",
   "metadata": {},
   "outputs": [
    {
     "name": "stdout",
     "output_type": "stream",
     "text": [
      "enter the target9\n",
      "[0, 1]\n"
     ]
    }
   ],
   "source": [
    "l = [2,7,11,15]\n",
    "l.sort()\n",
    "fpointer = 0\n",
    "epointer = len(l) - 1\n",
    "target = int(input(\"enter the target\"))\n",
    "res=[]\n",
    "\n",
    "while fpointer != epointer:\n",
    "    if target == (l[fpointer] + l[epointer]):\n",
    "        res.append(fpointer)\n",
    "        res.append(epointer)\n",
    "        break\n",
    "    elif target > (l[fpointer] + l[epointer]):\n",
    "        fpointer = fpointer + 1 \n",
    "    else:\n",
    "        epointer = epointer - 1\n",
    "        \n",
    "        \n",
    "print(res)\n",
    "    "
   ]
  },
  {
   "cell_type": "markdown",
   "id": "8193eb28",
   "metadata": {},
   "source": [
    "<aside>\n",
    "💡 **Q2.** Given an integer array nums and an integer val, remove all occurrences of val in nums in-place. The order of the elements may be changed. Then return the number of elements in nums which are not equal to val.\n",
    "\n",
    "Consider the number of elements in nums which are not equal to val be k, to get accepted, you need to do the following things:\n",
    "\n",
    "- Change the array nums such that the first k elements of nums contain the elements which are not equal to val. The remaining elements of nums are not important as well as the size of nums.\n",
    "- Return k.\n",
    "\n",
    "**Example :**\n",
    "Input: nums = [3,2,2,3], val = 3\n",
    "Output: 2, nums = [2,2,_*,_*]\n",
    "\n",
    "**Explanation:** Your function should return k = 2, with the first two elements of nums being 2. It does not matter what you leave beyond the returned k (hence they are underscores)[\n",
    "\n",
    "</aside>"
   ]
  },
  {
   "cell_type": "markdown",
   "id": "702aa8f2",
   "metadata": {},
   "source": [
    "after reading the question i came to understand that this question can be solved with o(n) time complexity by using an array\n",
    "\n",
    "Algorithm :\n",
    "\n",
    "1. our first step is to create an array \n",
    "2. next step is to iterating over the input array and append the elements which are not equal to the given value"
   ]
  },
  {
   "cell_type": "code",
   "execution_count": 24,
   "id": "a28c98ca",
   "metadata": {},
   "outputs": [
    {
     "name": "stdout",
     "output_type": "stream",
     "text": [
      "enter the value to be checked3\n",
      "[2, 2, '*', '*']\n"
     ]
    }
   ],
   "source": [
    "l = [3,2,2,3]\n",
    "res=[]\n",
    "val = int(input(\"enter the value to be checked\"))\n",
    "count = 0\n",
    "for i in l:\n",
    "   if i != val:\n",
    "    res.append(i)\n",
    "    count = count+1\n",
    "    \n",
    "for j in range(len(l)-count):\n",
    "    res.append('*')\n",
    "    \n",
    "    \n",
    "print(res)"
   ]
  },
  {
   "cell_type": "markdown",
   "id": "0a081350",
   "metadata": {},
   "source": [
    "<aside>\n",
    "💡 **Q3.** Given a sorted array of distinct integers and a target value, return the index if the target is found. If not, return the index where it would be if it were inserted in order.\n",
    "\n",
    "You must write an algorithm with O(log n) runtime complexity.\n",
    "\n",
    "**Example 1:**\n",
    "Input: nums = [1,3,5,6], target = 5\n",
    "\n",
    "Output: 2\n",
    "\n",
    "</aside>"
   ]
  },
  {
   "cell_type": "markdown",
   "id": "85167a38",
   "metadata": {},
   "source": [
    "after reading the question I came to understand that this question can be solved by using the binary serch alogorithm\n",
    "\n",
    "Algorithm\n",
    "\n",
    "1. declare a start and end pointers\n",
    "2. find mid every time if mid equals our target stop it\n",
    "3. if mid greater than the target update end to mid\n",
    "4. if mid is less than the target update start to mid"
   ]
  },
  {
   "cell_type": "code",
   "execution_count": 29,
   "id": "728d53e8",
   "metadata": {},
   "outputs": [
    {
     "name": "stdout",
     "output_type": "stream",
     "text": [
      "enter the value to be serched 5\n",
      "Element is present at index 2\n"
     ]
    }
   ],
   "source": [
    "def binary_search(arr, x):\n",
    "    low = 0\n",
    "    high = len(arr) - 1\n",
    "    mid = 0\n",
    " \n",
    "    while low <= high:\n",
    " \n",
    "        mid = (high + low) // 2\n",
    " \n",
    "        # If x is greater, ignore left half\n",
    "        if arr[mid] < x:\n",
    "            low = mid + 1\n",
    " \n",
    "        # If x is smaller, ignore right half\n",
    "        elif arr[mid] > x:\n",
    "            high = mid - 1\n",
    " \n",
    "        # means x is present at mid\n",
    "        else:\n",
    "            return mid\n",
    " \n",
    "    # If we reach here, then the element was not present\n",
    "    return -1\n",
    " \n",
    "#input array\n",
    "arr = [1,3,5,6 ]\n",
    "x = int(input(\"enter the value to be serched \"))\n",
    " \n",
    "# Function call\n",
    "result = binary_search(arr, x)\n",
    " \n",
    "if result != -1:\n",
    "    print(\"Element is present at index\", str(result))\n",
    "else:\n",
    "    print(\"Element is not present in array\")"
   ]
  },
  {
   "cell_type": "markdown",
   "id": "dfabb894",
   "metadata": {},
   "source": [
    "<aside>\n",
    "💡 **Q4.** You are given a large integer represented as an integer array digits, where each digits[i] is the ith digit of the integer. The digits are ordered from most significant to least significant in left-to-right order. The large integer does not contain any leading 0's.\n",
    "\n",
    "Increment the large integer by one and return the resulting array of digits.\n",
    "\n",
    "**Example 1:**\n",
    "Input: digits = [1,2,3]\n",
    "Output: [1,2,4]\n",
    "\n",
    "**Explanation:** The array represents the integer 123.\n",
    "\n",
    "Incrementing by one gives 123 + 1 = 124.\n",
    "Thus, the result should be [1,2,4].\n",
    "\n",
    "</aside>"
   ]
  },
  {
   "cell_type": "markdown",
   "id": "513a150a",
   "metadata": {},
   "source": [
    "after reading the question i get a solution with o(n) complexity\n",
    "\n",
    "Algorithm:\n",
    "\n",
    "1. start from the last index and add 1 to it\n",
    "2. if it's greater than 9 then perform modulus and add 1 to next element of the array\n",
    "3. do this until you reach the starting\n",
    "4. if any thing more than 9 at starting also we can perform modulus and insert 1 at the starting"
   ]
  },
  {
   "cell_type": "code",
   "execution_count": 51,
   "id": "b0cb8cb7",
   "metadata": {},
   "outputs": [],
   "source": [
    "l = [1,2,3]\n",
    "add = 1\n",
    "count = len(l)-1\n",
    "while count>=0:\n",
    "    l[count] = l[count]+add\n",
    "    if(l[count]>9):\n",
    "        l[count] = l[count]%10\n",
    "        add = 1\n",
    "    else:\n",
    "        add = 0\n",
    "    count = count - 1\n",
    "        \n",
    "    \n",
    "    "
   ]
  },
  {
   "cell_type": "code",
   "execution_count": 52,
   "id": "c823cc89",
   "metadata": {},
   "outputs": [
    {
     "data": {
      "text/plain": [
       "[1, 2, 4]"
      ]
     },
     "execution_count": 52,
     "metadata": {},
     "output_type": "execute_result"
    }
   ],
   "source": [
    "l"
   ]
  },
  {
   "cell_type": "markdown",
   "id": "35ce8056",
   "metadata": {},
   "source": [
    "<aside>\n",
    "💡 **Q5.** You are given two integer arrays nums1 and nums2, sorted in non-decreasing order, and two integers m and n, representing the number of elements in nums1 and nums2 respectively.\n",
    "\n",
    "Merge nums1 and nums2 into a single array sorted in non-decreasing order.\n",
    "\n",
    "The final sorted array should not be returned by the function, but instead be stored inside the array nums1. To accommodate this, nums1 has a length of m + n, where the first m elements denote the elements that should be merged, and the last n elements are set to 0 and should be ignored. nums2 has a length of n.\n",
    "\n",
    "**Example 1:**\n",
    "Input: nums1 = [1,2,3,0,0,0], m = 3, nums2 = [2,5,6], n = 3\n",
    "Output: [1,2,2,3,5,6]\n",
    "\n",
    "**Explanation:** The arrays we are merging are [1,2,3] and [2,5,6].\n",
    "The result of the merge is [1,2,2,3,5,6] with the underlined elements coming from nums1.\n",
    "\n",
    "</aside>"
   ]
  },
  {
   "cell_type": "markdown",
   "id": "a8b4a452",
   "metadata": {},
   "source": [
    "after reading the question we have to use two pointer apporach for this with a time complexity of o(m+n)\n",
    "Algorithm:\n",
    "\n",
    "1. take elements from num2 array and push them into num1 array\n",
    "2. now initilized two pointer at starting index of num1 array and another pointer at num2 array\n",
    "3. now compare both the elements and swap them till the end of num1 array"
   ]
  },
  {
   "cell_type": "code",
   "execution_count": 7,
   "id": "ef440bb6",
   "metadata": {},
   "outputs": [],
   "source": [
    "nums1 = [1,2,3,0,0,0]\n",
    "nums2 = [2,5,6]\n",
    "m=3\n",
    "n=3\n",
    "while(m<(len(nums1))):\n",
    "    nums1[m] = nums2[m-n]\n",
    "    m = m+1\n",
    "    \n",
    "nums1.sort()"
   ]
  },
  {
   "cell_type": "code",
   "execution_count": 8,
   "id": "178c2bec",
   "metadata": {},
   "outputs": [
    {
     "data": {
      "text/plain": [
       "[1, 2, 2, 3, 5, 6]"
      ]
     },
     "execution_count": 8,
     "metadata": {},
     "output_type": "execute_result"
    }
   ],
   "source": [
    "nums1"
   ]
  },
  {
   "cell_type": "markdown",
   "id": "b66372b3",
   "metadata": {},
   "source": [
    "<aside>\n",
    "💡 **Q6.** Given an integer array nums, return true if any value appears at least twice in the array, and return false if every element is distinct.\n",
    "\n",
    "**Example 1:**\n",
    "Input: nums = [1,2,3,1]\n",
    "\n",
    "Output: true\n",
    "\n",
    "</aside>"
   ]
  },
  {
   "cell_type": "markdown",
   "id": "b245d4fa",
   "metadata": {},
   "source": [
    "by reading the question i understand that we can solve this by sorting and then a two pointer approach\n",
    "Algorithm:\n",
    "\n",
    "1. sort the given array\n",
    "2. iterate the array with two pointers checking any two indexes got same value"
   ]
  },
  {
   "cell_type": "code",
   "execution_count": 10,
   "id": "4d8e8868",
   "metadata": {},
   "outputs": [
    {
     "name": "stdout",
     "output_type": "stream",
     "text": [
      "True\n"
     ]
    }
   ],
   "source": [
    "nums = [1,2,3,1]\n",
    "nums.sort()\n",
    "i=0\n",
    "j=1\n",
    "count = 0\n",
    "while(j<len(nums)):\n",
    "    if nums[i]==nums[j]:\n",
    "        count = count + 1\n",
    "    i = i+1\n",
    "    j = j+1\n",
    "\n",
    "if(count>0):\n",
    "    print(\"True\")\n",
    "else:\n",
    "    print(\"False\")"
   ]
  },
  {
   "cell_type": "markdown",
   "id": "46a11008",
   "metadata": {},
   "source": [
    "<aside>\n",
    "💡 **Q7.** Given an integer array nums, move all 0's to the end of it while maintaining the relative order of the nonzero elements.\n",
    "\n",
    "Note that you must do this in-place without making a copy of the array.\n",
    "\n",
    "**Example 1:**\n",
    "Input: nums = [0,1,0,3,12]\n",
    "Output: [1,3,12,0,0]\n",
    "\n",
    "</aside>"
   ]
  },
  {
   "cell_type": "markdown",
   "id": "5f397c9f",
   "metadata": {},
   "source": [
    "by reading the question i came to understand we can solve this with the o(n) time complexity\n",
    "\n",
    "Algorithm:\n",
    "\n",
    "1. count number of zeros in the list and remove all zeros\n",
    "2. insert them at last"
   ]
  },
  {
   "cell_type": "code",
   "execution_count": 25,
   "id": "522722c3",
   "metadata": {},
   "outputs": [],
   "source": [
    "nums = [0,1,0,3,12]\n",
    "count = nums.count(0)\n",
    "nums = [i for i in nums if i!=0]\n",
    "while(count>0):\n",
    "    nums.append(0)\n",
    "    count = count - 1"
   ]
  },
  {
   "cell_type": "code",
   "execution_count": 26,
   "id": "35149e72",
   "metadata": {},
   "outputs": [
    {
     "data": {
      "text/plain": [
       "[1, 3, 12, 0, 0]"
      ]
     },
     "execution_count": 26,
     "metadata": {},
     "output_type": "execute_result"
    }
   ],
   "source": [
    "nums"
   ]
  },
  {
   "cell_type": "markdown",
   "id": "b8141c6a",
   "metadata": {},
   "source": [
    "<aside>\n",
    "💡 **Q8.** You have a set of integers s, which originally contains all the numbers from 1 to n. Unfortunately, due to some error, one of the numbers in s got duplicated to another number in the set, which results in repetition of one number and loss of another number.\n",
    "\n",
    "You are given an integer array nums representing the data status of this set after the error.\n",
    "\n",
    "Find the number that occurs twice and the number that is missing and return them in the form of an array.\n",
    "\n",
    "**Example 1:**\n",
    "Input: nums = [1,2,2,4]\n",
    "Output: [2,3]\n",
    "\n",
    "</aside>"
   ]
  },
  {
   "cell_type": "markdown",
   "id": "bd6c1a62",
   "metadata": {},
   "source": [
    "we can solve this with o(n) time complexity\n",
    "Algorithm:\n",
    "\n",
    "1. use a two pointer and check the difference when the difference is zero we can return that and append it to result array"
   ]
  },
  {
   "cell_type": "code",
   "execution_count": 29,
   "id": "c1a49425",
   "metadata": {},
   "outputs": [
    {
     "name": "stdout",
     "output_type": "stream",
     "text": [
      "[2, 3]\n"
     ]
    }
   ],
   "source": [
    "nums = [1,2,2,4]\n",
    "i=0\n",
    "j=1\n",
    "res = []\n",
    "while(j<len(nums)):\n",
    "    if((nums[j]-nums[i])==0):\n",
    "        res.append(nums[i])\n",
    "        res.append(nums[j]+1)\n",
    "    i = i+1\n",
    "    j = j+1\n",
    "        \n",
    "print(res)"
   ]
  },
  {
   "cell_type": "code",
   "execution_count": null,
   "id": "d401d872",
   "metadata": {},
   "outputs": [],
   "source": []
  }
 ],
 "metadata": {
  "kernelspec": {
   "display_name": "Python 3 (ipykernel)",
   "language": "python",
   "name": "python3"
  },
  "language_info": {
   "codemirror_mode": {
    "name": "ipython",
    "version": 3
   },
   "file_extension": ".py",
   "mimetype": "text/x-python",
   "name": "python",
   "nbconvert_exporter": "python",
   "pygments_lexer": "ipython3",
   "version": "3.9.7"
  }
 },
 "nbformat": 4,
 "nbformat_minor": 5
}
