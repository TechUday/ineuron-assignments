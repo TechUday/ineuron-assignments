{
 "cells": [
  {
   "cell_type": "markdown",
   "id": "738f04a3",
   "metadata": {},
   "source": [
    "### Name: Veeragani Uday Sandeep\n",
    "### Email: udaysandeep.v9@gmail.com\n",
    "### Assignment - 20"
   ]
  },
  {
   "cell_type": "markdown",
   "id": "ab2f26ad",
   "metadata": {},
   "source": [
    "### 1. Compare and contrast the float and Decimal classes' benefits and drawbacks ?"
   ]
  },
  {
   "cell_type": "markdown",
   "id": "323046a4",
   "metadata": {},
   "source": [
    "Both the float and decimal types store numerical values in Python.\n",
    "\n",
    "Use floats when convenience and speed matter. A float gives you an approximation of the number you declare.\n",
    "\n",
    "Use decimals when precision matters. Decimals can suffer from their own precision issues, but generally, decimals are more precise than floats. The performance difference between float and decimal, with Python 3, is not outlandish, and in my experience, the precision benefits of a decimal outweigh the performance benefits of a float."
   ]
  },
  {
   "cell_type": "markdown",
   "id": "736430a9",
   "metadata": {},
   "source": [
    "### 2. Decimal('1.200') and Decimal('1.2') are two objects to consider. In what sense are these the same object? Are these just two ways of representing the exact same value, or do they correspond to different internal states ?"
   ]
  },
  {
   "cell_type": "markdown",
   "id": "b6ba9a71",
   "metadata": {},
   "source": [
    "Both values are same but internal representation at storage Is different. Precsion differs, Decimal('1.200') gives internally 1.200 and Decimal('1.2') gives 1.2."
   ]
  },
  {
   "cell_type": "code",
   "execution_count": 12,
   "id": "534e397a",
   "metadata": {},
   "outputs": [
    {
     "name": "stdout",
     "output_type": "stream",
     "text": [
      "True\n"
     ]
    },
    {
     "data": {
      "text/plain": [
       "False"
      ]
     },
     "execution_count": 12,
     "metadata": {},
     "output_type": "execute_result"
    }
   ],
   "source": [
    "import decimal\n",
    "a=decimal.Decimal('1.2')\n",
    "b=decimal.Decimal('1.200')\n",
    "print(a==b)\n",
    "id(a)==id(b)\n"
   ]
  },
  {
   "cell_type": "markdown",
   "id": "09797129",
   "metadata": {},
   "source": [
    "### 3. What happens if the equality of Decimal('1.200') and Decimal('1.2') is checked ?"
   ]
  },
  {
   "cell_type": "markdown",
   "id": "07c52198",
   "metadata": {},
   "source": [
    "Both values are checked to be equal , they only differ in precision."
   ]
  },
  {
   "cell_type": "markdown",
   "id": "d2bb8373",
   "metadata": {},
   "source": [
    "### 4. Why is it preferable to start a Decimal object with a string rather than a floating-point value ?"
   ]
  },
  {
   "cell_type": "markdown",
   "id": "bdd68281",
   "metadata": {},
   "source": [
    "Floating-point value is converted to Decimal format. Decimal can store float value with absolute precision. But when float value is given as Decimal object,it first has to be converted from floating point value which might already have rounding error.\n",
    "\n",
    "Hence it is preferable to start a Decimal object with a string."
   ]
  },
  {
   "cell_type": "markdown",
   "id": "b3d2a8eb",
   "metadata": {},
   "source": [
    "### 5. In an arithmetic phrase, how simple is it to combine Decimal objects with integers ?"
   ]
  },
  {
   "cell_type": "markdown",
   "id": "3a82dbae",
   "metadata": {},
   "source": [
    "We can do it with use of `Decimal()`."
   ]
  },
  {
   "cell_type": "markdown",
   "id": "b95c5831",
   "metadata": {},
   "source": [
    "### 6. Can Decimal objects and floating-point values be combined easily ?"
   ]
  },
  {
   "cell_type": "markdown",
   "id": "71261370",
   "metadata": {},
   "source": [
    "Arithmetic operfations like Adding,subtracting or multiplying a Decimal object by a floating-point value is generates an error.\n",
    "\n",
    "To do these operations, the floating point has to be converted to a Decimal."
   ]
  },
  {
   "cell_type": "markdown",
   "id": "dc640165",
   "metadata": {},
   "source": [
    "### 7. Using the Fraction class but not the Decimal class, give an example of a quantity that can be expressed with absolute precision ?"
   ]
  },
  {
   "cell_type": "markdown",
   "id": "b1694fe5",
   "metadata": {},
   "source": [
    "Value of 0.5 will be represented as ½."
   ]
  },
  {
   "cell_type": "code",
   "execution_count": 19,
   "id": "11f79512",
   "metadata": {},
   "outputs": [
    {
     "name": "stdout",
     "output_type": "stream",
     "text": [
      "1/2\n"
     ]
    }
   ],
   "source": [
    "from fractions import Fraction\n",
    "  \n",
    "print(Fraction(0.5))"
   ]
  },
  {
   "cell_type": "markdown",
   "id": "6fd72113",
   "metadata": {},
   "source": [
    "### 8. Describe a quantity that can be accurately expressed by the Decimal or Fraction classes but not by a floating-point value."
   ]
  },
  {
   "cell_type": "markdown",
   "id": "6e3e6981",
   "metadata": {},
   "source": [
    "Any integer value"
   ]
  },
  {
   "cell_type": "code",
   "execution_count": 31,
   "id": "f5e1bb9f",
   "metadata": {},
   "outputs": [
    {
     "name": "stdout",
     "output_type": "stream",
     "text": [
      "2.0\n",
      "2\n"
     ]
    }
   ],
   "source": [
    "print(float(2))\n",
    "print(decimal.Decimal(2))\n"
   ]
  },
  {
   "cell_type": "markdown",
   "id": "522acfb4",
   "metadata": {},
   "source": [
    "### 9.Consider the following two fraction objects: Fraction(1, 2) and Fraction(1, 2). (5, 10). Is the internal state of these two objects the same? Why do you think that is ?"
   ]
  },
  {
   "cell_type": "markdown",
   "id": "95424ce2",
   "metadata": {},
   "source": [
    " Both will be reduced to 1/2"
   ]
  },
  {
   "cell_type": "markdown",
   "id": "08081f60",
   "metadata": {},
   "source": [
    "### 10. How do the Fraction class and the integer type (int) relate to each other? Containment or inheritance ?"
   ]
  },
  {
   "cell_type": "markdown",
   "id": "0839e2d7",
   "metadata": {},
   "source": [
    "Fraction class and integer type(int) are related in form of a container.It contains two ints, one the numerator and the other the denominator"
   ]
  }
 ],
 "metadata": {
  "kernelspec": {
   "display_name": "Python 3 (ipykernel)",
   "language": "python",
   "name": "python3"
  },
  "language_info": {
   "codemirror_mode": {
    "name": "ipython",
    "version": 3
   },
   "file_extension": ".py",
   "mimetype": "text/x-python",
   "name": "python",
   "nbconvert_exporter": "python",
   "pygments_lexer": "ipython3",
   "version": "3.9.7"
  }
 },
 "nbformat": 4,
 "nbformat_minor": 5
}
