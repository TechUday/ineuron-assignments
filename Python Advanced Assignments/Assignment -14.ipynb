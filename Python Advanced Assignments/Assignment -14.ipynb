{
 "cells": [
  {
   "cell_type": "markdown",
   "id": "4b7fc53b",
   "metadata": {},
   "source": [
    "### Name: Veeragani Uday Sandeep\n",
    "### Email: udaysandeep.v9@gmail.com\n",
    "### Assignment - 14"
   ]
  },
  {
   "cell_type": "markdown",
   "id": "4697e87b",
   "metadata": {},
   "source": [
    "### Q1. Is an assignment operator like += only for show? Is it possible that it would lead to faster results at the runtime ?"
   ]
  },
  {
   "cell_type": "markdown",
   "id": "d23b75f5",
   "metadata": {},
   "source": [
    "A=A+1 evaluates to finding A, adding 1 to it. Then storing the value again in variable A. This expression makes Python to look for memory holder of a twice. But A+=1 simply means value of A is to incremented by 1. As memory address has to be identified once, += leads to faster operation."
   ]
  },
  {
   "cell_type": "markdown",
   "id": "66f472eb",
   "metadata": {},
   "source": [
    "### Q2. What is the smallest no of statements you'd have to write in most programming languages to replace the Python expr a, b = a + b, a ?"
   ]
  },
  {
   "cell_type": "markdown",
   "id": "00184897",
   "metadata": {},
   "source": [
    " Minimum number of lines required to write above code in languages other than Python will be 4, two for assigning initial values for variables a and b, and two for reassignment i.e. `a=a+b` and `b=a`. "
   ]
  },
  {
   "cell_type": "markdown",
   "id": "4485b5ae",
   "metadata": {},
   "source": [
    "### Q3. In Python, what is the most effective way to set a list of 100 integers to 0?"
   ]
  },
  {
   "cell_type": "code",
   "execution_count": 7,
   "id": "214b414a",
   "metadata": {},
   "outputs": [
    {
     "name": "stdout",
     "output_type": "stream",
     "text": [
      "[0, 0, 0, 0, 0, 0, 0, 0, 0, 0, 0, 0, 0, 0, 0, 0, 0, 0, 0, 0, 0, 0, 0, 0, 0, 0, 0, 0, 0, 0, 0, 0, 0, 0, 0, 0, 0, 0, 0, 0, 0, 0, 0, 0, 0, 0, 0, 0, 0, 0, 0, 0, 0, 0, 0, 0, 0, 0, 0, 0, 0, 0, 0, 0, 0, 0, 0, 0, 0, 0, 0, 0, 0, 0, 0, 0, 0, 0, 0, 0, 0, 0, 0, 0, 0, 0, 0, 0, 0, 0, 0, 0, 0, 0, 0, 0, 0, 0, 0, 0]\n",
      "[0, 0, 0, 0, 0, 0, 0, 0, 0, 0, 0, 0, 0, 0, 0, 0, 0, 0, 0, 0, 0, 0, 0, 0, 0, 0, 0, 0, 0, 0, 0, 0, 0, 0, 0, 0, 0, 0, 0, 0, 0, 0, 0, 0, 0, 0, 0, 0, 0, 0, 0, 0, 0, 0, 0, 0, 0, 0, 0, 0, 0, 0, 0, 0, 0, 0, 0, 0, 0, 0, 0, 0, 0, 0, 0, 0, 0, 0, 0, 0, 0, 0, 0, 0, 0, 0, 0, 0, 0, 0, 0, 0, 0, 0, 0, 0, 0, 0, 0, 0]\n"
     ]
    }
   ],
   "source": [
    "# Method 1\n",
    "list_zero=[0]*100\n",
    "print(list_zero)\n",
    "# Method 2\n",
    "zero_list = [0 for x in range(100)]\n",
    "print(zero_list)"
   ]
  },
  {
   "cell_type": "markdown",
   "id": "328e19e2",
   "metadata": {},
   "source": [
    "### Q4. What is the most effective way to initialise a list of 99 integers that repeats the sequence 1, 2, 3? S If necessary, show step-by-step instructions on how to accomplish this."
   ]
  },
  {
   "cell_type": "markdown",
   "id": "256a57a7",
   "metadata": {},
   "source": [
    "As we want list of 99 integers that repeats sequence 1,2,3 len of list =99, seq len=3, therefore we want 99/3=33 times the given sequence in listSo [1,2,3]*33 gives our final list"
   ]
  },
  {
   "cell_type": "code",
   "execution_count": 12,
   "id": "cf8d9669",
   "metadata": {},
   "outputs": [
    {
     "name": "stdout",
     "output_type": "stream",
     "text": [
      "[1, 2, 3, 1, 2, 3, 1, 2, 3, 1, 2, 3, 1, 2, 3, 1, 2, 3, 1, 2, 3, 1, 2, 3, 1, 2, 3, 1, 2, 3, 1, 2, 3, 1, 2, 3, 1, 2, 3, 1, 2, 3, 1, 2, 3, 1, 2, 3, 1, 2, 3, 1, 2, 3, 1, 2, 3, 1, 2, 3, 1, 2, 3, 1, 2, 3, 1, 2, 3, 1, 2, 3, 1, 2, 3, 1, 2, 3, 1, 2, 3, 1, 2, 3, 1, 2, 3, 1, 2, 3, 1, 2, 3, 1, 2, 3, 1, 2, 3]\n",
      "99\n"
     ]
    }
   ],
   "source": [
    "\n",
    "my_list = [1,2,3]*33\n",
    "print(my_list)\n",
    "print(len(my_list))"
   ]
  },
  {
   "cell_type": "markdown",
   "id": "a4a88cd8",
   "metadata": {},
   "source": [
    "### Q5. If you're using IDLE to run a Python application, explain how to print a multidimensional list as efficiently?"
   ]
  },
  {
   "cell_type": "code",
   "execution_count": 14,
   "id": "7f8b55fb",
   "metadata": {},
   "outputs": [
    {
     "name": "stdout",
     "output_type": "stream",
     "text": [
      "1 1 \n",
      "2 2 \n",
      "3 3 \n",
      "4 4 \n",
      "5 5 \n"
     ]
    }
   ],
   "source": [
    "my_list = [[1,1],[2,2],[3,3],[4,4],[5,5]] # 2 dimensional List\n",
    "for x in range(len(my_list)): # loop to iterate through each row\n",
    "    for y in range(len(my_list[x])): # lopp to iterate through every column value of each row\n",
    "        print(my_list[x][y],end=\" \")\n",
    "    print()"
   ]
  },
  {
   "cell_type": "markdown",
   "id": "5d0f21ba",
   "metadata": {},
   "source": [
    "### Q6. Is it possible to use list comprehension with a string? If so, how can you go about doing it?"
   ]
  },
  {
   "cell_type": "markdown",
   "id": "53b71990",
   "metadata": {},
   "source": [
    "List comprehension with string is possible."
   ]
  },
  {
   "cell_type": "code",
   "execution_count": 15,
   "id": "b2313ef6",
   "metadata": {},
   "outputs": [
    {
     "name": "stdout",
     "output_type": "stream",
     "text": [
      "['i', 'N', 'e', 'u', 'r', 'o', 'n']\n"
     ]
    }
   ],
   "source": [
    "my_list = [ele for ele in 'iNeuron']\n",
    "print(my_list)"
   ]
  },
  {
   "cell_type": "markdown",
   "id": "4ce6ba7e",
   "metadata": {},
   "source": [
    "### Q7. From the command line, how do you get support with a user-written Python programme? Is this possible from inside IDLE?"
   ]
  },
  {
   "cell_type": "markdown",
   "id": "a823e5b9",
   "metadata": {},
   "source": [
    "**Get support with a user-written Python Programme:** Start a command prompt (Windows) or terminal window (Linux/Mac). If the current working directory is the same as the location in which you saved the file, you can simply specify the filename as a command-line argument to the Python interpreter.\n",
    "\n",
    "**Get support with a User-written Python Program from IDLE:** You can also create script files and run them in IDLE. From the Shell window menu, select `File → New File.` That should open an additional editing window. Type in the code to be executed. From the menu in that window, `select File → Save or File → Save As…` and save the file to disk. Then select `Run → Run Module.` The output should appear back in the interpreter"
   ]
  },
  {
   "cell_type": "markdown",
   "id": "75d03f57",
   "metadata": {},
   "source": [
    "### Q8. Functions are said to be “first-class objects” in Python but not in most other languages, such as C++ or Java. What can you do in Python with a function (callable object) that you can't do in C or C++?\n"
   ]
  },
  {
   "cell_type": "markdown",
   "id": "69375a16",
   "metadata": {},
   "source": [
    "The tasks which can be performed with the functions in python are:\n",
    "\n",
    "* A function is an instance of the Object type.\n",
    "* You can store the function in a variable.\n",
    "* You can pass the function as a parameter to another function.\n",
    "* You can return the function from a function.\n",
    "* You can store them in data structures such as hash tables, lists,"
   ]
  },
  {
   "cell_type": "markdown",
   "id": "3e123bef",
   "metadata": {},
   "source": [
    "### Q9. How do you distinguish between a wrapper, a wrapped feature, and a decorator?"
   ]
  },
  {
   "cell_type": "markdown",
   "id": "5ef32f0a",
   "metadata": {},
   "source": [
    "Wrappers around the functions are also knows as decorators which are a very powerful and useful tool in Python since it allows programmers to modify the behavior of function or class. Decorators allow us to wrap another function in order to extend the behavior of the wrapped function, without permanently modifying it."
   ]
  },
  {
   "cell_type": "markdown",
   "id": "c309b3b7",
   "metadata": {},
   "source": [
    "### Q10. If a function is a generator function, what does it return?"
   ]
  },
  {
   "cell_type": "markdown",
   "id": "841a4c9b",
   "metadata": {},
   "source": [
    "A generator is a special type of function which does not return a single value, instead, it returns an iterator object with a sequence of values.\n",
    "\n",
    "Generator functions are a special kind of function that return a lazy iterator. These are objects that you can loop over like a list. However, unlike lists, lazy iterators do not store their contents in memory."
   ]
  },
  {
   "cell_type": "markdown",
   "id": "dccdf786",
   "metadata": {},
   "source": [
    "### Q11. What is the one improvement that must be made to a function in order for it to become a generator function in the Python language?"
   ]
  },
  {
   "cell_type": "markdown",
   "id": "6ff44d38",
   "metadata": {},
   "source": [
    "Generator is a written as normal function but uses **`yield`** keyword to return values instead of **return** keyword."
   ]
  },
  {
   "cell_type": "markdown",
   "id": "141ca46d",
   "metadata": {},
   "source": [
    "### Q12. Identify at least one benefit of generators."
   ]
  },
  {
   "cell_type": "markdown",
   "id": "c4e13198",
   "metadata": {},
   "source": [
    "return statement sends a specified value back to its caller whereas yield statment can produce a sequence of values. We should use generator when we want to iterate over a sequence, but don’t want to store the entire sequence in memory.\n",
    "\n",
    "encapsulation. It provides new and useful ways for you to package and isolate internal code dependencies. You can do the same thing with classes, but only by spreading state across several methods, in a way that’s not nearly as easy to understand."
   ]
  }
 ],
 "metadata": {
  "kernelspec": {
   "display_name": "Python 3 (ipykernel)",
   "language": "python",
   "name": "python3"
  },
  "language_info": {
   "codemirror_mode": {
    "name": "ipython",
    "version": 3
   },
   "file_extension": ".py",
   "mimetype": "text/x-python",
   "name": "python",
   "nbconvert_exporter": "python",
   "pygments_lexer": "ipython3",
   "version": "3.9.7"
  }
 },
 "nbformat": 4,
 "nbformat_minor": 5
}
