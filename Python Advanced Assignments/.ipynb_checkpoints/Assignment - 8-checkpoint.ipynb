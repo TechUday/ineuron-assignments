{
 "cells": [
  {
   "cell_type": "markdown",
   "id": "2725313a",
   "metadata": {},
   "source": [
    "### Name: Veeragani Uday Sandeep\n",
    "### Email: udaysandeep.v9@gmail.com\n",
    "### Assignment - 8"
   ]
  },
  {
   "cell_type": "markdown",
   "id": "19b9df6b",
   "metadata": {},
   "source": [
    "### Q1. What are the two latest user-defined exception constraints in Python 3.X?"
   ]
  },
  {
   "cell_type": "markdown",
   "id": "5f54bd49",
   "metadata": {},
   "source": [
    "Python also provides an exception handling method with the help of try-except. ***raise*** and ***assert*** are the two latest user-defined exception constraints in Python 3.X"
   ]
  },
  {
   "cell_type": "markdown",
   "id": "14002997",
   "metadata": {},
   "source": [
    "### Q2. How are class-based exceptions that have been raised matched to handlers?"
   ]
  },
  {
   "cell_type": "markdown",
   "id": "8bba965c",
   "metadata": {},
   "source": [
    "In python, Users can define custom exceptions by creating a new class. This exception class has to be derived, either directly or indirectly from built-in Exception class. This new exception class like other exceptions can be raised using the raise statement with an optional error message.\n",
    "\n",
    "A class-based exception can either cancel the current context or allow for a resume. Exceptions are raised using the statement RAISE EXCEPTION and handled using CATCH in a TRY control structure. Class-based exceptions can be raised in any procedures and can be further propagated by any procedures\n"
   ]
  },
  {
   "cell_type": "code",
   "execution_count": 2,
   "id": "4aef91da",
   "metadata": {},
   "outputs": [
    {
     "ename": "ZeroException",
     "evalue": "denominator must be not equal to zero",
     "output_type": "error",
     "traceback": [
      "\u001b[1;31m---------------------------------------------------------------------------\u001b[0m",
      "\u001b[1;31mZeroException\u001b[0m                             Traceback (most recent call last)",
      "Input \u001b[1;32mIn [2]\u001b[0m, in \u001b[0;36m<cell line: 6>\u001b[1;34m()\u001b[0m\n\u001b[0;32m      4\u001b[0m a\u001b[38;5;241m=\u001b[39m\u001b[38;5;241m9\u001b[39m\n\u001b[0;32m      5\u001b[0m b\u001b[38;5;241m=\u001b[39m\u001b[38;5;241m0\u001b[39m\n\u001b[1;32m----> 6\u001b[0m \u001b[38;5;28;01mif\u001b[39;00m b \u001b[38;5;241m==\u001b[39m \u001b[38;5;241m0\u001b[39m: \u001b[38;5;28;01mraise\u001b[39;00m ZeroException(\u001b[38;5;124m'\u001b[39m\u001b[38;5;124mdenominator must be not equal to zero\u001b[39m\u001b[38;5;124m'\u001b[39m)\n\u001b[0;32m      7\u001b[0m \u001b[38;5;28;01melse\u001b[39;00m:\n\u001b[0;32m      8\u001b[0m     \u001b[38;5;28mprint\u001b[39m(a\u001b[38;5;241m/\u001b[39mb)\n",
      "\u001b[1;31mZeroException\u001b[0m: denominator must be not equal to zero"
     ]
    }
   ],
   "source": [
    "class ZeroException(Exception):\n",
    "    def __init__(self,msg):\n",
    "        self.msg = msg\n",
    "a=9\n",
    "b=0\n",
    "if b == 0: raise ZeroException('denominator must be not equal to zero')\n",
    "else:\n",
    "    print(a/b)"
   ]
  },
  {
   "cell_type": "markdown",
   "id": "620487bf",
   "metadata": {},
   "source": [
    "### Q3. Describe two methods for attaching context information to exception artefacts ?"
   ]
  },
  {
   "cell_type": "markdown",
   "id": "9b65b650",
   "metadata": {},
   "source": [
    "There are a few different ways you can attach context information to exception objects in Python:\n",
    "\n",
    "1. **Custom attributes**: You can attach custom attributes to an exception object by defining them as part of the exception's class definition. \n",
    "\n",
    "For example:\n",
    "```python\n",
    "class ContextException(Exception):\n",
    "     def __init__(self, message, context):\n",
    "         self.message = message\n",
    "         self.context = context\n",
    "```\n",
    "You can then attach any additional context information you want to include in the exception by setting the context attribute when you raise the exception.\n",
    "```python\n",
    "try:\n",
    "    # Some code that might raise an exception\n",
    "    pass\n",
    "except SomeError as e:\n",
    "     e.context = {'request_id': 12345}\n",
    "     raise e\n",
    "```\n",
    "\n",
    "2. **Exception chaining:** You can attach context information to an exception by using the \\__cause__ attribute to chain the exception to a second exception object that contains the context information. This technique is known as \"exception chaining\" and is supported by the built-in Exception class in Python.\n",
    "For example:\n",
    "\n",
    "```python\n",
    "class ContextException(Exception):\n",
    "    def __init__(self, message, context):\n",
    "        self.message = message\n",
    "        self.context = context\n",
    "\n",
    "try:\n",
    "    # Some code that might raise an exception\n",
    "    pass\n",
    "except SomeError as e:\n",
    "    raise ContextException('Error with context information', {'request_id': 12345}) from e\n",
    "```\n",
    "\n",
    "In this example, the `ContextException` is raised and includes the context information in its context attribute. The original `SomeError` exception is then chained to the `ContextException` using the `from` keyword, which sets the `__cause__` attribute of the ContextException to the SomeError exception.\n",
    "\n",
    "This allows you to preserve the original exception and add additional context information to it, while still being able to distinguish between the two exceptions when handling them.\n",
    "\n",
    "\n",
    "\n"
   ]
  },
  {
   "cell_type": "markdown",
   "id": "186872d0",
   "metadata": {},
   "source": [
    "### Q4. Describe two methods for specifying the text of an exception object's error message ?"
   ]
  },
  {
   "cell_type": "markdown",
   "id": "a0ef4ac3",
   "metadata": {},
   "source": [
    "There are a few different ways you can specify the error message for an exception object in Python:\n",
    "1. Using the **message** attribute: Most built-in exception classes in Python include a message attribute that you can use to specify the error message for the exception. This attribute is typically set in the exception's constructor (__init__ method) when the exception is raised.\n",
    "For example:\n",
    "```python\n",
    "class MyException(Exception):\n",
    "     def __init__(self, message):\n",
    "        self.message = message\n",
    "\n",
    "raise MyException('This is my error message')\n",
    "```\n",
    "\n",
    "In this example, the error message for the MyException exception will be set to the string 'This is my error message'.\n"
   ]
  },
  {
   "cell_type": "markdown",
   "id": "bb766210",
   "metadata": {},
   "source": [
    "\n",
    "2. Using the **args** attribute: The args attribute is a tuple that is used to hold the arguments that are passed to the exception's constructor. In most cases, the first element of the args tuple is used to hold the error message for the exception.\n",
    "\n",
    "For example:\n",
    "\n",
    "```python\n",
    "class MyException(Exception):\n",
    "    def __init__(self, message):\n",
    "        self.args = (message,)\n",
    "\n",
    "raise MyException('This is my error message')\n",
    "```\n",
    "\n",
    "In this example, the error message for the MyException exception will be set to the string 'This is my error message'.\n",
    "\n",
    "**OR**\n",
    "\n",
    "`raise` and `assert` are two methods for specifying the text of an exception object's error message.raise statement is used to trigger explicit exception, if certain condition is not as per requirement of programmer. it helps in triggering exception as per need of programmer and logic.\n",
    "\n",
    "There are few assertions that programmer always want to be True to avoid code failure. This type of requirment is fullfilled by assert statement. This statement takes a Boolean Condition output of which if True, further program executes. if output of assert statement is False it raises an Assertion Error."
   ]
  },
  {
   "cell_type": "markdown",
   "id": "5d8d4a14",
   "metadata": {},
   "source": [
    "### Q5. Why do you no longer use string-based exceptions?"
   ]
  },
  {
   "cell_type": "markdown",
   "id": "815fef25",
   "metadata": {},
   "source": [
    "String-based exceptions were a feature in older versions of Python (prior to Python 2.5) that allowed you to raise and handle exceptions using string values rather than class-based exceptions. However, this approach had several drawbacks compared to the class-based exception handling that is used in modern versions of Python.\n",
    "\n",
    "One of the main issues with string-based exceptions is that they do not provide a clear hierarchy of exception types, making it difficult to write robust and flexible exception handling code. With class-based exceptions, you can define a hierarchy of exception classes, with each class representing a specific type of error. This allows you to write more specific exception handlers that can handle different types of errors in different ways.\n",
    "\n",
    "Another issue with string-based exceptions is that they do not provide a way to attach additional context information to the exception object. With class-based exceptions, you can define custom attributes for your exception class, allowing you to attach any additional information you want to include with the exception.\n",
    "\n",
    "Overall, the use of class-based exceptions provides a more powerful and flexible way of handling errors in Python, and is the recommended approach in modern versions of the language.\n",
    "\n",
    "\n",
    "\n",
    "\n"
   ]
  }
 ],
 "metadata": {
  "kernelspec": {
   "display_name": "Python 3 (ipykernel)",
   "language": "python",
   "name": "python3"
  },
  "language_info": {
   "codemirror_mode": {
    "name": "ipython",
    "version": 3
   },
   "file_extension": ".py",
   "mimetype": "text/x-python",
   "name": "python",
   "nbconvert_exporter": "python",
   "pygments_lexer": "ipython3",
   "version": "3.9.7"
  }
 },
 "nbformat": 4,
 "nbformat_minor": 5
}
