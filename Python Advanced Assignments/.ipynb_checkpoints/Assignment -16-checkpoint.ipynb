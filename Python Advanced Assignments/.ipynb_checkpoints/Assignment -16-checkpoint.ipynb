{
 "cells": [
  {
   "cell_type": "markdown",
   "id": "a1b63ae6",
   "metadata": {},
   "source": [
    "### Name: Veeragani Uday Sandeep\n",
    "### Email: udaysandeep.v9@gmail.com\n",
    "### Assignment - 16"
   ]
  },
  {
   "cell_type": "markdown",
   "id": "fa59397d",
   "metadata": {},
   "source": [
    "### Q1. What is the benefit of regular expressions?"
   ]
  },
  {
   "cell_type": "markdown",
   "id": "8e8eab7c",
   "metadata": {},
   "source": [
    "A Regular Expressions, also known as `regex or regexp`, is used for **identifying a search pattern** such as particular characters, words, or patterns of characters in a text string. It also helps in finding out the correctness of the data and even operations such as finding, replacing and formatting the data is possible using Regular Expressions.it helps the programmers to Write less and cleaner code. it also avoids multiple use of if/else statements."
   ]
  },
  {
   "cell_type": "markdown",
   "id": "990662b6",
   "metadata": {},
   "source": [
    "### Q2. Describe the difference between the effects of \"(ab)c+\" and \"a(bc)+\" Which of these, if any, is the unqualified pattern \"abc+\"?"
   ]
  },
  {
   "cell_type": "markdown",
   "id": "040cdcc4",
   "metadata": {},
   "source": [
    "Both `(ab)c+ and a(bc)+` are valid patterns. the difference between both these patterns is in `(ab)c+ ab` is group whereas in `a(bc)+ bc` is a group.\n",
    "In (ab)c+ this pattern search for the string abc and followed by any number of c(one or more than that) and In a(bc)+ the pattern mathches the string with a and followed by any no of bc (one or more than that)"
   ]
  },
  {
   "cell_type": "markdown",
   "id": "593e3759",
   "metadata": {},
   "source": [
    "### Q3. How much do you need to use the following sentence while using regular expressions?\n",
    "**`import re`**"
   ]
  },
  {
   "cell_type": "markdown",
   "id": "374db1e1",
   "metadata": {},
   "source": [
    "`import re` statement always has to be imported before using regular expressions."
   ]
  },
  {
   "cell_type": "markdown",
   "id": "e85d3473",
   "metadata": {},
   "source": [
    "### Q4. Which characters have special significance in square brackets when expressing a range, and under what circumstances?"
   ]
  },
  {
   "cell_type": "markdown",
   "id": "f64f4e89",
   "metadata": {},
   "source": [
    "The Characters `.`,`*`,`?`, `^`, or `()`, have a special signiface when used with square brackets. They need not be be explicitly escaped by `\\` as in case of pattern texts in a raw string."
   ]
  },
  {
   "cell_type": "markdown",
   "id": "1e20b11b",
   "metadata": {},
   "source": [
    "### Q5. How does compiling a regular-expression object benefit you?"
   ]
  },
  {
   "cell_type": "markdown",
   "id": "c5ec0aea",
   "metadata": {},
   "source": [
    "We can Combine a regular expression pattern into pattern Objects.Which can be used for pattern matching. it also helps to search a pattern again without rewritting it.\n",
    "\n",
    "compiling is done as follows\n",
    "```python\n",
    "import re\n",
    "reg='any regular expression'\n",
    "reg_obj=re.compile(reg)\n",
    "```"
   ]
  },
  {
   "cell_type": "markdown",
   "id": "9a06b255",
   "metadata": {},
   "source": [
    "### Q6. What are some examples of how to use the match object returned by re.match and re.search?"
   ]
  },
  {
   "cell_type": "markdown",
   "id": "9b6a28d2",
   "metadata": {},
   "source": [
    "The `re.search()` and `re.match()` both are functions of re module in python. These functions are very efficient and fast for searching in strings. The function searches for some substring in a string and returns a match object if found, else it returns none.\n",
    "\n",
    "There is a difference between the use of both functions. Both return the first match of a substring found in the string, but **re.match()** searches only from the beginning of the string and return match object if found. But if a match of substring is found somewhere in the middle of the string, it returns none.\n",
    "\n",
    "While **re.search()** searches for the whole string even if the string contains multi-lines and tries to find a match of the substring in all the lines of string"
   ]
  },
  {
   "cell_type": "code",
   "execution_count": 4,
   "id": "34f651ff",
   "metadata": {},
   "outputs": [
    {
     "name": "stdout",
     "output_type": "stream",
     "text": [
      "<re.Match object; span=(40, 46), match='string'>\n",
      "None\n",
      "<re.Match object; span=(0, 6), match='string'>\n",
      "<re.Match object; span=(0, 6), match='string'>\n"
     ]
    }
   ],
   "source": [
    "import re\n",
    "Substring ='string' \n",
    "String1 ='searches only from the beginning of the string and return match object if found. But if a match of substring is found somewhere in the middle of the string, it returns none.' \n",
    "String2 ='string searches only from the beginning of the string and return match object if found. But if a match of substring is found somewhere in the middle of the string, it returns none.'\n",
    "print(re.search(Substring, String1, re.IGNORECASE))\n",
    "print(re.match(Substring, String1, re.IGNORECASE))\n",
    "print(re.search(Substring, String2, re.IGNORECASE))\n",
    "print(re.match(Substring, String2, re.IGNORECASE))"
   ]
  },
  {
   "cell_type": "markdown",
   "id": "fc17f977",
   "metadata": {},
   "source": [
    "### Q7. What is the difference between using a vertical bar (|) as an alteration and using square brackets as a character set?"
   ]
  },
  {
   "cell_type": "markdown",
   "id": "41f8227b",
   "metadata": {},
   "source": [
    "When `|` us used then patterns searches for or option. i.e `<pattern_1>|<pattern_2>` means it searches as `<pattern_1>or<<pattern_2>` in the searched string. the first occurance of matched string will be returned as the Match Object. Using Character set in square Brackets searches for all the character set in the square bracket and if match is found, it returns it."
   ]
  },
  {
   "cell_type": "markdown",
   "id": "031302ec",
   "metadata": {},
   "source": [
    "### Q8. In regular-expression search patterns, why is it necessary to use the raw-string indicator (r)? In replacement strings?"
   ]
  },
  {
   "cell_type": "markdown",
   "id": "071b9650",
   "metadata": {},
   "source": [
    "Raw Strings indicator(r) are used in the regular-expression search patterns, so that blackslashes donot have to be escaped."
   ]
  }
 ],
 "metadata": {
  "kernelspec": {
   "display_name": "Python 3 (ipykernel)",
   "language": "python",
   "name": "python3"
  },
  "language_info": {
   "codemirror_mode": {
    "name": "ipython",
    "version": 3
   },
   "file_extension": ".py",
   "mimetype": "text/x-python",
   "name": "python",
   "nbconvert_exporter": "python",
   "pygments_lexer": "ipython3",
   "version": "3.9.7"
  }
 },
 "nbformat": 4,
 "nbformat_minor": 5
}
