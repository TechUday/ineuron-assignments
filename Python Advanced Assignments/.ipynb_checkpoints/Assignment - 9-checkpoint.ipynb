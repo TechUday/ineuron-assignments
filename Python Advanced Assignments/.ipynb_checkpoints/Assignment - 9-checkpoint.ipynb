{
 "cells": [
  {
   "cell_type": "markdown",
   "id": "4cbcd718",
   "metadata": {},
   "source": [
    "### Name: Veeragani Uday Sandeep\n",
    "### Email: udaysandeep.v9@gmail.com\n",
    "### Assignment - 9"
   ]
  },
  {
   "cell_type": "markdown",
   "id": "a3671737",
   "metadata": {},
   "source": [
    "### Q1. In Python 3.X, what are the names and functions of string object types?"
   ]
  },
  {
   "cell_type": "markdown",
   "id": "179abd0a",
   "metadata": {},
   "source": [
    "The following are the names and functions of string object types in Python 3.X\n",
    "\n",
    "* .isdecimal() -> Returns True if all characters in a string are decimal.\n",
    "* .isalnum() -> Returns True if all characters in the string are AlphaNumeric.\n",
    "* .istitle() -> Returns True if first character in a string is in Uppercase.\n",
    "* .partition() -> Splits string at first occurance of sub string and returns a tuple of 3 elements.\n",
    "* .rpartition() -> Splits string at last occurance of sub string and returns a tuple of 3 elements.\n",
    "* .isidentifier() -> Returns True if give string is a valid identifier name.\n",
    "* len() -> Returns the length of the given string.\n",
    "* .index() -> Returns the lowest index of substring if substring is found in the string.\n",
    "* .rindex() -> Returns the highest index of substring if substring is found in the string.\n",
    "* max() -> Returns the highest Alphabetical Character in the string as per ASCII.\n",
    "* min() -> Returns the lowest Alphabetical Character in the string as per ASCII.\n",
    "* .splitlines() -> Returns a list of lines in the string.\n",
    "* .capitalize() -> Returns the string with first character capitalized.\n",
    "* .upper() -> Returns the string with all characters in uppercase.\n",
    "* .lower() -> Returns the string with all characters in lowercase\n",
    "* .casefold() -> Returns the string in lowercase which can be used for caseless comparisions.\n",
    "* .expandtabs(no_of_spaces) -> Replaces tabs in a string with specified no of spaces default is 8\n",
    "* .find() -> Returns lowest index of substring if substring is found in the string else returns -1.\n",
    "* .rfind() -> Returns highest index of substring if substring is found in the string else returns -1.\n",
    "* .count() -> Returns the no of occurances of the char in the given string.\n",
    "* .split() -> Returns list of words seperated by given sep else seperated by whitespace.\n",
    "* .rsplit() -> Returns list of words seperated by given sep else seperated by whitespace scanning from end.\n",
    "* .lstrip() -> Returns a copy of where leading whitespaces are removed.\n",
    "* .rstrip() -> Returns a copy of where trailed whitespaces are removed.\n",
    "* .strip() -> Returns a copy of where both leading and trailing whitespaces are removed.\n",
    "* .swapcase() -> Swaps lowercase characters with uppercase and vice versa.\n",
    "* .join() -> Concatenates a list or tuple of words with intervening occuernces of sep.\n",
    "* .translate() -> translates the characters using table.\n",
    "* .maketrans() -> Creating a mapping translation tbale usable for .translate()\n",
    "* .replace(,) -> Replace all occurances of char_1 with char_2 in string.\n",
    "* .encode() -> Encodes string into any encoding supported by python. Default encoding is UTF-8.\n",
    "* .ljust() -> Left-justify in a field of given width.\n",
    "* .rjust() -> Right-justify in a field of given width.\n",
    "* .center() -> Center-justify in a field of given width.\n",
    "* .zfill() -> Zfill adds zeros to the begining of string until the specified length is reached.\n",
    "\n",
    "basically after definign the string we can use (dot) and them tab in jupyter notebook or ctrl+space in colab to access these we don't need to remember them."
   ]
  },
  {
   "cell_type": "markdown",
   "id": "186059fc",
   "metadata": {},
   "source": [
    "### Q2. How do the string forms in Python 3.X vary in terms of operations?"
   ]
  },
  {
   "cell_type": "markdown",
   "id": "4e310728",
   "metadata": {},
   "source": [
    "In Python3 default format of strings is Unicode Whereas in Pyton2 we need to explicitly mention Unicode value using u.\n"
   ]
  },
  {
   "cell_type": "markdown",
   "id": "24096195",
   "metadata": {},
   "source": [
    "### Q3. In Python 3.X, how do you put non-ASCII Unicode characters in a string?"
   ]
  },
  {
   "cell_type": "markdown",
   "id": "a5e55afb",
   "metadata": {},
   "source": [
    "In Python 3, you can use the str type to store and manipulate Unicode character strings, including non-ASCII characters. To include a non-ASCII character in a str object, you can use the corresponding Unicode code point for the character in the string literal.\n",
    "\n",
    "For example, to include the Unicode character 'HEAVY BLACK HEART' (U+2764) in a string, you can use the following syntax:\n",
    "\n",
    "```s = 'I ❤ Python'```\n",
    "\n",
    "Alternatively, you can use the chr() function to obtain the character for a given Unicode code point:\n",
    "\n",
    "```s = 'I ' + chr(0x2764) + ' Python' ```\n",
    "\n",
    "You can also use Unicode escape sequences to include non-ASCII characters in a string. For example:\n",
    "\n",
    "```s = 'I \\u2764 Python' ```\n",
    "\n",
    "Regardless of which method you use, the resulting str object will contain the Unicode character 'HEAVY BLACK HEART' (U+2764).\n",
    "\n",
    "It is important to note that Python uses Unicode as its default character encoding, and as such, you do not need to specify an encoding when working with Unicode character strings in Python. This allows you to easily work with text in a wide range of languages and scripts, including non-Latin scripts such as Chinese, Japanese, and Arabic."
   ]
  },
  {
   "cell_type": "code",
   "execution_count": 3,
   "id": "5ec39e3c",
   "metadata": {},
   "outputs": [
    {
     "name": "stdout",
     "output_type": "stream",
     "text": [
      "I ❤ Python\n"
     ]
    }
   ],
   "source": [
    "s = 'I ' + chr(0x2764) + ' Python'\n",
    "print(s)\n"
   ]
  },
  {
   "cell_type": "code",
   "execution_count": 4,
   "id": "665a28da",
   "metadata": {},
   "outputs": [
    {
     "data": {
      "text/plain": [
       "'I ❤ Python'"
      ]
     },
     "execution_count": 4,
     "metadata": {},
     "output_type": "execute_result"
    }
   ],
   "source": [
    "s = 'I ❤ Python'\n",
    "s"
   ]
  },
  {
   "cell_type": "code",
   "execution_count": 5,
   "id": "22904a91",
   "metadata": {},
   "outputs": [
    {
     "data": {
      "text/plain": [
       "'I ❤ Python'"
      ]
     },
     "execution_count": 5,
     "metadata": {},
     "output_type": "execute_result"
    }
   ],
   "source": [
    "s = 'I \\u2764 Python'\n",
    "s"
   ]
  },
  {
   "cell_type": "markdown",
   "id": "9bf7a5ab",
   "metadata": {},
   "source": [
    "### Q4. In Python 3.X, what are the key differences between text-mode and binary-mode files?"
   ]
  },
  {
   "cell_type": "markdown",
   "id": "57e12a92",
   "metadata": {},
   "source": [
    "The major difference between these two is that a text file contains textual information in the form of alphabets, digits and special characters or symbols. On the other hand, a binary file contains bytes or a compiled version of a text file.\n",
    "\n",
    "When a file is opened in text mode, reading its data automatically decodes its content (as per the platform default or as per provided encoding), and returns it as a str; writing operation takes a str, and automatically encodes it before transferring to the file. Text mode files also support universal end-of-line translation, and encoding specification arguments.\n",
    "\n",
    "When a file is opened in binary mode by adding a b to the mode string argument in the open() call, reading its data does not decode it in any way, and simply returns its content raw and unchanged, as a bytes object; writing takes a bytes object and transfers it to the file unchanged. Binary-mode files also accept a bytearray object for the content to be written to the file."
   ]
  },
  {
   "cell_type": "markdown",
   "id": "4f22a9b2",
   "metadata": {},
   "source": [
    "### Q5. How can you interpret a Unicode text file containing text encoded in a different encoding than your platform's default?"
   ]
  },
  {
   "cell_type": "markdown",
   "id": "789c595b",
   "metadata": {},
   "source": [
    "Use of **encode()** and **decode()** method can be used to you interpret a Unicode text file containing text encoded in a different encoding than your platform's default, by default encoding parameter is UTF-8"
   ]
  },
  {
   "cell_type": "markdown",
   "id": "fea29208",
   "metadata": {},
   "source": [
    "### Q6. What is the best way to make a Unicode text file in a particular encoding format?"
   ]
  },
  {
   "cell_type": "markdown",
   "id": "bec13bdd",
   "metadata": {},
   "source": [
    "Use **str.encode()** and **file.write()** to make a Unicode text file in a particular encoding format, default encoding format is UTF-18.\n",
    "\n",
    "* Call str.encode(encoding) with encoding set to utf8 to encode str.\n",
    "* Call open(file, mode) to open a file with mode set to wb . wb writes to files in binary mode & preserves UTF-8format.\n",
    "* Call file.write(data) to write data to the file."
   ]
  },
  {
   "cell_type": "code",
   "execution_count": null,
   "id": "4e8a025d",
   "metadata": {},
   "outputs": [],
   "source": [
    "unicode_text = u\"улыбаться Владимир Путин\"\n",
    "encoded_unicode_text = unicode_text.encode(\"utf-8\")\n",
    "print(encoded_unicode_text,end=\"\\n\\n\")\n",
    "\n",
    "w_file = open(\"w_file.txt\",\"wb\")\n",
    "w_file.write(encoded_unicode_text)\n",
    "w_file.close()\n",
    "\n",
    "r_file = open(\"w_file.txt\",\"rb\")\n",
    "data = r_file.read()\n",
    "print(data)"
   ]
  },
  {
   "cell_type": "markdown",
   "id": "3e03ab54",
   "metadata": {},
   "source": [
    "### Q7. What qualifies ASCII text as a form of Unicode text?"
   ]
  },
  {
   "cell_type": "markdown",
   "id": "dec61dec",
   "metadata": {},
   "source": [
    "ASCII (American Standard Code for Information Interchange) is a character encoding standard that represents text using a set of 128 ASCII characters. ASCII text is a form of Unicode text, because Unicode is a standardized character encoding that includes ASCII as a subset.\n",
    "\n",
    "In Unicode, each character is represented by a unique code point, which is a numerical value that identifies the character. The ASCII character set consists of code points in the range U+0000 to U+007F (0 to 127 in decimal), and is a subset of the Unicode character set.\n",
    "\n",
    "This means that any text that is encoded in ASCII is also valid Unicode text, because the ASCII characters are represented by code points in the Unicode character set. However, Unicode is a much larger character set than ASCII, and includes code points for a wide range of characters and scripts from around the world, in addition to ASCII."
   ]
  },
  {
   "cell_type": "markdown",
   "id": "b68edd5d",
   "metadata": {},
   "source": [
    "### Q8. How much of an effect does the change in string types in Python 3.X have on your code?"
   ]
  },
  {
   "cell_type": "markdown",
   "id": "8e718611",
   "metadata": {},
   "source": [
    "Python 3 stores strings as Unicode by default whereas Python 2 requires you to mark a string with a u if you want to store it as Unicode. Unicode strings are more versatile than ASCII strings, which are the Python 3.X default, as they can store letters from foreign languages as well as emoji and the standard Roman letters and numerals."
   ]
  }
 ],
 "metadata": {
  "kernelspec": {
   "display_name": "Python 3 (ipykernel)",
   "language": "python",
   "name": "python3"
  },
  "language_info": {
   "codemirror_mode": {
    "name": "ipython",
    "version": 3
   },
   "file_extension": ".py",
   "mimetype": "text/x-python",
   "name": "python",
   "nbconvert_exporter": "python",
   "pygments_lexer": "ipython3",
   "version": "3.9.7"
  }
 },
 "nbformat": 4,
 "nbformat_minor": 5
}
