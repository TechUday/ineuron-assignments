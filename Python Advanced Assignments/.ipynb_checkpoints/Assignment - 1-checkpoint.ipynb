{
 "cells": [
  {
   "cell_type": "markdown",
   "id": "435d3438",
   "metadata": {},
   "source": [
    "### Name: Veeragani Uday Sandeep\n",
    "### Email: udaysandeep.v9@gmail.com\n",
    "### Assignment - 1"
   ]
  },
  {
   "cell_type": "markdown",
   "id": "e7bcbc68",
   "metadata": {},
   "source": [
    "### Q1. What is the purpose of Python's OOP?"
   ]
  },
  {
   "cell_type": "markdown",
   "id": "de14cbb5",
   "metadata": {},
   "source": [
    "Object-oriented programming is a programming paradigm that provides a means of structuring programs so that properties and behaviors are bundled into individual objects In Python, object-oriented Programming (OOPs) uses objects and classes in programming.It aims to implement real-world entities like inheritance, polymorphisms, encapsulation, etc. in the programming. The main concept of OOPs is to bind the data and the functions that work on that together as a single unit so that no other part of the code can access this data.\n",
    "\n",
    "OOP is about code reuse — you factor code to minimize redundancy and program by customizing what already exists instead of changing code in place or starting from scratch.\n",
    "\n",
    "It comes up with the following advantages:\n",
    "* It helps to divide our over all program into different small segments and thus making it solving easy with the use of objects\n",
    "* Helps in easy maintenance and modification of existing program\n",
    "* Multiple instances of an object can be made.\n",
    "\n"
   ]
  },
  {
   "cell_type": "markdown",
   "id": "049476f0",
   "metadata": {},
   "source": [
    "### Q2. Where does an inheritance search look for an attribute?"
   ]
  },
  {
   "cell_type": "markdown",
   "id": "43a0f8d2",
   "metadata": {},
   "source": [
    "An inheritance search looks for an attribute first in the instance object, then in the class the instance was created from, then in all higher superclasses, progressing from left to right (by default). The search stops at the first place the attribute is found.`"
   ]
  },
  {
   "cell_type": "markdown",
   "id": "efa3371e",
   "metadata": {},
   "source": [
    "### Q3. How do you distinguish between a class object and an instance object?"
   ]
  },
  {
   "cell_type": "markdown",
   "id": "32039fb6",
   "metadata": {},
   "source": [
    "The differences between a class object and an instance object are:\n",
    "\n",
    "* Class is a template for creating objects whereas object is an instance of class\n",
    "* Seperate memory is allocated for each object whenever an object is created. but for a class this doesnot happens.\n",
    "* A Class is created once. Many objects are created using a class.\n",
    "* As Classes have no allocated memory. they can't be manipulated. but objects can be manipulated."
   ]
  },
  {
   "cell_type": "markdown",
   "id": "1dd306f7",
   "metadata": {},
   "source": [
    "### Q4. What makes the first argument in a class’s method function special?"
   ]
  },
  {
   "cell_type": "markdown",
   "id": "5d07f657",
   "metadata": {},
   "source": [
    "Python Classes usually have three types of methods which are:Instance Methods (object level methods),Class Methods (class level methods),Static Methods (general utility methods).\n",
    "\n",
    "self is the first argument for instance methods. which refers to the object itself,It always receives the instance object that is the implied subject of the method call.\n",
    "cls is the first argument for class methods which refers to the class itself\n",
    "\n"
   ]
  },
  {
   "cell_type": "markdown",
   "id": "3bbb180c",
   "metadata": {},
   "source": [
    "### Q5. What is the purpose of the init method?"
   ]
  },
  {
   "cell_type": "markdown",
   "id": "a0199e5f",
   "metadata": {},
   "source": [
    "**\\__init__** is a reseved method in python classes. It serves the role of a constructor in object oriented terminology. This method is called when an object is created from a class and it allows the class to initialize the attributes of the class If the __init__ method is coded in a class, Python calls it automatically each time an instance of that class is created.\n",
    "```python\n",
    "class New(): \n",
    "    def __init__(self, arg1, arg2):\n",
    "        self.first_var = arg1\n",
    "        self.second_var = arg2\n",
    "n=New(arg1,arg2)\n",
    "```"
   ]
  },
  {
   "cell_type": "markdown",
   "id": "c9a5a41c",
   "metadata": {},
   "source": [
    "### Q6. What is the process for creating a class instance?"
   ]
  },
  {
   "cell_type": "markdown",
   "id": "8848fa2b",
   "metadata": {},
   "source": [
    "You create a class instance by calling the class name as though it were a function; any arguments passed into the class name show up as arguments two and beyond in the \\__init__ constructor method.\n",
    "```\n",
    "Examples:\n",
    "x = ClassName()\n",
    "y = AnotherClass(arg1, arg2)\n",
    "````"
   ]
  },
  {
   "cell_type": "markdown",
   "id": "28da41fc",
   "metadata": {},
   "source": [
    "### Q7. What is the process for creating a class?"
   ]
  },
  {
   "cell_type": "markdown",
   "id": "7b20357a",
   "metadata": {},
   "source": [
    "**class** keyword is used to created a class in python. The syntax to create a class in python is class :\n",
    "\n",
    "Example: class Car: ➞ this creates a class called Car"
   ]
  },
  {
   "cell_type": "markdown",
   "id": "cbd9d195",
   "metadata": {},
   "source": [
    "### Q8. How would you define the superclasses of a class?"
   ]
  },
  {
   "cell_type": "markdown",
   "id": "ab876cae",
   "metadata": {},
   "source": [
    "superclass/Parent class is given as a arugment to the child class\n",
    "\n",
    "Example: class Child(Father,Mother): Here child class Child inherits attributes and methods from Superclass/Parentclass Father and Mother classes "
   ]
  }
 ],
 "metadata": {
  "kernelspec": {
   "display_name": "Python 3 (ipykernel)",
   "language": "python",
   "name": "python3"
  },
  "language_info": {
   "codemirror_mode": {
    "name": "ipython",
    "version": 3
   },
   "file_extension": ".py",
   "mimetype": "text/x-python",
   "name": "python",
   "nbconvert_exporter": "python",
   "pygments_lexer": "ipython3",
   "version": "3.9.7"
  }
 },
 "nbformat": 4,
 "nbformat_minor": 5
}
