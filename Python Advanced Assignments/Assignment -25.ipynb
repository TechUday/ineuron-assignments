{
 "cells": [
  {
   "cell_type": "markdown",
   "id": "bce34a8e",
   "metadata": {},
   "source": [
    "### Name: Veeragani Uday Sandeep\n",
    "### Email: udaysandeep.v9@gmail.com\n",
    "### Assignment - 25"
   ]
  },
  {
   "cell_type": "markdown",
   "id": "4eef16e7",
   "metadata": {},
   "source": [
    "### Q1. What is the distinction between a numpy array and a pandas data frame? Is there a way to convert between the two if there is ?"
   ]
  },
  {
   "cell_type": "markdown",
   "id": "867a0073",
   "metadata": {},
   "source": [
    "Numpy Ndarray provides a lot of convenient and optimized methods for performing several mathematical operations on vectors.\n",
    "\n",
    "Pandas Dataframe is an in-memory 2-dimensional tabular representation of data. In simpler words, it can be seen as a spreadsheet having rows and columns.\n",
    "\n",
    "Conversion : `Dataframe=pandas.DataFrame(array).`"
   ]
  },
  {
   "cell_type": "markdown",
   "id": "debc2c69",
   "metadata": {},
   "source": [
    "### Q2. What can go wrong when an user enters in a stock-ticker symbol, and how do you handle it?"
   ]
  },
  {
   "cell_type": "markdown",
   "id": "cce07804",
   "metadata": {},
   "source": [
    "A ticker symbol is the grouping of a specific set of characters, usually letters, that represent and identify any type of public security that trades on an exchange. Symbols are unique, allowing investors to research and trade shares in the companies they represent.\n",
    "A ticker symbol change really means nothing to you, the investor, in the grand scheme of things. The change doesn't do anything to markets or to the way you execute trades. Since everything is electronic, your trading platform or broker will already update your portfolio to include the new ticker symbol."
   ]
  },
  {
   "cell_type": "markdown",
   "id": "91241a7f",
   "metadata": {},
   "source": [
    "### Q3. Identify some of the plotting techniques that are used to produce a stock-market chart ?"
   ]
  },
  {
   "cell_type": "markdown",
   "id": "b1aad37d",
   "metadata": {},
   "source": [
    "Bar chart, Line Chart are used for plotting."
   ]
  },
  {
   "cell_type": "markdown",
   "id": "ed1f0164",
   "metadata": {},
   "source": [
    "### Q4. Why is it essential to print a legend on a stock market chart ?"
   ]
  },
  {
   "cell_type": "markdown",
   "id": "9fb54f89",
   "metadata": {},
   "source": [
    "Legend will help comparison between different stocks, so will be essential on a stock market chart"
   ]
  },
  {
   "cell_type": "markdown",
   "id": "92c840bf",
   "metadata": {},
   "source": [
    "### Q5. What is the best way to limit the length of a pandas data frame to less than a year?"
   ]
  },
  {
   "cell_type": "markdown",
   "id": "b9321f93",
   "metadata": {},
   "source": [
    "We can use start and end parameters for that. In start we write the date from where we are starting and at the end we write the end date. SO within this span we can restric the duration.Also we can use the parameters like periods for how much times we need the duration and we can also use the frequency parameter."
   ]
  },
  {
   "cell_type": "markdown",
   "id": "f214e793",
   "metadata": {},
   "source": [
    "### Q6. What is the definition of a 180-day moving average?"
   ]
  },
  {
   "cell_type": "markdown",
   "id": "a6c443ff",
   "metadata": {},
   "source": [
    "The 180-day moving average is represented as a line on charts and represents the average price over the past 180 days. The moving average can give traders a sense regarding whether the trend is up or down, while also identifying potential support or resistance areas."
   ]
  },
  {
   "cell_type": "markdown",
   "id": "d78803b5",
   "metadata": {},
   "source": [
    "### Q7. Did the chapter&#39;s final example use &quot;indirect&quot; importing? If so, how exactly do you do it?"
   ]
  },
  {
   "cell_type": "markdown",
   "id": "7f0d28e9",
   "metadata": {},
   "source": [
    "indirect imports in Python throw them when they are actually used. Excessively permissive except clauses can hide them and result in unexpected behavior."
   ]
  }
 ],
 "metadata": {
  "kernelspec": {
   "display_name": "Python 3 (ipykernel)",
   "language": "python",
   "name": "python3"
  },
  "language_info": {
   "codemirror_mode": {
    "name": "ipython",
    "version": 3
   },
   "file_extension": ".py",
   "mimetype": "text/x-python",
   "name": "python",
   "nbconvert_exporter": "python",
   "pygments_lexer": "ipython3",
   "version": "3.9.7"
  }
 },
 "nbformat": 4,
 "nbformat_minor": 5
}
