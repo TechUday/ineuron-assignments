{
 "cells": [
  {
   "cell_type": "markdown",
   "id": "73876e4c",
   "metadata": {},
   "source": [
    "### Name: Veeragani Uday Sandeep\n",
    "### Email: udaysandeep.v9@gmail.com\n",
    "### Assignment - 10"
   ]
  },
  {
   "cell_type": "markdown",
   "id": "88cb28dd",
   "metadata": {},
   "source": [
    "### Q1. What is the difference between \\__getattr__ and \\__getattribute__?"
   ]
  },
  {
   "cell_type": "markdown",
   "id": "d466273c",
   "metadata": {},
   "source": [
    "In Python, `__getattr__` and `__getattribute__` are special methods that are used to customize attribute access for objects.\n",
    "\n",
    "**\\__getattr__** is a method that is called when an attribute of an object is accessed, but the attribute does not exist. This method can be used to provide a default value for the attribute or to raise an exception if the attribute is not found.\n",
    "\n",
    "**\\__getattribute__** is a method that is called for every attribute access, regardless of whether the attribute exists or not. This method can be used to customize the behavior of attribute access for an object, or to perform additional processing when an attribute is accessed.\n",
    "\n",
    "Here is an example of how `__getattr__` and `__getattribute__` can be used in a class:"
   ]
  },
  {
   "cell_type": "code",
   "execution_count": 1,
   "id": "94295cd3",
   "metadata": {},
   "outputs": [
    {
     "name": "stdout",
     "output_type": "stream",
     "text": [
      "Accessing attribute x\n",
      "1\n",
      "Accessing attribute y\n",
      "2\n",
      "Accessing attribute z\n"
     ]
    },
    {
     "ename": "AttributeError",
     "evalue": "Attribute z not found",
     "output_type": "error",
     "traceback": [
      "\u001b[1;31m---------------------------------------------------------------------------\u001b[0m",
      "\u001b[1;31mAttributeError\u001b[0m                            Traceback (most recent call last)",
      "Input \u001b[1;32mIn [1]\u001b[0m, in \u001b[0;36m<cell line: 24>\u001b[1;34m()\u001b[0m\n\u001b[0;32m     21\u001b[0m \u001b[38;5;28mprint\u001b[39m(obj\u001b[38;5;241m.\u001b[39my)\n\u001b[0;32m     23\u001b[0m \u001b[38;5;66;03m# This will raise an AttributeError, as z is not an attribute of the object\u001b[39;00m\n\u001b[1;32m---> 24\u001b[0m \u001b[38;5;28mprint\u001b[39m(\u001b[43mobj\u001b[49m\u001b[38;5;241;43m.\u001b[39;49m\u001b[43mz\u001b[49m)\n",
      "Input \u001b[1;32mIn [1]\u001b[0m, in \u001b[0;36mMyClass.__getattr__\u001b[1;34m(self, attr)\u001b[0m\n\u001b[0;32m      7\u001b[0m     \u001b[38;5;28;01mreturn\u001b[39;00m \u001b[38;5;241m2\u001b[39m\n\u001b[0;32m      8\u001b[0m \u001b[38;5;28;01melse\u001b[39;00m:\n\u001b[1;32m----> 9\u001b[0m     \u001b[38;5;28;01mraise\u001b[39;00m \u001b[38;5;167;01mAttributeError\u001b[39;00m(\u001b[38;5;124mf\u001b[39m\u001b[38;5;124m'\u001b[39m\u001b[38;5;124mAttribute \u001b[39m\u001b[38;5;132;01m{\u001b[39;00mattr\u001b[38;5;132;01m}\u001b[39;00m\u001b[38;5;124m not found\u001b[39m\u001b[38;5;124m'\u001b[39m)\n",
      "\u001b[1;31mAttributeError\u001b[0m: Attribute z not found"
     ]
    }
   ],
   "source": [
    "class MyClass:\n",
    "    def __init__(self):\n",
    "        self.x = 1\n",
    "\n",
    "    def __getattr__(self, attr):\n",
    "        if attr == 'y':\n",
    "            return 2\n",
    "        else:\n",
    "            raise AttributeError(f'Attribute {attr} not found')\n",
    "\n",
    "    def __getattribute__(self, attr):\n",
    "        print(f'Accessing attribute {attr}')\n",
    "        return object.__getattribute__(self, attr)\n",
    "\n",
    "obj = MyClass()\n",
    "\n",
    "# This will print \"Accessing attribute x\" and return 1\n",
    "print(obj.x)\n",
    "\n",
    "# This will print \"Accessing attribute y\" and return 2\n",
    "print(obj.y)\n",
    "\n",
    "# This will raise an AttributeError, as z is not an attribute of the object\n",
    "print(obj.z)\n"
   ]
  },
  {
   "cell_type": "markdown",
   "id": "146033db",
   "metadata": {},
   "source": [
    "In this example, the \\__getattr__ method is used to provide a default value for the y attribute, and the \\__getattribute__"
   ]
  },
  {
   "cell_type": "markdown",
   "id": "815ff805",
   "metadata": {},
   "source": [
    "### Q2. What is the difference between properties and descriptors?"
   ]
  },
  {
   "cell_type": "markdown",
   "id": "ce6a52d5",
   "metadata": {},
   "source": [
    "The differences between Properties and Descriptors is:\n",
    "\n",
    "In Python, properties and descriptors are both ways to customize attribute access for objects. However, there are some key differences between these two approaches.\n",
    "\n",
    "**Properties** are a way to define methods that are called when an attribute of an object is accessed or modified. They are implemented using the property built-in function, which takes three optional arguments: getter, setter, and deleter. The getter method is called when the attribute is accessed, the setter method is called when the attribute is set to a new value, and the deleter method is called when the attribute is deleted.\n",
    "\n",
    "Here is an example of how properties can be used in a class:\n",
    "\n",
    "\n",
    "```python\n",
    "class MyClass:\n",
    "    def __init__(self):\n",
    "        self._x = 0\n",
    "\n",
    "    def get_x(self):\n",
    "        return self._x\n",
    "\n",
    "    def set_x(self, value):\n",
    "        self._x = value\n",
    "\n",
    "    def del_x(self):\n",
    "        del self._x\n",
    "\n",
    "    x = property(get_x, set_x, del_x)\n",
    "\n",
    "obj = MyClass()\n",
    "\n",
    "# This will call the get_x() method and return 0\n",
    "print(obj.x)\n",
    "\n",
    "# This will call the set_x() method and set the value of x to 1\n",
    "obj.x = 1\n",
    "\n",
    "# This will call the del_x() method and delete the x attribute\n",
    "del obj.x\n",
    "```\n",
    "**Descriptors** are a more powerful and flexible way to customize attribute access for objects. They are implemented using classes that define the \\__get__, \\__set__, and \\__delete__ methods, which are called when the attribute is accessed, set to a new value, or deleted, respectively.\n",
    "\n",
    "Here is an example of how descriptors can be used in a class:\n",
    "\n",
    "```python\n",
    "class MyDescriptor:\n",
    "    def __init__(self, initial_value=None):\n",
    "        self._value = initial_value\n",
    "\n",
    "    def __get__(self, instance, owner):\n",
    "        return self._value\n",
    "\n",
    "    def __set__(self, instance, value):\n",
    "        self._value = value\n",
    "\n",
    "    def __delete__(self, instance):\n",
    "        del self._value\n",
    "\n",
    "class MyClass:\n",
    "    x = MyDescriptor(0)\n",
    "\n",
    "obj = MyClass()\n",
    "\n",
    "# This will call the __get__() method of the MyDescriptor class and return 0\n",
    "print(obj.x)\n",
    "\n",
    "# This will call the __set__() method of the MyDescriptor class and set the value of x to 1\n",
    "obj.x = 1\n",
    "\n",
    "# This will call the __delete__() method of the\n",
    "```"
   ]
  },
  {
   "cell_type": "markdown",
   "id": "766972be",
   "metadata": {},
   "source": [
    "### Q3. What are the key differences in functionality between \\__getattr__ and \\__getattribute__, as well as properties and descriptors?"
   ]
  },
  {
   "cell_type": "markdown",
   "id": "d7b6e283",
   "metadata": {},
   "source": [
    "The Key Differences between \\__getattr__, \\__getattribute__, Properties and Descriptors are:\n",
    "\n",
    "`__getattr__:` Python will call this method whenever you request an attribute that hasn't already been defined\n",
    "\n",
    "`__getattribute__` : This method will invoked before looking at the actual attributes on the object. Means,if we have \\__getattribute__ method in our class, python invokes this method for every attribute regardless whether it exists or not.\n",
    "\n",
    "`Properties`: With Properties we can bind getter, setter and delete functions together with an attribute name, using the built-in property function or @property decorator. When we do this, each reference to an attribute looks like simple, direct access, but involes the appropriate function of the object.\n",
    "\n",
    "`Descriptor:` With Descriptor we can bind getter, setter and delete functions into a seperate class. we then assign an object of this class to the attribute name in our main class. When we do this, each reference to an attribute looks like simple, direct access but invokes an appropriate function of descriptor object."
   ]
  }
 ],
 "metadata": {
  "kernelspec": {
   "display_name": "Python 3 (ipykernel)",
   "language": "python",
   "name": "python3"
  },
  "language_info": {
   "codemirror_mode": {
    "name": "ipython",
    "version": 3
   },
   "file_extension": ".py",
   "mimetype": "text/x-python",
   "name": "python",
   "nbconvert_exporter": "python",
   "pygments_lexer": "ipython3",
   "version": "3.9.7"
  }
 },
 "nbformat": 4,
 "nbformat_minor": 5
}
