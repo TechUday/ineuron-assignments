{
 "cells": [
  {
   "cell_type": "markdown",
   "id": "3200c34d",
   "metadata": {},
   "source": [
    "### Name: Veeragani Uday Sandeep\n",
    "### Email: udaysandeep.v9@gmail.com"
   ]
  },
  {
   "cell_type": "markdown",
   "id": "31926982",
   "metadata": {},
   "source": [
    "### 1. In the below elements which of them are values or an expression? eg:- values can be integer or string and expressions will be mathematical operators.\n",
    "\n",
    "*\n",
    "\n",
    "'hello'\n",
    "\n",
    "-87.8\n",
    "\n",
    "-\n",
    "\n",
    "/\n",
    "\n",
    "+\n",
    "\n",
    "6\n"
   ]
  },
  {
   "cell_type": "markdown",
   "id": "ae5f044a",
   "metadata": {},
   "source": [
    "*is expression (It is a multplication operator)\n",
    "\n",
    "'hello' -> value(String value)\n",
    "\n",
    "-87.8 -> value(float value)\n",
    "\n",
    "-is expression (It is a Subtraction operator)\n",
    "\n",
    "+is expression (It is a Addition operator)\n",
    "\n",
    "6 -> value(Integer value)\n"
   ]
  },
  {
   "cell_type": "markdown",
   "id": "0c46a9b1",
   "metadata": {},
   "source": [
    "### 2. What is the difference between string and variable?"
   ]
  },
  {
   "cell_type": "markdown",
   "id": "cafbc918",
   "metadata": {},
   "source": [
    "**String** is a class, A reference datatype it is used to represent text type data.\n",
    "\n",
    "**Variable** is any alphabet or group of alphabet which work as temporary storage locations , a variable is used to represent any value\n",
    "\n",
    "example ::\n",
    "\n",
    "String x=\"nirmal\"\n",
    "\n",
    "here x is variable and type of value stores in it is string"
   ]
  },
  {
   "cell_type": "markdown",
   "id": "1e5e35c4",
   "metadata": {},
   "source": [
    "### 3. Describe three different data types."
   ]
  },
  {
   "cell_type": "markdown",
   "id": "034f2d3d",
   "metadata": {},
   "source": [
    "The three main different data types in python are-\n",
    "* Integer\n",
    "* Float\n",
    "* String\n",
    "\n",
    "int data type: We can use int data type to represent whole numbers (integral values)\n",
    "\n",
    "float data type: We can use float data type to represent floating point values (decimal values)\n",
    "\n",
    "string data type: String is used to repersent the sequence of characters. Also the characters can be numbers, special character, and alphabates. "
   ]
  },
  {
   "cell_type": "code",
   "execution_count": 4,
   "id": "e0712761",
   "metadata": {},
   "outputs": [
    {
     "name": "stdout",
     "output_type": "stream",
     "text": [
      "data type of 12 is <class 'int'>\n",
      "data type of 12.24 is <class 'float'>\n",
      "data type of nirmal is <class 'str'>\n"
     ]
    }
   ],
   "source": [
    "n1=12\n",
    "print(f\"data type of {n1} is {type(n1)}\")\n",
    "n2=12.24\n",
    "print(f\"data type of {n2} is {type(n2)}\")\n",
    "n3=\"nirmal\"\n",
    "print(f\"data type of {n3} is {type(n3)}\")"
   ]
  },
  {
   "cell_type": "markdown",
   "id": "b0d91d2a",
   "metadata": {},
   "source": [
    "### 4. What is an expression made up of? What do all expressions do?"
   ]
  },
  {
   "cell_type": "markdown",
   "id": "c4d4e520",
   "metadata": {},
   "source": [
    "Expression is the combinaton of mathematical operators, variables or Constants. It consists of one or more operand and zero or more operators to produce a value.\n",
    "\n",
    "Expression is used to produce some result or value."
   ]
  },
  {
   "cell_type": "code",
   "execution_count": 8,
   "id": "74ffd76d",
   "metadata": {},
   "outputs": [
    {
     "data": {
      "text/plain": [
       "0"
      ]
     },
     "execution_count": 8,
     "metadata": {},
     "output_type": "execute_result"
    }
   ],
   "source": [
    "12-32//2+4 ## Is an expression which produce a value of 0"
   ]
  },
  {
   "cell_type": "markdown",
   "id": "5fe1e96d",
   "metadata": {},
   "source": [
    "### 5. This assignment statements, like spam = 10. What is the difference between an expression and a statement?"
   ]
  },
  {
   "cell_type": "markdown",
   "id": "9d89b3dd",
   "metadata": {},
   "source": [
    "* Assignment statement : It is the statement where some value or expression is assigned to a variable or constant.\n",
    "* Expression : Expression is the combinaton of mathematical operators, variables or Constants\n",
    "* Difference : The difference is that expression itself is assigned to a variable or constant.\n",
    "\n",
    "Example:\n",
    "spam = 10\n",
    "\n",
    "In the example \" spam = 10  \" is a assignment statement whereas the \" 10 \" is an expression"
   ]
  },
  {
   "cell_type": "markdown",
   "id": "95328d75",
   "metadata": {},
   "source": [
    "### 6. After running the following code, what does the variable bacon contain?\n",
    "bacon = 22\n",
    "\n",
    "bacon + 1\n",
    "\n"
   ]
  },
  {
   "cell_type": "code",
   "execution_count": 9,
   "id": "4b657c2e",
   "metadata": {},
   "outputs": [
    {
     "data": {
      "text/plain": [
       "23"
      ]
     },
     "execution_count": 9,
     "metadata": {},
     "output_type": "execute_result"
    }
   ],
   "source": [
    "bacon = 22\n",
    "\n",
    "bacon + 1"
   ]
  },
  {
   "cell_type": "code",
   "execution_count": 10,
   "id": "6af25eb3",
   "metadata": {},
   "outputs": [
    {
     "data": {
      "text/plain": [
       "22"
      ]
     },
     "execution_count": 10,
     "metadata": {},
     "output_type": "execute_result"
    }
   ],
   "source": [
    "bacon"
   ]
  },
  {
   "cell_type": "markdown",
   "id": "1f632793",
   "metadata": {},
   "source": [
    "bacon will contain 22 because in the second line we are adding +1 to bacon but to reflect the change we are not assing the value back to bacon"
   ]
  },
  {
   "cell_type": "markdown",
   "id": "fe860bfe",
   "metadata": {},
   "source": [
    "### 7. What should the values of the following two terms be?\n",
    "'spam' +'spamspam'\n",
    "\n",
    "'spam*3'"
   ]
  },
  {
   "cell_type": "code",
   "execution_count": 15,
   "id": "255bbfdb",
   "metadata": {},
   "outputs": [
    {
     "name": "stdout",
     "output_type": "stream",
     "text": [
      "spamspamspam\n",
      "spamspamspam\n"
     ]
    }
   ],
   "source": [
    "print('spam' + 'spamspam')\n",
    "print('spam' * 3)"
   ]
  },
  {
   "cell_type": "markdown",
   "id": "ddacd044",
   "metadata": {},
   "source": [
    "* 'spam' + 'spamspam' = 'spamspamspam'\n",
    "* 'spam' * 3 = 'spamspamspam'"
   ]
  },
  {
   "cell_type": "markdown",
   "id": "d0f155f2",
   "metadata": {},
   "source": [
    "### 8. Why is eggs a valid variable name while 100 is invalid?"
   ]
  },
  {
   "cell_type": "markdown",
   "id": "6178d6ff",
   "metadata": {},
   "source": [
    "As per python,Variable names cannot begin with a number. The python rules for naming a variable are :-\n",
    "\n",
    "* Variable name must start with a letter or the underscore character.\n",
    "* Variable name cannot start with a number.\n",
    "* Variable name can only contain alpha-numeric characters and underscores (A-z, 0-9, & _ ).\n",
    "* Variable names are case-sensitive (name, INEURON and ineuron are three different variables).\n",
    "* The reserved words(keywords) cannot be used naming the variable."
   ]
  },
  {
   "cell_type": "code",
   "execution_count": 17,
   "id": "ace5f9db",
   "metadata": {},
   "outputs": [
    {
     "ename": "SyntaxError",
     "evalue": "cannot assign to literal (3587390137.py, line 3)",
     "output_type": "error",
     "traceback": [
      "\u001b[1;36m  Input \u001b[1;32mIn [17]\u001b[1;36m\u001b[0m\n\u001b[1;33m    100=\"hi\" # Invalid Initialization\u001b[0m\n\u001b[1;37m    ^\u001b[0m\n\u001b[1;31mSyntaxError\u001b[0m\u001b[1;31m:\u001b[0m cannot assign to literal\n"
     ]
    }
   ],
   "source": [
    "egg=\"hi\" # valid Initialization\n",
    "print(egg)\n",
    "100=\"hi\" # Invalid Initialization\n"
   ]
  },
  {
   "cell_type": "markdown",
   "id": "6142265e",
   "metadata": {},
   "source": [
    "### 9. What three functions can be used to get the integer, floating-point number, or string version of a value?"
   ]
  },
  {
   "cell_type": "markdown",
   "id": "61c36f2c",
   "metadata": {},
   "source": [
    "* for integer : int()\n",
    "\n",
    "* for floating-point number : float()\n",
    "\n",
    "* for string : str()"
   ]
  },
  {
   "cell_type": "code",
   "execution_count": 21,
   "id": "218b4358",
   "metadata": {},
   "outputs": [
    {
     "name": "stdout",
     "output_type": "stream",
     "text": [
      "int(12.5) =  12 <class 'int'>\n",
      "float(12) ->  12.0 <class 'float'>\n",
      "str(1234) ->  1234 <class 'str'>\n"
     ]
    }
   ],
   "source": [
    "print('int(12.5) = ',int(12.5),type(int(10.0))) # int() function converts given input to int\n",
    "print('float(12) -> ',float(12),type(float(12))) # float() function converts given input to float\n",
    "print('str(1234) -> ',str(1234),type(str(1234))) # str() function converts given input to string\n"
   ]
  },
  {
   "cell_type": "markdown",
   "id": "55e9833d",
   "metadata": {},
   "source": [
    "### 10. Why does this expression cause an error? How can you fix it?\n",
    "'I have eaten' + 99 + 'burritos'"
   ]
  },
  {
   "cell_type": "markdown",
   "id": "7e2765bd",
   "metadata": {},
   "source": [
    "In the above expression + will work as concatination operator which will add two strings but in the given expression we are trying to concatenate String and int values which shows error\n",
    "\n",
    "Solution for problem is we have to convert integer to string i.e; typecasting by using str() we convert 99 to string type and perform the concatination"
   ]
  },
  {
   "cell_type": "code",
   "execution_count": 26,
   "id": "0a74371b",
   "metadata": {},
   "outputs": [
    {
     "name": "stdout",
     "output_type": "stream",
     "text": [
      "I have eaten 99 burritos\n"
     ]
    }
   ],
   "source": [
    "\n",
    "print('I have eaten ' + str(99) + ' burritos')"
   ]
  },
  {
   "cell_type": "code",
   "execution_count": null,
   "id": "79d2496b",
   "metadata": {},
   "outputs": [],
   "source": []
  }
 ],
 "metadata": {
  "kernelspec": {
   "display_name": "Python 3 (ipykernel)",
   "language": "python",
   "name": "python3"
  },
  "language_info": {
   "codemirror_mode": {
    "name": "ipython",
    "version": 3
   },
   "file_extension": ".py",
   "mimetype": "text/x-python",
   "name": "python",
   "nbconvert_exporter": "python",
   "pygments_lexer": "ipython3",
   "version": "3.9.7"
  }
 },
 "nbformat": 4,
 "nbformat_minor": 5
}
