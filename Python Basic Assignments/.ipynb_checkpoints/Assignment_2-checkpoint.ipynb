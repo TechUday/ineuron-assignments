{
 "cells": [
  {
   "cell_type": "markdown",
   "id": "30aed111",
   "metadata": {},
   "source": [
    "### Name: Veeragani Uday Sandeep\n",
    "### Email: udaysandeep.v9@gmail.com\n",
    "### Assignment - 2 "
   ]
  },
  {
   "cell_type": "markdown",
   "id": "0d4860c2",
   "metadata": {},
   "source": [
    "### 1.What are the two values of the Boolean data type? How do you write them?"
   ]
  },
  {
   "cell_type": "markdown",
   "id": "f3237899",
   "metadata": {},
   "source": [
    "The two values of Boolean data type are **True** and **False**, We have to write them as True and False they are case sensitive we must write T in True as capital T and F in False as capital F and remaining letters are small"
   ]
  },
  {
   "cell_type": "code",
   "execution_count": 1,
   "id": "2322af13",
   "metadata": {},
   "outputs": [
    {
     "name": "stdout",
     "output_type": "stream",
     "text": [
      "True <class 'bool'>\n",
      "False <class 'bool'>\n"
     ]
    }
   ],
   "source": [
    "a=True\n",
    "b=False\n",
    "print(a,type(a))\n",
    "print(b,type(b))"
   ]
  },
  {
   "cell_type": "markdown",
   "id": "7ce14e31",
   "metadata": {},
   "source": [
    "### 2. What are the three different types of Boolean operators?"
   ]
  },
  {
   "cell_type": "markdown",
   "id": "efb8a304",
   "metadata": {},
   "source": [
    "There different types of Boolean operators are:\n",
    "\n",
    "1. and\n",
    "2. or\n",
    "3. not"
   ]
  },
  {
   "cell_type": "code",
   "execution_count": 3,
   "id": "6db097aa",
   "metadata": {},
   "outputs": [
    {
     "name": "stdout",
     "output_type": "stream",
     "text": [
      "True and False =  False\n",
      "True or False =  True\n",
      "not True =  False\n"
     ]
    }
   ],
   "source": [
    "a=True\n",
    "b=False\n",
    "print(f\"{a} and {b} = \",a and b)\n",
    "print(f\"{a} or {b} = \",a or b)\n",
    "print(f\"not {a} = \",not a)\n"
   ]
  },
  {
   "cell_type": "markdown",
   "id": "2a4fb4c5",
   "metadata": {},
   "source": [
    "### 3. Make a list of each Boolean operator&#39;s truth tables (i.e. every possible combination of Boolean values for the operator and what it evaluate )."
   ]
  },
  {
   "cell_type": "markdown",
   "id": "7ec1bb51",
   "metadata": {},
   "source": [
    "#### For OR operator\n",
    "| A | B | A or B |\n",
    "| --- | --- | --- |\n",
    "| True | True | True |\n",
    "| True | False | True |\n",
    "| False | True | True |\n",
    "| False | False | False |\n",
    "\n",
    "#### For AND operator\n",
    "\n",
    "| A | B | A and B |\n",
    "| --- | --- | --- |\n",
    "| True | True | True |\n",
    "| True | False | False |\n",
    "| False | True | False |\n",
    "| False | False | False |\n",
    "\n",
    "#### For NOT operator\n",
    "\n",
    "| A | not A |\n",
    "| --- | --- |\n",
    "| True | False |\n",
    "| False | True |\n"
   ]
  },
  {
   "cell_type": "markdown",
   "id": "d0e3dfea",
   "metadata": {},
   "source": [
    "### 4. What are the values of the following expressions?\n",
    "(5 > 4) and (3 == 5) => False\n",
    "\n",
    "not (5 > 4) => False\n",
    "\n",
    "(5 > 4) or (3 == 5) => True\n",
    "\n",
    "not ((5 > 4) or (3 == 5)) => False\n",
    "\n",
    "(True and True) and (True == False) => False\n",
    "\n",
    "(not False) or (not True) => True"
   ]
  },
  {
   "cell_type": "code",
   "execution_count": 6,
   "id": "34118ba9",
   "metadata": {},
   "outputs": [
    {
     "name": "stdout",
     "output_type": "stream",
     "text": [
      "False\n",
      "False\n",
      "True\n",
      "False\n",
      "False\n",
      "True\n"
     ]
    }
   ],
   "source": [
    "print((5 > 4) and (3 == 5))\n",
    "print(not (5 > 4) )\n",
    "print((5 > 4) or (3 == 5))\n",
    "print(not ((5 > 4) or (3 == 5)))\n",
    "print((True and True) and (True == False))\n",
    "print((not False) or (not True))"
   ]
  },
  {
   "cell_type": "markdown",
   "id": "c507b422",
   "metadata": {},
   "source": [
    "### 5. What are the six comparison operators?"
   ]
  },
  {
   "cell_type": "markdown",
   "id": "40b91b36",
   "metadata": {},
   "source": [
    "* Less than ( < )\n",
    "* Less than or equal to (<=)\n",
    "* Greater than (>)\n",
    "* Greater than or equal to (>=)\n",
    "* Equal to ( == )\n",
    "* Not equal to ( != )"
   ]
  },
  {
   "cell_type": "code",
   "execution_count": 8,
   "id": "9f91a44c",
   "metadata": {},
   "outputs": [
    {
     "name": "stdout",
     "output_type": "stream",
     "text": [
      "100 < 100.01 =  True\n",
      "100 <= 100.01 =  True\n",
      "100 > 100.01 =  False\n",
      "100 >= 100.01 =  False\n",
      "100 == 100.01 =  False\n",
      "100 != 100.01 =  True\n"
     ]
    }
   ],
   "source": [
    "a=100\n",
    "b=100.01\n",
    "print(f\"{a} < {b} = \",a<b)\n",
    "print(f\"{a} <= {b} = \",a<=b)\n",
    "print(f\"{a} > {b} = \",a>b)\n",
    "print(f\"{a} >= {b} = \",a>=b)\n",
    "print(f\"{a} == {b} = \",a==b)\n",
    "print(f\"{a} != {b} = \",a!=b)"
   ]
  },
  {
   "cell_type": "markdown",
   "id": "cc027cf4",
   "metadata": {},
   "source": [
    "### 6. How do you tell the difference between the equal to and assignment operators?Describe a condition and when you would use one."
   ]
  },
  {
   "cell_type": "markdown",
   "id": "4a118532",
   "metadata": {},
   "source": [
    " =  : single equals is It is an assignment operator, It is used when we have to set or initialize a value.\n",
    " \n",
    " ==  : double equals  is relational or comparison operator, It is used when we have to compare two values.\n",
    "\n",
    "When we want to assign something (eg. a = 10) we use the assignment operator. whereas when we want to check some condition (eg. 10 == 100) we use the equal to condition check operator."
   ]
  },
  {
   "cell_type": "markdown",
   "id": "51decf1e",
   "metadata": {},
   "source": [
    "### 7. Identify the three blocks in this code:\n",
    "\n",
    "spam = 0\n",
    "\n",
    "if spam == 10:\n",
    "\n",
    "print('eggs')\n",
    "\n",
    "if spam &gt; 5:\n",
    "\n",
    "print('bacon')\n",
    "\n",
    "else:\n",
    "\n",
    "print('ham')\n",
    "\n",
    "print('spam')\n",
    "\n",
    "print('spam')"
   ]
  },
  {
   "cell_type": "code",
   "execution_count": 9,
   "id": "04c05d42",
   "metadata": {},
   "outputs": [
    {
     "name": "stdout",
     "output_type": "stream",
     "text": [
      "ham\n",
      "spam\n",
      "spam\n"
     ]
    }
   ],
   "source": [
    "spam=0\n",
    "# Block 1\n",
    "if spam==10:\n",
    "    print('eggs')\n",
    "# BLock 2\n",
    "if spam>5:\n",
    "    print('bacon')\n",
    "# Block 3\n",
    "else:\n",
    "    print('ham')\n",
    "print('spam')\n",
    "print('spam')"
   ]
  },
  {
   "cell_type": "markdown",
   "id": "dfd28e58",
   "metadata": {},
   "source": [
    "### 8. Write code that prints Hello if 1 is stored in spam, prints Howdy if 2 is stored in spam, and prints Greetings! if anything else is stored in spam."
   ]
  },
  {
   "cell_type": "code",
   "execution_count": 11,
   "id": "edadb523",
   "metadata": {},
   "outputs": [
    {
     "name": "stdout",
     "output_type": "stream",
     "text": [
      "Hello\n"
     ]
    }
   ],
   "source": [
    "spam = 1\n",
    "if spam == 1:    \n",
    "    print(\"Hello\");\n",
    "elif spam == 2:\n",
    "    print(\"Howdy\");\n",
    "else:\n",
    "    print(\"Greetings\");"
   ]
  },
  {
   "cell_type": "markdown",
   "id": "a33ce710",
   "metadata": {},
   "source": [
    "### 9.If your programme is stuck in an endless loop, what keys you’ll press?"
   ]
  },
  {
   "cell_type": "markdown",
   "id": "ce7f1e4d",
   "metadata": {},
   "source": [
    "An endless loop is a loop that runs indefinitely and it only stops with external intervention or when a break statement is found. You can stop an infinite loop with **CTRL + C**"
   ]
  },
  {
   "cell_type": "markdown",
   "id": "778d736e",
   "metadata": {},
   "source": [
    "### 10. How can you tell the difference between break and continue?"
   ]
  },
  {
   "cell_type": "markdown",
   "id": "452b12aa",
   "metadata": {},
   "source": [
    "* break: It is used to break the loop and exit from the loop\n",
    "* continue: It is used to skip the current iteration of the loop and continue with the next iteration."
   ]
  },
  {
   "cell_type": "code",
   "execution_count": 14,
   "id": "c1fe7fa1",
   "metadata": {},
   "outputs": [
    {
     "name": "stdout",
     "output_type": "stream",
     "text": [
      "1\n",
      "2\n"
     ]
    }
   ],
   "source": [
    "# break example\n",
    "for i in range(1,5):\n",
    "    if i==3:\n",
    "        break\n",
    "    print(i)\n",
    "## In this example i want to break the loop when i value is equal to 3 so here i used break statement when i==3 \n",
    "## which results in terminantion of loop"
   ]
  },
  {
   "cell_type": "code",
   "execution_count": 16,
   "id": "1b7c8040",
   "metadata": {},
   "outputs": [
    {
     "name": "stdout",
     "output_type": "stream",
     "text": [
      "1\n",
      "2\n",
      "4\n"
     ]
    }
   ],
   "source": [
    "# continue example\n",
    "for i in range(1,5):\n",
    "    if i==3:\n",
    "        continue\n",
    "    print(i)\n",
    "## In this example i want to skip the current iteration when i value is equal to 3 so here i used continue statement when i==3 \n",
    "## which results skip the iteration when value is equal to 3"
   ]
  },
  {
   "cell_type": "markdown",
   "id": "ced6054e",
   "metadata": {},
   "source": [
    "### 11. In a for loop, what is the difference between range(10), range(0, 10), and range(0, 10, 1)?"
   ]
  },
  {
   "cell_type": "markdown",
   "id": "c579dc62",
   "metadata": {},
   "source": [
    "For loop synax\n",
    " **for i in range(start,end,step_size):statemets**\n",
    " \n",
    " start --> from which value the iteration has to start\n",
    " \n",
    " end --> the loop will stop iteration when value eaual to end \n",
    " \n",
    " step_size --> it denotes the after how many values it will take after the curent value\n",
    "\n",
    "**There is no difference in the result they produce the only difference are in specifying start, stop and step_size values**\n",
    "\n",
    "**range(10)**\n",
    "\n",
    "Here we specified only the end value.\n",
    "* By Default start  is 0.\n",
    "* By Default step_size is 1.\n",
    "* Range is 0, 1, 2, 3...9\n",
    "\n",
    "**range(0, 10)**\n",
    "\n",
    "Here we specified start and end values.\n",
    "* The start is 0. We can change the value.\n",
    "* end is specified as 10.\n",
    "* By Defalut step_size  is 1.\n",
    "* Range is 0, 1, 2, 3...9\n",
    "\n",
    "**range(0, 10, 1)**\n",
    "\n",
    "Here we specified start, end and step_size value.\n",
    "\n",
    "* The start is 0. We can change the value.\n",
    "* step_size  is specified as 1. \n",
    "* end is specified as 10.\n",
    "* Range is 0, 1, 2, 3...9"
   ]
  },
  {
   "cell_type": "markdown",
   "id": "df14e070",
   "metadata": {},
   "source": [
    "### 12. Write a short program that prints the numbers 1 to 10 using a for loop. Then write an equivalent program that prints the numbers 1 to 10 using a while loop."
   ]
  },
  {
   "cell_type": "code",
   "execution_count": 17,
   "id": "4e629ab1",
   "metadata": {},
   "outputs": [
    {
     "name": "stdout",
     "output_type": "stream",
     "text": [
      "1 2 3 4 5 6 7 8 9 10 "
     ]
    }
   ],
   "source": [
    "# using for loop\n",
    "for i in range(1,11):\n",
    "    print(i,end=\" \")"
   ]
  },
  {
   "cell_type": "code",
   "execution_count": 20,
   "id": "cc2241db",
   "metadata": {},
   "outputs": [
    {
     "name": "stdout",
     "output_type": "stream",
     "text": [
      "1 2 3 4 5 6 7 8 9 10 "
     ]
    }
   ],
   "source": [
    "# using while loop\n",
    "i=1\n",
    "while(i<=10):\n",
    "    print(i,end=\" \")\n",
    "    i=i+1\n",
    "    "
   ]
  },
  {
   "cell_type": "markdown",
   "id": "9f69fe9f",
   "metadata": {},
   "source": [
    "### 13. If you had a function named bacon() inside a module named spam, how would you call it after importing spam?"
   ]
  },
  {
   "cell_type": "markdown",
   "id": "3ab4cfe6",
   "metadata": {},
   "source": [
    "**import spam**\n",
    "\n",
    "**spam.bacon()**"
   ]
  },
  {
   "cell_type": "code",
   "execution_count": null,
   "id": "c473fb3c",
   "metadata": {},
   "outputs": [],
   "source": []
  }
 ],
 "metadata": {
  "kernelspec": {
   "display_name": "Python 3 (ipykernel)",
   "language": "python",
   "name": "python3"
  },
  "language_info": {
   "codemirror_mode": {
    "name": "ipython",
    "version": 3
   },
   "file_extension": ".py",
   "mimetype": "text/x-python",
   "name": "python",
   "nbconvert_exporter": "python",
   "pygments_lexer": "ipython3",
   "version": "3.9.7"
  }
 },
 "nbformat": 4,
 "nbformat_minor": 5
}
