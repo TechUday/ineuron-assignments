{
 "cells": [
  {
   "cell_type": "markdown",
   "id": "5cac92b2",
   "metadata": {},
   "source": [
    "### Name: Veeragani Uday Sandeep\n",
    "### Email: udaysandeeep.v9@gmail.com\n",
    "### Assignment - 4"
   ]
  },
  {
   "cell_type": "markdown",
   "id": "80d5acd6",
   "metadata": {},
   "source": [
    "### 1. What exactly is [ ]?"
   ]
  },
  {
   "cell_type": "markdown",
   "id": "22087bd7",
   "metadata": {},
   "source": [
    "[ ] represents empty list, it is used to initiate an empty list that is list is of length 0"
   ]
  },
  {
   "cell_type": "code",
   "execution_count": 2,
   "id": "1f378e85",
   "metadata": {},
   "outputs": [
    {
     "name": "stdout",
     "output_type": "stream",
     "text": [
      "<class 'list'>\n",
      "length of empty list :  0\n"
     ]
    }
   ],
   "source": [
    "l=[]\n",
    "print(type(l))\n",
    "print(\"length of empty list : \",len(l))"
   ]
  },
  {
   "cell_type": "markdown",
   "id": "8517eec7",
   "metadata": {},
   "source": [
    "### 2. In a list of values stored in a variable called spam, how would you assign the value &#39;hello&#39; as the third value? (Assume [2, 4, 6, 8, 10] are in spam.)"
   ]
  },
  {
   "cell_type": "code",
   "execution_count": 3,
   "id": "3ddaa3bb",
   "metadata": {},
   "outputs": [
    {
     "name": "stdout",
     "output_type": "stream",
     "text": [
      "[2, 4, 6, 8, 10]\n",
      "After assigning hello to third value  [2, 4, 'hello', 8, 10]\n"
     ]
    }
   ],
   "source": [
    "spam=[2,4,6,8,10]\n",
    "print(spam)\n",
    "spam[2]='hello' # In python Indexing starts from 0 so for third element index is 2\n",
    "print(\"After assigning hello to third value \",spam)"
   ]
  },
  {
   "cell_type": "markdown",
   "id": "00c3b926",
   "metadata": {},
   "source": [
    "### Let's pretend the spam includes the list ['a', 'b', 'c', 'd'] for the next three queries."
   ]
  },
  {
   "cell_type": "code",
   "execution_count": 9,
   "id": "529aed6f",
   "metadata": {},
   "outputs": [
    {
     "data": {
      "text/plain": [
       "['a', 'b', 'c', 'd']"
      ]
     },
     "execution_count": 9,
     "metadata": {},
     "output_type": "execute_result"
    }
   ],
   "source": [
    "spam=['a', 'b', 'c', 'd']\n",
    "spam"
   ]
  },
  {
   "cell_type": "markdown",
   "id": "f2b34329",
   "metadata": {},
   "source": [
    "### 3. What is the value of spam[int(int('3' * 2) / 11)]?"
   ]
  },
  {
   "cell_type": "markdown",
   "id": "bd16399f",
   "metadata": {},
   "source": [
    "#### '3'*2  will give '33' -> int(33) will be 3 -> 33/11 will be 3.0 ->int(3.0) will be 3 -> spam[3] -> value at index 3 in spam= 'd'\n",
    "\n"
   ]
  },
  {
   "cell_type": "code",
   "execution_count": 5,
   "id": "f3757906",
   "metadata": {},
   "outputs": [
    {
     "data": {
      "text/plain": [
       "'d'"
      ]
     },
     "execution_count": 5,
     "metadata": {},
     "output_type": "execute_result"
    }
   ],
   "source": [
    "spam[int(int('3' * 2) / 11)]"
   ]
  },
  {
   "cell_type": "markdown",
   "id": "be000c46",
   "metadata": {},
   "source": [
    "### 4. What is the value of spam[-1]?"
   ]
  },
  {
   "cell_type": "markdown",
   "id": "01d486df",
   "metadata": {},
   "source": [
    "In python negative indexing point out from the last elements in the list like -1 will point last elemenet , -2 will point out seconf element from last and so on.\n",
    "\n",
    "So spam[-1] will give last element in list spam i.e; 'd'"
   ]
  },
  {
   "cell_type": "code",
   "execution_count": 6,
   "id": "77aedadb",
   "metadata": {},
   "outputs": [
    {
     "data": {
      "text/plain": [
       "'d'"
      ]
     },
     "execution_count": 6,
     "metadata": {},
     "output_type": "execute_result"
    }
   ],
   "source": [
    "spam[-1]"
   ]
  },
  {
   "cell_type": "markdown",
   "id": "9acf36db",
   "metadata": {},
   "source": [
    "### 5. What is the value of spam[:2]?"
   ]
  },
  {
   "cell_type": "markdown",
   "id": "b596f1ad",
   "metadata": {},
   "source": [
    "spam[:2] returns all elements in the list spam from 0 to 2 excluding 2"
   ]
  },
  {
   "cell_type": "code",
   "execution_count": 7,
   "id": "1bb92940",
   "metadata": {},
   "outputs": [
    {
     "data": {
      "text/plain": [
       "['a', 'b']"
      ]
     },
     "execution_count": 7,
     "metadata": {},
     "output_type": "execute_result"
    }
   ],
   "source": [
    "spam[:2]"
   ]
  },
  {
   "cell_type": "markdown",
   "id": "e62b5e4f",
   "metadata": {},
   "source": [
    "### Let's pretend bacon has the list [3.14,'cat',11,'cat',True] for the next three questions."
   ]
  },
  {
   "cell_type": "code",
   "execution_count": 16,
   "id": "5ae86e7d",
   "metadata": {},
   "outputs": [
    {
     "data": {
      "text/plain": [
       "[3.14, 'cat', 11, 'cat', True]"
      ]
     },
     "execution_count": 16,
     "metadata": {},
     "output_type": "execute_result"
    }
   ],
   "source": [
    "bacon=[3.14,'cat',11,'cat',True]\n",
    "bacon"
   ]
  },
  {
   "cell_type": "markdown",
   "id": "a5104ee8",
   "metadata": {},
   "source": [
    "### 6. What is the value of bacon.index(&#39;cat&#39;)?"
   ]
  },
  {
   "cell_type": "markdown",
   "id": "45f35a0a",
   "metadata": {},
   "source": [
    "index() is a method of a list which returns index of given element in the list, if the element occurs more than once it will return first occurence index.\n",
    "\n",
    "bacon.index('cat) will return 1 as it occurs at index 1 in our list"
   ]
  },
  {
   "cell_type": "code",
   "execution_count": 17,
   "id": "eedc5a6b",
   "metadata": {},
   "outputs": [
    {
     "data": {
      "text/plain": [
       "1"
      ]
     },
     "execution_count": 17,
     "metadata": {},
     "output_type": "execute_result"
    }
   ],
   "source": [
    "bacon.index('cat')"
   ]
  },
  {
   "cell_type": "markdown",
   "id": "58609182",
   "metadata": {},
   "source": [
    "### 7. How does bacon.append(99) change the look of the list value in bacon?"
   ]
  },
  {
   "cell_type": "markdown",
   "id": "c1193bc2",
   "metadata": {},
   "source": [
    "append() is a method of a list which will add or insert or append given element after the last element in the list which will results in adding new element to ur list and length of list will increase by 1\n",
    "\n",
    "here when we perform bacon.append(99) 99 will append at the end that means after the last element and the list look like\n",
    "**[3.14, 'cat', 11, 'cat', True, 99]** and now length of list will be increase by 1 become 6"
   ]
  },
  {
   "cell_type": "code",
   "execution_count": 18,
   "id": "06c72f42",
   "metadata": {},
   "outputs": [
    {
     "name": "stdout",
     "output_type": "stream",
     "text": [
      "[3.14, 'cat', 11, 'cat', True, 99]\n",
      "length :  6\n"
     ]
    }
   ],
   "source": [
    "bacon.append(99)\n",
    "print(bacon)\n",
    "print(\"length : \",len(bacon))"
   ]
  },
  {
   "cell_type": "markdown",
   "id": "60d2e4ab",
   "metadata": {},
   "source": [
    "### 8. How does bacon.remove(&#39;cat&#39;) change the look of the list in bacon?"
   ]
  },
  {
   "cell_type": "markdown",
   "id": "2b56cd9a",
   "metadata": {},
   "source": [
    "remove() is a method of list which will removes the first occurence of the element in the list.\n",
    "\n",
    "here when we perform bacon.remove('cat') it will remove first occurence of 'cat' i.e; removes cat at the index 1 and the final list look like **[3.14, 11, 'cat', True, 99]** "
   ]
  },
  {
   "cell_type": "code",
   "execution_count": 19,
   "id": "fc03ba8d",
   "metadata": {},
   "outputs": [
    {
     "name": "stdout",
     "output_type": "stream",
     "text": [
      "[3.14, 'cat', 11, 'cat', True, 99]\n",
      "[3.14, 11, 'cat', True, 99]\n"
     ]
    }
   ],
   "source": [
    "print(bacon)\n",
    "bacon.remove('cat')\n",
    "print(bacon)"
   ]
  },
  {
   "cell_type": "markdown",
   "id": "45f7b48f",
   "metadata": {},
   "source": [
    "### 9. What are the list concatenation and list replication operators?"
   ]
  },
  {
   "cell_type": "markdown",
   "id": "fc330a3f",
   "metadata": {},
   "source": [
    "* The '+' operator can be used to concatenate two lists.\n",
    "* The '*' operator can be used to replicate list."
   ]
  },
  {
   "cell_type": "code",
   "execution_count": 22,
   "id": "68c15314",
   "metadata": {},
   "outputs": [
    {
     "name": "stdout",
     "output_type": "stream",
     "text": [
      "[3.14, 11, 'cat', True, 99]\n",
      "['a', 'b', 'c', 'd']\n"
     ]
    }
   ],
   "source": [
    "print(bacon)\n",
    "print(spam)"
   ]
  },
  {
   "cell_type": "code",
   "execution_count": 23,
   "id": "8e60a639",
   "metadata": {},
   "outputs": [
    {
     "name": "stdout",
     "output_type": "stream",
     "text": [
      "[3.14, 11, 'cat', True, 99, 'a', 'b', 'c', 'd']\n",
      "['a', 'b', 'c', 'd', 'a', 'b', 'c', 'd']\n"
     ]
    }
   ],
   "source": [
    "print(bacon+spam) # concatenate two lists\n",
    "print(spam*2) #replicate list spam 2 times"
   ]
  },
  {
   "cell_type": "markdown",
   "id": "6b96f2ec",
   "metadata": {},
   "source": [
    "### 10. What is difference between the list methods append() and insert()?"
   ]
  },
  {
   "cell_type": "markdown",
   "id": "46f02604",
   "metadata": {},
   "source": [
    "append() is used to add element at the end of the list after last element whereas insert is used to insert an element in the list at the specified index"
   ]
  },
  {
   "cell_type": "code",
   "execution_count": 33,
   "id": "b3829756",
   "metadata": {},
   "outputs": [
    {
     "name": "stdout",
     "output_type": "stream",
     "text": [
      "result of append method :  [1, 2, 3, 4, 5]\n",
      "result of insert method :  [1, 2, 6, 3, 4, 5]\n"
     ]
    }
   ],
   "source": [
    "l1=[1,2,3,4]\n",
    "l1.append(5) #insering 5 at the end of list\n",
    "print(\"result of append method : \",l1)\n",
    "l1.insert(2,6) # inserting element 6 at the index 2\n",
    "print(\"result of insert method : \",l1)"
   ]
  },
  {
   "cell_type": "markdown",
   "id": "02049472",
   "metadata": {},
   "source": [
    "### 11. What are the two methods for removing items from a list?"
   ]
  },
  {
   "cell_type": "markdown",
   "id": "36d008b5",
   "metadata": {},
   "source": [
    "* List.remove(object) -> Removes the first occurrence of the given object from the list\n",
    "* List.pop(index = -1) -> Removes and returns item at the index (default is -1, the last element)"
   ]
  },
  {
   "cell_type": "code",
   "execution_count": 35,
   "id": "1c12a888",
   "metadata": {},
   "outputs": [
    {
     "name": "stdout",
     "output_type": "stream",
     "text": [
      "[1, 2, 6, 3, 4, 5]\n",
      "After performing remove method() :  [1, 2, 3, 4, 5]\n",
      "5\n",
      "result after pop method :  [1, 2, 3, 4]\n"
     ]
    }
   ],
   "source": [
    "print(l1)\n",
    "l1.remove(6) #removes 6\n",
    "print(\"After performing remove method() : \",l1)\n",
    "print(l1.pop()) #removes last element i.e 5 from list and returns 5\n",
    "print(\"result after pop method : \",l1)"
   ]
  },
  {
   "cell_type": "markdown",
   "id": "50eb0cfe",
   "metadata": {},
   "source": [
    "### 12. Describe how list values and string values are identical."
   ]
  },
  {
   "cell_type": "markdown",
   "id": "de9e0c1c",
   "metadata": {},
   "source": [
    "* list is a collection of values in Python, string is a collection of characters. Both list and strings are iterable in Python and a for loop can be used around a list or string object to iterate through each element in the list/string\n",
    "* Both lists and strings have indexes and slices, we can perform  concatenation or replication, and be used with the in and not in operators.\n",
    "* We can access char in string by index just like elements in list.\n",
    "* some methods like index(),count(), len() etc. methods are common in both List and String"
   ]
  },
  {
   "cell_type": "markdown",
   "id": "b525fa3a",
   "metadata": {},
   "source": [
    "### 13. What's the difference between tuples and lists?"
   ]
  },
  {
   "cell_type": "markdown",
   "id": "22b5a9e7",
   "metadata": {},
   "source": [
    "Lists are Mutable, Indexable and Slicable. they can have values added, removed, or changed. Tuples are Immutable but Indexable and Slicable. the tuple values cannot be changed at all. Also, tuples are represented using parentheses, (), while lists use the square brackets, [ ]."
   ]
  },
  {
   "cell_type": "markdown",
   "id": "a77ba22d",
   "metadata": {},
   "source": [
    "### 14. How do you type a tuple value that only contains the integer 42?"
   ]
  },
  {
   "cell_type": "code",
   "execution_count": 41,
   "id": "97be1267",
   "metadata": {},
   "outputs": [
    {
     "name": "stdout",
     "output_type": "stream",
     "text": [
      "(42,)\n",
      "<class 'tuple'>\n",
      "(42,)\n",
      "<class 'tuple'>\n"
     ]
    }
   ],
   "source": [
    "t=(42,) # The trailing comma is mandatory. otherwise its considered as a int by python Interpreter)\n",
    "print(t)\n",
    "print(type(t))\n",
    "\n",
    "# Another method\n",
    "t1=tuple([42])\n",
    "print(t1)\n",
    "print(type(t1))"
   ]
  },
  {
   "cell_type": "markdown",
   "id": "c946ee06",
   "metadata": {},
   "source": [
    "### 15. How do you get a list value's tuple form? How do you get a tuple value's list form?"
   ]
  },
  {
   "cell_type": "markdown",
   "id": "b999a513",
   "metadata": {},
   "source": [
    "* tuple(list_name) will return list as tuple\n",
    "\n",
    "* list(tuple_name) will return tuple as list"
   ]
  },
  {
   "cell_type": "code",
   "execution_count": 43,
   "id": "125328b7",
   "metadata": {},
   "outputs": [
    {
     "name": "stdout",
     "output_type": "stream",
     "text": [
      "(1, 2, 3, 4)\n",
      "[1, 2]\n"
     ]
    }
   ],
   "source": [
    "list1=[1,2,3,4]\n",
    "print(tuple(list1))\n",
    "tuple1=(1,2)\n",
    "print(list(tuple1))"
   ]
  },
  {
   "cell_type": "markdown",
   "id": "a831bff6",
   "metadata": {},
   "source": [
    "### 16. Variables that \"contain\" list values are not necessarily lists themselves. Instead, what do they contain?"
   ]
  },
  {
   "cell_type": "markdown",
   "id": "bc1207c7",
   "metadata": {},
   "source": [
    "Variables will contain references to list values rather than list values themselves."
   ]
  },
  {
   "cell_type": "markdown",
   "id": "c2724f4d",
   "metadata": {},
   "source": [
    "### 17. How do you distinguish between copy.copy() and copy.deepcopy()?"
   ]
  },
  {
   "cell_type": "markdown",
   "id": "1323dd97",
   "metadata": {},
   "source": [
    "* copy() returns a shallow copy of list and deepcopy() return a deep copy of list.\n",
    "* In case of deep copy, a copy of object is copied in other object. It means that any changes made to a copy of object do not reflect in the original object.\n",
    "* A shallow copy creates a new object which stores the reference of the original elements.So, a shallow copy doesn't create a copy of nested objects, instead it just copies the reference of nested objects. This means, a copy process does not recurse or create copies of nested objects itself."
   ]
  },
  {
   "cell_type": "code",
   "execution_count": null,
   "id": "7ccb1741",
   "metadata": {},
   "outputs": [],
   "source": []
  }
 ],
 "metadata": {
  "kernelspec": {
   "display_name": "Python 3 (ipykernel)",
   "language": "python",
   "name": "python3"
  },
  "language_info": {
   "codemirror_mode": {
    "name": "ipython",
    "version": 3
   },
   "file_extension": ".py",
   "mimetype": "text/x-python",
   "name": "python",
   "nbconvert_exporter": "python",
   "pygments_lexer": "ipython3",
   "version": "3.9.7"
  }
 },
 "nbformat": 4,
 "nbformat_minor": 5
}
