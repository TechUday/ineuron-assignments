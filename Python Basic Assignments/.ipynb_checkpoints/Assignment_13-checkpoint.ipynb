{
 "cells": [
  {
   "cell_type": "markdown",
   "id": "eff86627",
   "metadata": {},
   "source": [
    "### Name: Veeragani Uday Sandeep\n",
    "### Email: udaysandeep.v9@gmail.com\n",
    "### Assignment - 13"
   ]
  },
  {
   "cell_type": "markdown",
   "id": "4cb29430",
   "metadata": {},
   "source": [
    "### 1. What advantages do Excel spreadsheets have over CSV spreadsheets?"
   ]
  },
  {
   "cell_type": "markdown",
   "id": "d374b62c",
   "metadata": {},
   "source": [
    "* It is a binary file that holds information about all the worksheets in a workbook\n",
    "* An Excel not only stores data but can also do operations on the data using macros, formulas etc\n",
    "* CSV files are plain-text files, Does not contain formatting, formulas, macros, etc. It is also known as flat files\n",
    "* Files saved in excel cannot be opened or edited by text editors\n",
    "* large files user is much easier in Excel for the end user. Also, you can have additional functions like selecting individual cells for import, convert dates and time automatically, reading formulas and their results, filters, sorting, etc\n",
    "* Apart from text, data can also be stored in form of charts and graphs\n",
    "* Excel can connect to external data sources to fetch data. You can use custom add-in in Excel to increase its functionality.\n",
    "* Excel allows for Review of Data with detailed tracking and commenting feature\n",
    "* In Excel, spreadsheets can have values of data types other than strings; cells can have different fonts, sizes, or color settings; cells can have varying widths and heights; adjacent cells can be merged\n",
    "* Excel (XLS and XLSX) file formats are better for storing and analysing complex data."
   ]
  },
  {
   "cell_type": "markdown",
   "id": "8b0800b2",
   "metadata": {},
   "source": [
    "### 2.What do you pass to csv.reader() and csv.writer() to create reader and writer objects?"
   ]
  },
  {
   "cell_type": "markdown",
   "id": "fb917758",
   "metadata": {},
   "source": [
    "we pass a File object, obtained from a call to open().\n",
    "\n",
    "iterable_file_object=open('*.csv',mode)\n",
    "\n",
    "* **csv.reader(iterable_file_object)**\n",
    "* **csv.writer(iterable_file_object)**"
   ]
  },
  {
   "cell_type": "code",
   "execution_count": null,
   "id": "a4349ef6",
   "metadata": {},
   "outputs": [],
   "source": [
    "import csv\n",
    "file= open('main.csv','r')\n",
    "filereader = csv.reader(file)\n",
    "fileData = list(filereader)\n",
    "fileData"
   ]
  },
  {
   "cell_type": "markdown",
   "id": "67c64094",
   "metadata": {},
   "source": [
    "### 3. What modes do File objects for reader and writer objects need to be opened in?"
   ]
  },
  {
   "cell_type": "markdown",
   "id": "1dfc1938",
   "metadata": {},
   "source": [
    "For csv.reader(iterable_file_object), the file objects needed to be opened in read mode mode='r' Whereas for csv.writer(iterable_file_object) the file objects needed to be opened in write mode mode='w'\n",
    "\n",
    "For Excel binary files- File objects need to be opened in read-binary ('rb') for Reader objects and write-binary ('wb') for Writer objects"
   ]
  },
  {
   "cell_type": "markdown",
   "id": "353a0db3",
   "metadata": {},
   "source": [
    "### 4. What method takes a list argument and writes it to a CSV file?"
   ]
  },
  {
   "cell_type": "markdown",
   "id": "017f544a",
   "metadata": {},
   "source": [
    "csv.writer class provides two methods for writing to CSV. They are writerow() and writerows(). writerow() method writes a single row at a time. Whereas writerows() method is used to write multiple rows at a time."
   ]
  },
  {
   "cell_type": "code",
   "execution_count": 1,
   "id": "51cf3223",
   "metadata": {},
   "outputs": [],
   "source": [
    "# Example Program\n",
    "import csv      \n",
    "fields = ['Name', 'Branch', 'Year', 'CGPA'] #column names \n",
    "rows = [ \n",
    "            ['Nirmal', 'IT', '4', '9.3'],  # data rows of csv file \n",
    "            ['Sai', 'CSE', '4', '9.0'], \n",
    "            \n",
    "       ] \n",
    "with open(\"records.csv\", 'w') as csvfile: \n",
    "    csvwriter = csv.writer(csvfile) # creating a csv writer object \n",
    "    csvwriter.writerow(fields) # writing the fields \n",
    "    csvwriter.writerows(rows) # writing the data rows "
   ]
  },
  {
   "cell_type": "markdown",
   "id": "de7de848",
   "metadata": {},
   "source": [
    "### 5. What do the keyword arguments delimiter and line terminator do?"
   ]
  },
  {
   "cell_type": "markdown",
   "id": "a57070a6",
   "metadata": {},
   "source": [
    "* The delimiter argument changes the string used to separate cells in a row.\n",
    "* The line terminator argument changes the string used to separate rows.\n",
    "\n",
    "Lets take the example of a csv file:\n",
    "\n",
    "Name,Branch,Year,CGPA\n",
    "\n",
    "Nirmal,IT,4,9.3\n",
    "\n",
    "Sai,CSE,4,9.0\n",
    "\n",
    "\n",
    "Here ',' is Delimiter. We can use any Character as per our needs if required. Similarly Line Terminator comes at end of line by default it is newline and can be changed accourding to Requirement."
   ]
  },
  {
   "cell_type": "markdown",
   "id": "ecd8c046",
   "metadata": {},
   "source": [
    "### 6. What function takes a string of JSON data and returns a Python data structure?"
   ]
  },
  {
   "cell_type": "markdown",
   "id": "957386ea",
   "metadata": {},
   "source": [
    "**json.loads()** method takes a string of JSON data and returns a Python data structure"
   ]
  },
  {
   "cell_type": "code",
   "execution_count": 3,
   "id": "aacc3533",
   "metadata": {},
   "outputs": [
    {
     "name": "stdout",
     "output_type": "stream",
     "text": [
      "{\n",
      "    \"Name\": \"Nirmal\",\n",
      "    \"email\":\"nirmalvignu@gmail.com\"\n",
      "    \n",
      "}\n",
      "Type of details_json is <class 'str'>\n",
      "{'Name': 'Nirmal', 'email': 'nirmalvignu@gmail.com'}\n",
      "Type of details is <class 'dict'>\n"
     ]
    }
   ],
   "source": [
    "# Example of json.loads() method\n",
    "import json\n",
    "details_json ='''{\n",
    "    \"Name\": \"Nirmal\",\n",
    "    \"email\":\"nirmalvignu@gmail.com\"\n",
    "    \n",
    "}'''\n",
    "print(details_json)\n",
    "print(f'Type of details_json is {type(details_json)}')\n",
    "details = json.loads(details_json)\n",
    "print(details)\n",
    "print(f'Type of details is {type(details)}')"
   ]
  },
  {
   "cell_type": "markdown",
   "id": "d45d1394",
   "metadata": {},
   "source": [
    "### 7. What function takes a Python data structure and returns a string of JSON data?"
   ]
  },
  {
   "cell_type": "markdown",
   "id": "b7c50a4d",
   "metadata": {},
   "source": [
    "**json.dumps()** method takes a python data structure and returns a string of JSON data"
   ]
  },
  {
   "cell_type": "code",
   "execution_count": 4,
   "id": "dc21fd5a",
   "metadata": {},
   "outputs": [
    {
     "name": "stdout",
     "output_type": "stream",
     "text": [
      "{'Name': 'Nirmal', 'email': 'nirmalvignu@gmail.com'}\n",
      "Type of my_details is <class 'dict'>\n",
      "{\n",
      "    \"Name\": \"Nirmal\",\n",
      "    \"email\": \"nirmalvignu@gmail.com\"\n",
      "}\n",
      "Type of my_details_json is <class 'str'>\n"
     ]
    }
   ],
   "source": [
    "# Example of json.dumps() method\n",
    "import json\n",
    "my_details = {\n",
    "    \"Name\": \"Nirmal\",\n",
    "    \"email\":\"nirmalvignu@gmail.com\"\n",
    "    \n",
    "}\n",
    "print(my_details)\n",
    "print(f'Type of my_details is {type(my_details)}')\n",
    "my_details_json = json.dumps(my_details, indent=4, sort_keys=True)\n",
    "print(my_details_json)\n",
    "print(f'Type of my_details_json is {type(my_details_json)}')"
   ]
  }
 ],
 "metadata": {
  "kernelspec": {
   "display_name": "Python 3 (ipykernel)",
   "language": "python",
   "name": "python3"
  },
  "language_info": {
   "codemirror_mode": {
    "name": "ipython",
    "version": 3
   },
   "file_extension": ".py",
   "mimetype": "text/x-python",
   "name": "python",
   "nbconvert_exporter": "python",
   "pygments_lexer": "ipython3",
   "version": "3.9.7"
  }
 },
 "nbformat": 4,
 "nbformat_minor": 5
}
