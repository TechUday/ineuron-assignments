{
 "cells": [
  {
   "cell_type": "markdown",
   "id": "948db4c5",
   "metadata": {},
   "source": [
    "### Name: Veeragani Uday Sandeep\n",
    "### Email: udaysandeep.v9@gmail.com\n",
    "### Assignment - 12"
   ]
  },
  {
   "cell_type": "markdown",
   "id": "0bca8c89",
   "metadata": {},
   "source": [
    "### 1. In what modes should the PdfFileReader() and PdfFileWriter() File objects will be opened?"
   ]
  },
  {
   "cell_type": "markdown",
   "id": "993c6c29",
   "metadata": {},
   "source": [
    "For ***PdfFileReader()*** file objects should be opened in ***rb -> read binary mode***, Whereas for ***PdfFileWriter()*** file objects should be opened in ***wb -> write binary mode***."
   ]
  },
  {
   "cell_type": "markdown",
   "id": "d701c768",
   "metadata": {},
   "source": [
    "### 2. From a PdfFileReader object, how do you get a Page object for page 5?"
   ]
  },
  {
   "cell_type": "markdown",
   "id": "8237c6c3",
   "metadata": {},
   "source": [
    "**PdfFileReader** class provides a method called **getPage(page_no)** to get a page object."
   ]
  },
  {
   "cell_type": "code",
   "execution_count": 16,
   "id": "56f39fc8",
   "metadata": {},
   "outputs": [
    {
     "name": "stdout",
     "output_type": "stream",
     "text": [
      "Contents\n",
      "5.3.1 Creating a Virtual Hard Disk Image . . . . . . . . . . . . . . . . . . . . 116\n",
      "5.3.2 Creating a Virtual Optical Disk Image . . . . . . . . . . . . . . . . . . . 117\n",
      "5.3.3 Creating a Virtual Floppy Disk Image . . . . . . . . . . . . . . . . . . . 117\n",
      "5.4 Special Image Write Modes . . . . . . . . . . . . . . . . . . . . . . . . . . . . . . 118\n",
      "5.5 Differencing Images . . . . . . . . . . . . . . . . . . . . . . . . . . . . . . . . . . 119\n",
      "5.6 Cloning Disk Images . . . . . . . . . . . . . . . . . . . . . . . . . . . . . . . . . 121\n",
      "5.7 Host Input/Output Caching . . . . . . . . . . . . . . . . . . . . . . . . . . . . . 122\n",
      "5.8 Limiting Bandwidth for Disk Images . . . . . . . . . . . . . . . . . . . . . . . . . 122\n",
      "5.9 CD/DVD Support . . . . . . . . . . . . . . . . . . . . . . . . . . . . . . . . . . . 123\n",
      "5.10 iSCSI Servers . . . . . . . . . . . . . . . . . . . . . . . . . . . . . . . . . . . . . 124\n",
      "5.11 vboximg-mount: A Utility for FUSE Mounting a Virtual Disk Image . . . . . . . . 124\n",
      "5.11.1 Viewing Detailed Information About a Virtual Disk Image . . . . . . . . 125\n",
      "5.11.2 Mounting a Virtual Disk Image . . . . . . . . . . . . . . . . . . . . . . . 126\n",
      "6 Virtual Networking 127\n",
      "6.1 Virtual Networking Hardware . . . . . . . . . . . . . . . . . . . . . . . . . . . . 127\n",
      "6.2 Introduction to Networking Modes . . . . . . . . . . . . . . . . . . . . . . . . . 128\n",
      "6.3 Network Address Translation (NAT) . . . . . . . . . . . . . . . . . . . . . . . . . 129\n",
      "6.3.1 Conﬁguring Port Forwarding with NAT . . . . . . . . . . . . . . . . . . 130\n",
      "6.3.2 PXE Booting with NAT . . . . . . . . . . . . . . . . . . . . . . . . . . . 130\n",
      "6.3.3 NAT Limitations . . . . . . . . . . . . . . . . . . . . . . . . . . . . . . . 131\n",
      "6.4 Network Address Translation Service . . . . . . . . . . . . . . . . . . . . . . . . 131\n",
      "6.5 Bridged Networking . . . . . . . . . . . . . . . . . . . . . . . . . . . . . . . . . . 133\n",
      "6.6 Internal Networking . . . . . . . . . . . . . . . . . . . . . . . . . . . . . . . . . 134\n",
      "6.7 Host-Only Networking . . . . . . . . . . . . . . . . . . . . . . . . . . . . . . . . 135\n",
      "6.8 UDP Tunnel Networking . . . . . . . . . . . . . . . . . . . . . . . . . . . . . . . 136\n",
      "6.9 VDE Networking . . . . . . . . . . . . . . . . . . . . . . . . . . . . . . . . . . . 137\n",
      "6.10 Cloud Networks . . . . . . . . . . . . . . . . . . . . . . . . . . . . . . . . . . . . 138\n",
      "6.11 Network Manager . . . . . . . . . . . . . . . . . . . . . . . . . . . . . . . . . . . 138\n",
      "6.11.1 Host-Only Networks Tab . . . . . . . . . . . . . . . . . . . . . . . . . . 138\n",
      "6.11.2 NAT Networks Tab . . . . . . . . . . . . . . . . . . . . . . . . . . . . . . 138\n",
      "6.11.3 Cloud Networks Tab . . . . . . . . . . . . . . . . . . . . . . . . . . . . . 139\n",
      "6.12 Limiting Bandwidth for Network Input/Output . . . . . . . . . . . . . . . . . . . 139\n",
      "6.13 Improving Network Performance . . . . . . . . . . . . . . . . . . . . . . . . . . 140\n",
      "7 Remote Virtual Machines 142\n",
      "7.1 Remote Display (VRDP Support) . . . . . . . . . . . . . . . . . . . . . . . . . . . 142\n",
      "7.1.1 Common Third-Party RDP Viewers . . . . . . . . . . . . . . . . . . . . . 142\n",
      "7.1.2 VBoxHeadless, the Remote Desktop Server . . . . . . . . . . . . . . . . 143\n",
      "7.1.3 Step by Step: Creating a Virtual Machine on a Headless Server . . . . . 144\n",
      "7.1.4 Remote USB . . . . . . . . . . . . . . . . . . . . . . . . . . . . . . . . . 146\n",
      "7.1.5 RDP Authentication . . . . . . . . . . . . . . . . . . . . . . . . . . . . . 146\n",
      "7.1.6 RDP Encryption . . . . . . . . . . . . . . . . . . . . . . . . . . . . . . . 147\n",
      "7.1.7 Multiple Connections to the VRDP Server . . . . . . . . . . . . . . . . . 148\n",
      "7.1.8 Multiple Remote Monitors . . . . . . . . . . . . . . . . . . . . . . . . . 149\n",
      "7.1.9 VRDP Video Redirection . . . . . . . . . . . . . . . . . . . . . . . . . . 149\n",
      "7.1.10 VRDP Customization . . . . . . . . . . . . . . . . . . . . . . . . . . . . 149\n",
      "7.2 Teleporting . . . . . . . . . . . . . . . . . . . . . . . . . . . . . . . . . . . . . . 150\n",
      "7.3 VBoxHeadless . . . . . . . . . . . . . . . . . . . . . . . . . . . . . . . . . . . . . 151\n",
      "8 VBoxManage 153\n",
      "8.1 Introduction . . . . . . . . . . . . . . . . . . . . . . . . . . . . . . . . . . . . . . 153\n",
      "8.2 Commands Overview . . . . . . . . . . . . . . . . . . . . . . . . . . . . . . . . . 154\n",
      "8.3 General Options . . . . . . . . . . . . . . . . . . . . . . . . . . . . . . . . . . . . 166\n",
      "v\n"
     ]
    }
   ],
   "source": [
    "#Example\n",
    "\n",
    "from PyPDF2 import PdfFileReader\n",
    "pdf=open('vmbox.pdf','rb')\n",
    "pdf_reader=PdfFileReader(pdf)\n",
    "pageObj = pdf_reader.getPage(4)\n",
    "print(pageObj.extractText())\n",
    "\n",
    "pdf.close()"
   ]
  },
  {
   "cell_type": "markdown",
   "id": "ffbb9e80",
   "metadata": {},
   "source": [
    "### 3. What PdfFileReader variable stores the number of pages in the PDF document?"
   ]
  },
  {
   "cell_type": "markdown",
   "id": "ae9d5aa6",
   "metadata": {},
   "source": [
    "**getNumPages()** method of PdfFileReader class stores the no pages in a PDF document"
   ]
  },
  {
   "cell_type": "code",
   "execution_count": 18,
   "id": "b6fb9aac",
   "metadata": {},
   "outputs": [
    {
     "data": {
      "text/plain": [
       "542"
      ]
     },
     "execution_count": 18,
     "metadata": {},
     "output_type": "execute_result"
    }
   ],
   "source": [
    "pdf=open('vmbox.pdf','rb')\n",
    "num_pages=PdfFileReader(pdf).getNumPages()\n",
    "num_pages"
   ]
  },
  {
   "cell_type": "markdown",
   "id": "abdb71a3",
   "metadata": {},
   "source": [
    "### 4. If a PdfFileReader object’s PDF is encrypted with the password swordfish, what must you do before you can obtain Page objects from it?"
   ]
  },
  {
   "cell_type": "markdown",
   "id": "b4d0ec23",
   "metadata": {},
   "source": [
    "Before we obtain the page object, the pdf has to be decrypted by calling .decrypt('swordfish')"
   ]
  },
  {
   "cell_type": "markdown",
   "id": "898ee1ab",
   "metadata": {},
   "source": [
    "### 5. What methods do you use to rotate a page?"
   ]
  },
  {
   "cell_type": "markdown",
   "id": "54d33c2e",
   "metadata": {},
   "source": [
    "PyPDF2 Package provides 2 methods to rotate a page:\n",
    "\n",
    "1. rotateClockWise() -> For Clockwise rotation\n",
    "2. rotateCounterClockWise() -> For Counter Clockwise rotation\n",
    "\n",
    "The PyPDF2 package only allows you to rotate a page in increments of 90 degrees. You will receive an AssertionError otherwise."
   ]
  },
  {
   "cell_type": "markdown",
   "id": "6ac3203b",
   "metadata": {},
   "source": [
    "### 6. What is the difference between a Run object and a Paragraph object?"
   ]
  },
  {
   "cell_type": "markdown",
   "id": "6fdf7930",
   "metadata": {},
   "source": [
    "* Paragraph Object : A document contains multiple paragraphs. A paragraph begins on a new line and contains multiple runs. The Document object contains a list of Paragraph objects for the paragraphs in the document. (A new paragraph begins whenever the user presses ENTER or RETURN while typing in a Word document.)\n",
    "\n",
    "* Run Objects : Runs are contiguous groups of characters within a paragraph with the same style"
   ]
  },
  {
   "cell_type": "markdown",
   "id": "52c9fb8f",
   "metadata": {},
   "source": [
    "### 7. How do you obtain a list of Paragraph objects for a Document object that’s stored in a variable named doc?"
   ]
  },
  {
   "cell_type": "code",
   "execution_count": null,
   "id": "11e73a7e",
   "metadata": {},
   "outputs": [],
   "source": [
    "import docx\n",
    "doc = docx.Document('abc.docx')\n",
    "doc.paragraphs\n",
    "#By using doc.paragraphs"
   ]
  },
  {
   "cell_type": "markdown",
   "id": "13c66468",
   "metadata": {},
   "source": [
    "### 8. What type of object has bold, underline, italic, strike, and outline variables?"
   ]
  },
  {
   "cell_type": "markdown",
   "id": "2c031d76",
   "metadata": {},
   "source": [
    "**Run** object has bold, underline, italic, strike, and outline variables. The text in a Word document is more than just a string. It has font, size, color, and other styling information associated with it.\n",
    "\n",
    "A style in Word is a collection of these attributes. A Run object is a contiguous run of text with the same style. A new Run object is needed whenever the text style changes."
   ]
  },
  {
   "cell_type": "markdown",
   "id": "36685f66",
   "metadata": {},
   "source": [
    "### 9. What is the difference between False, True, and None for the bold variable?"
   ]
  },
  {
   "cell_type": "markdown",
   "id": "9d6830ac",
   "metadata": {},
   "source": [
    "bold = True  # Style Set to Bold\n",
    "\n",
    "bold = False # Style Not Set to Bold\n",
    "\n",
    "bold = None # Style is Not Applicable\n",
    "\n",
    "True always makes the Run object bolded and False makes it always not bolded, no matter what the style’s bold setting is. None will make the Run object just use the style’s bold setting\n"
   ]
  },
  {
   "cell_type": "markdown",
   "id": "88f1acbc",
   "metadata": {},
   "source": [
    "### 10. How do you create a Document object for a new Word document?"
   ]
  },
  {
   "cell_type": "markdown",
   "id": "e0d51d9c",
   "metadata": {},
   "source": [
    " By Calling the docx.Document() function."
   ]
  },
  {
   "cell_type": "markdown",
   "id": "4963aafd",
   "metadata": {},
   "source": [
    "### 11. How do you add a paragraph with the text 'Hello, there!' to a Document object stored in a variable named doc?"
   ]
  },
  {
   "cell_type": "code",
   "execution_count": 20,
   "id": "51151b3c",
   "metadata": {},
   "outputs": [],
   "source": [
    "import docx\n",
    "doc = docx.Document()\n",
    "\n",
    "doc.add_paragraph('Hello there!')\n",
    "doc.save('hellothere.docx')\n"
   ]
  },
  {
   "cell_type": "markdown",
   "id": "edd42bcc",
   "metadata": {},
   "source": [
    "### 12. What integers represent the levels of headings available in Word documents?"
   ]
  },
  {
   "cell_type": "markdown",
   "id": "ae41695b",
   "metadata": {},
   "source": [
    "The levels for a heading in a word document can be specified by using the level attribute inside the **add_heading** method. There are a total of 5 levels statring for 0 to 4. where level 0 makes a headline with the horizontal line below the text, whereas the heading level 1 is the main heading. Similarly, the other headings are sub-heading with their's font-sizes in decreasing order.\n"
   ]
  }
 ],
 "metadata": {
  "kernelspec": {
   "display_name": "Python 3 (ipykernel)",
   "language": "python",
   "name": "python3"
  },
  "language_info": {
   "codemirror_mode": {
    "name": "ipython",
    "version": 3
   },
   "file_extension": ".py",
   "mimetype": "text/x-python",
   "name": "python",
   "nbconvert_exporter": "python",
   "pygments_lexer": "ipython3",
   "version": "3.9.7"
  }
 },
 "nbformat": 4,
 "nbformat_minor": 5
}
