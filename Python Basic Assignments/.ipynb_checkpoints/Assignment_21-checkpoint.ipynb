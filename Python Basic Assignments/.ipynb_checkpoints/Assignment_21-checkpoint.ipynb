{
 "cells": [
  {
   "cell_type": "markdown",
   "id": "9ab4376d",
   "metadata": {},
   "source": [
    "### Name: Veeragani Uday Sandeep\n",
    "### Email: udaysandeep.v9@gmail.com\n",
    "### Assignment - 21"
   ]
  },
  {
   "cell_type": "markdown",
   "id": "ffd5309b",
   "metadata": {},
   "source": [
    "### 1. Add the current date to the text file today.txt as a string."
   ]
  },
  {
   "cell_type": "code",
   "execution_count": 15,
   "id": "966c5d03",
   "metadata": {},
   "outputs": [
    {
     "name": "stdout",
     "output_type": "stream",
     "text": [
      "24-12-2022\n"
     ]
    }
   ],
   "source": [
    "import datetime\n",
    "current_date = datetime.datetime.now().strftime(\"%d-%m-%Y\")\n",
    "with open('today.txt', 'w') as f:\n",
    "    f.write(current_date)\n",
    "    f.close()\n",
    "! type today.txt"
   ]
  },
  {
   "cell_type": "markdown",
   "id": "cd39a4dc",
   "metadata": {},
   "source": [
    "### 2. Read the text file today.txt into the string today_string"
   ]
  },
  {
   "cell_type": "code",
   "execution_count": 10,
   "id": "7fa3712a",
   "metadata": {},
   "outputs": [
    {
     "name": "stdout",
     "output_type": "stream",
     "text": [
      "24-12-2022\n"
     ]
    }
   ],
   "source": [
    "with open('today.txt', 'r') as f:\n",
    "    today_string = f.read()\n",
    "    print(today_string)\n",
    "    f.close()"
   ]
  },
  {
   "cell_type": "markdown",
   "id": "3c14e968",
   "metadata": {},
   "source": [
    "### 3. Parse the date from today_string."
   ]
  },
  {
   "cell_type": "code",
   "execution_count": 17,
   "id": "83c1158f",
   "metadata": {},
   "outputs": [
    {
     "name": "stdout",
     "output_type": "stream",
     "text": [
      "2022-12-24 00:00:00\n"
     ]
    }
   ],
   "source": [
    "from datetime import datetime\n",
    "parsed_data = datetime.strptime(today_string, '%d-%m-%Y')\n",
    "print(parsed_data)"
   ]
  },
  {
   "cell_type": "markdown",
   "id": "715328b0",
   "metadata": {},
   "source": [
    "### 4. List the files in your current directory"
   ]
  },
  {
   "cell_type": "code",
   "execution_count": 18,
   "id": "863648ca",
   "metadata": {},
   "outputs": [
    {
     "name": "stdout",
     "output_type": "stream",
     "text": [
      "application_log.txt\n",
      "Assignment_1.ipynb\n",
      "Assignment_10.ipynb\n",
      "Assignment_11.ipynb\n",
      "Assignment_12.ipynb\n",
      "Assignment_13.ipynb\n",
      "Assignment_14.ipynb\n",
      "Assignment_15.ipynb\n",
      "Assignment_16.ipynb\n",
      "Assignment_17.ipynb\n",
      "Assignment_18.ipynb\n",
      "Assignment_19.ipynb\n",
      "Assignment_2.ipynb\n",
      "Assignment_20.ipynb\n",
      "Assignment_21.ipynb\n",
      "Assignment_3.ipynb\n",
      "Assignment_4.ipynb\n",
      "Assignment_5.ipynb\n",
      "Assignment_6.ipynb\n",
      "Assignment_7.ipynb\n",
      "Assignment_8.ipynb\n",
      "Assignment_9.ipynb\n",
      "books.csv\n",
      "books.db\n",
      "download.png\n",
      "hellothere.docx\n",
      "New Destination\n",
      "new.png\n",
      "nirmal_photo.JPG\n",
      "programlog.txt\n",
      "records.csv\n",
      "rotated_img.png\n",
      "selectiveFolder\n",
      "test.txt\n",
      "today.txt\n",
      "vmbox.pdf\n",
      "wallpaper.jpg\n",
      "zoo.py\n",
      "Assignment_10-checkpoint.ipynb\n",
      "Assignment_11-checkpoint.ipynb\n",
      "Assignment_12-checkpoint.ipynb\n",
      "Assignment_13-checkpoint.ipynb\n",
      "Assignment_14-checkpoint.ipynb\n",
      "Assignment_15-checkpoint.ipynb\n",
      "Assignment_16-checkpoint.ipynb\n",
      "Assignment_17-checkpoint.ipynb\n",
      "Assignment_18-checkpoint.ipynb\n",
      "Assignment_19-checkpoint.ipynb\n",
      "Assignment_2-checkpoint.ipynb\n",
      "Assignment_20-checkpoint.ipynb\n",
      "Assignment_21-checkpoint.ipynb\n",
      "Assignment_3-checkpoint.ipynb\n",
      "Assignment_4-checkpoint.ipynb\n",
      "Assignment_5-checkpoint.ipynb\n",
      "Assignment_6-checkpoint.ipynb\n",
      "Assignment_7-checkpoint.ipynb\n",
      "Assignment_8-checkpoint.ipynb\n",
      "Assignment_9-checkpoint.ipynb\n",
      "zoo.cpython-39.pyc\n"
     ]
    }
   ],
   "source": [
    "import os\n",
    "for folders, subfolders, files in os.walk(os.getcwd()):\n",
    "    for file in files:\n",
    "        print(file)"
   ]
  },
  {
   "cell_type": "markdown",
   "id": "d741ac4d",
   "metadata": {},
   "source": [
    "### 5. Create a list of all of the files in your parent directory (minimum five files should be available)."
   ]
  },
  {
   "cell_type": "code",
   "execution_count": 26,
   "id": "55d7e9cf",
   "metadata": {},
   "outputs": [
    {
     "name": "stdout",
     "output_type": "stream",
     "text": [
      "<class 'list'>\n",
      "['.ipynb_checkpoints', 'application_log.txt', 'Assignment_1.ipynb', 'Assignment_10.ipynb', 'Assignment_11.ipynb', 'Assignment_12.ipynb', 'Assignment_13.ipynb', 'Assignment_14.ipynb', 'Assignment_15.ipynb', 'Assignment_16.ipynb', 'Assignment_17.ipynb', 'Assignment_18.ipynb', 'Assignment_19.ipynb', 'Assignment_2.ipynb', 'Assignment_20.ipynb', 'Assignment_21.ipynb', 'Assignment_3.ipynb', 'Assignment_4.ipynb', 'Assignment_5.ipynb', 'Assignment_6.ipynb', 'Assignment_7.ipynb', 'Assignment_8.ipynb', 'Assignment_9.ipynb', 'books.csv', 'books.db', 'download.png', 'hellothere.docx', 'New Destination', 'new.png', 'nirmal_photo.JPG', 'programlog.txt', 'records.csv', 'rotated_img.png', 'selectiveFolder', 'test.txt', 'today.txt', 'vmbox.pdf', 'wallpaper.jpg', 'zoo.py', '__pycache__']\n",
      "Number of files: 40\n"
     ]
    }
   ],
   "source": [
    "lst_files = os.listdir('.')\n",
    "print(type(lst_files))\n",
    "print(lst_files)\n",
    "print(f\"Number of files: {len(lst_files)}\")"
   ]
  },
  {
   "cell_type": "markdown",
   "id": "66e2a840",
   "metadata": {},
   "source": [
    "### 6. Use multiprocessing to create three separate processes. Make each one wait a random number of seconds between one and five, print the current time, and then exit."
   ]
  },
  {
   "cell_type": "code",
   "execution_count": 19,
   "id": "048fcc40",
   "metadata": {},
   "outputs": [
    {
     "name": "stdout",
     "output_type": "stream",
     "text": [
      "starting processes\n",
      "Process 0 will sleep for 3\n",
      "starting processes\n",
      "Process 1 will sleep for 5\n",
      "starting processes\n",
      "Process 2 will sleep for 6\n"
     ]
    }
   ],
   "source": [
    "import multiprocessing\n",
    "from datetime import datetime \n",
    "from time import sleep \n",
    "import random\n",
    "\n",
    "def now_sleep(seconds): \n",
    "    print('wait', seconds, 'seconds, time is', datetime.utcnow())\n",
    "    sleep(seconds) \n",
    "    print(\"Finished Process!\")\n",
    "\n",
    "if __name__ == '__main__':\n",
    "    for n in range(3): \n",
    "        print(\"starting processes\")\n",
    "        seconds = random.randint(1, 10) \n",
    "        print(f\"Process {n} will sleep for {seconds}\")\n",
    "        proc = multiprocessing.Process(target=now_sleep, args=(seconds,)) \n",
    "        proc.start()\n",
    "        "
   ]
  },
  {
   "cell_type": "markdown",
   "id": "72cfdb84",
   "metadata": {},
   "source": [
    "*The above code is not printing full output so it is saved in multiprocss.py and executed below*"
   ]
  },
  {
   "cell_type": "code",
   "execution_count": 9,
   "id": "6ecace3c",
   "metadata": {},
   "outputs": [
    {
     "name": "stdout",
     "output_type": "stream",
     "text": [
      "starting processes\n",
      "Process 0 will sleep for 3\n",
      "starting processes\n",
      "Process 1 will sleep for 8\n",
      "starting processes\n",
      "Process 2 will sleep for 6\n",
      "wait 3 seconds, time is 2022-12-24 14:56:50.356766\n",
      "Finished Process!\n",
      "wait 6 seconds, time is 2022-12-24 14:56:50.362751\n",
      "Finished Process!\n",
      "wait 8 seconds, time is 2022-12-24 14:56:50.357763\n",
      "Finished Process!\n"
     ]
    }
   ],
   "source": [
    "!python multiprocss.py"
   ]
  },
  {
   "cell_type": "markdown",
   "id": "a34a518f",
   "metadata": {},
   "source": [
    "### 7. Create a date object of your day of birth."
   ]
  },
  {
   "cell_type": "code",
   "execution_count": 36,
   "id": "cb632863",
   "metadata": {},
   "outputs": [
    {
     "name": "stdout",
     "output_type": "stream",
     "text": [
      "2001-03-21\n",
      "<class 'datetime.date'>\n"
     ]
    }
   ],
   "source": [
    "from datetime import date\n",
    "my_dob = date(2001,3,21)\n",
    "print(my_dob)\n",
    "print(type(my_dob))"
   ]
  },
  {
   "cell_type": "markdown",
   "id": "d9b7e69b",
   "metadata": {},
   "source": [
    "### 8. What day of the week was your day of birth?"
   ]
  },
  {
   "cell_type": "code",
   "execution_count": 37,
   "id": "f6010360",
   "metadata": {},
   "outputs": [
    {
     "name": "stdout",
     "output_type": "stream",
     "text": [
      "2001-03-21\n",
      "Wednesday\n"
     ]
    }
   ],
   "source": [
    "print(my_dob)\n",
    "print(my_dob.strftime(\"%A\"))"
   ]
  },
  {
   "cell_type": "markdown",
   "id": "b1c4ff74",
   "metadata": {},
   "source": [
    "### 9. When will you be (or when were you) 10,000 days old?"
   ]
  },
  {
   "cell_type": "code",
   "execution_count": 40,
   "id": "f70a73e7",
   "metadata": {},
   "outputs": [
    {
     "name": "stdout",
     "output_type": "stream",
     "text": [
      "06-08-2028\n"
     ]
    }
   ],
   "source": [
    "from datetime import timedelta\n",
    "\n",
    "thousand_days = my_dob + timedelta(days=10000)\n",
    "print(thousand_days.strftime(\"%d-%m-%Y\"))"
   ]
  }
 ],
 "metadata": {
  "kernelspec": {
   "display_name": "Python 3 (ipykernel)",
   "language": "python",
   "name": "python3"
  },
  "language_info": {
   "codemirror_mode": {
    "name": "ipython",
    "version": 3
   },
   "file_extension": ".py",
   "mimetype": "text/x-python",
   "name": "python",
   "nbconvert_exporter": "python",
   "pygments_lexer": "ipython3",
   "version": "3.9.7"
  }
 },
 "nbformat": 4,
 "nbformat_minor": 5
}
