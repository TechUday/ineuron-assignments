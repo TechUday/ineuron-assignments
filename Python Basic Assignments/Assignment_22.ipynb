{
 "cells": [
  {
   "cell_type": "markdown",
   "id": "06152838",
   "metadata": {},
   "source": [
    "### Name: Veeragani Uday Sandeep\n",
    "### Email: udaysandeep.v9@gmail.com\n",
    "### Assignment - 22"
   ]
  },
  {
   "cell_type": "markdown",
   "id": "98e64779",
   "metadata": {},
   "source": [
    "### 1. What is the result of the code, and explain?\n",
    "\n",
    "\\>>> X = 'iNeuron'\n",
    "\n",
    "\\>>> def func(): print(X)\n",
    "\n",
    "\\>>> func()"
   ]
  },
  {
   "cell_type": "markdown",
   "id": "6bbf4679",
   "metadata": {},
   "source": [
    "The result of the code is **iNeuron**, here variable X is a global variable  initialized with 'iNeuron' and declaring a function func() where  it is printing variable X there is no local variable X in func() so it uses global variable X which is initialized first and after that func() made a function call which will execute the above function and prints the result i.e; X-> iNeuron"
   ]
  },
  {
   "cell_type": "code",
   "execution_count": 1,
   "id": "84b301c4",
   "metadata": {},
   "outputs": [
    {
     "name": "stdout",
     "output_type": "stream",
     "text": [
      "iNeuron\n"
     ]
    }
   ],
   "source": [
    "X = 'iNeuron'\n",
    "\n",
    "def func():\n",
    "    print(X)\n",
    "\n",
    "func()"
   ]
  },
  {
   "cell_type": "markdown",
   "id": "6e568c50",
   "metadata": {},
   "source": [
    "### 2. What is the result of the code, and explain?\n",
    "\\>>> X = 'iNeuron'\n",
    "\n",
    "\\>>> def func():\n",
    "\n",
    "X = 'NI!'\n",
    "\n",
    "\\>>> func()\n",
    "\n",
    "\\>>> print(X)"
   ]
  },
  {
   "cell_type": "markdown",
   "id": "2962a7ac",
   "metadata": {},
   "source": [
    "The above program will print **iNeuron** ,The global variables are access in side the functions in python. But we can not access function variable out side function.Since x is golbal variable we are able to print it out side of the function solution = 'iNeuron'.As the statement X='NI!' will be updating the local value X, but the global variable X will be unchanged"
   ]
  },
  {
   "cell_type": "code",
   "execution_count": 4,
   "id": "878acfbf",
   "metadata": {},
   "outputs": [
    {
     "name": "stdout",
     "output_type": "stream",
     "text": [
      "iNeuron\n"
     ]
    }
   ],
   "source": [
    "X = 'iNeuron'\n",
    "def func():\n",
    "    X = 'NI!'\n",
    "\n",
    "func()\n",
    "print(X)"
   ]
  },
  {
   "cell_type": "markdown",
   "id": "cc59dc44",
   "metadata": {},
   "source": [
    "### 3. What does this code print, and why?\n",
    "\\>>> X = 'iNeuron'\n",
    "\n",
    "\\>>> def func():\n",
    "\n",
    "X = 'NI'\n",
    "\n",
    "print(X)\n",
    "\n",
    "\\>>> func()\n",
    "\n",
    "\\>>> print(X)"
   ]
  },
  {
   "cell_type": "markdown",
   "id": "ffd4054d",
   "metadata": {},
   "source": [
    "The Result of this cide is **NI!** and **iNeuron** in next line, because the function initially looks for the variable X in its local scope if X is not available then it checks for variable X in the global scope, Since here the X is present in the local scope. it prints the value NI! and after function call we are printing X which is outside function which looks in global scope"
   ]
  },
  {
   "cell_type": "code",
   "execution_count": 5,
   "id": "c1e152c9",
   "metadata": {},
   "outputs": [
    {
     "name": "stdout",
     "output_type": "stream",
     "text": [
      "NI\n",
      "iNeuron\n"
     ]
    }
   ],
   "source": [
    " X = 'iNeuron'\n",
    "\n",
    "def func():\n",
    "\n",
    "    X = 'NI'\n",
    "\n",
    "    print(X)\n",
    "\n",
    "func()\n",
    "print(X)"
   ]
  },
  {
   "cell_type": "markdown",
   "id": "e28d31ff",
   "metadata": {},
   "source": [
    "### 4. What output does this code produce? Why?\n",
    "\\>>> X = 'iNeuron'\n",
    "\n",
    "\\>>> def func():\n",
    "\n",
    "global X\n",
    "\n",
    "X = 'NI'\n",
    "\n",
    "\\>>> func()\n",
    "\n",
    "\\>>> print(X)"
   ]
  },
  {
   "cell_type": "markdown",
   "id": "3349965e",
   "metadata": {},
   "source": [
    "The output of the code is **NI**. the global keyword allows a variable to be accessible in the current scope. since we are using global keyword inside the function func it directly access the variable in X in global scope. and changes its value to NI. hence the output of the code is NI"
   ]
  },
  {
   "cell_type": "code",
   "execution_count": 6,
   "id": "5cd5e449",
   "metadata": {},
   "outputs": [
    {
     "name": "stdout",
     "output_type": "stream",
     "text": [
      "NI\n"
     ]
    }
   ],
   "source": [
    "X = 'iNeuron'\n",
    "def func():\n",
    "    global X\n",
    "    X = 'NI'\n",
    "func()\n",
    "print(X)"
   ]
  },
  {
   "cell_type": "markdown",
   "id": "e21b54a2",
   "metadata": {},
   "source": [
    "### 5. What about this code—what’s the output, and why?\n",
    "\\>>> X = 'iNeuron'\n",
    "\n",
    "\\>>> def func():\n",
    "\n",
    "X = 'NI'\n",
    "\n",
    "def nested():\n",
    "\n",
    "print(X)\n",
    "\n",
    "nested()\n",
    "\n",
    "\\>>> func()\n",
    "\n",
    "\\>>> X"
   ]
  },
  {
   "cell_type": "markdown",
   "id": "e0316867",
   "metadata": {},
   "source": [
    "The above code will print **NI** followed by **iNeuron**, this is because the global varaible X is unchanged and the method nested has access to the X declared in its enclosing function func()"
   ]
  },
  {
   "cell_type": "code",
   "execution_count": 15,
   "id": "8dbeac06",
   "metadata": {},
   "outputs": [
    {
     "name": "stdout",
     "output_type": "stream",
     "text": [
      "NI\n"
     ]
    },
    {
     "data": {
      "text/plain": [
       "'iNeuron'"
      ]
     },
     "execution_count": 15,
     "metadata": {},
     "output_type": "execute_result"
    }
   ],
   "source": [
    "X = 'iNeuron'\n",
    "def func():\n",
    "    X = 'NI'\n",
    "    def nested():\n",
    "        print(X)\n",
    "    nested()\n",
    "func()\n",
    "X"
   ]
  },
  {
   "cell_type": "markdown",
   "id": "5d3f38e2",
   "metadata": {},
   "source": [
    "### 6. How about this code: what is its output in Python 3, and explain?\n",
    "\\>>> def func():\n",
    "\n",
    "X = 'NI'\n",
    "\n",
    "def nested():\n",
    "\n",
    "nonlocal X\n",
    "\n",
    "X = 'Spam'\n",
    "\n",
    "nested()\n",
    "\n",
    "print(X)\n",
    "\n",
    "\\>>> func()"
   ]
  },
  {
   "cell_type": "markdown",
   "id": "09a73a78",
   "metadata": {},
   "source": [
    "The above code will print **Spam**, as the keyword nonlocal helps the function nested() to access the variable X from the function func"
   ]
  },
  {
   "cell_type": "code",
   "execution_count": 14,
   "id": "d825738a",
   "metadata": {},
   "outputs": [
    {
     "name": "stdout",
     "output_type": "stream",
     "text": [
      "Spam\n"
     ]
    }
   ],
   "source": [
    "def func():\n",
    "    X = 'NI'\n",
    "    def nested():\n",
    "        nonlocal X\n",
    "        X = 'Spam'\n",
    "    nested()\n",
    "    print(X)\n",
    "func()"
   ]
  }
 ],
 "metadata": {
  "kernelspec": {
   "display_name": "Python 3 (ipykernel)",
   "language": "python",
   "name": "python3"
  },
  "language_info": {
   "codemirror_mode": {
    "name": "ipython",
    "version": 3
   },
   "file_extension": ".py",
   "mimetype": "text/x-python",
   "name": "python",
   "nbconvert_exporter": "python",
   "pygments_lexer": "ipython3",
   "version": "3.9.7"
  }
 },
 "nbformat": 4,
 "nbformat_minor": 5
}
