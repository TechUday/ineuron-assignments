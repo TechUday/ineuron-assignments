{
 "cells": [
  {
   "cell_type": "markdown",
   "id": "28c1bdcf",
   "metadata": {},
   "source": [
    "### Name: Veeragani Uday Sandeep\n",
    "### Email: udaysandeep.v9@gmail.com\n",
    "### Assignment - 6"
   ]
  },
  {
   "cell_type": "markdown",
   "id": "f083f243",
   "metadata": {},
   "source": [
    "### 1. What are escape characters, and how do you use them?"
   ]
  },
  {
   "cell_type": "markdown",
   "id": "7647a531",
   "metadata": {},
   "source": [
    "An escape character is a backslash \\ followed by the character you want to insert.\n",
    "To insert characters that are illegal in a string, use an escape character.\n",
    "\n",
    "Other escape characters used in Python:\n",
    "\n",
    "| Code | Result | \n",
    "| --- | --- |\n",
    "| \\' |\tSingle Quote|\t\n",
    "| \\\\\\ | Backslash |\t\n",
    "| \\n | New Line\t|\n",
    "| \\r |\tCarriage Return\t|\n",
    "| \\t |\tTab |\t\n",
    "| \\b |\tBackspace\t|\n",
    "| \\f |\tForm Feed\t|\n",
    "| \\ooo |\tOctal value\t|\n",
    "| \\xhh |\tHex value |"
   ]
  },
  {
   "cell_type": "code",
   "execution_count": 3,
   "id": "1379b818",
   "metadata": {},
   "outputs": [
    {
     "data": {
      "text/plain": [
       "'Welcome to \"Ineuron\" classes.'"
      ]
     },
     "execution_count": 3,
     "metadata": {},
     "output_type": "execute_result"
    }
   ],
   "source": [
    "txt = \"Welcome to \\\"Ineuron\\\" classes.\"\n",
    "txt"
   ]
  },
  {
   "cell_type": "markdown",
   "id": "120fe0c5",
   "metadata": {},
   "source": [
    "### 2. What do the escape characters n and t stand for?"
   ]
  },
  {
   "cell_type": "markdown",
   "id": "461157c5",
   "metadata": {},
   "source": [
    "escape character n ->\\n stands for new line\n",
    "\n",
    "escape character t -> \\t stands for tab space"
   ]
  },
  {
   "cell_type": "code",
   "execution_count": 6,
   "id": "648e0add",
   "metadata": {},
   "outputs": [
    {
     "name": "stdout",
     "output_type": "stream",
     "text": [
      "Hello\n",
      "Welcome\n",
      "Hello\tWelcome\n"
     ]
    }
   ],
   "source": [
    "print(\"Hello\\nWelcome\") # \\n example\n",
    "print(\"Hello\\tWelcome\") # \\t example"
   ]
  },
  {
   "cell_type": "markdown",
   "id": "6fc0e484",
   "metadata": {},
   "source": [
    "### 3. What is the way to include backslash characters in a string?"
   ]
  },
  {
   "cell_type": "markdown",
   "id": "8b5619d9",
   "metadata": {},
   "source": [
    "The \\\\\\ escape character will represent the backslash character in a string"
   ]
  },
  {
   "cell_type": "code",
   "execution_count": 8,
   "id": "b3dc2a50",
   "metadata": {},
   "outputs": [
    {
     "name": "stdout",
     "output_type": "stream",
     "text": [
      "it's a back slash \\ in a sentence\n"
     ]
    }
   ],
   "source": [
    "print(\"it's a back slash \\\\ in a sentence\")"
   ]
  },
  {
   "cell_type": "markdown",
   "id": "d1ed9277",
   "metadata": {},
   "source": [
    "### 4.The string \"Howl's Moving Castle\" is a correct value. Why isn't the single quote character in the word Howl's not escaped a problem ?"
   ]
  },
  {
   "cell_type": "markdown",
   "id": "87311439",
   "metadata": {},
   "source": [
    "The string \"Howl's Moving Castle\" escaped the problem because it is wrapped inside double quotes. if its wrapped inside single quotes then we have to use escape character \\' to show single quote in the final output\n",
    "\n",
    "'Howl\\\\'s Moving Castle' -> 'Howl's Moving Castle'"
   ]
  },
  {
   "cell_type": "markdown",
   "id": "c8705f3a",
   "metadata": {},
   "source": [
    "### 5. How do you write a string of newlines if you don&#39;t want to use the n character?"
   ]
  },
  {
   "cell_type": "markdown",
   "id": "6dafb8b6",
   "metadata": {},
   "source": [
    "Multiline string allow you to use newlines in string without the \\n escape character"
   ]
  },
  {
   "cell_type": "code",
   "execution_count": 11,
   "id": "c391dee8",
   "metadata": {},
   "outputs": [
    {
     "name": "stdout",
     "output_type": "stream",
     "text": [
      "Name : Nirmal Vignu\n",
      "Email : varigondanirmal1@gmail.com\n"
     ]
    }
   ],
   "source": [
    "\n",
    "s = '''Name : Nirmal Vignu\n",
    "Email : varigondanirmal1@gmail.com'''\n",
    "print(s)"
   ]
  },
  {
   "cell_type": "markdown",
   "id": "b6dbb80b",
   "metadata": {},
   "source": [
    "### 6.What are the values of the given expressions ?\n",
    "'Hello, world!'[1]\n",
    "\n",
    "'Hello, world!'[0:5]\n",
    "\n",
    "'Hello, world!'[:5]\n",
    "\n",
    "'Hello, world!'[3:]"
   ]
  },
  {
   "cell_type": "markdown",
   "id": "93c4184f",
   "metadata": {},
   "source": [
    "'Hello, world!'[1] -> `'e'`\n",
    "\n",
    "'Hello, world!'[0:5] -> `'Hello'`\n",
    "\n",
    "'Hello, world!'[:5] -> `'Hello'`\n",
    "\n",
    "'Hello, world!'[3:] -> `'lo, world!'`"
   ]
  },
  {
   "cell_type": "code",
   "execution_count": 16,
   "id": "929ae683",
   "metadata": {},
   "outputs": [
    {
     "name": "stdout",
     "output_type": "stream",
     "text": [
      "e\n",
      "Hello\n",
      "Hello\n",
      "lo, world!\n"
     ]
    }
   ],
   "source": [
    "print('Hello, world!'[1])\n",
    "print('Hello, world!'[0:5])\n",
    "print('Hello, world!'[:5])\n",
    "print('Hello, world!'[3:])"
   ]
  },
  {
   "cell_type": "markdown",
   "id": "1bfcd13f",
   "metadata": {},
   "source": [
    "### 7.What are the values of the following expressions ?\n",
    "'Hello'.upper()\n",
    "\n",
    "'Hello'.upper().isupper()\n",
    "\n",
    "'Hello'.upper().lower()"
   ]
  },
  {
   "cell_type": "markdown",
   "id": "40d2f9cf",
   "metadata": {},
   "source": [
    "'Hello'.upper() -> `'HELLO'`\n",
    "\n",
    "'Hello'.upper().isupper() -> `True`\n",
    "\n",
    "'Hello'.upper().lower() -> `'hello'`"
   ]
  },
  {
   "cell_type": "code",
   "execution_count": 20,
   "id": "7aa56318",
   "metadata": {},
   "outputs": [
    {
     "name": "stdout",
     "output_type": "stream",
     "text": [
      "HELLO\n",
      "True\n",
      "hello\n"
     ]
    }
   ],
   "source": [
    "print('Hello'.upper())\n",
    "print('Hello'.upper().isupper())\n",
    "print('Hello'.upper().lower())"
   ]
  },
  {
   "cell_type": "markdown",
   "id": "cc331cd6",
   "metadata": {},
   "source": [
    "### 8.What are the values of the following expressions ?\n",
    "'Remember, remember, the fifith of July.'.split()\n",
    "\n",
    "'-'.join('There can only one'.split())"
   ]
  },
  {
   "cell_type": "markdown",
   "id": "b238f1e2",
   "metadata": {},
   "source": [
    "The values of expressions are:\n",
    " \n",
    "'Remember, remember, the fifith of July.'.split() -> `['Remember,', 'remember,', 'the', 'fifith', 'of', 'July.']`\n",
    "\n",
    "'-'.join('There can only one'.split()) -> `There-can-only-one`"
   ]
  },
  {
   "cell_type": "code",
   "execution_count": 23,
   "id": "e23f1a7e",
   "metadata": {},
   "outputs": [
    {
     "name": "stdout",
     "output_type": "stream",
     "text": [
      "['Remember,', 'remember,', 'the', 'fifith', 'of', 'July.']\n",
      "There-can-only-one\n"
     ]
    }
   ],
   "source": [
    "print('Remember, remember, the fifith of July.'.split())\n",
    "print('-'.join('There can only one'.split()))"
   ]
  },
  {
   "cell_type": "markdown",
   "id": "97eddd84",
   "metadata": {},
   "source": [
    "### 9. What are the methods for right-justifying, left-justifying, and centering a string?"
   ]
  },
  {
   "cell_type": "markdown",
   "id": "f068cbc5",
   "metadata": {},
   "source": [
    "rjust() -> right justification\n",
    "\n",
    "ljust() -> left justification\n",
    "\n",
    "center() -> centering a string"
   ]
  },
  {
   "cell_type": "code",
   "execution_count": 29,
   "id": "dc12d549",
   "metadata": {},
   "outputs": [
    {
     "name": "stdout",
     "output_type": "stream",
     "text": [
      "Right justificaton =  ****Nirmal\n",
      "Left justification =  Nirmal****\n",
      "Center justification =  **Nirmal**\n"
     ]
    }
   ],
   "source": [
    "str1=\"Nirmal\"\n",
    "print(\"Right justificaton = \",str1.rjust(10,'*'))\n",
    "print(\"Left justification = \",str1.ljust(10,\"*\"))\n",
    "print(\"Center justification = \",str1.center(10,'*'))"
   ]
  },
  {
   "cell_type": "markdown",
   "id": "7be00e4a",
   "metadata": {},
   "source": [
    "### 10. What is the best way to remove whitespace characters from the start or end?"
   ]
  },
  {
   "cell_type": "markdown",
   "id": "a64d38f0",
   "metadata": {},
   "source": [
    "lstrip() and rstrip() are used to remove whitespace characters from the start and end respectively"
   ]
  },
  {
   "cell_type": "code",
   "execution_count": 34,
   "id": "918f192e",
   "metadata": {},
   "outputs": [
    {
     "data": {
      "text/plain": [
       "'     Nirmal Vignu'"
      ]
     },
     "execution_count": 34,
     "metadata": {},
     "output_type": "execute_result"
    }
   ],
   "source": [
    "str1=\"     Nirmal Vignu    \"\n",
    "str1.rstrip()"
   ]
  },
  {
   "cell_type": "code",
   "execution_count": 35,
   "id": "d348a295",
   "metadata": {},
   "outputs": [
    {
     "data": {
      "text/plain": [
       "'Nirmal Vignu    '"
      ]
     },
     "execution_count": 35,
     "metadata": {},
     "output_type": "execute_result"
    }
   ],
   "source": [
    "str1.lstrip()"
   ]
  }
 ],
 "metadata": {
  "kernelspec": {
   "display_name": "Python 3 (ipykernel)",
   "language": "python",
   "name": "python3"
  },
  "language_info": {
   "codemirror_mode": {
    "name": "ipython",
    "version": 3
   },
   "file_extension": ".py",
   "mimetype": "text/x-python",
   "name": "python",
   "nbconvert_exporter": "python",
   "pygments_lexer": "ipython3",
   "version": "3.9.7"
  }
 },
 "nbformat": 4,
 "nbformat_minor": 5
}
