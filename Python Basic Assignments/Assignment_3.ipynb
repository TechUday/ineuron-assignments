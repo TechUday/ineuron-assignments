{
 "cells": [
  {
   "cell_type": "markdown",
   "id": "2dab2874",
   "metadata": {},
   "source": [
    "### Name: Veeragani Uday Sandeep\n",
    "### Email: udaysandeep.v9@gmail.com\n",
    "### Assignment - 3"
   ]
  },
  {
   "cell_type": "markdown",
   "id": "ead27afa",
   "metadata": {},
   "source": [
    "### 1. Why are functions advantageous to have in your programs?"
   ]
  },
  {
   "cell_type": "markdown",
   "id": "5a378c69",
   "metadata": {},
   "source": [
    "* Functions reduce the need for duplicate code. This makes programs shorter, easier to read, and easier to update.\n",
    "* Increase modularity\n",
    "* In simple terms main advantage of functions is code reusability"
   ]
  },
  {
   "cell_type": "markdown",
   "id": "93e53121",
   "metadata": {},
   "source": [
    "### 2. When does the code in a function run: when it&#39;s specified or when it&#39;s called?"
   ]
  },
  {
   "cell_type": "markdown",
   "id": "b1e72bbf",
   "metadata": {},
   "source": [
    "The code in a function executes when the function is **called**."
   ]
  },
  {
   "cell_type": "markdown",
   "id": "7dda47ea",
   "metadata": {},
   "source": [
    "### 3. What statement creates a function?"
   ]
  },
  {
   "cell_type": "markdown",
   "id": "b0840644",
   "metadata": {},
   "source": [
    "def(keyword) followed by name of the function then parentheses\n",
    "\n",
    "example:\n",
    "\n",
    "def funct():\n",
    "\n",
    "    statements"
   ]
  },
  {
   "cell_type": "markdown",
   "id": "aea402c4",
   "metadata": {},
   "source": [
    "### 4. What is the difference between a function and a function call?"
   ]
  },
  {
   "cell_type": "markdown",
   "id": "ecb7dc17",
   "metadata": {},
   "source": [
    "* Function: Function is block of code which produce some result. It produce result when itis invoked or called\n",
    "* Function Call: Function call is used to invoke or execute set of codes present inside the function."
   ]
  },
  {
   "cell_type": "code",
   "execution_count": 2,
   "id": "bd87e070",
   "metadata": {},
   "outputs": [],
   "source": [
    "# function\n",
    "def func():\n",
    "    pass\n",
    "# function call\n",
    "func()"
   ]
  },
  {
   "cell_type": "markdown",
   "id": "1f02b340",
   "metadata": {},
   "source": [
    "### 5. How many global scopes are there in a Python program? How many local scopes?"
   ]
  },
  {
   "cell_type": "markdown",
   "id": "c1792b15",
   "metadata": {},
   "source": [
    "There are 1 global scopes and 1 local scope in the python program."
   ]
  },
  {
   "cell_type": "markdown",
   "id": "cae96692",
   "metadata": {},
   "source": [
    "### 6. What happens to variables in a local scope when the function call returns?"
   ]
  },
  {
   "cell_type": "markdown",
   "id": "2d099af7",
   "metadata": {},
   "source": [
    "The local variables are destroyed when function call returns."
   ]
  },
  {
   "cell_type": "code",
   "execution_count": 3,
   "id": "14bbca00",
   "metadata": {},
   "outputs": [
    {
     "name": "stdout",
     "output_type": "stream",
     "text": [
      "Inside function x value =  30\n",
      "after function call\n"
     ]
    },
    {
     "ename": "NameError",
     "evalue": "name 'x' is not defined",
     "output_type": "error",
     "traceback": [
      "\u001b[1;31m---------------------------------------------------------------------------\u001b[0m",
      "\u001b[1;31mNameError\u001b[0m                                 Traceback (most recent call last)",
      "Input \u001b[1;32mIn [3]\u001b[0m, in \u001b[0;36m<cell line: 6>\u001b[1;34m()\u001b[0m\n\u001b[0;32m      4\u001b[0m func()\n\u001b[0;32m      5\u001b[0m \u001b[38;5;28mprint\u001b[39m(\u001b[38;5;124m\"\u001b[39m\u001b[38;5;124mafter function call\u001b[39m\u001b[38;5;124m\"\u001b[39m)\n\u001b[1;32m----> 6\u001b[0m \u001b[38;5;28mprint\u001b[39m(\u001b[38;5;124m\"\u001b[39m\u001b[38;5;124mvalue of x = \u001b[39m\u001b[38;5;124m\"\u001b[39m,\u001b[43mx\u001b[49m)\n",
      "\u001b[1;31mNameError\u001b[0m: name 'x' is not defined"
     ]
    }
   ],
   "source": [
    "def func():\n",
    "    x=30\n",
    "    print(\"Inside function x value = \",30)\n",
    "func()\n",
    "print(\"after function call\")\n",
    "print(\"value of x = \",x)"
   ]
  },
  {
   "cell_type": "markdown",
   "id": "3cc9cf2f",
   "metadata": {},
   "source": [
    "We can observe in above code causes error in line 6 as scope of x is not defined after function so it shows error as x is not defined"
   ]
  },
  {
   "cell_type": "markdown",
   "id": "87661bea",
   "metadata": {},
   "source": [
    "### 7. What is the concept of a return value? Is it possible to have a return value in an expression?"
   ]
  },
  {
   "cell_type": "markdown",
   "id": "cdf703a4",
   "metadata": {},
   "source": [
    "A return is a value that a function returns after calling the function when it completes its task.It may be varible or expression which a function can return.\n",
    "\n",
    "Yes function return value can be an expression"
   ]
  },
  {
   "cell_type": "code",
   "execution_count": 5,
   "id": "6585334e",
   "metadata": {},
   "outputs": [
    {
     "data": {
      "text/plain": [
       "1110"
      ]
     },
     "execution_count": 5,
     "metadata": {},
     "output_type": "execute_result"
    }
   ],
   "source": [
    "def sample():\n",
    "    a=10\n",
    "    b=111\n",
    "    return a*b #return value using expression\n",
    "sample()"
   ]
  },
  {
   "cell_type": "markdown",
   "id": "81fe0e80",
   "metadata": {},
   "source": [
    "### 8. If a function does not have a return statement, what is the return value of a call to that function?"
   ]
  },
  {
   "cell_type": "markdown",
   "id": "c9542ce7",
   "metadata": {},
   "source": [
    "if a function doest not have a return statement, then Python will implicitly return a default value for you. That default return value will always be **NoneType** ."
   ]
  },
  {
   "cell_type": "code",
   "execution_count": 6,
   "id": "d16ab299",
   "metadata": {},
   "outputs": [
    {
     "data": {
      "text/plain": [
       "NoneType"
      ]
     },
     "execution_count": 6,
     "metadata": {},
     "output_type": "execute_result"
    }
   ],
   "source": [
    "def function():\n",
    "    a = 10\n",
    "    \n",
    "    \n",
    "type(function())"
   ]
  },
  {
   "cell_type": "markdown",
   "id": "cf91fa76",
   "metadata": {},
   "source": [
    "### 9. How do you make a function variable refer to the global variable?\n"
   ]
  },
  {
   "cell_type": "markdown",
   "id": "a0e6deef",
   "metadata": {},
   "source": [
    "This can be achieved by using global keyword to redefine the variable and make the changes of variable as global change."
   ]
  },
  {
   "cell_type": "code",
   "execution_count": 10,
   "id": "8bde4ee9",
   "metadata": {},
   "outputs": [
    {
     "name": "stdout",
     "output_type": "stream",
     "text": [
      "0\n",
      "10\n"
     ]
    }
   ],
   "source": [
    "n1 = 0\n",
    "def f():\n",
    "    global n1\n",
    "    n1 = 10\n",
    "    \n",
    "print(n1)\n",
    "f()\n",
    "print(n1)"
   ]
  },
  {
   "cell_type": "markdown",
   "id": "938c61c1",
   "metadata": {},
   "source": [
    "### 10. What is the data type of None?"
   ]
  },
  {
   "cell_type": "markdown",
   "id": "0be3f06e",
   "metadata": {},
   "source": [
    "The data type of None is NoneType."
   ]
  },
  {
   "cell_type": "code",
   "execution_count": 11,
   "id": "252f020d",
   "metadata": {},
   "outputs": [
    {
     "data": {
      "text/plain": [
       "NoneType"
      ]
     },
     "execution_count": 11,
     "metadata": {},
     "output_type": "execute_result"
    }
   ],
   "source": [
    "type(None)"
   ]
  },
  {
   "cell_type": "markdown",
   "id": "870a96a5",
   "metadata": {},
   "source": [
    "### 11. What does the sentence import areallyourpetsnamederic do?"
   ]
  },
  {
   "cell_type": "markdown",
   "id": "5ab6f513",
   "metadata": {},
   "source": [
    "The statement **\"import areallyourpetsnamederic\"** will import the module or package areallyourpetsnamederic."
   ]
  },
  {
   "cell_type": "markdown",
   "id": "07fa63b6",
   "metadata": {},
   "source": [
    "### 12. If you had a bacon() feature in a spam module, what would you call it after importing spam?"
   ]
  },
  {
   "cell_type": "markdown",
   "id": "bee801c3",
   "metadata": {},
   "source": [
    "As bacon() is in a spam module , first we have to import the module and after that  function can be called with spam.bacon()."
   ]
  },
  {
   "cell_type": "code",
   "execution_count": 12,
   "id": "418ddec3",
   "metadata": {},
   "outputs": [],
   "source": [
    "#import spam\n",
    "#spam.bacon()"
   ]
  },
  {
   "cell_type": "markdown",
   "id": "64fa62cd",
   "metadata": {},
   "source": [
    "### 13. What can you do to save a programme from crashing if it encounters an error?"
   ]
  },
  {
   "cell_type": "markdown",
   "id": "e113a3ee",
   "metadata": {},
   "source": [
    "To save the program from crashing over a runtime error we can use the try and except statement.\n",
    "It will save from only the runtime error not the compile time error.\n",
    "\n",
    "In simple terms performs Exceptional Handling\n",
    "\n",
    "Place the line of code that might cause an error in a try clause and use except block to handle the error.\n",
    "\n",
    "\n"
   ]
  },
  {
   "cell_type": "code",
   "execution_count": 17,
   "id": "900e27a4",
   "metadata": {},
   "outputs": [],
   "source": [
    "try:\n",
    "    pass\n",
    "except:\n",
    "    pass"
   ]
  },
  {
   "cell_type": "markdown",
   "id": "1eb91e69",
   "metadata": {},
   "source": [
    "### 14. What is the purpose of the try clause? What is the purpose of the except clause?"
   ]
  },
  {
   "cell_type": "markdown",
   "id": "520d9211",
   "metadata": {},
   "source": [
    "A Try-Except statement is a code block that allows your program to take alternative actions in case an error occurs\n",
    "\n",
    "The try block lets you test a block of code for errors. The except block lets you handle the error."
   ]
  },
  {
   "cell_type": "code",
   "execution_count": 18,
   "id": "625ca17a",
   "metadata": {},
   "outputs": [
    {
     "name": "stdout",
     "output_type": "stream",
     "text": [
      "Variable x is not defined\n"
     ]
    }
   ],
   "source": [
    "try:\n",
    "    print(x)\n",
    "except NameError:\n",
    "    print(\"Variable x is not defined\")"
   ]
  }
 ],
 "metadata": {
  "kernelspec": {
   "display_name": "Python 3 (ipykernel)",
   "language": "python",
   "name": "python3"
  },
  "language_info": {
   "codemirror_mode": {
    "name": "ipython",
    "version": 3
   },
   "file_extension": ".py",
   "mimetype": "text/x-python",
   "name": "python",
   "nbconvert_exporter": "python",
   "pygments_lexer": "ipython3",
   "version": "3.9.7"
  }
 },
 "nbformat": 4,
 "nbformat_minor": 5
}
