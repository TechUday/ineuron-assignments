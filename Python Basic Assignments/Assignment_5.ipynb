{
 "cells": [
  {
   "cell_type": "markdown",
   "id": "394c4f1c",
   "metadata": {},
   "source": [
    "### Name: Veeragani Uday Sandeep\n",
    "### Email: udaysandeep.v9@gmail.com\n",
    "### Assignment - 5"
   ]
  },
  {
   "cell_type": "markdown",
   "id": "449af8ba",
   "metadata": {},
   "source": [
    "### 1. What does an empty dictionary&#39;s code look like?"
   ]
  },
  {
   "cell_type": "markdown",
   "id": "88c2e0a8",
   "metadata": {},
   "source": [
    "Empty dictionary look like dict={}"
   ]
  },
  {
   "cell_type": "code",
   "execution_count": 1,
   "id": "3245c67e",
   "metadata": {},
   "outputs": [
    {
     "name": "stdout",
     "output_type": "stream",
     "text": [
      "<class 'dict'>\n"
     ]
    }
   ],
   "source": [
    "emptydict={}\n",
    "print(type(emptydict))"
   ]
  },
  {
   "cell_type": "markdown",
   "id": "3f2b0c9b",
   "metadata": {},
   "source": [
    "### 2. What is the value of a dictionary value with the key &#39;foo&#39; and the value 42?"
   ]
  },
  {
   "cell_type": "code",
   "execution_count": 2,
   "id": "1773f487",
   "metadata": {},
   "outputs": [
    {
     "data": {
      "text/plain": [
       "42"
      ]
     },
     "execution_count": 2,
     "metadata": {},
     "output_type": "execute_result"
    }
   ],
   "source": [
    "# The value will be 42\n",
    "dict = {'foo': 42}\n",
    "dict['foo']"
   ]
  },
  {
   "cell_type": "markdown",
   "id": "6d77c358",
   "metadata": {},
   "source": [
    "### 3. What is the most significant distinction between a dictionary and a list?"
   ]
  },
  {
   "cell_type": "markdown",
   "id": "9d265aab",
   "metadata": {},
   "source": [
    "* Dictionaries are represented by {} where as listed are represented by []\n",
    "* The Items stored in the form of key & value , while the items in a list are ordered and stores different datatypes\n"
   ]
  },
  {
   "cell_type": "code",
   "execution_count": 4,
   "id": "f93bcdfb",
   "metadata": {},
   "outputs": [
    {
     "name": "stdout",
     "output_type": "stream",
     "text": [
      "{'a': 1, 'b': 2, 'c': 3} <class 'dict'>\n",
      "[1, 2, 3, 'a'] <class 'list'>\n"
     ]
    }
   ],
   "source": [
    "mydict={\"a\":1, \"b\":2, \"c\":3}\n",
    "print(mydict,type(mydict))\n",
    "mylist=[1,2,3,'a']\n",
    "print(mylist,type(mylist))"
   ]
  },
  {
   "cell_type": "markdown",
   "id": "d3f15c8d",
   "metadata": {},
   "source": [
    "### 4. What happens if you try to access spam[&#39;foo&#39;] if spam is {&#39;bar&#39;: 100}?"
   ]
  },
  {
   "cell_type": "markdown",
   "id": "ef06023e",
   "metadata": {},
   "source": [
    "It will results in KeyError, we can access any value of a dictionary using their respective keys, In spam['foo'] we are accesssing value of key 'foo' but our dictionary contains only one key and value  {'bar': 100} so 'foo' not present in our dictionary it results in **KeyError: 'foo'**"
   ]
  },
  {
   "cell_type": "code",
   "execution_count": 6,
   "id": "503492f2",
   "metadata": {},
   "outputs": [
    {
     "ename": "KeyError",
     "evalue": "'foo'",
     "output_type": "error",
     "traceback": [
      "\u001b[1;31m---------------------------------------------------------------------------\u001b[0m",
      "\u001b[1;31mKeyError\u001b[0m                                  Traceback (most recent call last)",
      "Input \u001b[1;32mIn [6]\u001b[0m, in \u001b[0;36m<cell line: 2>\u001b[1;34m()\u001b[0m\n\u001b[0;32m      1\u001b[0m spam\u001b[38;5;241m=\u001b[39m{\u001b[38;5;124m'\u001b[39m\u001b[38;5;124mbar\u001b[39m\u001b[38;5;124m'\u001b[39m:\u001b[38;5;241m100\u001b[39m}\n\u001b[1;32m----> 2\u001b[0m \u001b[43mspam\u001b[49m\u001b[43m[\u001b[49m\u001b[38;5;124;43m'\u001b[39;49m\u001b[38;5;124;43mfoo\u001b[39;49m\u001b[38;5;124;43m'\u001b[39;49m\u001b[43m]\u001b[49m\n",
      "\u001b[1;31mKeyError\u001b[0m: 'foo'"
     ]
    }
   ],
   "source": [
    "spam={'bar':100}\n",
    "spam['foo']"
   ]
  },
  {
   "cell_type": "markdown",
   "id": "eff19836",
   "metadata": {},
   "source": [
    "### 5. If a dictionary is stored in spam, what is the difference between the expressions 'cat' in spam and 'cat' in spam.keys()?"
   ]
  },
  {
   "cell_type": "markdown",
   "id": "b6c99654",
   "metadata": {},
   "source": [
    "There is no difference\n",
    "* 'cat' in spam: This expression checks whether there is a 'cat' KEY in the dictionary\n",
    "* 'cat' in spam.keys(): This will checks whether there is a key 'cat' in list of keys of dictionary spam.\n"
   ]
  },
  {
   "cell_type": "code",
   "execution_count": 10,
   "id": "37675897",
   "metadata": {},
   "outputs": [
    {
     "name": "stdout",
     "output_type": "stream",
     "text": [
      "'cat' in spam :  True\n",
      "'cat' in spam.keys() :  True\n"
     ]
    }
   ],
   "source": [
    "spam={\"cat\":1,\"dog\":2}\n",
    "print(\"'cat' in spam : \",'cat' in spam)\n",
    "print(\"'cat' in spam.keys() : \",'cat' in spam.keys())"
   ]
  },
  {
   "cell_type": "markdown",
   "id": "278b8ee9",
   "metadata": {},
   "source": [
    "### 6.if  a dictionary is stored in spam, what is the difference between the expressions 'cat' in spam and 'cat' in spam.values()?"
   ]
  },
  {
   "cell_type": "markdown",
   "id": "272a08bd",
   "metadata": {},
   "source": [
    "Difference:\n",
    "* 'cat' in spam: This expression checks whether there is a 'cat' KEY in the dictionary\n",
    "* 'cat' in spam.values(): This will checks whether there is a value 'cat' in spam."
   ]
  },
  {
   "cell_type": "code",
   "execution_count": 11,
   "id": "5dfb3b12",
   "metadata": {},
   "outputs": [
    {
     "name": "stdout",
     "output_type": "stream",
     "text": [
      "'cat' in spam :  True\n",
      "'cat' in spam.keys() :  False\n"
     ]
    }
   ],
   "source": [
    "spam={\"cat\":1,\"dog\":2}\n",
    "print(\"'cat' in spam : \",'cat' in spam)\n",
    "print(\"'cat' in spam.keys() : \",'cat' in spam.values())"
   ]
  },
  {
   "cell_type": "markdown",
   "id": "05cd57fd",
   "metadata": {},
   "source": [
    "### 7. What is a shortcut for the following code?\n",
    "if 'color' not in spam:\n",
    "\n",
    "    spam['color'] = 'black'"
   ]
  },
  {
   "cell_type": "markdown",
   "id": "cadd34d1",
   "metadata": {},
   "source": [
    "using setdefault() method of dictionary-> The setdefault() method returns the value of the item with the specified key.\n",
    "\n",
    "If the key does not exist, insert the key, with the specified value\n",
    "\n",
    "dict.setdefault(key,value)"
   ]
  },
  {
   "cell_type": "code",
   "execution_count": 12,
   "id": "ed5a5b82",
   "metadata": {},
   "outputs": [
    {
     "data": {
      "text/plain": [
       "{'cat': 1, 'dog': 2}"
      ]
     },
     "execution_count": 12,
     "metadata": {},
     "output_type": "execute_result"
    }
   ],
   "source": [
    "spam"
   ]
  },
  {
   "cell_type": "code",
   "execution_count": 13,
   "id": "f5ec8cca",
   "metadata": {},
   "outputs": [
    {
     "data": {
      "text/plain": [
       "'black'"
      ]
     },
     "execution_count": 13,
     "metadata": {},
     "output_type": "execute_result"
    }
   ],
   "source": [
    "spam.setdefault('color','black')"
   ]
  },
  {
   "cell_type": "code",
   "execution_count": 15,
   "id": "62c83802",
   "metadata": {},
   "outputs": [
    {
     "data": {
      "text/plain": [
       "{'cat': 1, 'dog': 2, 'color': 'black'}"
      ]
     },
     "execution_count": 15,
     "metadata": {},
     "output_type": "execute_result"
    }
   ],
   "source": [
    "spam"
   ]
  },
  {
   "cell_type": "markdown",
   "id": "9acad983",
   "metadata": {},
   "source": [
    "### 8. How do you \"pretty print\" dictionary values using which module and function?"
   ]
  },
  {
   "cell_type": "markdown",
   "id": "cbcd5d19",
   "metadata": {},
   "source": [
    "Use pprint() to Pretty Print a Dictionary in Python\n",
    "\n",
    "pprint is a Python module that provides the capability to pretty print Python data types to be more readable.\n",
    "\n",
    "Within the pprint module there is a function with the same name pprint(), which is the function used to pretty-print the given string or object."
   ]
  },
  {
   "cell_type": "code",
   "execution_count": 16,
   "id": "b266b892",
   "metadata": {},
   "outputs": [
    {
     "name": "stdout",
     "output_type": "stream",
     "text": [
      "{'cat': 1, 'color': 'black', 'dog': 2}\n"
     ]
    }
   ],
   "source": [
    "import pprint\n",
    "\n",
    "pprint.pprint(spam)"
   ]
  }
 ],
 "metadata": {
  "kernelspec": {
   "display_name": "Python 3 (ipykernel)",
   "language": "python",
   "name": "python3"
  },
  "language_info": {
   "codemirror_mode": {
    "name": "ipython",
    "version": 3
   },
   "file_extension": ".py",
   "mimetype": "text/x-python",
   "name": "python",
   "nbconvert_exporter": "python",
   "pygments_lexer": "ipython3",
   "version": "3.9.7"
  }
 },
 "nbformat": 4,
 "nbformat_minor": 5
}
