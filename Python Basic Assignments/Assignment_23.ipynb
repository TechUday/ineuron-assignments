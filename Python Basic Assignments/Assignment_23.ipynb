{
 "cells": [
  {
   "cell_type": "markdown",
   "id": "e3137545",
   "metadata": {},
   "source": [
    "### Name: Veeragani Uday Sandeep\n",
    "### Email: udaysandeep.v9@gmail.com\n",
    "### Assignment - 23"
   ]
  },
  {
   "cell_type": "markdown",
   "id": "620366e8",
   "metadata": {},
   "source": [
    "### 1. What is the result of the code, and why?\n",
    "\\>>> def func(a, b=6, c=8):\n",
    "\n",
    "print(a, b, c)\n",
    "\n",
    "\\>>> func(1, 2)"
   ]
  },
  {
   "cell_type": "markdown",
   "id": "75ff0f9d",
   "metadata": {},
   "source": [
    "The output of the code is **1,2,8** because This funtion is taking a positional argument and 2 keyward argument. When function call is made, parameter passed are a=1,b=2. When the function is executed , parameter c=8 will be taken by default as its a keyword argument.\n",
    "   "
   ]
  },
  {
   "cell_type": "markdown",
   "id": "a5e5bfbb",
   "metadata": {},
   "source": [
    "### 2. What is the result of this code, and why?\n",
    "\\>>> def func(a, b, c=5):\n",
    "\n",
    "print(a, b, c)\n",
    "\n",
    "\\>>> func(1, c=3, b=2)"
   ]
  },
  {
   "cell_type": "markdown",
   "id": "ed0de999",
   "metadata": {},
   "source": [
    "The result of the above code is 1 2 3. it is because the function will use default values only when a value for a argument is not provided and if argument name is mentioned while doing a function call, the order of arguments is also ignored by the python interpreter,When we make function call, order will be positional argument and then keywords arguments. we can pass the keyword arguments in any order we want"
   ]
  },
  {
   "cell_type": "code",
   "execution_count": 2,
   "id": "abdec904",
   "metadata": {},
   "outputs": [
    {
     "name": "stdout",
     "output_type": "stream",
     "text": [
      "1 2 3\n"
     ]
    }
   ],
   "source": [
    "def func(a,b,c=5):\n",
    "    print(a,b,c)\n",
    "func(1,c=3,b=2)"
   ]
  },
  {
   "cell_type": "markdown",
   "id": "bab4209f",
   "metadata": {},
   "source": [
    "### 3. How about this code: what is its result, and why?\n",
    "\\>>> def func(a, *pargs):\n",
    "\n",
    "print(a, pargs)\n",
    "\n",
    "\\>>> func(1, 2, 3)"
   ]
  },
  {
   "cell_type": "markdown",
   "id": "59eff541",
   "metadata": {},
   "source": [
    "The result of the code is **1 (2,3)**. *pargs stands for variable length arguments. this format is used when we are not sure about the no of arguments to be passed to a function. all the values under this argument will be stored in a tuple."
   ]
  },
  {
   "cell_type": "code",
   "execution_count": 3,
   "id": "82785422",
   "metadata": {},
   "outputs": [
    {
     "name": "stdout",
     "output_type": "stream",
     "text": [
      "1 (2, 3)\n"
     ]
    }
   ],
   "source": [
    "def func(a, *pargs):\n",
    "    print(a,pargs)\n",
    "func(1,2,3)"
   ]
  },
  {
   "cell_type": "markdown",
   "id": "65c33ea0",
   "metadata": {},
   "source": [
    "### 4. What does this code print, and why?\n",
    "\\>>> def func(a, **kargs):\n",
    "\n",
    "print(a, kargs)\n",
    "\n",
    "\\>>> func(a=1, c=3, b=2)"
   ]
  },
  {
   "cell_type": "markdown",
   "id": "76f6ee97",
   "metadata": {},
   "source": [
    "The result of the above code is **1 {'c': 3, 'b': 2}**. \\**kargs stands for variable length keyword arguments. this format is used when we want pass key value pairs as input to a function. All these key value pairs will be stored in a dictionary"
   ]
  },
  {
   "cell_type": "code",
   "execution_count": 4,
   "id": "17b1d827",
   "metadata": {},
   "outputs": [
    {
     "name": "stdout",
     "output_type": "stream",
     "text": [
      "1 {'c': 3, 'b': 2}\n"
     ]
    }
   ],
   "source": [
    "def func(a,**kargs):\n",
    "    print(a,kargs)\n",
    "func(a=1,c=3,b=2)"
   ]
  },
  {
   "cell_type": "markdown",
   "id": "d29b8f8a",
   "metadata": {},
   "source": [
    "### 5. What gets printed by this, and explain?\n",
    "\\>>> def func(a, b, c=8, d=5): print(a, b, c, d)\n",
    "\n",
    "\\>>> func(1, *(5, 6))"
   ]
  },
  {
   "cell_type": "markdown",
   "id": "c54feea3",
   "metadata": {},
   "source": [
    "The output of the above code is **1 5 6 5**. This reason for this function not throwing an error is because, this function expects 4 arguments. the value for a is provided explicitly whereas for arguments b and c, the function will expand the *(5,6) and consider the value of b as 5 and value of c as 6. since the default value of d is provided in function declaration d value will be 5. However it is recommended to use the feature of positional arguments at the end."
   ]
  },
  {
   "cell_type": "code",
   "execution_count": 5,
   "id": "c7df5be2",
   "metadata": {},
   "outputs": [
    {
     "name": "stdout",
     "output_type": "stream",
     "text": [
      "1 5 6 5\n"
     ]
    }
   ],
   "source": [
    "def func(a,b,c=8,d=5):\n",
    "    print(a,b,c,d)\n",
    "func(1,*(5,6))"
   ]
  },
  {
   "cell_type": "markdown",
   "id": "7785e71e",
   "metadata": {},
   "source": [
    "### 6. what is the result of this, and explain?\n",
    "\\>>> def func(a, b, c): a = 2; b[0] = 'x'; c['a'] = 'y'\n",
    "\n",
    "\\>>> l=1; m=[1]; n={'a':0}\n",
    "\n",
    "\\>>> func(l, m, n)\n",
    "\n",
    "\\>>> l, m, n"
   ]
  },
  {
   "cell_type": "markdown",
   "id": "0c286d8d",
   "metadata": {},
   "source": [
    "The output of above code is **1, ['x'], {'a': 'y'}**\n",
    "\n",
    "Eventhough Python gives importance to indentation. its provides a facility to declare an entire function in one single Here in the code, the list and dict are passed as argument, and those are mutable. Here the list l and parameter b point \n",
    "to the same list in the memory location where as dict n and c point to the same memory location. Any updates to this \n",
    "list will update in the memory location\n",
    "\n",
    "l = 1 , integer values, immutable, m is list, mutable, n is dict, mutable."
   ]
  },
  {
   "cell_type": "code",
   "execution_count": 7,
   "id": "2f62aaa4",
   "metadata": {},
   "outputs": [
    {
     "data": {
      "text/plain": [
       "(1, ['x'], {'a': 'y'})"
      ]
     },
     "execution_count": 7,
     "metadata": {},
     "output_type": "execute_result"
    }
   ],
   "source": [
    "def func(a, b, c):a = 2; b[0] = 'x'; c['a'] = 'y'\n",
    "l=1; m=[1]; n={'a':0}\n",
    "func(l, m, n)\n",
    "l,m,n"
   ]
  }
 ],
 "metadata": {
  "kernelspec": {
   "display_name": "Python 3 (ipykernel)",
   "language": "python",
   "name": "python3"
  },
  "language_info": {
   "codemirror_mode": {
    "name": "ipython",
    "version": 3
   },
   "file_extension": ".py",
   "mimetype": "text/x-python",
   "name": "python",
   "nbconvert_exporter": "python",
   "pygments_lexer": "ipython3",
   "version": "3.9.7"
  }
 },
 "nbformat": 4,
 "nbformat_minor": 5
}
